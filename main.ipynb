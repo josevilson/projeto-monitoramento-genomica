{
 "cells": [
  {
   "cell_type": "markdown",
   "metadata": {
    "application/vnd.databricks.v1+cell": {
     "cellMetadata": {},
     "inputWidgets": {},
     "nuid": "7b0e85e3-f438-47ce-9323-2d0985fd4f3b",
     "showTitle": false,
     "title": ""
    }
   },
   "source": [
    "Projeto Sistema de Monitoramento de Avanços no Campo da Genômica\n"
   ]
  },
  {
   "cell_type": "markdown",
   "metadata": {
    "application/vnd.databricks.v1+cell": {
     "cellMetadata": {},
     "inputWidgets": {},
     "nuid": "8dbbab69-04f4-4bbc-8d7b-467872f7821a",
     "showTitle": false,
     "title": ""
    }
   },
   "source": [
    "DÚVIDA\n",
    "\n",
    "-> Tem diferença (qual melhor) entre usar o requests e o cliente library ? https://newsapi.org/docs/client-libraries/python"
   ]
  },
  {
   "cell_type": "markdown",
   "metadata": {
    "application/vnd.databricks.v1+cell": {
     "cellMetadata": {},
     "inputWidgets": {},
     "nuid": "6c5abef3-da05-4ca7-8dde-c0c8966c9fd3",
     "showTitle": false,
     "title": ""
    }
   },
   "source": [
    "1. Consumo de dados com a News API:\n",
    "\n",
    "Implementar um mecanismo para consumir dados de notícias de fontes confiáveis e especializadas em genômica e medicina personalizada, a partir da News API:\n",
    "https://newsapi.org/\n"
   ]
  },
  {
   "cell_type": "code",
   "execution_count": 0,
   "metadata": {
    "application/vnd.databricks.v1+cell": {
     "cellMetadata": {
      "byteLimit": 2048000,
      "rowLimit": 10000
     },
     "inputWidgets": {},
     "nuid": "701cb8fd-1975-40eb-97e0-e69e20f9075d",
     "showTitle": false,
     "title": ""
    }
   },
   "outputs": [],
   "source": [
    "import requests\n",
    "from pyspark.sql.functions import *\n",
    "from delta.tables import *\n",
    "\n",
    "API_KEY = '5220c4535529484381b6e56b7f95b0aa'"
   ]
  },
  {
   "cell_type": "code",
   "execution_count": 0,
   "metadata": {
    "application/vnd.databricks.v1+cell": {
     "cellMetadata": {
      "byteLimit": 2048000,
      "rowLimit": 10000
     },
     "inputWidgets": {},
     "nuid": "ed038c12-68b1-4453-a86b-941e0991e922",
     "showTitle": false,
     "title": ""
    }
   },
   "outputs": [
    {
     "output_type": "stream",
     "name": "stdout",
     "output_type": "stream",
     "text": [
      "https://newsapi.org/v2/everything?q=diabetes&from=2024-09-18&sortBy=publishedAt&apiKey=5220c4535529484381b6e56b7f95b0aa\n"
     ]
    }
   ],
   "source": [
    "#Fazer request dos dados\n",
    "\n",
    "s_tema = \"diabetes\"\n",
    "s_from = \"2024-09-18\"\n",
    "s_sortBy = \"publishedAt\" # \"publishedAt\" or \"popularity\" or \"relevancy\"\n",
    "\n",
    "url = ('https://newsapi.org/v2/everything?'\n",
    "       f'q={s_tema}&'\n",
    "       f'from={s_from}&'\n",
    "       f'sortBy={s_sortBy}&'\n",
    "       f'apiKey={API_KEY}')\n",
    "\n",
    "print(url)\n",
    "response = requests.get(url)"
   ]
  },
  {
   "cell_type": "code",
   "execution_count": 0,
   "metadata": {
    "application/vnd.databricks.v1+cell": {
     "cellMetadata": {
      "byteLimit": 2048000,
      "rowLimit": 10000
     },
     "inputWidgets": {},
     "nuid": "62632019-c0fd-4938-b4fa-863b5e34ecb8",
     "showTitle": false,
     "title": ""
    }
   },
   "outputs": [
    {
     "output_type": "stream",
     "name": "stdout",
     "output_type": "stream",
     "text": [
      "{'status': 'ok', 'totalResults': 5547, 'articles': [{'source': {'id': None, 'name': 'The BMJ'}, 'author': \"Barrett, S., Begg, S., Dunford, A., O'Halloran, P., Rodda, K., Denniss, E., Breckon, J., Kingsley, M.\", 'title': 'An expert consensus on the most effective components of integrated motivational interviewing and cognitive behavioural therapy for lifestyle behaviour change: protocol for an online modified Delphi study', 'description': 'Introduction Behaviour change interventions are advocated as a key approach to manage behavioural risk factors such as insufficient physical activity, poor diet and smoking. Integrated motivational interviewing and cognitive behavioural therapy (MI-CBT) inter…', 'url': 'https://bmjopen.bmj.com/content/14/10/e088988', 'urlToImage': 'https://bmjopen.bmj.com/pages/wp-content/uploads/sites/7/2019/07/bmjopen-default-cover.png', 'publishedAt': '2024-10-17T22:28:58Z', 'content': 'Background\\r\\nChronic diseases such as diabetes, heart disease and some cancers are leading causes of ill health and morbidity worldwide.1 2 Modifiable risk factors such as insufficient physical activi… [+6484 chars]'}, {'source': {'id': None, 'name': 'The BMJ'}, 'author': 'Wen, S., Zhao, X., Lin, X., Fu, Z., Qin, S., Pan, Q., Liu, F., He, W., Liu, T.', 'title': 'Acupoint catgut embedding advantage in treating gastro-oesophageal reflux disease (ACE-GERD): study protocol for a randomised controlled trial', 'description': 'Background\\r\\n\\nGastro-oesophageal reflux disease (GERD) is a highly prevalent disorder worldwide and developing effective treatment strategies for GERD is a clinical priority. GERD is associated with anxiety and depression. Several approaches have been develope…', 'url': 'https://bmjopen.bmj.com/content/14/10/e081059', 'urlToImage': 'https://bmjopen.bmj.com/pages/wp-content/uploads/sites/7/2019/07/bmjopen-default-cover.png', 'publishedAt': '2024-10-17T22:28:58Z', 'content': 'Introduction\\r\\nIn gastro-oesophageal reflux disease (GERD), gastroduodenal contents reflux into the oesophagus, causing symptoms such as acid reflux, heartburn, regurgitation and post-sternal pain and… [+7898 chars]'}, {'source': {'id': None, 'name': 'The BMJ'}, 'author': 'Alam, M. T., Veettil, S. T., Krishnan, J. I., Alsalmi, R. G., Jacob, J., Mousa, A. T., Sakallah, S. A. M., Mahmood, S., Al Nuaimi, A.', 'title': 'Satisfaction and preference for home delivery pharmaceutical services among patients attending primary care settings in Qatar during COVID-19 pandemic: a cross-sectional study', 'description': 'Objectives During the COVID-19 epidemic, due to the high risk associated with travel and group gatherings, the Ministry of Public Health in Qatar introduced home delivery of pharmaceutical services. This study aims to investigate the satisfaction and preferen…', 'url': 'https://bmjopen.bmj.com/content/14/10/e082842', 'urlToImage': 'https://bmjopen.bmj.com/pages/wp-content/uploads/sites/7/2019/07/bmjopen-default-cover.png', 'publishedAt': '2024-10-17T22:28:58Z', 'content': 'STRENGTHS AND LIMITATIONS OF THIS STUDY\\r\\n<ul><li>The study uses a cross-sectional design to provide a snapshot of the primary healthcare systems response to implementing home delivery services for me… [+16265 chars]'}, {'source': {'id': None, 'name': 'Olhardigital.com.br'}, 'author': 'Leandro Costa Criscuolo', 'title': 'Novo ‘interruptor’ que ativa insulina pode ajudar no tratamento da diabetes', 'description': 'Abordagem reduz o risco de hipoglicemia, oferecendo mais segurança aos diabéticos ao ajustar automaticamente a absorção de glicose no sangue\\nO post Novo ‘interruptor’ que ativa insulina pode ajudar no tratamento da diabetes apareceu primeiro em Olhar Digital.', 'url': 'https://olhardigital.com.br/2024/10/17/medicina-e-saude/novo-interruptor-que-ativa-insulina-pode-ajudar-no-tratamento-da-diabetes/', 'urlToImage': 'https://olhardigital.com.br/wp-content/uploads/2024/10/insulina.jpg', 'publishedAt': '2024-10-17T22:22:08Z', 'content': 'Uma nova insulina desenvolvida pela Novo Nordisk, que se adapta automaticamente aos níveis de glicose no sangue, mostrou eficácia em reduzir o risco de hipoglicemia em animais. O estudo desta criação… [+1496 chars]'}, {'source': {'id': 'la-nacion', 'name': 'La Nacion'}, 'author': 'El Universal (México)', 'title': 'El cereal que contiene hierro, ayuda a la producción de glóbulos rojos y es considerado como un “tesoro”', 'description': 'Aporta vitaminas del grupo B y es fácil de hallar para sumar a la dieta; todo lo que hay que saber; mirá el video', 'url': 'https://www.lanacion.com.ar/lifestyle/cuidado-cuerpo-belleza/el-cereal-que-contiene-hierro-ayuda-a-la-produccion-de-globulos-rojos-y-es-considerado-como-un-nid17102024/', 'urlToImage': 'https://resizer.glanacion.com/resizer/v2/este-cereal-proporciona-mas-del-10percent-de-la-V7EEBNIJEJCPRAKXH3VJKADK4Y.jpg?auth=71966b106bb7f9e19e1716dd5e9178cd16477f6227fa06d24e8cfdfecf0d4a55&width=1200&quality=70&smart=false&height=800', 'publishedAt': '2024-10-17T21:55:57Z', 'content': 'Los alimentos que elegimos a diario para nuestra dieta deben priorizar lograr una completa nutrición para el organismo. Una dieta adecuada, balanceada y combinada con una actividad física regular, es… [+1725 chars]'}, {'source': {'id': None, 'name': 'El Financiero'}, 'author': 'Redacción', 'title': '¿Para qué sirve el jugo verde que toma Emma Coronel?', 'description': 'El jugo verde que toma Emma Coronel se suele recomendar para una buena salud del corazón e incluso para bajar de peso, pero, ¿qué tan reales son sus beneficios?', 'url': 'https://www.elfinanciero.com.mx/food-and-drink/2024/10/17/para-que-sirve-el-jugo-verde-que-toma-emma-coronel/', 'urlToImage': 'https://elfinanciero.com.mx/resizer/v2/RPFMRJQQERFL3NLETZTD4LQ6CU.jpg?smart=true&auth=5b8a3e0830a03729bbb1e60074545a3bcf5c414c97dc47a008b03472bb28cf9e&width=1200&height=630', 'publishedAt': '2024-10-17T21:52:07Z', 'content': '¡Dile adiós al zumo de betabel, al de zanahoria con naranja y hasta el de jengibre! Lo de hoy es tomar jugo verde, tal como mostró Emma Coronel, la modelo y esposa de Joaquín El Chapo Guzmán, en sus … [+11163 chars]'}, {'source': {'id': None, 'name': 'CNET'}, 'author': 'Ashlee Valentine', 'title': 'Exercise for Older Adults: How to Stay Balanced and Strong as You Age', 'description': 'If you want to maintain your health and fitness as you age, these anti-aging exercises will help you achieve that goal.', 'url': 'https://www.cnet.com/health/fitness/exercise-for-older-adults-how-to-stay-balanced-and-strong-as-you-age/', 'urlToImage': 'https://www.cnet.com/a/img/resize/1a03e08106bd9cdaabfc0ec16fff4e88b1112d62/hub/2024/08/20/4dba6a01-3c41-4098-84ee-8968b33bbbae/older-adult-lifting-weights.jpg?auto=webp&fit=crop&height=675&width=1200', 'publishedAt': '2024-10-17T21:46:00Z', 'content': \"Contrary to popular belief, fitness is a key part of healthy aging. But you can't just skate into your golden years looking great while doing minimal amounts of aerobic exercise. You should be focusi… [+7187 chars]\"}, {'source': {'id': None, 'name': 'Babylonbee.com'}, 'author': 'Babylon Bee', 'title': 'Healthiest Man Alive Just Does The Opposite Of Whatever The Government Recommends', 'description': 'BATON ROUGE, LA — Sources close to Max Calderfield, the Healthiest Man Alive, say that the wonder of nature has maintained a sound mind and body precisely by doing exactly the opposite of whatever the government recommends.', 'url': 'https://babylonbee.com/news/healthiest-man-alive-just-does-the-opposite-of-whatever-the-government-recommends', 'urlToImage': 'https://media.babylonbee.com/articles/67117ef0ecd7167117ef0ecd72.jpg', 'publishedAt': '2024-10-17T21:42:42Z', 'content': 'BATON ROUGE, LA Sources close to Max Calderfield, the Healthiest Man Alive, say that the wonder of nature has maintained a sound mind and body precisely by doing exactly the opposite of whatever the … [+1102 chars]'}, {'source': {'id': None, 'name': 'Meneame.net'}, 'author': 'onainigo', 'title': 'Estudio revela que la COVID-19 aumenta el riesgo de diabetes tipo 2 en niños (eng)', 'description': 'Un nuevo estudio muestra que las infecciones por COVID-19 en niños conducen a un riesgo significativamente mayor de diabetes tipo 2 en un plazo de seis meses, lo que genera nuevas preocupaciones sobre los impactos a largo plazo del virus en las poblaciones jó…', 'url': 'https://www.meneame.net/m/ciencia/estudio-revela-covid-19-aumenta-riesgo-diabetes-tipo-2-ninos-eng', 'urlToImage': 'https://meneame.net/img/logo_meneame.png', 'publishedAt': '2024-10-17T21:39:39Z', 'content': 'Yo estoy viendo en mi entorno mucha gente con trombos, pantorrilla, brazo y alguno en pulmón (con el peligro que conlleva), incluso no vacunados y deportista, de los vacunados ninguno con Astra-Zenec… [+63 chars]'}, {'source': {'id': None, 'name': 'Japan Today'}, 'author': None, 'title': 'WHO says western Pacific to miss U.N. goal to cut early deaths from lifestyle diseases', 'description': 'Western Pacific nations are unlikely to meet the United Nations target of reducing premature deaths from lifestyle-related diseases including cancer and diabetes, due to the slow decline in alcohol and tobacco consumption, the World Health Organization said o…', 'url': 'https://japantoday.com/category/features/health/who-says-western-pacific-to-miss-un-goal-to-cut-early-deaths-from-lifestyle-diseases', 'urlToImage': None, 'publishedAt': '2024-10-17T21:38:53Z', 'content': 'Western Pacific nations are unlikely to meet the United Nations target of reducing premature deaths from lifestyle-related diseases including cancer and diabetes, due to the slow decline in alcohol a… [+1708 chars]'}, {'source': {'id': None, 'name': 'Scary Mommy'}, 'author': 'Jamie Kenney', 'title': 'Mom Urges Others Not To Skip Glucose Test In Pregnancy', 'description': \"Discover Cora Bryant's powerful message on the importance of the glucose test during pregnancy. Don't overlook this vital screening for your and your baby's health.\", 'url': 'https://www.scarymommy.com/pregnancy/mom-stillbirth-glucose-test-in-pregnancy', 'urlToImage': 'https://imgix.bustle.com/uploads/image/2024/10/17/c3e69198/loss001.jpeg?w=1200&h=630&fit=crop&crop=faces&fm=jpg', 'publishedAt': '2024-10-17T21:00:49Z', 'content': 'Between all the appointments, blood work, and ultrasounds to say nothing of the fact that your body feels completely different in its worst moments, pregnancy can make you feel like a test subject. S… [+6849 chars]'}, {'source': {'id': None, 'name': 'Biztoc.com'}, 'author': 'marketbeat.com', 'title': \"Tandem Diabetes Care (NASDAQ:TNDM) Trading Down 8.1% - What's Next?\", 'description': \"Tandem Diabetes Care (NASDAQ:TNDM) Shares Down 8.1% - Here's Why\", 'url': 'https://biztoc.com/x/a9a122a0acb915a2', 'urlToImage': 'https://biztoc.com/cdn/805/og.png', 'publishedAt': '2024-10-17T21:00:20Z', 'content': \"Tandem Diabetes Care (NASDAQ:TNDM) Shares Down 8.1% - Here's Why\\r\\nThis story appeared on marketbeat.com, 2024-10-17 20:54:18.\"}, {'source': {'id': None, 'name': 'GlobeNewswire'}, 'author': 'SkyQuest Technology Consulting Pvt. Ltd.', 'title': 'Wound Care Market to Witness 3.1% CAGR by 2031 | SkyQuest Technology', 'description': 'Unlock the potential of the global wound care market, projected to soar from USD 13.18 billion in 2023 to USD 16.32 billion by 2031, with a steady growth rate of 3.1%! Discover key insights on advanced dressings and emerging trends across hospitals and home h…', 'url': 'https://www.globenewswire.com/news-release/2024/10/17/2965272/0/en/Wound-Care-Market-to-Witness-3-1-CAGR-by-2031-SkyQuest-Technology.html', 'urlToImage': 'https://ml.globenewswire.com/Resource/Download/c673c6fa-f0e7-47bf-8490-fe528c593820', 'publishedAt': '2024-10-17T21:00:00Z', 'content': 'Westford, USA, Oct. 17, 2024 (GLOBE NEWSWIRE) -- SkyQuest projects that Wound Care Market\\r\\n will attain the value of USD 16.32 Billion by 2031, with a CAGR of 3.1% during the forecast period (2024-20… [+8201 chars]'}, {'source': {'id': None, 'name': 'Nativenewsonline.net'}, 'author': 'Kaili Berg', 'title': 'Center for Indigenous Health Opens Hub in Rapid City', 'description': 'Last month, the Johns Hopkins Center for Indigenous Health opened a new hub in Rapid City, S.D., to bring Native-focused health care to the region.&nbsp; About The AuthorAuthor: Kaili BergEmail: This email address is being protected from spambots. You need Ja…', 'url': 'https://nativenewsonline.net/health/center-for-indigenous-health-opens-hub-in-rapid-city', 'urlToImage': 'https://nativenewsonline.net/images/2022/Screenshot_2024-10-17_at_10.43.17_AM.png', 'publishedAt': '2024-10-17T20:51:48Z', 'content': 'Details\\r\\nBy Kaili Berg\\r\\nOctober 17, 2024\\r\\nLast month, the Johns Hopkins Center for Indigenous Health opened a new hub in Rapid City, S.D., to bring Native-focused health care to the region.\\xa0\\r\\nGreat P… [+3579 chars]'}, {'source': {'id': None, 'name': 'Yale.edu'}, 'author': 'news@yale.edu (Yale News)', 'title': 'Expanding access to weight-loss drugs could save thousands of lives a year', 'description': 'Expanding access to new, highly effective weight-loss medications could prevent more than 40,000 deaths a year in the United States, according to a new study', 'url': 'https://medicine.yale.edu/news-article/expanding-access-to-weight-loss-drugs-could-save-thousands-of-lives-annually-study-finds/', 'urlToImage': 'https://ysm-res.cloudinary.com/image/upload/c_limit,f_auto,h_630,q_auto,w_1200/v1/yms/prod/a16501a9-8475-41a8-a076-96c8e5e32e4a', 'publishedAt': '2024-10-17T20:40:04Z', 'content': 'Expanding access to new, highly effective weight-loss medications could prevent more than 40,000 deaths a year in the United States, according to a new study led by researchers at Yale School of Publ… [+5359 chars]'}, {'source': {'id': None, 'name': 'Reason'}, 'author': 'J.D. Tuccille', 'title': 'Medicare-Covered Ozempic and Long-Term Care Would Be Very Pricey', 'description': \"It's no surprise that campaigning for office is largely a matter of buying votes with unrealistic promises of largesse to be funded—if the promise is ever\", 'url': 'https://reason.com/2024/10/18/medicare-covered-ozempic-and-long-term-care-would-be-very-pricey/', 'urlToImage': 'https://d2eehagpk5cl65.cloudfront.net/img/q60/uploads/2024/10/dollars.jpg', 'publishedAt': '2024-10-17T20:31:37Z', 'content': \"It's no surprise that campaigning for office is largely a matter of buying votes with unrealistic promises of largesse to be fundedif the promise is ever fulfilledon the backs of those to be named la… [+6793 chars]\"}, {'source': {'id': 'la-nacion', 'name': 'La Nacion'}, 'author': 'LA NACION', 'title': 'La verdura verde, nutritiva y accesible que debería ser un básico en la dieta', 'description': 'Este alimento es más que un simple acompañamiento en las comidas, ya que es rico en antioxidantes, fibra y agua, y beneficioso para la salud digestiva; cuál es y cómo integrarlo al día a día', 'url': 'https://www.lanacion.com.ar/lifestyle/cuidado-cuerpo-belleza/la-verdura-verde-nutritiva-y-accesible-que-deberia-ser-un-basico-en-la-dieta-nid17102024/', 'urlToImage': 'https://resizer.glanacion.com/resizer/v2/este-vegetal-de-hojas-verdes-es-facilmente-BUDGUH7P3FFN3AJCYACEE4OFJU.jpg?auth=7e56db34ed2dda47be7c39e67c86855388902b5ff606c56be8123e64b1244981&width=1200&quality=70&smart=false&height=800', 'publishedAt': '2024-10-17T20:12:28Z', 'content': 'En el extenso universo de las verduras de hoja verde, la lechuga es una de las que más vemos cada vez que vamos a una verdulería. Su disponibilidad hace que no pase desapercibida, pero sí lo hacen la… [+3293 chars]'}, {'source': {'id': None, 'name': 'Gizmodo.com'}, 'author': 'Ed Cara', 'title': 'The Case for Ozempic as a Addiction Treatment Keeps Getting Better', 'description': \"Research from earlier this week is the latest to suggest that semaglutide and other GLP-1 drugs can help treat people's addiction to both opioids and alcohol.\", 'url': 'https://gizmodo.com/the-case-for-ozempic-as-a-addiction-treatment-keeps-getting-better-2000513096', 'urlToImage': 'https://gizmodo.com/app/uploads/2024/10/Ozempic.jpg', 'publishedAt': '2024-10-17T20:05:25Z', 'content': 'The sky continues to be the limit for semaglutide, the active ingredient in popular drugs Ozempic and Wegovy. Newly published research is the latest to suggest that semaglutide and other GLP-1 drugs … [+3256 chars]'}, {'source': {'id': None, 'name': 'Terra.com.br'}, 'author': 'Portal EdiCase', 'title': '5 perguntas e respostas sobre suplementos para idosos', 'description': 'O fornecimento adequado de nutrientes é essencial para manter a saúde e a qualidade de vida', 'url': 'https://www.terra.com.br/vida-e-estilo/saude/5-perguntas-e-respostas-sobre-suplementos-para-idosos,854c1557f35f7bc370883de2422e7009btr2373o.html', 'urlToImage': 'https://p2.trrsf.com/image/fget/cf/1200/630/middle/images.terra.com/2024/10/17/1220305979-suplementos-idosos.jpg', 'publishedAt': '2024-10-17T20:02:13Z', 'content': 'Considerado o mês do idoso, outubro é um período dedicado às discussões e informações pertinentes à saúde e qualidade de vida da população com mais de 60 anos, com campanhas que visam conscientizar e… [+5472 chars]'}, {'source': {'id': None, 'name': 'Metropoles.com'}, 'author': 'The Conversation', 'title': 'Como o acúmulo de gordura no fígado se tornou uma epidemia global', 'description': 'No Brasil, dados citados pela Sociedade Brasileira de Hepatologia indicam que 20% da população geral possui gordura no fígado', 'url': 'https://www.metropoles.com/saude/como-o-acumulo-de-gordura-no-figado-se-tornou-uma-epidemia-global', 'urlToImage': 'https://uploads.metroimg.com/wp-content/uploads/2023/07/19115548/figado-hepatite.jpg', 'publishedAt': '2024-10-17T19:51:23Z', 'content': '* Artigo escrito pela endocrinologista Maria Fernanda Barca, integrante do grupo de Tireoide do Hospital das Clínicas da Faculdade de Medicina da Universidade de São Paulo (USP). O texto foi original… [+8245 chars]'}, {'source': {'id': 'abc-news-au', 'name': 'ABC News (AU)'}, 'author': 'Rachel Rasker', 'title': \"Why measuring body 'roundness' could be a better indicator of health than BMI\", 'description': 'Despite widespread criticism, BMI continues to be the go-to for measuring some health risks. Now the \"body roundness index\" is gaining traction as a viable alternative. What\\'s stopping it being used?', 'url': 'https://www.abc.net.au/news/health/2024-10-18/body-roundness-mass-index-health-risks-weight-obesity/104456116', 'urlToImage': 'https://live-production.wcms.abc-cdn.net.au/85c0fffab48e8d45abce12c0511c2568?impolicy=wcms_watermark_news&cropH=2813&cropW=5000&xPos=0&yPos=260&width=862&height=485&imformat=generic', 'publishedAt': '2024-10-17T19:30:00Z', 'content': \"If you had a health check-up recently, you might have been told that you're underweight, overweight or obese based on your body mass index or BMI.\\r\\nBut the BMI was never intended as a diagnostic tool… [+5920 chars]\"}, {'source': {'id': None, 'name': 'Berliner Morgenpost'}, 'author': 'Iris May', 'title': 'Diabetes Charity Gala am Kanzleramt: Jede Minute ein Kranker mehr', 'description': 'Bevor Berlin in den Biden-Ausnahmezustand versinkt, fand am Donnerstag eine glamouröse Gala im Tipi am Kanzleramt statt. Wieviel gespendet wurde, wer da war.', 'url': 'https://www.morgenpost.de/bezirke/mitte/article407492334/diabetes-charity-gala-am-kanzleramt-jede-minute-ein-kranker-mehr.html', 'urlToImage': 'https://img.sparknews.funkemedien.de/407492541/407492541_1729193098_v16_9_1600.jpeg', 'publishedAt': '2024-10-17T19:24:59Z', 'content': 'Berlin. Bevor Berlin in den Biden-Ausnahmezustand versinkt, verzauberte am Donnerstag eine Gala im Regierungsviertel. Was die Gala bewegend machte.'}, {'source': {'id': None, 'name': 'Biztoc.com'}, 'author': 'marketwatch.com', 'title': 'Weight-loss drugs may reduce opioid and alcohol abuse by up to 50%, study finds', 'description': 'Weight-loss drugs such as Ozempic, made by Denmark’s Novo Nordisk, can reduce rates of opioid and alcohol abuse by up to 50%, according to a new study that supports expectations the drugs can offer greater benefits than just weight and diabetes management.', 'url': 'https://biztoc.com/x/c15c284ec30b23b2', 'urlToImage': 'https://biztoc.com/cdn/805/og.png', 'publishedAt': '2024-10-17T19:09:33Z', 'content': 'Weight-loss drugs such as Ozempic, made by Denmarks Novo Nordisk, can reduce rates of opioid and alcohol abuse by up to 50%, according to a new study that supports expectations the drugs can offer gr… [+117 chars]'}, {'source': {'id': None, 'name': 'Harvard School of Engineering and Applied Sciences'}, 'author': 'Maya Brownstein', 'title': 'Long-running Nurses’ Health Study at risk of shutting down', 'description': 'For nearly five decades, the Nurses’ Health Study has investigated the risk factors for the most prevalent chronic diseases in women and thousands of scientific articles have drawn on its data. The study may come to an untimely end if additional funding is no…', 'url': 'https://www.hsph.harvard.edu/news/features/long-running-nurses-health-study-at-risk-of-shutting-down/', 'urlToImage': 'https://www.hsph.harvard.edu/news/wp-content/uploads/sites/21/2024/10/24_10_08-Nurses-Health-Study_094-scaled.jpg', 'publishedAt': '2024-10-17T19:06:31Z', 'content': 'October 17, 2024For nearly five decades, the Nurses Health Study (NHS) has investigated the risk factors for the most prevalent chronic diseases in women and thousands of scientific articles have dra… [+5143 chars]'}, {'source': {'id': None, 'name': 'menshealth.com'}, 'author': 'Erica Sweeney', 'title': 'How Can Colloidal Oatmeal Help Your Skin? Dermatologists Explain.', 'description': 'Dermatologists recommend this classic, soothing treatment for a variety of skin ailments.', 'url': 'https://www.menshealth.com/health/a62637593/colloidal-oatmeal-benefits/', 'urlToImage': 'https://hips.hearstapps.com/hmg-prod/images/dry-skin-on-elbows-royalty-free-image-1729174980.jpg?crop=1.00xw:0.918xh;0,0.0733xh&resize=1200:*', 'publishedAt': '2024-10-17T18:52:00Z', 'content': 'WHEN YOU HAVE dry, itchy\\r\\n, or inflamed skin, you yearn for something soothing. A classic remedy for these problems is colloidal oatmeal. Its gentle, calming, and provides relief. \\r\\nColloidal oatmeal… [+5667 chars]'}, {'source': {'id': None, 'name': 'MobiHealthNews'}, 'author': None, 'title': 'Google licenses AI diabetic retinopathy model to partners in India, Thailand', 'description': 'The tech giant and its partners will work to make AI-enabled eyesight-saving care more readily available to clinical systems across both countries.', 'url': 'https://www.mobihealthnews.com/news/google-licenses-ai-diabetic-retinopathy-model-partners-india-thailand', 'urlToImage': 'https://www.mobihealthnews.com/sites/default/files/Eye%20image.jpg', 'publishedAt': '2024-10-17T18:38:42Z', 'content': 'Google announced it is licensing its AI model focused on detecting diabetic retinopathy to partners in Thailand and India, two countries the tech giant says have a shortage of eye specialists.\\xa0\\r\\nGoog… [+2678 chars]'}, {'source': {'id': None, 'name': 'Observador.pt'}, 'author': 'Agência Lusa', 'title': 'Direção Geral de Saúde está a avaliar projeto-piloto para rastrear a diabetes tipo 1 nas crianças, segundo especialista', 'description': 'Existem cerca de 38.000 pessoas com diabetes tipo 1 em Portugal, das quais 3.000 a 4.000 têm menos de 15 anos. Objetivo é que rastreio seja feito aos cinco anos no momento da vacinação.', 'url': 'https://observador.pt/2024/10/17/direcao-geral-de-saude-esta-a-avaliar-projeto-piloto-para-rastrear-a-diabetes-tipo-1-nas-criancas-segundo-especialista/', 'urlToImage': 'https://wm.observador.pt/wm/obs/l/https%3A%2F%2Fbordalo.observador.pt%2Fv2%2Frs%3Afill%3A770%3A403%2Fc%3A3115%3A1747%3Anowe%3A0%3A69%2Fq%3A70%2Ff%3Awebp%2Fplain%2Fhttps%3A%2F%2Fs3.observador.pt%2Fwp-content%2Fuploads%2F2020%2F11%2F12191723%2Fistock-836372378.jpg', 'publishedAt': '2024-10-17T18:37:58Z', 'content': 'A Direção-Geral da Saúde (DGS) está a avaliar um projeto-piloto para rastrear a diabetes tipo 1 nas crianças, disse esta quinta-feira a especialista Catarina Limbert, adiantando que o objetivo é que … [+3783 chars]'}, {'source': {'id': 'la-nacion', 'name': 'La Nacion'}, 'author': 'LA NACION', 'title': 'El fruto seco que reduce el colesterol y ayuda a perder peso', 'description': 'Este tipo de nuez es una excelente opción para quienes buscan mejorar su salud a través de la alimentación; de qué manera este fruto tropical beneficia tanto al cuerpo como al bienestar general', 'url': 'https://www.lanacion.com.ar/lifestyle/cuidado-cuerpo-belleza/el-fruto-seco-que-reduce-el-colesterol-y-ayuda-a-perder-peso-nid17102024/', 'urlToImage': 'https://resizer.glanacion.com/resizer/v2/una-fruta-seca-oriunda-del-tropico-se-presenta-FI6S7MNJYJDIRJEZPHNGVRVKWE.jpg?auth=c6c8d47008d1d9edcaa87d62f29319b5ffff3f1116408384bcf6360e1139fca8&width=1200&quality=70&smart=false&height=800', 'publishedAt': '2024-\n\n*** WARNING: max output size exceeded, skipping output. ***\n\n900&width=1600&fit=bounds', 'publishedAt': '2024-10-17T15:22:51Z', 'content': 'LAS VEGAS, NEVADA: Democratic Presidential nominee for President Vice President Kamala Harris leaves ... [+] from Harry Reid International Airport to head back east to attend to Hurricane Helene afte… [+6564 chars]'}, {'source': {'id': None, 'name': 'Tableless.com.br'}, 'author': 'Redação', 'title': 'Quem não pode fazer uso de creatina?', 'description': 'A creatina é um suplemento popular entre atletas e praticantes de atividade física, conhecido por seus potenciais benefícios no desempenho esportivo. No entanto, assim como qualquer substância, nem todos podem fazer uso desse suplemento. Neste artigo, vamos a…', 'url': 'https://tableless.com.br/quem-nao-pode-fazer-uso-de-creatina/', 'urlToImage': 'https://tableless.com.br/wp-content/uploads/2024/07/XBdKX2Hr8cPKBwUX75ef_whey-junto-com-a-creatina6.jpg', 'publishedAt': '2024-10-17T15:06:14Z', 'content': 'A creatina é um suplemento popular entre atletas e praticantes de atividade física, conhecido por seus potenciais benefícios no desempenho esportivo. No entanto, assim como qualquer substância, nem t… [+10687 chars]'}, {'source': {'id': None, 'name': 'Mundodeportivo.com'}, 'author': 'Catalina Ciampa', 'title': 'Lo que todo diabético debe saber: las 5 bebidas para bajar el azúcar en sangre', 'description': 'La diabetes es una enfermedad crónica que requiere un control constante de los niveles de glucosa.\\xa0Además de llevar un estilo de vida activo y realizar ejercicio regularmente, la alimentación juega un papel crucial en la gestión de esta condición. En este sen…', 'url': 'https://www.mundodeportivo.com/vidae/nutricion/20241017/1002333323/truco-5-bebidas-bajar-azucar-sangre.html', 'urlToImage': 'https://www.mundodeportivo.com/files/og_thumbnail/files/fp/uploads/2024/08/15/66be2e1fb4399.r_d.662-507-9375.jpeg', 'publishedAt': '2024-10-17T14:43:08Z', 'content': 'La diabetes es una enfermedad crónica que requiere un control constante de los niveles de glucosa.\\xa0Además de llevar un estilo de vida activo y realizar ejercicio regularmente, la alimentación juega u… [+4292 chars]'}, {'source': {'id': 'cbs-news', 'name': 'CBS News'}, 'author': 'Sara Moniuszko', 'title': 'Weight loss drugs could help with alcohol, opioid addiction, study says', 'description': 'Drugs\\u200b like Mounjaro and Ozempic, which many use for weight loss,\\u200b\\u200b may also help patients suffering from addiction, according to a new study.', 'url': 'https://www.cbsnews.com/news/weight-loss-drugs-alcohol-opioid-addiction-study/', 'urlToImage': 'https://assets1.cbsnewsstatic.com/hub/i/r/2024/10/17/a1c1b2a1-135a-428c-a715-09bc5c5b6c73/thumbnail/1200x630/101285600c620a01c617f2ebe7fdbad2/gettyimages-2178012991.jpg?v=edba3a63b5392b4c81ae19d894992d91', 'publishedAt': '2024-10-17T14:33:08Z', 'content': 'Diabetes and weight loss drugs like Mounjaro and Ozempic may also help patients suffering from addiction, according to a new study.\\xa0\\r\\nIn the study, published Thursday in the scientific journal Addict… [+1825 chars]'}, {'source': {'id': None, 'name': 'Catracalivre.com.br'}, 'author': 'Thatyana Costa', 'title': 'Alimento que aumenta em 88% o risco de pedras nos\\xa0rins', 'description': 'Estudos recentes apontam que o consumo excessivo de açúcares adicionados pode aumentar consideravelmente o risco de pedra nos rins. Enquanto o sal sempre', 'url': 'https://catracalivre.com.br/saude-bem-estar/alimento-que-aumenta-em-88-o-risco-de-pedras-nos-rins/', 'urlToImage': 'https://catracalivre.com.br/cdn-cgi/image/f=auto,q=60,w=1280,h=720,fit=cover,format=jpeg/wp-content/uploads/2024/02/acucar-adicionado-causa-pedras-nos-rins.png', 'publishedAt': '2024-10-17T14:30:21Z', 'content': 'Estudo relaciona açúcar adicionado com maior risco de pedra nos rins - iStock/grinvalds\\r\\nEstudos recentes apontam que o consumo excessivo de açúcares adicionados pode aumentar consideravelmente o ris… [+1378 chars]'}, {'source': {'id': None, 'name': 'Metropoles.com'}, 'author': 'Bethânia Nunes', 'title': 'Ozempic reduz risco de overdose por opioides e álcool, aponta estudo', 'description': 'Pesquisadores acreditam que o Ozempic e medicamentos semelhantes podem servir como tratamento para o abuso de opioides e álcool', 'url': 'https://www.metropoles.com/saude/ozempic-reduz-overdose-opioides-alcool', 'urlToImage': 'https://uploads.metroimg.com/wp-content/uploads/2024/03/27154156/Ozempic-7.jpg', 'publishedAt': '2024-10-17T14:23:12Z', 'content': 'Pesquisadores da Universidade de Chicago, nos Estados Unidos, descobriram que o uso do Ozempic e medicamentos semelhantes pode reduzir o risco de overdose por opioides e álcool.\\r\\nEm estudo publicado … [+1700 chars]'}, {'source': {'id': 'focus', 'name': 'Focus'}, 'author': 'FOCUS online', 'title': 'Gesund durch die kalte Jahreszeit - Richtige Ernährung: Studie liefert wertvolle Tipps für ein gestärktes Immunsystem', 'description': 'Eine ausgewogene Ernährung stärkt das Immunsystem. Studien zeigen, wie gezielte Nährstoffe die Abwehrkräfte unterstützen.', 'url': 'https://www.focus.de/gesundheit/ernaehrung/richtige-ernaehrung-studie-liefert-wertvolle-tipps-fuer-ein-gestaerktes-immunsystem_be530c0c-5726-4212-b539-dc3fd242a133.html', 'urlToImage': 'https://quadro.burda-forward.de/ctf/fcf34428-eeb0-4f0a-9ff8-8e4b298a11bf.6626aada-e430-4310-8fea-f0d42ef97212.jpeg?im=RegionOfInterestCrop%3D%281200%2C630%29%2CregionOfInterest%3D%281148%2C532%29&hash=84ee42b8b975658a7b927a2dfc753689cfa5b9c3521c1472b26089d38ea35d20', 'publishedAt': '2024-10-17T14:12:00Z', 'content': 'In den letzten Jahren haben Wissenschaftler begonnen, die Auswirkungen der Ernährung auf das Immunsystem genauer zu untersuchen. Besonders die Rolle der Ernährung bei der Förderung der Gesundheit und… [+7764 chars]'}, {'source': {'id': 'focus', 'name': 'Focus'}, 'author': 'FOCUS online', 'title': 'Gesund durch den Winter - Volle Power fürs Immunsystem - bei richtiger Ernährung jubeln die Abwehrkräfte', 'description': 'Im Winter fit und gesund bleiben? Eine ausgewogene Ernährung stärkt das Immunsystem. Studien zeigen, wie gezielte Nährstoffe die Abwehrkräfte unterstützen.', 'url': 'https://www.focus.de/gesundheit/ernaehrung/volle-power-fuers-immunsystem-bei-richtiger-ernaehrung-jubeln-die-abwehrkraefte_be530c0c-5726-4212-b539-dc3fd242a133.html', 'urlToImage': 'https://quadro.burda-forward.de/ctf/fcf34428-eeb0-4f0a-9ff8-8e4b298a11bf.6626aada-e430-4310-8fea-f0d42ef97212.jpeg?im=RegionOfInterestCrop%3D%281200%2C630%29%2CregionOfInterest%3D%281148%2C532%29&hash=84ee42b8b975658a7b927a2dfc753689cfa5b9c3521c1472b26089d38ea35d20', 'publishedAt': '2024-10-17T14:12:00Z', 'content': 'In den letzten Jahren haben Wissenschaftler begonnen, die Auswirkungen der Ernährung auf das Immunsystem genauer zu untersuchen. Besonders die Rolle der Ernährung bei der Förderung der Gesundheit und… [+7748 chars]'}, {'source': {'id': None, 'name': 'Plos.org'}, 'author': 'Meng-Han Tsai, Yun-Hsuan Wu, Sih-Jie Lai, Yun-Chieh Yang', 'title': 'A cross-sectional study of the relationship between daily social contact features and the prevalence of common mental disorders in Taiwan, 2000–2015', 'description': 'The aim of this study was to examine the influence of daily contact features on the prevalence of common mental disorders (CMDs) in Taiwan from 2000 to 2015. Data from the Taiwan Social Change Survey for 2000, 2005, 2010, and 2015 were used to examine the rel…', 'url': 'https://journals.plos.org/plosone/article?id=10.1371/journal.pone.0312154', 'urlToImage': 'https://journals.plos.org/plosone/article/figure/image?id=10.1371/journal.pone.0312154.t004&size=inline', 'publishedAt': '2024-10-17T14:00:00Z', 'content': 'Abstract\\r\\nThe aim of this study was to examine the influence of daily contact features on the prevalence of common mental disorders (CMDs) in Taiwan from 2000 to 2015. Data from the Taiwan Social Cha… [+38243 chars]'}, {'source': {'id': None, 'name': 'Plos.org'}, 'author': 'Frank Müller, Alexis Hansen, Megan Kube, Judith E. Arnetz, Omayma Alshaarawy, Eric D. Achtyes, Harland T. Holman', 'title': 'Translation, cultural adaptation, and validation of the PHQ-9 and GAD-7 in Kinyarwanda for primary care in the United States', 'description': 'Background Depression and anxiety are significant health burdens that greatly impact the quality of life of refugees and migrants. In this study, we have translated and culturally adapted the Patient Health Questionnaire (PHQ-9) and Generalized Anxiety Disord…', 'url': 'https://journals.plos.org/plosone/article?id=10.1371/journal.pone.0302953', 'urlToImage': 'https://journals.plos.org/plosone/article/figure/image?id=10.1371/journal.pone.0302953.g002&size=inline', 'publishedAt': '2024-10-17T14:00:00Z', 'content': 'Abstract\\r\\nBackground\\r\\nDepression and anxiety are significant health burdens that greatly impact the quality of life of refugees and migrants. In this study, we have translated and culturally adapted … [+42461 chars]'}, {'source': {'id': None, 'name': 'Plos.org'}, 'author': 'Frank A. DeLano, Geert W. Schmid-Schönbein', 'title': 'Aging by autodigestion', 'description': 'The mechanism that triggers the progressive dysregulation of cell functions, inflammation, and breakdown of tissues during aging is currently unknown. We propose here a previously unknown mechanism due to tissue autodigestion by the digestive enzymes. After s…', 'url': 'https://journals.plos.org/plosone/article?id=10.1371/journal.pone.0312149', 'urlToImage': 'https://journals.plos.org/plosone/article/figure/image?id=10.1371/journal.pone.0312149.g013&size=inline', 'publishedAt': '2024-10-17T14:00:00Z', 'content': 'Abstract\\r\\nThe mechanism that triggers the progressive dysregulation of cell functions, inflammation, and breakdown of tissues during aging is currently unknown. We propose here a previously unknown m… [+47128 chars]'}, {'source': {'id': None, 'name': 'Plos.org'}, 'author': 'Jaewhan Kim, Kenechukwu C. Ben-Umeh, Rachel Weir, Karen Manotas, Kristi Kleinschmit, Aaron Fischer, Peter Weir, Fernando Wilson', 'title': 'Evaluating the risk of sleep disorders in subjects with a prior COVID-19 infection', 'description': 'Previous studies have reported a potential occurrence of sleep disorders in patients following a COVID-19 infection. However, these findings were based on surveys or retrospective studies with small sample sizes. This study examined if subjects with a previou…', 'url': 'https://journals.plos.org/plosone/article?id=10.1371/journal.pone.0311929', 'urlToImage': 'https://journals.plos.org/plosone/article/figure/image?id=10.1371/journal.pone.0311929.g001&size=inline', 'publishedAt': '2024-10-17T14:00:00Z', 'content': 'Abstract\\r\\nPrevious studies have reported a potential occurrence of sleep disorders in patients following a COVID-19 infection. However, these findings were based on surveys or retrospective studies w… [+34787 chars]'}, {'source': {'id': None, 'name': 'Plos.org'}, 'author': 'Masanori Kobayashi, Hiromune Katsuda, Aya Maekawa, Keiichi Akahoshi, Ryosuke Watanabe, Yuko Kinowaki, Hisaaki Nishimura, Takeo Fujiwara, Minoru Tanabe, Ryuichi Okamoto', 'title': 'Development of an intraductal papillary mucinous neoplasm malignancy prediction scoring system', 'description': 'Despite the presence of various guidelines, diagnosing malignant intraductal papillary mucinous neoplasm (IPMN) continues to pose challenges. Furthermore, although endoscopic ultrasonography (EUS) offers high-resolution images, it has not yet recognized as th…', 'url': 'https://journals.plos.org/plosone/article?id=10.1371/journal.pone.0312234', 'urlToImage': 'https://journals.plos.org/plosone/article/figure/image?id=10.1371/journal.pone.0312234.g001&size=inline', 'publishedAt': '2024-10-17T14:00:00Z', 'content': 'Abstract\\r\\nDespite the presence of various guidelines, diagnosing malignant intraductal papillary mucinous neoplasm (IPMN) continues to pose challenges. Furthermore, although endoscopic ultrasonograph… [+37727 chars]'}, {'source': {'id': None, 'name': 'Plos.org'}, 'author': 'Zannat Kawser, Saikt Rahman, Emilie Westeel, Mohammad Tanbir Habib, Mohabbat Hossain, Md. Rakibul Hassan Bulbul, Sharmin Aktar Mukta, Md. Zahirul Islam, Md. Zakir Hossain, Mokibul Hassan Afrad, Manjur Hossain Khan, Tahmina Shirin, Md. Shakeel Ahmed, Jean-Luc Berland, Florence Komurian-Pradel, Firdausi Qadri', 'title': 'SARS-CoV-2 variant survey: Comparison of RT-PCR screening with TGS and variant distribution across two divisions of Bangladesh', 'description': 'Background The widespread increase in multiple variants of severe acute respiratory syndrome coronavirus-2 (SARS-CoV-2) since 2020 is causing significant health concerns worldwide. While whole-genome sequencing (WGS) has played a leading role in surveillance …', 'url': 'https://journals.plos.org/plosone/article?id=10.1371/journal.pone.0311993', 'urlToImage': 'https://journals.plos.org/plosone/article/figure/image?id=10.1371/journal.pone.0311993.g002&size=inline', 'publishedAt': '2024-10-17T14:00:00Z', 'content': 'Abstract\\r\\nBackground\\r\\nThe widespread increase in multiple variants of severe acute respiratory syndrome coronavirus-2 (SARS-CoV-2) since 2020 is causing significant health concerns worldwide. While w… [+36575 chars]'}, {'source': {'id': None, 'name': 'Plos.org'}, 'author': 'Frederick H. F. Chan, Pearl Sim, Phoebe X. H. Lim, Xiaoli Zhu, Jimmy Lee, Sabrina Haroon, Titus Wai Leong Lau, Allen Yan Lun Liu, Behram A. Khan, Jason C. J. Choo, Konstadina Griva', 'title': 'Structural equation modelling of the role of cognition in functional interference and treatment nonadherence among haemodialysis patients', 'description': 'Background and objectives Cognitive impairment is common in haemodialysis patients and associated with adverse health outcomes. This may be due to cognitive impairments interfering with daily functioning and self-care, but evidence is limited. This cross-sect…', 'url': 'https://journals.plos.org/plosone/article?id=10.1371/journal.pone.0312039', 'urlToImage': 'https://journals.plos.org/plosone/article/figure/image?id=10.1371/journal.pone.0312039.g002&size=inline', 'publishedAt': '2024-10-17T14:00:00Z', 'content': 'Abstract\\r\\nBackground and objectives\\r\\nCognitive impairment is common in haemodialysis patients and associated with adverse health outcomes. This may be due to cognitive impairments interfering with da… [+47396 chars]'}, {'source': {'id': None, 'name': 'Plos.org'}, 'author': 'Mehran Asadi-Aliabadi, Seyed M. Karimi, Fariba Mirbaha-Hashemi, Arash Tehrani-Banihashemi, Leila Janani, Ebrahim Babaee, Marzieh Nojomi, Maziar Moradi-Lakeh', 'title': 'The effect of results-based motivating system on metabolic risk factors of non-communicable diseases: A field trial study', 'description': 'Background Non-communicable diseases can be controlled and managed by reducing their associated metabolic risk factors. In this study, a set of intervention packages were designed to reduce the prevalence of three common metabolic risk factors (hypertension, …', 'url': 'https://journals.plos.org/plosone/article?id=10.1371/journal.pone.0311507', 'urlToImage': 'https://journals.plos.org/plosone/article/figure/image?id=10.1371/journal.pone.0311507.g003&size=inline', 'publishedAt': '2024-10-17T14:00:00Z', 'content': 'Abstract\\r\\nBackground\\r\\nNon-communicable diseases can be controlled and managed by reducing their associated metabolic risk factors. In this study, a set of intervention packages were designed to reduc… [+51352 chars]'}, {'source': {'id': None, 'name': 'DW (English)'}, 'author': 'Jeannette Cwienk', 'title': 'Warum beginnt die Pubertät immer früher?', 'description': 'Die Elfjährige ist ständig gereizt, der 14-Jährige hat schon Schuhgröße 47 - Kinder kommen immer früher in die Pubertät, besonders Einzelkinder. Liegt es an der Corona-Pandemie, Umweltgiften oder der Ernährung?', 'url': 'https://www.dw.com/de/warum-beginnt-die-pubert%C3%A4t-immer-fr%C3%BCher/a-70521328', 'urlToImage': 'https://static.dw.com/image/70473489_6.jpg', 'publishedAt': '2024-10-17T13:56:00Z', 'content': 'Früher fand der Sohn der Kollegin die bunten Haarsträhnen seiner Mutter noch cool. Jetzt heißt es: \"Mama, kannst Du nicht einfach normal aussehen?\" Spätestens wenn Eltern plötzlich \"peinlich\" sind, i… [+7058 chars]'}, {'source': {'id': None, 'name': 'NDTV News'}, 'author': 'NDTV Health Desk', 'title': 'Nutritionist Suggests 3 Easy Exercises To Strengthen Lower Limbs', 'description': 'Nutritionist Rujuta Diwekar shares 3 easy lower limb exercises.', 'url': 'https://doctor.ndtv.com/living-healthy/rujuta-diwekar-shares-essential-exercises-for-boosting-lower-limb-strength-6767621', 'urlToImage': 'https://c.ndtvimg.com/2024-07/o8u40se8_exercises_625x300_02_July_24.jpg?im=FaceCrop,algorithm=dnn,width=620,height=350', 'publishedAt': '2024-10-17T13:55:30Z', 'content': 'If you are into strength training, you are probably already working your legs\\xa0to some degree. In addition to maintaining the strength of our limbs, we need to ensure that we keep our DALY to a minimu… [+2632 chars]'}, {'source': {'id': None, 'name': 'MSPoweruser'}, 'author': 'Rafly Gilang', 'title': 'AI use in medicine: Healthcare workers prefer AI to tackle heavy admin paperwork, says Google', 'description': 'AI may not cure illness, but it sure does help hospital workers for administrative tasks like creating or finding documents.\\nThe post AI use in medicine: Healthcare workers prefer AI to tackle heavy admin paperwork, says Google appeared first on MSPoweruser.', 'url': 'https://mspoweruser.com/ai-use-in-medicine-healthcare-workers-prefer-ai-to-tackle-heavy-admin-paperwork-says-google/', 'urlToImage': 'https://mspoweruser.com/wp-content/uploads/2024/10/ai-use-in-medicine.png', 'publishedAt': '2024-10-17T13:55:28Z', 'content': 'Like it or hate it, the AI use in the field of medicine does not seem to be too far offespecially generative AI that could automate tasks like creating and finding documents.\\r\\nSure, AI does not immed… [+1830 chars]'}, {'source': {'id': None, 'name': 'Www.is.fi'}, 'author': 'STT', 'title': 'Mullistava suomalaiskeksintö auttaa tunnistamaan taudin, joka jää kymmeniltätuhansilta suomalaisilta huomaamatta', 'description': 'Testi on Yhdysvaltain ja EU:n viranomaisten hyväksymä.', 'url': 'https://www.is.fi/terveys/art-2000010770613.html', 'urlToImage': 'https://images.sanoma-sndp.fi/1050fdeccca7dd15808fa612cf815df1.jpg/some/is-default.jpg', 'publishedAt': '2024-10-17T13:54:00Z', 'content': 'Testi on Yhdysvaltain ja EU:n viranomaisten hyväksymä.Uusi suomalainen pikatesti tunnistaa kakkostyypin diabeteksen riskin nopeasti ja tarkasti, tiedotti Helsingin yliopisto torstaina.\\r\\nSeitsemässä m… [+854 chars]'}, {'source': {'id': None, 'name': 'Eldiario.es'}, 'author': 'Héctor García Alonso', 'title': 'Estos son los alimentos que puedes consumir para mejorar los niveles de vitamina D', 'description': 'A la hora de preparar una dieta, es recomendable tener en cuenta los valores nutricionales de todos los alimentos para que esta sea lo más balanceada y saludable posible\\r\\nComer lo que siembras (en poco espacio): plantas con frutos para cultivar en casa\\n\\r\\n\\n A …', 'url': 'https://www.eldiario.es/consumoclaro/son-alimentos-puedes-consumir-mejorar-niveles-vitamina-d_1_11740995.html', 'urlToImage': 'https://static.eldiario.es/clip/7ef6c0a7-4f85-4ead-b6bb-3e188f13078a_facebook-watermarked-aspect-ratio_default_0.jpg', 'publishedAt': '2024-10-17T13:30:33Z', 'content': 'A la hora de planificar una dieta, es importante tener en cuenta varios factores, como los ingredientes, su origen o los valores nutricionales de los alimentos, con el objetivo de que esta sea lo más… [+3053 chars]'}, {'source': {'id': None, 'name': 'GlobeNewswire'}, 'author': 'Future Market Insights Global and Consulting Pvt. Ltd.', 'title': 'Prenatal Nutrition Market to Reach USD 2,054.7 Million by 2034, Driven by Rising Maternal Age and Health Awareness | Future Market Insights, Inc.', 'description': 'The USA prenatal nutrition industry is projected to grow at a 5.6% CAGR, driven by innovations in nutritional formulations, including probiotics, omega-3s, and plant-based compounds. Rising demand for personalized, organic, and clean-label products is propell…', 'url': 'https://www.globenewswire.com/news-release/2024/10/17/2964971/0/en/Prenatal-Nutrition-Market-to-Reach-USD-2-054-7-Million-by-2034-Driven-by-Rising-Maternal-Age-and-Health-Awareness-Future-Market-Insights-Inc.html', 'urlToImage': 'https://ml.globenewswire.com/Resource/Download/915d2f9c-7dc6-40c7-995c-2ba168208baa', 'publishedAt': '2024-10-17T13:30:00Z', 'content': 'NEWARK, Del, Oct. 17, 2024 (GLOBE NEWSWIRE) -- The global prenatal nutrition market is projected to grow from USD 917.0 million in 2024 to USD 2,054.7 million by 2034, with a CAGR of 8.4%. This growt… [+10086 chars]'}, {'source': {'id': None, 'name': 'NDTV News'}, 'author': 'Aayushi Singh Chauhan', 'title': 'How Internet And Social Media Is A Boon And Bane For Mental Health', 'description': 'This article explores the benefits and drawbacks of social media and the internet on mental health and provides insights into how individuals can manage their online interactions to foster a healthier mental state.', 'url': 'https://doctor.ndtv.com/living-healthy/how-internet-and-social-media-is-a-boon-and-bane-for-mental-health-6811822', 'urlToImage': 'https://c.ndtvimg.com/2024-09/ognl4gfo_children-on-social-media-_625x300_13_September_24.jpg?im=FeatureCrop,algorithm=dnn,width=620,height=350', 'publishedAt': '2024-10-17T13:26:25Z', 'content': \"In today's digital age, the internet and social media have become an integral part of our daily lives. These platforms provide a way for people to connect, share, and communicate across vast distance… [+6995 chars]\"}, {'source': {'id': None, 'name': 'Biztoc.com'}, 'author': 'marketbeat.com', 'title': \"Leerink Partnrs Comments on Tandem Diabetes Care, Inc.'s FY2027 Earnings (NASDAQ:TNDM)\", 'description': 'Tandem Diabetes Care, Inc. (NASDAQ:TNDM - Free Report) - Stock analysts at Leerink Partnrs issued their FY2027 earnings per share (EPS) estimates for Tandem Diabetes Care in a note issued to investors on Tuesday, October 15th. Leerink Partnrs analyst M. Kratk…', 'url': 'https://biztoc.com/x/2927f16e5e5b5406', 'urlToImage': 'https://biztoc.com/cdn/805/og.png', 'publishedAt': '2024-10-17T13:25:14Z', 'content': 'Tandem Diabetes Care, Inc. (NASDAQ:TNDM - Free Report) - Stock analysts at Leerink Partnrs issued their FY2027 earnings per share (EPS) estimates for Tandem Diabetes Care in a note issued to investor… [+148 chars]'}, {'source': {'id': None, 'name': 'NDTV News'}, 'author': 'Manya Singh', 'title': 'Alopecia: Why Does It Cause Hair Loss & Everything Else You Must Know', 'description': 'Here we share a list of things you might want to know about alopecia.', 'url': 'https://doctor.ndtv.com/living-healthy/alopecia-why-does-it-cause-hair-loss-everything-else-you-must-know-6811750', 'urlToImage': 'https://c.ndtvimg.com/2024-02/ckk6vg2g_how-to-prevent-hair-fall_625x300_22_February_24.jpg?im=FeatureCrop,algorithm=dnn,width=620,height=350', 'publishedAt': '2024-10-17T13:15:56Z', 'content': 'Alopecia is a medical condition that results in hair loss, either in patches or over the entire scalp and body. It can affect both men and women of any age. There are various types of alopecia, with … [+4320 chars]'}, {'source': {'id': None, 'name': 'Hip-Hop Wired'}, 'author': 'Christopher Smith', 'title': 'Fat Joe Admits Ozempic Usage In Weight Loss Journey', 'description': 'Veteran rapper Fat Joe declared that part of his weight loss has been due to his use of Ozempic in addition to other lifestyle adjustments including reducing his carbohydrate intake.', 'url': 'https://hiphopwired.com/2429506/fat-joe-admits-ozempic-usage-in-weight-loss-journey/', 'urlToImage': 'https://hiphopwired.com/wp-content/uploads/sites/43/2024/10/17291707984729.jpg', 'publishedAt': '2024-10-17T13:14:06Z', 'content': 'HipHopWired Featured Video\\r\\nSource: Billboard / Getty\\r\\nFat Joe admitted that he uses Ozempic as part of changes in his lifestyle that’s helped him lose weight.\\r\\nVeteran rapper Fat Joe has gone on the… [+1920 chars]'}, {'source': {'id': None, 'name': 'KTRK-TV'}, 'author': 'Dr. Faizah Shareef', 'title': 'Weight loss drugs and addiction: Study shows GLP-1 may help reduce overdose risks', 'description': 'Weight loss drugs and addiction: Study shows GLP-1 may help reduce overdose risksabc13.com', 'url': 'https://abc13.com/health/weight-loss-drugs-like-ozempic-may-help-reduce-overdose-risks-study/15437514/', 'urlToImage': 'https://cdn.abcotvs.com/dip/images/15437643_101724-wpvi-gma-weight-loss-drugs-overdose-addiction-pkg-video-vid.jpg?w=1600', 'publishedAt': '2024-10-17T13:12:23Z', 'content': 'A new study suggests that GLP-1 agonist medications like Ozempic, which are used for diabetes management and weight loss, may help reduce the risk of overdose and alcohol intoxication in people with … [+3628 chars]'}]}\n"
     ]
    }
   ],
   "source": [
    "artigos = response.json()\n",
    "print(artigos)"
   ]
  },
  {
   "cell_type": "code",
   "execution_count": 0,
   "metadata": {
    "application/vnd.databricks.v1+cell": {
     "cellMetadata": {
      "byteLimit": 2048000,
      "rowLimit": 10000
     },
     "inputWidgets": {},
     "nuid": "ab176fd4-2cb9-43e1-8739-1581467d0c3f",
     "showTitle": false,
     "title": ""
    }
   },
   "outputs": [
    {
     "output_type": "stream",
     "name": "stdout",
     "output_type": "stream",
     "text": [
      "dict_keys(['source', 'author', 'title', 'description', 'url', 'urlToImage', 'publishedAt', 'content'])\n"
     ]
    }
   ],
   "source": [
    "print(artigos[\"articles\"][0].keys())"
   ]
  },
  {
   "cell_type": "code",
   "execution_count": 0,
   "metadata": {
    "application/vnd.databricks.v1+cell": {
     "cellMetadata": {
      "byteLimit": 2048000,
      "rowLimit": 10000
     },
     "inputWidgets": {},
     "nuid": "4d1e4aca-a7ee-4235-bc83-3906f43afe0c",
     "showTitle": false,
     "title": ""
    }
   },
   "outputs": [],
   "source": [
    "#gravar em um df spark\n",
    "lista_dados = []\n",
    "\n",
    "for artigo in artigos[\"articles\"]:\n",
    "  artigo[\"source\"] = artigo[\"source\"][\"name\"]\n",
    "  lista_dados.append(artigo)\n",
    "\n",
    "df = spark.createDataFrame(lista_dados)"
   ]
  },
  {
   "cell_type": "code",
   "execution_count": 0,
   "metadata": {
    "application/vnd.databricks.v1+cell": {
     "cellMetadata": {
      "byteLimit": 2048000,
      "rowLimit": 10000
     },
     "inputWidgets": {},
     "nuid": "04514692-d8b6-423b-967b-9283d4698717",
     "showTitle": false,
     "title": ""
    }
   },
   "outputs": [
    {
     "output_type": "display_data",
     "data": {
      "text/html": [
       "<style scoped>\n",
       "  .table-result-container {\n",
       "    max-height: 300px;\n",
       "    overflow: auto;\n",
       "  }\n",
       "  table, th, td {\n",
       "    border: 1px solid black;\n",
       "    border-collapse: collapse;\n",
       "  }\n",
       "  th, td {\n",
       "    padding: 5px;\n",
       "  }\n",
       "  th {\n",
       "    text-align: left;\n",
       "  }\n",
       "</style><div class='table-result-container'><table class='table-result'><thead style='background-color: white'><tr><th>author</th><th>content</th><th>description</th><th>publishedAt</th><th>source</th><th>title</th><th>url</th><th>urlToImage</th></tr></thead><tbody><tr><td>Barrett, S., Begg, S., Dunford, A., O'Halloran, P., Rodda, K., Denniss, E., Breckon, J., Kingsley, M.</td><td>Background\r\n",
       "Chronic diseases such as diabetes, heart disease and some cancers are leading causes of ill health and morbidity worldwide.1 2 Modifiable risk factors such as insufficient physical activi… [+6484 chars]</td><td>Introduction Behaviour change interventions are advocated as a key approach to manage behavioural risk factors such as insufficient physical activity, poor diet and smoking. Integrated motivational interviewing and cognitive behavioural therapy (MI-CBT) inter…</td><td>2024-10-17T22:28:58Z</td><td>The BMJ</td><td>An expert consensus on the most effective components of integrated motivational interviewing and cognitive behavioural therapy for lifestyle behaviour change: protocol for an online modified Delphi study</td><td>https://bmjopen.bmj.com/content/14/10/e088988</td><td>https://bmjopen.bmj.com/pages/wp-content/uploads/sites/7/2019/07/bmjopen-default-cover.png</td></tr><tr><td>Wen, S., Zhao, X., Lin, X., Fu, Z., Qin, S., Pan, Q., Liu, F., He, W., Liu, T.</td><td>Introduction\r\n",
       "In gastro-oesophageal reflux disease (GERD), gastroduodenal contents reflux into the oesophagus, causing symptoms such as acid reflux, heartburn, regurgitation and post-sternal pain and… [+7898 chars]</td><td>Background\r\n",
       "\n",
       "Gastro-oesophageal reflux disease (GERD) is a highly prevalent disorder worldwide and developing effective treatment strategies for GERD is a clinical priority. GERD is associated with anxiety and depression. Several approaches have been develope…</td><td>2024-10-17T22:28:58Z</td><td>The BMJ</td><td>Acupoint catgut embedding advantage in treating gastro-oesophageal reflux disease (ACE-GERD): study protocol for a randomised controlled trial</td><td>https://bmjopen.bmj.com/content/14/10/e081059</td><td>https://bmjopen.bmj.com/pages/wp-content/uploads/sites/7/2019/07/bmjopen-default-cover.png</td></tr><tr><td>Alam, M. T., Veettil, S. T., Krishnan, J. I., Alsalmi, R. G., Jacob, J., Mousa, A. T., Sakallah, S. A. M., Mahmood, S., Al Nuaimi, A.</td><td>STRENGTHS AND LIMITATIONS OF THIS STUDY\r\n",
       "<ul><li>The study uses a cross-sectional design to provide a snapshot of the primary healthcare systems response to implementing home delivery services for me… [+16265 chars]</td><td>Objectives During the COVID-19 epidemic, due to the high risk associated with travel and group gatherings, the Ministry of Public Health in Qatar introduced home delivery of pharmaceutical services. This study aims to investigate the satisfaction and preferen…</td><td>2024-10-17T22:28:58Z</td><td>The BMJ</td><td>Satisfaction and preference for home delivery pharmaceutical services among patients attending primary care settings in Qatar during COVID-19 pandemic: a cross-sectional study</td><td>https://bmjopen.bmj.com/content/14/10/e082842</td><td>https://bmjopen.bmj.com/pages/wp-content/uploads/sites/7/2019/07/bmjopen-default-cover.png</td></tr><tr><td>Leandro Costa Criscuolo</td><td>Uma nova insulina desenvolvida pela Novo Nordisk, que se adapta automaticamente aos níveis de glicose no sangue, mostrou eficácia em reduzir o risco de hipoglicemia em animais. O estudo desta criação… [+1496 chars]</td><td>Abordagem reduz o risco de hipoglicemia, oferecendo mais segurança aos diabéticos ao ajustar automaticamente a absorção de glicose no sangue\n",
       "O post Novo ‘interruptor’ que ativa insulina pode ajudar no tratamento da diabetes apareceu primeiro em Olhar Digital.</td><td>2024-10-17T22:22:08Z</td><td>Olhardigital.com.br</td><td>Novo ‘interruptor’ que ativa insulina pode ajudar no tratamento da diabetes</td><td>https://olhardigital.com.br/2024/10/17/medicina-e-saude/novo-interruptor-que-ativa-insulina-pode-ajudar-no-tratamento-da-diabetes/</td><td>https://olhardigital.com.br/wp-content/uploads/2024/10/insulina.jpg</td></tr><tr><td>El Universal (México)</td><td>Los alimentos que elegimos a diario para nuestra dieta deben priorizar lograr una completa nutrición para el organismo. Una dieta adecuada, balanceada y combinada con una actividad física regular, es… [+1725 chars]</td><td>Aporta vitaminas del grupo B y es fácil de hallar para sumar a la dieta; todo lo que hay que saber; mirá el video</td><td>2024-10-17T21:55:57Z</td><td>La Nacion</td><td>El cereal que contiene hierro, ayuda a la producción de glóbulos rojos y es considerado como un “tesoro”</td><td>https://www.lanacion.com.ar/lifestyle/cuidado-cuerpo-belleza/el-cereal-que-contiene-hierro-ayuda-a-la-produccion-de-globulos-rojos-y-es-considerado-como-un-nid17102024/</td><td>https://resizer.glanacion.com/resizer/v2/este-cereal-proporciona-mas-del-10percent-de-la-V7EEBNIJEJCPRAKXH3VJKADK4Y.jpg?auth=71966b106bb7f9e19e1716dd5e9178cd16477f6227fa06d24e8cfdfecf0d4a55&width=1200&quality=70&smart=false&height=800</td></tr><tr><td>Redacción</td><td>¡Dile adiós al zumo de betabel, al de zanahoria con naranja y hasta el de jengibre! Lo de hoy es tomar jugo verde, tal como mostró Emma Coronel, la modelo y esposa de Joaquín El Chapo Guzmán, en sus … [+11163 chars]</td><td>El jugo verde que toma Emma Coronel se suele recomendar para una buena salud del corazón e incluso para bajar de peso, pero, ¿qué tan reales son sus beneficios?</td><td>2024-10-17T21:52:07Z</td><td>El Financiero</td><td>¿Para qué sirve el jugo verde que toma Emma Coronel?</td><td>https://www.elfinanciero.com.mx/food-and-drink/2024/10/17/para-que-sirve-el-jugo-verde-que-toma-emma-coronel/</td><td>https://elfinanciero.com.mx/resizer/v2/RPFMRJQQERFL3NLETZTD4LQ6CU.jpg?smart=true&auth=5b8a3e0830a03729bbb1e60074545a3bcf5c414c97dc47a008b03472bb28cf9e&width=1200&height=630</td></tr><tr><td>Ashlee Valentine</td><td>Contrary to popular belief, fitness is a key part of healthy aging. But you can't just skate into your golden years looking great while doing minimal amounts of aerobic exercise. You should be focusi… [+7187 chars]</td><td>If you want to maintain your health and fitness as you age, these anti-aging exercises will help you achieve that goal.</td><td>2024-10-17T21:46:00Z</td><td>CNET</td><td>Exercise for Older Adults: How to Stay Balanced and Strong as You Age</td><td>https://www.cnet.com/health/fitness/exercise-for-older-adults-how-to-stay-balanced-and-strong-as-you-age/</td><td>https://www.cnet.com/a/img/resize/1a03e08106bd9cdaabfc0ec16fff4e88b1112d62/hub/2024/08/20/4dba6a01-3c41-4098-84ee-8968b33bbbae/older-adult-lifting-weights.jpg?auto=webp&fit=crop&height=675&width=1200</td></tr><tr><td>Babylon Bee</td><td>BATON ROUGE, LA Sources close to Max Calderfield, the Healthiest Man Alive, say that the wonder of nature has maintained a sound mind and body precisely by doing exactly the opposite of whatever the … [+1102 chars]</td><td>BATON ROUGE, LA — Sources close to Max Calderfield, the Healthiest Man Alive, say that the wonder of nature has maintained a sound mind and body precisely by doing exactly the opposite of whatever the government recommends.</td><td>2024-10-17T21:42:42Z</td><td>Babylonbee.com</td><td>Healthiest Man Alive Just Does The Opposite Of Whatever The Government Recommends</td><td>https://babylonbee.com/news/healthiest-man-alive-just-does-the-opposite-of-whatever-the-government-recommends</td><td>https://media.babylonbee.com/articles/67117ef0ecd7167117ef0ecd72.jpg</td></tr><tr><td>onainigo</td><td>Yo estoy viendo en mi entorno mucha gente con trombos, pantorrilla, brazo y alguno en pulmón (con el peligro que conlleva), incluso no vacunados y deportista, de los vacunados ninguno con Astra-Zenec… [+63 chars]</td><td>Un nuevo estudio muestra que las infecciones por COVID-19 en niños conducen a un riesgo significativamente mayor de diabetes tipo 2 en un plazo de seis meses, lo que genera nuevas preocupaciones sobre los impactos a largo plazo del virus en las poblaciones jó…</td><td>2024-10-17T21:39:39Z</td><td>Meneame.net</td><td>Estudio revela que la COVID-19 aumenta el riesgo de diabetes tipo 2 en niños (eng)</td><td>https://www.meneame.net/m/ciencia/estudio-revela-covid-19-aumenta-riesgo-diabetes-tipo-2-ninos-eng</td><td>https://meneame.net/img/logo_meneame.png</td></tr><tr><td>null</td><td>Western Pacific nations are unlikely to meet the United Nations target of reducing premature deaths from lifestyle-related diseases including cancer and diabetes, due to the slow decline in alcohol a… [+1708 chars]</td><td>Western Pacific nations are unlikely to meet the United Nations target of reducing premature deaths from lifestyle-related diseases including cancer and diabetes, due to the slow decline in alcohol and tobacco consumption, the World Health Organization said o…</td><td>2024-10-17T21:38:53Z</td><td>Japan Today</td><td>WHO says western Pacific to miss U.N. goal to cut early deaths from lifestyle diseases</td><td>https://japantoday.com/category/features/health/who-says-western-pacific-to-miss-un-goal-to-cut-early-deaths-from-lifestyle-diseases</td><td>null</td></tr><tr><td>Jamie Kenney</td><td>Between all the appointments, blood work, and ultrasounds to say nothing of the fact that your body feels completely different in its worst moments, pregnancy can make you feel like a test subject. S… [+6849 chars]</td><td>Discover Cora Bryant's powerful message on the importance of the glucose test during pregnancy. Don't overlook this vital screening for your and your baby's health.</td><td>2024-10-17T21:00:49Z</td><td>Scary Mommy</td><td>Mom Urges Others Not To Skip Glucose Test In Pregnancy</td><td>https://www.scarymommy.com/pregnancy/mom-stillbirth-glucose-test-in-pregnancy</td><td>https://imgix.bustle.com/uploads/image/2024/10/17/c3e69198/loss001.jpeg?w=1200&h=630&fit=crop&crop=faces&fm=jpg</td></tr><tr><td>marketbeat.com</td><td>Tandem Diabetes Care (NASDAQ:TNDM) Shares Down 8.1% - Here's Why\r\n",
       "This story appeared on marketbeat.com, 2024-10-17 20:54:18.</td><td>Tandem Diabetes Care (NASDAQ:TNDM) Shares Down 8.1% - Here's Why</td><td>2024-10-17T21:00:20Z</td><td>Biztoc.com</td><td>Tandem Diabetes Care (NASDAQ:TNDM) Trading Down 8.1% - What's Next?</td><td>https://biztoc.com/x/a9a122a0acb915a2</td><td>https://biztoc.com/cdn/805/og.png</td></tr><tr><td>SkyQuest Technology Consulting Pvt. Ltd.</td><td>Westford, USA, Oct. 17, 2024 (GLOBE NEWSWIRE) -- SkyQuest projects that Wound Care Market\r\n",
       " will attain the value of USD 16.32 Billion by 2031, with a CAGR of 3.1% during the forecast period (2024-20… [+8201 chars]</td><td>Unlock the potential of the global wound care market, projected to soar from USD 13.18 billion in 2023 to USD 16.32 billion by 2031, with a steady growth rate of 3.1%! Discover key insights on advanced dressings and emerging trends across hospitals and home h…</td><td>2024-10-17T21:00:00Z</td><td>GlobeNewswire</td><td>Wound Care Market to Witness 3.1% CAGR by 2031 | SkyQuest Technology</td><td>https://www.globenewswire.com/news-release/2024/10/17/2965272/0/en/Wound-Care-Market-to-Witness-3-1-CAGR-by-2031-SkyQuest-Technology.html</td><td>https://ml.globenewswire.com/Resource/Download/c673c6fa-f0e7-47bf-8490-fe528c593820</td></tr><tr><td>Kaili Berg</td><td>Details\r\n",
       "By Kaili Berg\r\n",
       "October 17, 2024\r\n",
       "Last month, the Johns Hopkins Center for Indigenous Health opened a new hub in Rapid City, S.D., to bring Native-focused health care to the region. \r\n",
       "Great P… [+3579 chars]</td><td>Last month, the Johns Hopkins Center for Indigenous Health opened a new hub in Rapid City, S.D., to bring Native-focused health care to the region.&nbsp; About The AuthorAuthor: Kaili BergEmail: This email address is being protected from spambots. You need Ja…</td><td>2024-10-17T20:51:48Z</td><td>Nativenewsonline.net</td><td>Center for Indigenous Health Opens Hub in Rapid City</td><td>https://nativenewsonline.net/health/center-for-indigenous-health-opens-hub-in-rapid-city</td><td>https://nativenewsonline.net/images/2022/Screenshot_2024-10-17_at_10.43.17_AM.png</td></tr><tr><td>news@yale.edu (Yale News)</td><td>Expanding access to new, highly effective weight-loss medications could prevent more than 40,000 deaths a year in the United States, according to a new study led by researchers at Yale School of Publ… [+5359 chars]</td><td>Expanding access to new, highly effective weight-loss medications could prevent more than 40,000 deaths a year in the United States, according to a new study</td><td>2024-10-17T20:40:04Z</td><td>Yale.edu</td><td>Expanding access to weight-loss drugs could save thousands of lives a year</td><td>https://medicine.yale.edu/news-article/expanding-access-to-weight-loss-drugs-could-save-thousands-of-lives-annually-study-finds/</td><td>https://ysm-res.cloudinary.com/image/upload/c_limit,f_auto,h_630,q_auto,w_1200/v1/yms/prod/a16501a9-8475-41a8-a076-96c8e5e32e4a</td></tr><tr><td>J.D. Tuccille</td><td>It's no surprise that campaigning for office is largely a matter of buying votes with unrealistic promises of largesse to be fundedif the promise is ever fulfilledon the backs of those to be named la… [+6793 chars]</td><td>It's no surprise that campaigning for office is largely a matter of buying votes with unrealistic promises of largesse to be funded—if the promise is ever</td><td>2024-10-17T20:31:37Z</td><td>Reason</td><td>Medicare-Covered Ozempic and Long-Term Care Would Be Very Pricey</td><td>https://reason.com/2024/10/18/medicare-covered-ozempic-and-long-term-care-would-be-very-pricey/</td><td>https://d2eehagpk5cl65.cloudfront.net/img/q60/uploads/2024/10/dollars.jpg</td></tr><tr><td>LA NACION</td><td>En el extenso universo de las verduras de hoja verde, la lechuga es una de las que más vemos cada vez que vamos a una verdulería. Su disponibilidad hace que no pase desapercibida, pero sí lo hacen la… [+3293 chars]</td><td>Este alimento es más que un simple acompañamiento en las comidas, ya que es rico en antioxidantes, fibra y agua, y beneficioso para la salud digestiva; cuál es y cómo integrarlo al día a día</td><td>2024-10-17T20:12:28Z</td><td>La Nacion</td><td>La verdura verde, nutritiva y accesible que debería ser un básico en la dieta</td><td>https://www.lanacion.com.ar/lifestyle/cuidado-cuerpo-belleza/la-verdura-verde-nutritiva-y-accesible-que-deberia-ser-un-basico-en-la-dieta-nid17102024/</td><td>https://resizer.glanacion.com/resizer/v2/este-vegetal-de-hojas-verdes-es-facilmente-BUDGUH7P3FFN3AJCYACEE4OFJU.jpg?auth=7e56db34ed2dda47be7c39e67c86855388902b5ff606c56be8123e64b1244981&width=1200&quality=70&smart=false&height=800</td></tr><tr><td>Ed Cara</td><td>The sky continues to be the limit for semaglutide, the active ingredient in popular drugs Ozempic and Wegovy. Newly published research is the latest to suggest that semaglutide and other GLP-1 drugs … [+3256 chars]</td><td>Research from earlier this week is the latest to suggest that semaglutide and other GLP-1 drugs can help treat people's addiction to both opioids and alcohol.</td><td>2024-10-17T20:05:25Z</td><td>Gizmodo.com</td><td>The Case for Ozempic as a Addiction Treatment Keeps Getting Better</td><td>https://gizmodo.com/the-case-for-ozempic-as-a-addiction-treatment-keeps-getting-better-2000513096</td><td>https://gizmodo.com/app/uploads/2024/10/Ozempic.jpg</td></tr><tr><td>Portal EdiCase</td><td>Considerado o mês do idoso, outubro é um período dedicado às discussões e informações pertinentes à saúde e qualidade de vida da população com mais de 60 anos, com campanhas que visam conscientizar e… [+5472 chars]</td><td>O fornecimento adequado de nutrientes é essencial para manter a saúde e a qualidade de vida</td><td>2024-10-17T20:02:13Z</td><td>Terra.com.br</td><td>5 perguntas e respostas sobre suplementos para idosos</td><td>https://www.terra.com.br/vida-e-estilo/saude/5-perguntas-e-respostas-sobre-suplementos-para-idosos,854c1557f35f7bc370883de2422e7009btr2373o.html</td><td>https://p2.trrsf.com/image/fget/cf/1200/630/middle/images.terra.com/2024/10/17/1220305979-suplementos-idosos.jpg</td></tr><tr><td>The Conversation</td><td>* Artigo escrito pela endocrinologista Maria Fernanda Barca, integrante do grupo de Tireoide do Hospital das Clínicas da Faculdade de Medicina da Universidade de São Paulo (USP). O texto foi original… [+8245 chars]</td><td>No Brasil, dados citados pela Sociedade Brasileira de Hepatologia indicam que 20% da população geral possui gordura no fígado</td><td>2024-10-17T19:51:23Z</td><td>Metropoles.com</td><td>Como o acúmulo de gordura no fígado se tornou uma epidemia global</td><td>https://www.metropoles.com/saude/como-o-acumulo-de-gordura-no-figado-se-tornou-uma-epidemia-global</td><td>https://uploads.metroimg.com/wp-content/uploads/2023/07/19115548/figado-hepatite.jpg</td></tr><tr><td>Rachel Rasker</td><td>If you had a health check-up recently, you might have been told that you're underweight, overweight or obese based on your body mass index or BMI.\r\n",
       "But the BMI was never intended as a diagnostic tool… [+5920 chars]</td><td>Despite widespread criticism, BMI continues to be the go-to for measuring some health risks. Now the \"body roundness index\" is gaining traction as a viable alternative. What's stopping it being used?</td><td>2024-10-17T19:30:00Z</td><td>ABC News (AU)</td><td>Why measuring body 'roundness' could be a better indicator of health than BMI</td><td>https://www.abc.net.au/news/health/2024-10-18/body-roundness-mass-index-health-risks-weight-obesity/104456116</td><td>https://live-production.wcms.abc-cdn.net.au/85c0fffab48e8d45abce12c0511c2568?impolicy=wcms_watermark_news&cropH=2813&cropW=5000&xPos=0&yPos=260&width=862&height=485&imformat=generic</td></tr><tr><td>Iris May</td><td>Berlin. Bevor Berlin in den Biden-Ausnahmezustand versinkt, verzauberte am Donnerstag eine Gala im Regierungsviertel. Was die Gala bewegend machte.</td><td>Bevor Berlin in den Biden-Ausnahmezustand versinkt, fand am Donnerstag eine glamouröse Gala im Tipi am Kanzleramt statt. Wieviel gespendet wurde, wer da war.</td><td>2024-10-17T19:24:59Z</td><td>Berliner Morgenpost</td><td>Diabetes Charity Gala am Kanzleramt: Jede Minute ein Kranker mehr</td><td>https://www.morgenpost.de/bezirke/mitte/article407492334/diabetes-charity-gala-am-kanzleramt-jede-minute-ein-kranker-mehr.html</td><td>https://img.sparknews.funkemedien.de/407492541/407492541_1729193098_v16_9_1600.jpeg</td></tr><tr><td>marketwatch.com</td><td>Weight-loss drugs such as Ozempic, made by Denmarks Novo Nordisk, can reduce rates of opioid and alcohol abuse by up to 50%, according to a new study that supports expectations the drugs can offer gr… [+117 chars]</td><td>Weight-loss drugs such as Ozempic, made by Denmark’s Novo Nordisk, can reduce rates of opioid and alcohol abuse by up to 50%, according to a new study that supports expectations the drugs can offer greater benefits than just weight and diabetes management.</td><td>2024-10-17T19:09:33Z</td><td>Biztoc.com</td><td>Weight-loss drugs may reduce opioid and alcohol abuse by up to 50%, study finds</td><td>https://biztoc.com/x/c15c284ec30b23b2</td><td>https://biztoc.com/cdn/805/og.png</td></tr><tr><td>Maya Brownstein</td><td>October 17, 2024For nearly five decades, the Nurses Health Study (NHS) has investigated the risk factors for the most prevalent chronic diseases in women and thousands of scientific articles have dra… [+5143 chars]</td><td>For nearly five decades, the Nurses’ Health Study has investigated the risk factors for the most prevalent chronic diseases in women and thousands of scientific articles have drawn on its data. The study may come to an untimely end if additional funding is no…</td><td>2024-10-17T19:06:31Z</td><td>Harvard School of Engineering and Applied Sciences</td><td>Long-running Nurses’ Health Study at risk of shutting down</td><td>https://www.hsph.harvard.edu/news/features/long-running-nurses-health-study-at-risk-of-shutting-down/</td><td>https://www.hsph.harvard.edu/news/wp-content/uploads/sites/21/2024/10/24_10_08-Nurses-Health-Study_094-scaled.jpg</td></tr><tr><td>Erica Sweeney</td><td>WHEN YOU HAVE dry, itchy\r\n",
       ", or inflamed skin, you yearn for something soothing. A classic remedy for these problems is colloidal oatmeal. Its gentle, calming, and provides relief. \r\n",
       "Colloidal oatmeal… [+5667 chars]</td><td>Dermatologists recommend this classic, soothing treatment for a variety of skin ailments.</td><td>2024-10-17T18:52:00Z</td><td>menshealth.com</td><td>How Can Colloidal Oatmeal Help Your Skin? Dermatologists Explain.</td><td>https://www.menshealth.com/health/a62637593/colloidal-oatmeal-benefits/</td><td>https://hips.hearstapps.com/hmg-prod/images/dry-skin-on-elbows-royalty-free-image-1729174980.jpg?crop=1.00xw:0.918xh;0,0.0733xh&resize=1200:*</td></tr><tr><td>null</td><td>Google announced it is licensing its AI model focused on detecting diabetic retinopathy to partners in Thailand and India, two countries the tech giant says have a shortage of eye specialists. \r\n",
       "Goog… [+2678 chars]</td><td>The tech giant and its partners will work to make AI-enabled eyesight-saving care more readily available to clinical systems across both countries.</td><td>2024-10-17T18:38:42Z</td><td>MobiHealthNews</td><td>Google licenses AI diabetic retinopathy model to partners in India, Thailand</td><td>https://www.mobihealthnews.com/news/google-licenses-ai-diabetic-retinopathy-model-partners-india-thailand</td><td>https://www.mobihealthnews.com/sites/default/files/Eye%20image.jpg</td></tr><tr><td>Agência Lusa</td><td>A Direção-Geral da Saúde (DGS) está a avaliar um projeto-piloto para rastrear a diabetes tipo 1 nas crianças, disse esta quinta-feira a especialista Catarina Limbert, adiantando que o objetivo é que … [+3783 chars]</td><td>Existem cerca de 38.000 pessoas com diabetes tipo 1 em Portugal, das quais 3.000 a 4.000 têm menos de 15 anos. Objetivo é que rastreio seja feito aos cinco anos no momento da vacinação.</td><td>2024-10-17T18:37:58Z</td><td>Observador.pt</td><td>Direção Geral de Saúde está a avaliar projeto-piloto para rastrear a diabetes tipo 1 nas crianças, segundo especialista</td><td>https://observador.pt/2024/10/17/direcao-geral-de-saude-esta-a-avaliar-projeto-piloto-para-rastrear-a-diabetes-tipo-1-nas-criancas-segundo-especialista/</td><td>https://wm.observador.pt/wm/obs/l/https%3A%2F%2Fbordalo.observador.pt%2Fv2%2Frs%3Afill%3A770%3A403%2Fc%3A3115%3A1747%3Anowe%3A0%3A69%2Fq%3A70%2Ff%3Awebp%2Fplain%2Fhttps%3A%2F%2Fs3.observador.pt%2Fwp-content%2Fuploads%2F2020%2F11%2F12191723%2Fistock-836372378.jpg</td></tr><tr><td>LA NACION</td><td>En la búsqueda constante por mejorar la calidad de vida, la alimentación ocupa un rol preponderante. En este escenario, existen alimentos que, aunque desconocidos para muchos, esconden beneficios exc… [+4086 chars]</td><td>Este tipo de nuez es una excelente opción para quienes buscan mejorar su salud a través de la alimentación; de qué manera este fruto tropical beneficia tanto al cuerpo como al bienestar general</td><td>2024-10-17T18:32:02Z</td><td>La Nacion</td><td>El fruto seco que reduce el colesterol y ayuda a perder peso</td><td>https://www.lanacion.com.ar/lifestyle/cuidado-cuerpo-belleza/el-fruto-seco-que-reduce-el-colesterol-y-ayuda-a-perder-peso-nid17102024/</td><td>https://resizer.glanacion.com/resizer/v2/una-fruta-seca-oriunda-del-tropico-se-presenta-FI6S7MNJYJDIRJEZPHNGVRVKWE.jpg?auth=c6c8d47008d1d9edcaa87d62f29319b5ffff3f1116408384bcf6360e1139fca8&width=1200&quality=70&smart=false&height=800</td></tr><tr><td>GlobeNewswire</td><td>Author of the article:\r\n",
       "Article content\r\n",
       "Data Show Tesamorelin May Reduce CVD Risk by Reducing EVAF\r\n",
       "MONTREAL, Oct. 17, 2024 (GLOBE NEWSWIRE) Theratechnologies Inc. (Theratechnologies or the Company)… [+10919 chars]</td><td>Data Show Tesamorelin May Reduce CVD Risk by Reducing EVAF MONTREAL, Oct. 17, 2024 (GLOBE NEWSWIRE) — Theratechnologies Inc. (“Theratechnologies” or the “Company”) (TSX: TH) (NASDAQ: THTX), a biopharmaceutical company focused on development and commercializat…</td><td>2024-10-17T18:01:51Z</td><td>Financial Post</td><td>Theratechnologies IDWeek Presentations Highlight the Impact of Excess Visceral Abdominal Fat (EVAF) on Cardiovascular Disease (CVD) Risk in People with HIV</td><td>https://financialpost.com/globe-newswire/theratechnologies-idweek-presentations-highlight-the-impact-of-excess-visceral-abdominal-fat-evaf-on-cardiovascular-disease-cvd-risk-in-people-with-hiv</td><td>null</td></tr><tr><td>Theratechnologies</td><td>MONTREAL, Oct. 17, 2024 (GLOBE NEWSWIRE) -- Theratechnologies Inc. (Theratechnologies or the Company) (TSX: TH) (NASDAQ: THTX), a biopharmaceutical company focused on development and commercializatio… [+7975 chars]</td><td>Data Show Tesamorelin May Reduce CVD Risk by Reducing EVAF Data Show Tesamorelin May Reduce CVD Risk by Reducing EVAF</td><td>2024-10-17T18:00:00Z</td><td>GlobeNewswire</td><td>Theratechnologies IDWeek Presentations Highlight the Impact of Excess Visceral Abdominal Fat (EVAF) on Cardiovascular Disease (CVD) Risk in People with HIV</td><td>https://www.globenewswire.com/news-release/2024/10/17/2965162/0/en/Theratechnologies-IDWeek-Presentations-Highlight-the-Impact-of-Excess-Visceral-Abdominal-Fat-EVAF-on-Cardiovascular-Disease-CVD-Risk-in-People-with-HIV.html</td><td>https://ml.globenewswire.com/Resource/Download/bc5f0c7c-d146-4ce1-aecb-fd33e467f768</td></tr><tr><td>Noor Al-Sibai</td><td>In a new statistical analysis, researchers have found evidence that drugs like Ozempic may help curb alcohol and opioid addiction.\r\n",
       "Published in the journal Addiction, this new study saw researchers … [+2174 chars]</td><td>In a huge new statistical analysis, researchers have found more evidence than ever that drugs like Ozempic can help curb alcohol and opioid addiction. Published in the journal Addiction, this new study saw researchers from Loyola University Chicago sift throu…</td><td>2024-10-17T17:52:47Z</td><td>Futurism</td><td>Ozempic Could Be Used to Treat Alcohol and Drug Addiction, Study Finds</td><td>https://futurism.com/neoscope/ozempic-alcohol-drug-addiction</td><td>https://wordpress-assets.futurism.com/2024/10/ozempic-alcohol-drug-addiction.jpg</td></tr><tr><td>Nicole Simon</td><td>Kohlenhydrate sind nicht nur die kleinen weißen Kristalle, die wir in Kaffee oder Kuchenteig mischen. Sie stecken auch in der Stärke in Brot, Reis oder Kartoffeln. Dort kommen sie als komplexe Gefüge… [+4114 chars]</td><td>Wer schwer auf Kohlenhydrate verzichten kann, hat eine Ausrede: Schuld ist die DNA unserer urzeitlichen Vorfahren. Was damals passierte, haben Forscher nun herausgefunden.</td><td>2024-10-17T17:50:00Z</td><td>STERN.de</td><td>Menschheitsgeschichte: Das süße Erbe der Neandertaler: Warum wir Brot und Pasta lieben</td><td>https://www.stern.de/panorama/wissen/lust-auf-kohlenhydrate--das-suesse-erbe-der-neandertaler-35150006.html</td><td>https://image.stern.de/35150008/t/sl/v5/w1440/r1.7778/-/neandertaler-und-kohlenhydrate.jpg</td></tr><tr><td>Catalina Ciampa</td><td>Caminar es una de las formas más simples y efectivas de mantener el cuerpo en movimiento. A medida que envejecemos, incorporar caminatas regulares en la rutina diaria puede aportar múltiples benefici… [+3793 chars]</td><td>Caminar es una de las formas más simples y efectivas de mantener el cuerpo en movimiento. A medida que envejecemos, incorporar caminatas regulares en la rutina diaria puede aportar múltiples beneficios a la salud física y mental, ayudando a prevenir enfermeda…</td><td>2024-10-17T17:36:57Z</td><td>Mundodeportivo.com</td><td>El horario ideal para salir a caminar si eres un adulto mayor, según los expertos</td><td>https://www.mundodeportivo.com/vidae/ejercicio-fisico/20241017/1002331315/cual-mejor-hora-salir-caminar-tienes-mas-60-anos.html</td><td>https://www.mundodeportivo.com/files/og_thumbnail/files/fp/uploads/2024/02/07/65c3fb751969b.r_d.824-514-7500.jpeg</td></tr><tr><td>Michael Majanga</td><td>Embattled Deputy President Rigathi Gachagua is in a stable condition, this is according to Dr Dan Gikonyo of the Karen Hospital.\r\n",
       "Speaking to journalists on Thursday, October 17, Dr Gikonyo said that… [+1265 chars]</td><td>Embattled Deputy President Rigathi Gachagua is in a stable condition, this is according to Dr Dan Gikonyo of the Karen Hospital.</td><td>2024-10-17T17:20:56Z</td><td>Tv47.digital</td><td>Dr Gikonyo updates Kenyans on DP Gachagua's health condition</td><td>https://www.tv47.digital/dr-dan-gikonyo-updates-kenyans-on-dp-gachaguas-health-condition-74393/</td><td>https://www.tv47.digital/wp-content/uploads/2024/10/New-Project-1-1.png</td></tr><tr><td>John Oyewale</td><td>Weight loss drugs such as Ozempic, Wegovy and Mounjaro may lower opioid overdose and alcohol intoxication rates among opioid addicts and alcoholics, respectively, according to a new study by three Lo… [+3424 chars]</td><td>Weight loss drugs such as Ozempic, Wegovy, and Mounjaro may lower opioid overdose and alcohol intoxication rates among opioid addicts and alcoholics</td><td>2024-10-17T17:20:03Z</td><td>The Daily Caller</td><td>Researchers Think Popular Weight Loss Drugs Could Help Lower Opioid Overdose, Alcohol Intoxication Rates</td><td>https://dailycaller.com/2024/10/17/ozempic-wegovy-mounjaro-lower-opioid-overdose-alcohol-intoxication-rates-study-loyola-university-chicago/</td><td>https://cdn01.dailycaller.com/wp-content/uploads/2024/07/Ozempic%c2%ae_3ml-scaled-e1720142992247.jpg</td></tr><tr><td>Ella Scott</td><td>There are four common traits that could increase your risk of heart disease, according to a doctor. \r\n",
       "Around two million people worldwide undergo open-heart surgery every year, according to the Cleve… [+3751 chars]</td><td>A popular TikToker and heart surgeon has revealed the four common traits he sees in his heart surgery patients, including diabetes and smoking.</td><td>2024-10-17T17:16:47Z</td><td>LADbible</td><td>Doctor reveals the four major traits heart surgery patients have in common</td><td>https://www.ladbible.com/news/health/major-traits-of-heart-surgery-patients-doctor-351307-20241017</td><td>https://images.ladbible.com/resize?type=webp&quality=70&width=1200&fit=contain&gravity=auto&url=https://images.ladbiblegroup.com/v3/assets/bltcd74acc1d0a99f3a/blt261329155e776d41/6711306dce5a896db1654fea/heart-surgeon_.png</td></tr><tr><td>Marilyn Perkins</td><td>For the average healthy adult, the flu\r\n",
       " can be disruptive — long days of sore throat, fever and coughing cause people to miss school and work, and also just feel miserable. But for very young childr… [+5791 chars]</td><td>Many factors affect the infectious period of seasonal influenza, commonly called \"the flu,\" but there are some good rules of thumb for when it's safe to return to work or school.</td><td>2024-10-17T17:15:00Z</td><td>Live Science</td><td>How long is the flu contagious?</td><td>https://www.livescience.com/health/flu/how-long-is-the-flu-contagious</td><td>https://cdn.mos.cms.futurecdn.net/MuVfaXjqy4f9A4bSjneVQ3-1200-80.jpg</td></tr><tr><td>Timothy Cerullo</td><td>A doctor at the Karen hospital in Nairobi where embattled Deputy President Rigathi Gachagua was rushed after falling ill during the Senate proceedings has confirmed that the second in command was in … [+2605 chars]</td><td>He is Stable - Karen Hospital Doctor Issues Update on Gachagua's Healthkenyans.co.ke</td><td>2024-10-17T17:14:44Z</td><td>Kenyans.co.ke</td><td>He is Stable - Karen Hospital Doctor Issues Update on Gachagua's Health</td><td>https://www.kenyans.co.ke/news/105458-he-stable-condition-doctor-karen-hospital-issues-update-gachaguas-health</td><td>https://www.kenyans.co.ke/files/styles/article_style/public/images/media/rigathi%20gachagua%20kicc.jpg?itok=0C36VDk9</td></tr><tr><td>Judit Macarro</td><td>Se dice que el perro es el mejor amigo del hombre. Para los invidentes o aquellas personas con problemas de visión estos animales son un guía con el que pueden moverse por la ciudad y avalan por su s… [+4302 chars]</td><td>El procedimiento se aplicará en la atención sanitaria a un paciente que precise acompañamiento de un perro, siempre que el estado clínico del mismo lo permita.</td><td>2024-10-17T17:07:46Z</td><td>Elespanol.com</td><td>Los perros guía podrán subir a las ambulancias de Zaragoza: \"Son una prolongación más de nuestro cuerpo\"</td><td>https://www.elespanol.com/aragon/actualidad/zaragoza/20241017/perros-guia-podran-subir-ambulancias-zaragoza-prolongacion-cuerpo/894161044_0.html</td><td>https://s1.elespanol.com/2024/10/17/aragon/actualidad/zaragoza/894171344_250096207_1706x960.jpg</td></tr><tr><td>Alexandra Ferguson</td><td>Sheridan, Wyoming (CNN)  Con su característico traje azul y su corbata roja, Donald Trump se muestra en actitud presidencial mientras se sienta detrás de un escritorio de madera oscura y firma un doc… [+13229 chars]</td><td>Una investigación de CNN sobre la fabricación y distribución de los relojes de la marca Trump acabó en un centro comercial aparentemente modesto de una pequeña ciudad del remoto norte de Wyoming, no muy lejos de la frontera con Montana.\n",
       "The post CNN intentó e…</td><td>2024-10-17T17:05:42Z</td><td>CNN</td><td>CNN intentó encontrar a los fabricantes de los nuevos relojes \"de fabricación suiza\" de Trump. Acabamos en un centro comercial en Wyoming</td><td>https://cnnespanol.cnn.com/2024/10/17/fabricantes-relojes-trump-wyoming-trax</td><td>https://media.cnn.com/api/v1/images/stellar/prod/cnne-1768185-c-screenshot-2024-10-14-at-4-56-24-pm.jpg?c=16x9&q=w_800,c_fill</td></tr><tr><td>Taylor Freitas</td><td>For many of us, the hunt for a midnight snack is the only reason for getting out of bed in the middle of the night. Others battle with a late-night urge they can't ignore; a trip (or multiple trips) … [+5228 chars]</td><td>Waking up and running to the bathroom can really mess up your sleep. Luckily, there are things you can do to find relief.</td><td>2024-10-17T17:00:00Z</td><td>CNET</td><td>Stop Nightly Trips to the Bathroom With These 5 Sleep-Saving Tips</td><td>https://www.cnet.com/health/sleep/stop-nightly-trips-to-the-bathroom-with-these-5-sleep-saving-tips/</td><td>https://www.cnet.com/a/img/resize/1f67a352879b77e0872922812e453c28615044d4/hub/2023/12/06/35969413-d848-4c0d-b376-2cba1eb836b5/gettyimages-1211810258.jpg?auto=webp&fit=crop&height=675&width=1200</td></tr><tr><td>Ian Johnston, Michael Peel</td><td>Ozempic and similar products cut opioid and alcohol abuse by up to half, according to research that adds to evidence of the hugely popular blockbuster drugs broad potential beyond tackling obesity an… [+3733 chars]</td><td>Academic notes while Ozempic might prevent overdoses, weight loss drug may not actually reduce or end substance use</td><td>2024-10-17T16:52:52Z</td><td>The Irish Times</td><td>Weight-loss drugs show promise in tackling opioid and alcohol abuse</td><td>https://www.irishtimes.com/business/2024/10/17/weight-loss-drugs-show-promise-in-tackling-opioid-and-alcohol-abuse/</td><td>https://www.irishtimes.com/resizer/v2/W54RB7JE77B2EMW7PAM6XO5ISY.jpg?smart=true&auth=0650f796577d9b1a49f374b0a4b270d53beb5a058d9f29317e7e4bc770084377&width=1200&height=630</td></tr><tr><td>Business Wire</td><td>Will Enable a Wide-Range of Clinical, Operational and Financial Benefits in the Delivery of Ambulatory Services\r\n",
       "DALLAS Palomar Health, a leading healthcare system providing services in North San Die… [+5165 chars]</td><td>Will Enable a Wide-Range of Clinical, Operational and Financial Benefits in the Delivery of Ambulatory Services DALLAS — Palomar Health, a leading healthcare system providing services in North San Diego County, CA, and IKS Health, a provider of technology-ena…</td><td>2024-10-17T16:30:42Z</td><td>Financial Post</td><td>Palomar Health and Palomar Health Medical Group Partner With IKS Health to Leverage Cutting-Edge Healthcare Technology and Services to Drive a Holistic Transformation</td><td>https://financialpost.com/pmn/business-wire-news-releases-pmn/palomar-health-and-palomar-health-medical-group-partner-with-iks-health-to-leverage-cutting-edge-healthcare-technology-and-services-to-drive-a-holistic-transformation</td><td>null</td></tr><tr><td>businessam.be</td><td>Key takeaways\r\n",
       "<ul><li>Onderzoekers onderzochten de effecten van afslankmedicijnen op personen met alcohol- en opioïdenverslaving.</li><li>De studie vond een 50 procent lager percentage alcoholvergif… [+1880 chars]</td><td>Key takeaways Een recent onderzoek, gepubliceerd in het tijdschrift Addiction, suggereert dat medicijnen voor gewichtsverlies potentiële voordelen hebben voor mensen die worstelen met alcohol- en opioïdenverslaving. Dit meldt Sky News. Onderzoekers onderzocht…</td><td>2024-10-17T16:30:00Z</td><td>Businessam.be</td><td>Ozempic kan alcohol- en opioïdenverslaving helpen bestrijden</td><td>https://businessam.be/medicijnen-tegen-gewichtsverlies-verslaving-behandeling/</td><td>https://media.businessam.be/verslaving.jpg</td></tr><tr><td>Eddie Fu</td><td>A Tribe Called Quest will be joined by several of their closest collaborators during their Rock &amp; Roll Hall of Fame induction on Saturday (October 19th) in Cleveland, Ohio.\r\n",
       "The surviving members… [+1375 chars]</td><td>The New York hip-hop pioneers will also be joined by De La Soul, Common, and Spliff Star.\n",
       "A Tribe Called Quest to Perform with Busta Rhymes, The Roots, Queen Latifah at Rock Hall Induction\n",
       "Eddie Fu</td><td>2024-10-17T16:29:54Z</td><td>Consequence.net</td><td>A Tribe Called Quest to Perform with Busta Rhymes, The Roots, Queen Latifah at Rock Hall Induction</td><td>https://consequence.net/2024/10/a-tribe-called-quest-rock-roll-hall-of-fame-performance/</td><td>https://consequence.net/wp-content/uploads/2024/10/a-tribe-called-quest-rock-and-roll-hall-of-fame-performers.jpg</td></tr><tr><td>Bruce Gil</td><td>In This Story\r\n",
       "The case that Ozempic (NVO+0.30%\r\n",
       ") and other GLP-1 medications could help people with substance use disorders is getting stronger.\r\n",
       "Blockbuster diabetes and weight loss drugs, known a… [+2694 chars]</td><td>The case that Ozempic (NVO) and other GLP-1 medications could help people with substance use disorders is getting stronger.Read more...</td><td>2024-10-17T16:27:00Z</td><td>Quartz India</td><td>Ozempic and other weight loss drugs could help treat alcohol and drug addiction, study says</td><td>https://qz.com/ozempic-opioid-alcohol-addiction-1851675197</td><td>https://i.kinja-img.com/image/upload/c_fill,h_675,pg_1,q_80,w_1200/75b216eafc38bbb845a6741bc1901246.jpg</td></tr><tr><td>Steve Peoples And Lauran Neergaard Associated Press</td><td>WASHINGTON — If he wins next month's election, Donald Trump would be the oldest person in U.S. history to be elected president. Yet the 78-year-old Republican nominee refuses to disclose new details … [+6120 chars]</td><td>Trump would be the oldest person to become president. He's not sharing health detailswmur.com</td><td>2024-10-17T16:20:42Z</td><td>WMUR Manchester</td><td>Trump would be the oldest person to become president. He's not sharing health details</td><td>https://www.wmur.com/article/trump-health-details-2024-campaign/62638596</td><td>https://kubrick.htvapps.com/htv-prod-media.s3.amazonaws.com/images/ap267113129aa7f4.jpg?crop=1.00xw:0.844xh;0,0&resize=1200:*</td></tr><tr><td>Steve Peoples And Lauran Neergaard Associated Press</td><td>WASHINGTON — If he wins next month's election, Donald Trump would be the oldest person in U.S. history to be elected president. Yet the 78-year-old Republican nominee refuses to disclose new details … [+6120 chars]</td><td>Trump would be the oldest person to become president. He's not sharing health detailswmtw.com</td><td>2024-10-17T16:18:29Z</td><td>WMTW Portland</td><td>Trump would be the oldest person to become president. He's not sharing health details</td><td>https://www.wmtw.com/article/trump-health-details-2024-campaign/62638596</td><td>https://kubrick.htvapps.com/htv-prod-media.s3.amazonaws.com/images/ap267113129aa7f4.jpg?crop=1.00xw:0.844xh;0,0&resize=1200:*</td></tr><tr><td>Steve Peoples And Lauran Neergaard Associated Press</td><td>WASHINGTON — If he wins next month's election, Donald Trump would be the oldest person in U.S. history to be elected president. Yet the 78-year-old Republican nominee refuses to disclose new details … [+6120 chars]</td><td>Trump would be the oldest person to become president. He's not sharing health detailswyff4.com</td><td>2024-10-17T16:15:27Z</td><td>WYFF4 Greenville</td><td>Trump would be the oldest person to become president. He's not sharing health details</td><td>https://www.wyff4.com/article/trump-health-details-2024-campaign/62638596</td><td>https://kubrick.htvapps.com/htv-prod-media.s3.amazonaws.com/images/ap267113129aa7f4.jpg?crop=1.00xw:0.844xh;0,0&resize=1200:*</td></tr><tr><td>Steve Peoples And Lauran Neergaard Associated Press</td><td>WASHINGTON — If he wins next month's election, Donald Trump would be the oldest person in U.S. history to be elected president. Yet the 78-year-old Republican nominee refuses to disclose new details … [+6120 chars]</td><td>Trump would be the oldest person to become president. He's not sharing health detailswbaltv.com</td><td>2024-10-17T16:15:08Z</td><td>WBAL TV Baltimore</td><td>Trump would be the oldest person to become president. He's not sharing health details</td><td>https://www.wbaltv.com/article/trump-health-details-2024-campaign/62638596</td><td>https://kubrick.htvapps.com/htv-prod-media.s3.amazonaws.com/images/ap267113129aa7f4.jpg?crop=1.00xw:0.844xh;0,0&resize=1200:*</td></tr><tr><td>Steve Peoples And Lauran Neergaard Associated Press</td><td>WASHINGTON — If he wins next month's election, Donald Trump would be the oldest person in U.S. history to be elected president. Yet the 78-year-old Republican nominee refuses to disclose new details … [+6120 chars]</td><td>Trump would be the oldest person to become president. He's not sharing health detailswisn.com</td><td>2024-10-17T16:14:24Z</td><td>WISN Milwaukee</td><td>Trump would be the oldest person to become president. He's not sharing health details</td><td>https://www.wisn.com/article/trump-health-details-2024-campaign/62638596</td><td>https://kubrick.htvapps.com/htv-prod-media.s3.amazonaws.com/images/ap267113129aa7f4.jpg?crop=1.00xw:0.844xh;0,0&resize=1200:*</td></tr><tr><td>Steve Peoples And Lauran Neergaard Associated Press</td><td>WASHINGTON — If he wins next month's election, Donald Trump would be the oldest person in U.S. history to be elected president. Yet the 78-year-old Republican nominee refuses to disclose new details … [+6120 chars]</td><td>Trump would be the oldest person to become president. He's not sharing health detailswesh.com</td><td>2024-10-17T16:14:23Z</td><td>WESH Orlando</td><td>Trump would be the oldest person to become president. He's not sharing health details</td><td>https://www.wesh.com/article/trump-health-details-2024-campaign/62638596</td><td>https://kubrick.htvapps.com/htv-prod-media.s3.amazonaws.com/images/ap267113129aa7f4.jpg?crop=1.00xw:0.844xh;0,0&resize=1200:*</td></tr><tr><td>Steve Peoples And Lauran Neergaard Associated Press</td><td>WASHINGTON — If he wins next month's election, Donald Trump would be the oldest person in U.S. history to be elected president. Yet the 78-year-old Republican nominee refuses to disclose new details … [+6120 chars]</td><td>Trump would be the oldest person to become president. He's not sharing health detailswgal.com</td><td>2024-10-17T16:14:06Z</td><td>WGAL Susquehanna Valley Pa.</td><td>Trump would be the oldest person to become president. He's not sharing health details</td><td>https://www.wgal.com/article/trump-health-details-2024-campaign/62638596</td><td>https://kubrick.htvapps.com/htv-prod-media.s3.amazonaws.com/images/ap267113129aa7f4.jpg?crop=1.00xw:0.844xh;0,0&resize=1200:*</td></tr><tr><td>Steve Peoples And Lauran Neergaard Associated Press</td><td>WASHINGTON — If he wins next month's election, Donald Trump would be the oldest person in U.S. history to be elected president. Yet the 78-year-old Republican nominee refuses to disclose new details … [+6120 chars]</td><td>Trump would be the oldest person to become president. He's not sharing health detailskcci.com</td><td>2024-10-17T16:13:47Z</td><td>KCCI Des Moines</td><td>Trump would be the oldest person to become president. He's not sharing health details</td><td>https://www.kcci.com/article/trump-health-details-2024-campaign/62638596</td><td>https://kubrick.htvapps.com/htv-prod-media.s3.amazonaws.com/images/ap267113129aa7f4.jpg?crop=1.00xw:0.844xh;0,0&resize=1200:*</td></tr><tr><td>Steve Peoples And Lauran Neergaard Associated Press</td><td>WASHINGTON — If he wins next month's election, Donald Trump would be the oldest person in U.S. history to be elected president. Yet the 78-year-old Republican nominee refuses to disclose new details … [+6120 chars]</td><td>Trump would be the oldest person to become president. He's not sharing health detailskcra.com</td><td>2024-10-17T16:11:42Z</td><td>KCRA Sacramento</td><td>Trump would be the oldest person to become president. He's not sharing health details</td><td>https://www.kcra.com/article/trump-health-details-2024-campaign/62638596</td><td>https://kubrick.htvapps.com/htv-prod-media.s3.amazonaws.com/images/ap267113129aa7f4.jpg?crop=1.00xw:0.844xh;0,0&resize=1200:*</td></tr><tr><td>Steve Peoples And Lauran Neergaard Associated Press</td><td>WASHINGTON — If he wins next month's election, Donald Trump would be the oldest person in U.S. history to be elected president. Yet the 78-year-old Republican nominee refuses to disclose new details … [+6120 chars]</td><td>Trump would be the oldest person to become president. He's not sharing health detailsketv.com</td><td>2024-10-17T16:11:29Z</td><td>KETV Omaha</td><td>Trump would be the oldest person to become president. He's not sharing health details</td><td>https://www.ketv.com/article/trump-health-details-2024-campaign/62638596</td><td>https://kubrick.htvapps.com/htv-prod-media.s3.amazonaws.com/images/ap267113129aa7f4.jpg?crop=1.00xw:0.844xh;0,0&resize=1200:*</td></tr><tr><td>Steve Peoples And Lauran Neergaard Associated Press</td><td>WASHINGTON — If he wins next month's election, Donald Trump would be the oldest person in U.S. history to be elected president. Yet the 78-year-old Republican nominee refuses to disclose new details … [+6120 chars]</td><td>Trump would be the oldest person to become president. He's not sharing health detailswlwt.com</td><td>2024-10-17T16:11:15Z</td><td>WLWT Cincinnati</td><td>Trump would be the oldest person to become president. He's not sharing health details</td><td>https://www.wlwt.com/article/trump-health-details-2024-campaign/62638596</td><td>https://kubrick.htvapps.com/htv-prod-media.s3.amazonaws.com/images/ap267113129aa7f4.jpg?crop=1.00xw:0.844xh;0,0&resize=1200:*</td></tr><tr><td>Steve Peoples And Lauran Neergaard Associated Press</td><td>WASHINGTON — If he wins next month's election, Donald Trump would be the oldest person in U.S. history to be elected president. Yet the 78-year-old Republican nominee refuses to disclose new details … [+6120 chars]</td><td>Trump would be the oldest person to become president. He's not sharing health detailskoco.com</td><td>2024-10-17T16:09:32Z</td><td>KOCO Oklahoma City</td><td>Trump would be the oldest person to become president. He's not sharing health details</td><td>https://www.koco.com/article/trump-health-details-2024-campaign/62638596</td><td>https://kubrick.htvapps.com/htv-prod-media.s3.amazonaws.com/images/ap267113129aa7f4.jpg?crop=1.00xw:0.844xh;0,0&resize=1200:*</td></tr><tr><td>Steve Peoples And Lauran Neergaard Associated Press</td><td>WASHINGTON — If he wins next month's election, Donald Trump would be the oldest person in U.S. history to be elected president. Yet the 78-year-old Republican nominee refuses to disclose new details … [+6120 chars]</td><td>Trump would be the oldest person to become president. He's not sharing health detailswlky.com</td><td>2024-10-17T16:09:31Z</td><td>WLKY Louisville</td><td>Trump would be the oldest person to become president. He's not sharing health details</td><td>https://www.wlky.com/article/trump-health-details-2024-campaign/62638596</td><td>https://kubrick.htvapps.com/htv-prod-media.s3.amazonaws.com/images/ap267113129aa7f4.jpg?crop=1.00xw:0.844xh;0,0&resize=1200:*</td></tr><tr><td>Amy Roeder</td><td>Carbohydrate quality, glycemic index, metabolic health the focus at the Department of Nutritions annual Stare-Hegsted Lecture.\r\n",
       "October 17, 2024 In the late 1970s when low-carbohydrate diets were fir… [+2712 chars]</td><td>Carbohydrate quality, glycemic index, metabolic health were the focus at the Department of Nutrition’s annual Stare-Hegsted Lecture.</td><td>2024-10-17T16:09:21Z</td><td>Harvard School of Engineering and Applied Sciences</td><td>Measuring the health value of carbohydrates</td><td>https://www.hsph.harvard.edu/news/features/jenkins-carbohydrates-health-glycemic-index/</td><td>https://www.hsph.harvard.edu/news/wp-content/uploads/sites/21/2024/10/whole-grains-1200x800-1.jpg</td></tr><tr><td>Steve Peoples And Lauran Neergaard Associated Press</td><td>WASHINGTON — If he wins next month's election, Donald Trump would be the oldest person in U.S. history to be elected president. Yet the 78-year-old Republican nominee refuses to disclose new details … [+6120 chars]</td><td>Trump would be the oldest person to become president. He's not sharing health detailswtae.com</td><td>2024-10-17T16:09:15Z</td><td>WTAE Pittsburgh</td><td>Trump would be the oldest person to become president. He's not sharing health details</td><td>https://www.wtae.com/article/trump-health-details-2024-campaign/62638596</td><td>https://kubrick.htvapps.com/htv-prod-media.s3.amazonaws.com/images/ap267113129aa7f4.jpg?crop=1.00xw:0.844xh;0,0&resize=1200:*</td></tr><tr><td>Steve Peoples And Lauran Neergaard Associated Press</td><td>WASHINGTON — If he wins next month's election, Donald Trump would be the oldest person in U.S. history to be elected president. Yet the 78-year-old Republican nominee refuses to disclose new details … [+6120 chars]</td><td>Trump would be the oldest person to become president. He's not sharing health detailsmynbc5.com</td><td>2024-10-17T16:08:29Z</td><td>WPTZ</td><td>Trump would be the oldest person to become president. He's not sharing health details</td><td>https://www.mynbc5.com/article/trump-health-details-2024-campaign/62638596</td><td>https://kubrick.htvapps.com/htv-prod-media.s3.amazonaws.com/images/ap267113129aa7f4.jpg?crop=1.00xw:0.844xh;0,0&resize=1200:*</td></tr><tr><td>Steve Peoples And Lauran Neergaard Associated Press</td><td>WASHINGTON — If he wins next month's election, Donald Trump would be the oldest person in U.S. history to be elected president. Yet the 78-year-old Republican nominee refuses to disclose new details … [+6120 chars]</td><td>Trump would be the oldest person to become president. He's not sharing health detailskmbc.com</td><td>2024-10-17T16:08:27Z</td><td>KMBC Kansas City</td><td>Trump would be the oldest person to become president. He's not sharing health details</td><td>https://www.kmbc.com/article/trump-health-details-2024-campaign/62638596</td><td>https://kubrick.htvapps.com/htv-prod-media.s3.amazonaws.com/images/ap267113129aa7f4.jpg?crop=1.00xw:0.844xh;0,0&resize=1200:*</td></tr><tr><td>Steve Peoples And Lauran Neergaard Associated Press</td><td>WASHINGTON — If he wins next month's election, Donald Trump would be the oldest person in U.S. history to be elected president. Yet the 78-year-old Republican nominee refuses to disclose new details … [+6120 chars]</td><td>Trump would be the oldest person to become president. He's not sharing health detailswcvb.com</td><td>2024-10-17T16:07:56Z</td><td>WCVB Boston</td><td>Trump would be the oldest person to become president. He's not sharing health details</td><td>https://www.wcvb.com/article/trump-health-details-2024-campaign/62638596</td><td>https://kubrick.htvapps.com/htv-prod-media.s3.amazonaws.com/images/ap267113129aa7f4.jpg?crop=1.00xw:0.844xh;0,0&resize=1200:*</td></tr><tr><td>Forbes Staff</td><td>El uso de suplementos alimenticios puede mitigar algunos factores de riesgo de enfermedades no transmisibles (ENT) como eventos coronarios, diabetes tipo 2, síndrome del intestino irritable, deterior… [+4273 chars]</td><td>Forbes México.\n",
       " El uso de suplementos alimenticios mitigaría el riesgo de enfermedades no transmisibles\n",
       "\n",
       "Según un estudio, el uso de suplementos alimenticios puede mitigar algunos factores de riesgo de enfermedades no transmisibles como eventos coronarios, di…</td><td>2024-10-17T16:05:35Z</td><td>Forbes.com.mx</td><td>El uso de suplementos alimenticios mitigaría el riesgo de enfermedades no transmisibles</td><td>https://forbes.com.mx/el-uso-de-suplementos-alimenticios-mitigaria-el-riesgo-de-enfermedades-no-transmisibles/</td><td>https://cdn.forbes.com.mx/2020/07/suplementos-alimenticios.jpg</td></tr><tr><td>Nuria Safont</td><td>En los últimos años, el término sobrecrecimiento bacteriano del intestino delgado (SIBO, por sus siglas en inglés) se ha vuelto popular y, hasta podríamos decir, que 'de moda' Muchas personas, tras b… [+6324 chars]</td><td>La popularidad que ha ganado este trastorno ha hecho que algunas personas se autodiagnostiquen y que, incluso, tomen medicaciones o hagan dietas para un problema de salud que puede confundirse con otro, a veces, más grave.</td><td>2024-10-17T16:00:00Z</td><td>Hola</td><td>9 enfermedades que pueden confundirse con un SIBO (y pueden ser graves)</td><td>https://www.hola.com/estar-bien/20241017724522/sibo-enfermedades-que-pueden-confundirse-con-el-sobrecimiento-bacteriano/</td><td>https://www.hola.com/horizon/landscape/f94909ca93c8-gettyimages-1270650523.jpg?im=Resize=(1200)</td></tr><tr><td>null</td><td>This is a \r\n",
       "short\r\n",
       " condensed summary of key facts and relevant evidence I have discovered in my extensive research on healthcare.  Conventional wisdom on healthcare is far from the mark, both in gen… [+63692 chars]</td><td>Rich countries consume much higher quantities via higher intensity/tech.  It's NOT high and rising: wages, profits, administration, encounters, etc.  Income well explains American behavior here too.</td><td>2024-10-17T15:57:54Z</td><td>Randomcriticalanalysis.com</td><td>Why conventional wisdom on health care is wrong (a primer) (2020)</td><td>https://randomcriticalanalysis.com/why-conventional-wisdom-on-health-care-is-wrong-a-primer/</td><td>https://i0.wp.com/randomcriticalanalysis.com/wp-content/uploads/2020/01/rcafdm_updated_icp_2011_health_share_plot.png?fit=766%2C614&ssl=1</td></tr><tr><td>Hatty Willmoth</td><td>At a time when nutrition and wellness influencers are often on low-carbohydrate diets, starchy foods like bread, pasta and fries are rarely the subject of positive health-related attention.\r\n",
       "But one … [+4556 chars]</td><td>Low-carb fans would have us chuck pasta in the trash, but a professor says it can be a healthy addition to a diet.</td><td>2024-10-17T15:54:40Z</td><td>Newsweek</td><td>Pasta Can Be Healthy, Says Nutrition Scientist</td><td>https://www.newsweek.com/pasta-can-healthy-nutrition-scientist-1970706</td><td>https://d.newsweek.com/en/full/2497836/pasta-penne-roasted-tomato-sauce-cheese.jpg</td></tr><tr><td>null</td><td>Riksdagen har inkluderat nikotinpåsar i tobakslagen, med hänvisning till folkhälsorisker. Men det är oklart exakt hur farliga de egentligen är för hälsan.<li>Den nya tobakslagen, som riksdagen godkän… [+612 chars]</td><td>Kan leda till rytmstörningar och typ 2-diabetes.</td><td>2024-10-17T15:52:48Z</td><td>Svenska.yle.fi</td><td>Så här påverkas din hälsa av nikotinpåsar</td><td>https://svenska.yle.fi/a/7-10065657</td><td>https://images.cdn.yle.fi/image/upload/f_auto,fl_progressive/q_auto/w_1919,h_1080,c_crop,x_0,y_0/w_1200/w_1200,ar_16:9/w_1320,ar_1320:675,c_pad,b_white,g_east/l_39-yle-logo-some_ywtrrc,g_west,ar_1320:675,w_1.0,fl_relative,c_crop/v1729161871/39-1364678670fb374c2822.jpg</td></tr><tr><td>CBS News</td><td>Watch CBS News\r\n",
       "Copyright ©2024 CBS Interactive Inc. All rights reserved.\r\n",
       "Get browser notifications for breaking news, live events, and exclusive reporting.\r\n",
       "Not NowTurn On</td><td>New research suggests diabetes drugs like Ozempic, which some people also take to lose weight, may also help patients suffering from substance addiction. CBS News contributor Dr. Celene Gounder has more.</td><td>2024-10-17T15:47:00Z</td><td>CBS News</td><td>Study finds drugs like Ozempic could help with substance addiction</td><td>https://www.cbsnews.com/video/research-suggests-drugs-like-ozempic-could-help-with-substance-addiction/</td><td>https://assets1.cbsnewsstatic.com/hub/i/r/2024/10/17/4834bc63-db38-44d9-845e-617639c46eff/thumbnail/1200x630/3f414c1aaaca9bed9d335643009edc01/cbsn-fusion-research-suggests-drugs-like-ozempic-could-help-with-substance-addiction-thumbnail.jpg?v=edba3a63b5392b4c81ae19d894992d91</td></tr><tr><td>null</td><td>Researchers at Rutgers University-New Brunswick, along with international collaborators, have introduced a novel method for identifying the crucial set of gut microbes commonly found in humans and es… [+5804 chars]</td><td>Researchers have introduced a novel method for identifying the crucial set of gut microbes commonly found in humans and essential for health. The researchers said the discovery offers innovative opportunities for precision nutrition and personalized therapies…</td><td>2024-10-17T15:36:52Z</td><td>Science Daily</td><td>Researchers help redefine core microbiome, opening new chapter in precision health</td><td>https://www.sciencedaily.com/releases/2024/10/241017113652.htm</td><td>https://www.sciencedaily.com/images/scidaily-icon.png</td></tr><tr><td>null</td><td>Biologists at Brown University have discovered how a neuropeptide hormone made in the gut of flies can control their lifespan.The findings, published in PNAS, have implications for humans, too, the r… [+3370 chars]</td><td>The discovery of a gut-to-brain regulation pathway in flies calls for additional consideration on how certain medications, especially GLP-1 agonists, can be used to treat obesity and diabetes in humans.</td><td>2024-10-17T15:35:38Z</td><td>Science Daily</td><td>Researchers show how gut hormones control aging in flies and how it relates to human biology</td><td>https://www.sciencedaily.com/releases/2024/10/241017113538.htm</td><td>https://www.sciencedaily.com/images/scidaily-icon.png</td></tr><tr><td>Angela Haupt</td><td>Taking care of your cognitive health ought to bewell, a no-brainer. According to a survey published in March, 87% of Americans are concerned about age-related memory loss and a decline in brain funct… [+10070 chars]</td><td>We asked four neurologists what to do every day for better brain health. On the list: exercising for 30 minutes and chatting with a friend.</td><td>2024-10-17T15:28:45Z</td><td>Time</td><td>9 Things You Should Do for Your Brain Health Every Day, According to Neurologists</td><td>https://time.com/7081407/brain-health-neurologist-tips/</td><td>https://api.time.com/wp-content/uploads/2024/10/BrainHealthEveryday.png?w=1200&h=628&crop=1</td></tr><tr><td>Richard Fowler, Contributor, \n",
       " Richard Fowler, Contributor\n",
       " https://www.forbes.com/sites/richardfowler/</td><td>LAS VEGAS, NEVADA: Democratic Presidential nominee for President Vice President Kamala Harris leaves ... [+] from Harry Reid International Airport to head back east to attend to Hurricane Helene afte… [+6564 chars]</td><td>Vice President Harris rolls out agenda for Black men as corporations doubt the power of diversity, inclusion and equity programs.</td><td>2024-10-17T15:22:51Z</td><td>Forbes</td><td>As Companies Abandon DEI Initiatives, Harris Doubles Down On Black Men</td><td>https://www.forbes.com/sites/richardfowler/2024/10/17/as-companies-abandon-dei-initiatives-harris-doubles-down-on-black-men/</td><td>https://imageio.forbes.com/specials-images/imageserve/6711288783f77cfc4ae94c2f/0x0.jpg?format=jpg&height=900&width=1600&fit=bounds</td></tr><tr><td>Redação</td><td>A creatina é um suplemento popular entre atletas e praticantes de atividade física, conhecido por seus potenciais benefícios no desempenho esportivo. No entanto, assim como qualquer substância, nem t… [+10687 chars]</td><td>A creatina é um suplemento popular entre atletas e praticantes de atividade física, conhecido por seus potenciais benefícios no desempenho esportivo. No entanto, assim como qualquer substância, nem todos podem fazer uso desse suplemento. Neste artigo, vamos a…</td><td>2024-10-17T15:06:14Z</td><td>Tableless.com.br</td><td>Quem não pode fazer uso de creatina?</td><td>https://tableless.com.br/quem-nao-pode-fazer-uso-de-creatina/</td><td>https://tableless.com.br/wp-content/uploads/2024/07/XBdKX2Hr8cPKBwUX75ef_whey-junto-com-a-creatina6.jpg</td></tr><tr><td>Catalina Ciampa</td><td>La diabetes es una enfermedad crónica que requiere un control constante de los niveles de glucosa. Además de llevar un estilo de vida activo y realizar ejercicio regularmente, la alimentación juega u… [+4292 chars]</td><td>La diabetes es una enfermedad crónica que requiere un control constante de los niveles de glucosa. Además de llevar un estilo de vida activo y realizar ejercicio regularmente, la alimentación juega un papel crucial en la gestión de esta condición. En este sen…</td><td>2024-10-17T14:43:08Z</td><td>Mundodeportivo.com</td><td>Lo que todo diabético debe saber: las 5 bebidas para bajar el azúcar en sangre</td><td>https://www.mundodeportivo.com/vidae/nutricion/20241017/1002333323/truco-5-bebidas-bajar-azucar-sangre.html</td><td>https://www.mundodeportivo.com/files/og_thumbnail/files/fp/uploads/2024/08/15/66be2e1fb4399.r_d.662-507-9375.jpeg</td></tr><tr><td>Sara Moniuszko</td><td>Diabetes and weight loss drugs like Mounjaro and Ozempic may also help patients suffering from addiction, according to a new study. \r\n",
       "In the study, published Thursday in the scientific journal Addict… [+1825 chars]</td><td>Drugs​ like Mounjaro and Ozempic, which many use for weight loss,​​ may also help patients suffering from addiction, according to a new study.</td><td>2024-10-17T14:33:08Z</td><td>CBS News</td><td>Weight loss drugs could help with alcohol, opioid addiction, study says</td><td>https://www.cbsnews.com/news/weight-loss-drugs-alcohol-opioid-addiction-study/</td><td>https://assets1.cbsnewsstatic.com/hub/i/r/2024/10/17/a1c1b2a1-135a-428c-a715-09bc5c5b6c73/thumbnail/1200x630/101285600c620a01c617f2ebe7fdbad2/gettyimages-2178012991.jpg?v=edba3a63b5392b4c81ae19d894992d91</td></tr><tr><td>Thatyana Costa</td><td>Estudo relaciona açúcar adicionado com maior risco de pedra nos rins - iStock/grinvalds\r\n",
       "Estudos recentes apontam que o consumo excessivo de açúcares adicionados pode aumentar consideravelmente o ris… [+1378 chars]</td><td>Estudos recentes apontam que o consumo excessivo de açúcares adicionados pode aumentar consideravelmente o risco de pedra nos rins. Enquanto o sal sempre</td><td>2024-10-17T14:30:21Z</td><td>Catracalivre.com.br</td><td>Alimento que aumenta em 88% o risco de pedras nos rins</td><td>https://catracalivre.com.br/saude-bem-estar/alimento-que-aumenta-em-88-o-risco-de-pedras-nos-rins/</td><td>https://catracalivre.com.br/cdn-cgi/image/f=auto,q=60,w=1280,h=720,fit=cover,format=jpeg/wp-content/uploads/2024/02/acucar-adicionado-causa-pedras-nos-rins.png</td></tr><tr><td>Bethânia Nunes</td><td>Pesquisadores da Universidade de Chicago, nos Estados Unidos, descobriram que o uso do Ozempic e medicamentos semelhantes pode reduzir o risco de overdose por opioides e álcool.\r\n",
       "Em estudo publicado … [+1700 chars]</td><td>Pesquisadores acreditam que o Ozempic e medicamentos semelhantes podem servir como tratamento para o abuso de opioides e álcool</td><td>2024-10-17T14:23:12Z</td><td>Metropoles.com</td><td>Ozempic reduz risco de overdose por opioides e álcool, aponta estudo</td><td>https://www.metropoles.com/saude/ozempic-reduz-overdose-opioides-alcool</td><td>https://uploads.metroimg.com/wp-content/uploads/2024/03/27154156/Ozempic-7.jpg</td></tr><tr><td>FOCUS online</td><td>In den letzten Jahren haben Wissenschaftler begonnen, die Auswirkungen der Ernährung auf das Immunsystem genauer zu untersuchen. Besonders die Rolle der Ernährung bei der Förderung der Gesundheit und… [+7764 chars]</td><td>Eine ausgewogene Ernährung stärkt das Immunsystem. Studien zeigen, wie gezielte Nährstoffe die Abwehrkräfte unterstützen.</td><td>2024-10-17T14:12:00Z</td><td>Focus</td><td>Gesund durch die kalte Jahreszeit - Richtige Ernährung: Studie liefert wertvolle Tipps für ein gestärktes Immunsystem</td><td>https://www.focus.de/gesundheit/ernaehrung/richtige-ernaehrung-studie-liefert-wertvolle-tipps-fuer-ein-gestaerktes-immunsystem_be530c0c-5726-4212-b539-dc3fd242a133.html</td><td>https://quadro.burda-forward.de/ctf/fcf34428-eeb0-4f0a-9ff8-8e4b298a11bf.6626aada-e430-4310-8fea-f0d42ef97212.jpeg?im=RegionOfInterestCrop%3D%281200%2C630%29%2CregionOfInterest%3D%281148%2C532%29&hash=84ee42b8b975658a7b927a2dfc753689cfa5b9c3521c1472b26089d38ea35d20</td></tr><tr><td>FOCUS online</td><td>In den letzten Jahren haben Wissenschaftler begonnen, die Auswirkungen der Ernährung auf das Immunsystem genauer zu untersuchen. Besonders die Rolle der Ernährung bei der Förderung der Gesundheit und… [+7748 chars]</td><td>Im Winter fit und gesund bleiben? Eine ausgewogene Ernährung stärkt das Immunsystem. Studien zeigen, wie gezielte Nährstoffe die Abwehrkräfte unterstützen.</td><td>2024-10-17T14:12:00Z</td><td>Focus</td><td>Gesund durch den Winter - Volle Power fürs Immunsystem - bei richtiger Ernährung jubeln die Abwehrkräfte</td><td>https://www.focus.de/gesundheit/ernaehrung/volle-power-fuers-immunsystem-bei-richtiger-ernaehrung-jubeln-die-abwehrkraefte_be530c0c-5726-4212-b539-dc3fd242a133.html</td><td>https://quadro.burda-forward.de/ctf/fcf34428-eeb0-4f0a-9ff8-8e4b298a11bf.6626aada-e430-4310-8fea-f0d42ef97212.jpeg?im=RegionOfInterestCrop%3D%281200%2C630%29%2CregionOfInterest%3D%281148%2C532%29&hash=84ee42b8b975658a7b927a2dfc753689cfa5b9c3521c1472b26089d38ea35d20</td></tr><tr><td>Meng-Han Tsai, Yun-Hsuan Wu, Sih-Jie Lai, Yun-Chieh Yang</td><td>Abstract\r\n",
       "The aim of this study was to examine the influence of daily contact features on the prevalence of common mental disorders (CMDs) in Taiwan from 2000 to 2015. Data from the Taiwan Social Cha… [+38243 chars]</td><td>The aim of this study was to examine the influence of daily contact features on the prevalence of common mental disorders (CMDs) in Taiwan from 2000 to 2015. Data from the Taiwan Social Change Survey for 2000, 2005, 2010, and 2015 were used to examine the rel…</td><td>2024-10-17T14:00:00Z</td><td>Plos.org</td><td>A cross-sectional study of the relationship between daily social contact features and the prevalence of common mental disorders in Taiwan, 2000–2015</td><td>https://journals.plos.org/plosone/article?id=10.1371/journal.pone.0312154</td><td>https://journals.plos.org/plosone/article/figure/image?id=10.1371/journal.pone.0312154.t004&size=inline</td></tr><tr><td>Frank Müller, Alexis Hansen, Megan Kube, Judith E. Arnetz, Omayma Alshaarawy, Eric D. Achtyes, Harland T. Holman</td><td>Abstract\r\n",
       "Background\r\n",
       "Depression and anxiety are significant health burdens that greatly impact the quality of life of refugees and migrants. In this study, we have translated and culturally adapted … [+42461 chars]</td><td>Background Depression and anxiety are significant health burdens that greatly impact the quality of life of refugees and migrants. In this study, we have translated and culturally adapted the Patient Health Questionnaire (PHQ-9) and Generalized Anxiety Disord…</td><td>2024-10-17T14:00:00Z</td><td>Plos.org</td><td>Translation, cultural adaptation, and validation of the PHQ-9 and GAD-7 in Kinyarwanda for primary care in the United States</td><td>https://journals.plos.org/plosone/article?id=10.1371/journal.pone.0302953</td><td>https://journals.plos.org/plosone/article/figure/image?id=10.1371/journal.pone.0302953.g002&size=inline</td></tr><tr><td>Frank A. DeLano, Geert W. Schmid-Schönbein</td><td>Abstract\r\n",
       "The mechanism that triggers the progressive dysregulation of cell functions, inflammation, and breakdown of tissues during aging is currently unknown. We propose here a previously unknown m… [+47128 chars]</td><td>The mechanism that triggers the progressive dysregulation of cell functions, inflammation, and breakdown of tissues during aging is currently unknown. We propose here a previously unknown mechanism due to tissue autodigestion by the digestive enzymes. After s…</td><td>2024-10-17T14:00:00Z</td><td>Plos.org</td><td>Aging by autodigestion</td><td>https://journals.plos.org/plosone/article?id=10.1371/journal.pone.0312149</td><td>https://journals.plos.org/plosone/article/figure/image?id=10.1371/journal.pone.0312149.g013&size=inline</td></tr><tr><td>Jaewhan Kim, Kenechukwu C. Ben-Umeh, Rachel Weir, Karen Manotas, Kristi Kleinschmit, Aaron Fischer, Peter Weir, Fernando Wilson</td><td>Abstract\r\n",
       "Previous studies have reported a potential occurrence of sleep disorders in patients following a COVID-19 infection. However, these findings were based on surveys or retrospective studies w… [+34787 chars]</td><td>Previous studies have reported a potential occurrence of sleep disorders in patients following a COVID-19 infection. However, these findings were based on surveys or retrospective studies with small sample sizes. This study examined if subjects with a previou…</td><td>2024-10-17T14:00:00Z</td><td>Plos.org</td><td>Evaluating the risk of sleep disorders in subjects with a prior COVID-19 infection</td><td>https://journals.plos.org/plosone/article?id=10.1371/journal.pone.0311929</td><td>https://journals.plos.org/plosone/article/figure/image?id=10.1371/journal.pone.0311929.g001&size=inline</td></tr><tr><td>Masanori Kobayashi, Hiromune Katsuda, Aya Maekawa, Keiichi Akahoshi, Ryosuke Watanabe, Yuko Kinowaki, Hisaaki Nishimura, Takeo Fujiwara, Minoru Tanabe, Ryuichi Okamoto</td><td>Abstract\r\n",
       "Despite the presence of various guidelines, diagnosing malignant intraductal papillary mucinous neoplasm (IPMN) continues to pose challenges. Furthermore, although endoscopic ultrasonograph… [+37727 chars]</td><td>Despite the presence of various guidelines, diagnosing malignant intraductal papillary mucinous neoplasm (IPMN) continues to pose challenges. Furthermore, although endoscopic ultrasonography (EUS) offers high-resolution images, it has not yet recognized as th…</td><td>2024-10-17T14:00:00Z</td><td>Plos.org</td><td>Development of an intraductal papillary mucinous neoplasm malignancy prediction scoring system</td><td>https://journals.plos.org/plosone/article?id=10.1371/journal.pone.0312234</td><td>https://journals.plos.org/plosone/article/figure/image?id=10.1371/journal.pone.0312234.g001&size=inline</td></tr><tr><td>Zannat Kawser, Saikt Rahman, Emilie Westeel, Mohammad Tanbir Habib, Mohabbat Hossain, Md. Rakibul Hassan Bulbul, Sharmin Aktar Mukta, Md. Zahirul Islam, Md. Zakir Hossain, Mokibul Hassan Afrad, Manjur Hossain Khan, Tahmina Shirin, Md. Shakeel Ahmed, Jean-Luc Berland, Florence Komurian-Pradel, Firdausi Qadri</td><td>Abstract\r\n",
       "Background\r\n",
       "The widespread increase in multiple variants of severe acute respiratory syndrome coronavirus-2 (SARS-CoV-2) since 2020 is causing significant health concerns worldwide. While w… [+36575 chars]</td><td>Background The widespread increase in multiple variants of severe acute respiratory syndrome coronavirus-2 (SARS-CoV-2) since 2020 is causing significant health concerns worldwide. While whole-genome sequencing (WGS) has played a leading role in surveillance …</td><td>2024-10-17T14:00:00Z</td><td>Plos.org</td><td>SARS-CoV-2 variant survey: Comparison of RT-PCR screening with TGS and variant distribution across two divisions of Bangladesh</td><td>https://journals.plos.org/plosone/article?id=10.1371/journal.pone.0311993</td><td>https://journals.plos.org/plosone/article/figure/image?id=10.1371/journal.pone.0311993.g002&size=inline</td></tr><tr><td>Frederick H. F. Chan, Pearl Sim, Phoebe X. H. Lim, Xiaoli Zhu, Jimmy Lee, Sabrina Haroon, Titus Wai Leong Lau, Allen Yan Lun Liu, Behram A. Khan, Jason C. J. Choo, Konstadina Griva</td><td>Abstract\r\n",
       "Background and objectives\r\n",
       "Cognitive impairment is common in haemodialysis patients and associated with adverse health outcomes. This may be due to cognitive impairments interfering with da… [+47396 chars]</td><td>Background and objectives Cognitive impairment is common in haemodialysis patients and associated with adverse health outcomes. This may be due to cognitive impairments interfering with daily functioning and self-care, but evidence is limited. This cross-sect…</td><td>2024-10-17T14:00:00Z</td><td>Plos.org</td><td>Structural equation modelling of the role of cognition in functional interference and treatment nonadherence among haemodialysis patients</td><td>https://journals.plos.org/plosone/article?id=10.1371/journal.pone.0312039</td><td>https://journals.plos.org/plosone/article/figure/image?id=10.1371/journal.pone.0312039.g002&size=inline</td></tr><tr><td>Mehran Asadi-Aliabadi, Seyed M. Karimi, Fariba Mirbaha-Hashemi, Arash Tehrani-Banihashemi, Leila Janani, Ebrahim Babaee, Marzieh Nojomi, Maziar Moradi-Lakeh</td><td>Abstract\r\n",
       "Background\r\n",
       "Non-communicable diseases can be controlled and managed by reducing their associated metabolic risk factors. In this study, a set of intervention packages were designed to reduc… [+51352 chars]</td><td>Background Non-communicable diseases can be controlled and managed by reducing their associated metabolic risk factors. In this study, a set of intervention packages were designed to reduce the prevalence of three common metabolic risk factors (hypertension, …</td><td>2024-10-17T14:00:00Z</td><td>Plos.org</td><td>The effect of results-based motivating system on metabolic risk factors of non-communicable diseases: A field trial study</td><td>https://journals.plos.org/plosone/article?id=10.1371/journal.pone.0311507</td><td>https://journals.plos.org/plosone/article/figure/image?id=10.1371/journal.pone.0311507.g003&size=inline</td></tr><tr><td>Jeannette Cwienk</td><td>Früher fand der Sohn der Kollegin die bunten Haarsträhnen seiner Mutter noch cool. Jetzt heißt es: \"Mama, kannst Du nicht einfach normal aussehen?\" Spätestens wenn Eltern plötzlich \"peinlich\" sind, i… [+7058 chars]</td><td>Die Elfjährige ist ständig gereizt, der 14-Jährige hat schon Schuhgröße 47 - Kinder kommen immer früher in die Pubertät, besonders Einzelkinder. Liegt es an der Corona-Pandemie, Umweltgiften oder der Ernährung?</td><td>2024-10-17T13:56:00Z</td><td>DW (English)</td><td>Warum beginnt die Pubertät immer früher?</td><td>https://www.dw.com/de/warum-beginnt-die-pubert%C3%A4t-immer-fr%C3%BCher/a-70521328</td><td>https://static.dw.com/image/70473489_6.jpg</td></tr><tr><td>NDTV Health Desk</td><td>If you are into strength training, you are probably already working your legs to some degree. In addition to maintaining the strength of our limbs, we need to ensure that we keep our DALY to a minimu… [+2632 chars]</td><td>Nutritionist Rujuta Diwekar shares 3 easy lower limb exercises.</td><td>2024-10-17T13:55:30Z</td><td>NDTV News</td><td>Nutritionist Suggests 3 Easy Exercises To Strengthen Lower Limbs</td><td>https://doctor.ndtv.com/living-healthy/rujuta-diwekar-shares-essential-exercises-for-boosting-lower-limb-strength-6767621</td><td>https://c.ndtvimg.com/2024-07/o8u40se8_exercises_625x300_02_July_24.jpg?im=FaceCrop,algorithm=dnn,width=620,height=350</td></tr><tr><td>Rafly Gilang</td><td>Like it or hate it, the AI use in the field of medicine does not seem to be too far offespecially generative AI that could automate tasks like creating and finding documents.\r\n",
       "Sure, AI does not immed… [+1830 chars]</td><td>AI may not cure illness, but it sure does help hospital workers for administrative tasks like creating or finding documents.\n",
       "The post AI use in medicine: Healthcare workers prefer AI to tackle heavy admin paperwork, says Google appeared first on MSPoweruser.</td><td>2024-10-17T13:55:28Z</td><td>MSPoweruser</td><td>AI use in medicine: Healthcare workers prefer AI to tackle heavy admin paperwork, says Google</td><td>https://mspoweruser.com/ai-use-in-medicine-healthcare-workers-prefer-ai-to-tackle-heavy-admin-paperwork-says-google/</td><td>https://mspoweruser.com/wp-content/uploads/2024/10/ai-use-in-medicine.png</td></tr><tr><td>STT</td><td>Testi on Yhdysvaltain ja EU:n viranomaisten hyväksymä.Uusi suomalainen pikatesti tunnistaa kakkostyypin diabeteksen riskin nopeasti ja tarkasti, tiedotti Helsingin yliopisto torstaina.\r\n",
       "Seitsemässä m… [+854 chars]</td><td>Testi on Yhdysvaltain ja EU:n viranomaisten hyväksymä.</td><td>2024-10-17T13:54:00Z</td><td>Www.is.fi</td><td>Mullistava suomalaiskeksintö auttaa tunnistamaan taudin, joka jää kymmeniltätuhansilta suomalaisilta huomaamatta</td><td>https://www.is.fi/terveys/art-2000010770613.html</td><td>https://images.sanoma-sndp.fi/1050fdeccca7dd15808fa612cf815df1.jpg/some/is-default.jpg</td></tr><tr><td>Héctor García Alonso</td><td>A la hora de planificar una dieta, es importante tener en cuenta varios factores, como los ingredientes, su origen o los valores nutricionales de los alimentos, con el objetivo de que esta sea lo más… [+3053 chars]</td><td>A la hora de preparar una dieta, es recomendable tener en cuenta los valores nutricionales de todos los alimentos para que esta sea lo más balanceada y saludable posible\r\n",
       "Comer lo que siembras (en poco espacio): plantas con frutos para cultivar en casa\n",
       "\r\n",
       "\n",
       " A …</td><td>2024-10-17T13:30:33Z</td><td>Eldiario.es</td><td>Estos son los alimentos que puedes consumir para mejorar los niveles de vitamina D</td><td>https://www.eldiario.es/consumoclaro/son-alimentos-puedes-consumir-mejorar-niveles-vitamina-d_1_11740995.html</td><td>https://static.eldiario.es/clip/7ef6c0a7-4f85-4ead-b6bb-3e188f13078a_facebook-watermarked-aspect-ratio_default_0.jpg</td></tr><tr><td>Future Market Insights Global and Consulting Pvt. Ltd.</td><td>NEWARK, Del, Oct. 17, 2024 (GLOBE NEWSWIRE) -- The global prenatal nutrition market is projected to grow from USD 917.0 million in 2024 to USD 2,054.7 million by 2034, with a CAGR of 8.4%. This growt… [+10086 chars]</td><td>The USA prenatal nutrition industry is projected to grow at a 5.6% CAGR, driven by innovations in nutritional formulations, including probiotics, omega-3s, and plant-based compounds. Rising demand for personalized, organic, and clean-label products is propell…</td><td>2024-10-17T13:30:00Z</td><td>GlobeNewswire</td><td>Prenatal Nutrition Market to Reach USD 2,054.7 Million by 2034, Driven by Rising Maternal Age and Health Awareness | Future Market Insights, Inc.</td><td>https://www.globenewswire.com/news-release/2024/10/17/2964971/0/en/Prenatal-Nutrition-Market-to-Reach-USD-2-054-7-Million-by-2034-Driven-by-Rising-Maternal-Age-and-Health-Awareness-Future-Market-Insights-Inc.html</td><td>https://ml.globenewswire.com/Resource/Download/915d2f9c-7dc6-40c7-995c-2ba168208baa</td></tr><tr><td>Aayushi Singh Chauhan</td><td>In today's digital age, the internet and social media have become an integral part of our daily lives. These platforms provide a way for people to connect, share, and communicate across vast distance… [+6995 chars]</td><td>This article explores the benefits and drawbacks of social media and the internet on mental health and provides insights into how individuals can manage their online interactions to foster a healthier mental state.</td><td>2024-10-17T13:26:25Z</td><td>NDTV News</td><td>How Internet And Social Media Is A Boon And Bane For Mental Health</td><td>https://doctor.ndtv.com/living-healthy/how-internet-and-social-media-is-a-boon-and-bane-for-mental-health-6811822</td><td>https://c.ndtvimg.com/2024-09/ognl4gfo_children-on-social-media-_625x300_13_September_24.jpg?im=FeatureCrop,algorithm=dnn,width=620,height=350</td></tr><tr><td>marketbeat.com</td><td>Tandem Diabetes Care, Inc. (NASDAQ:TNDM - Free Report) - Stock analysts at Leerink Partnrs issued their FY2027 earnings per share (EPS) estimates for Tandem Diabetes Care in a note issued to investor… [+148 chars]</td><td>Tandem Diabetes Care, Inc. (NASDAQ:TNDM - Free Report) - Stock analysts at Leerink Partnrs issued their FY2027 earnings per share (EPS) estimates for Tandem Diabetes Care in a note issued to investors on Tuesday, October 15th. Leerink Partnrs analyst M. Kratk…</td><td>2024-10-17T13:25:14Z</td><td>Biztoc.com</td><td>Leerink Partnrs Comments on Tandem Diabetes Care, Inc.'s FY2027 Earnings (NASDAQ:TNDM)</td><td>https://biztoc.com/x/2927f16e5e5b5406</td><td>https://biztoc.com/cdn/805/og.png</td></tr><tr><td>Manya Singh</td><td>Alopecia is a medical condition that results in hair loss, either in patches or over the entire scalp and body. It can affect both men and women of any age. There are various types of alopecia, with … [+4320 chars]</td><td>Here we share a list of things you might want to know about alopecia.</td><td>2024-10-17T13:15:56Z</td><td>NDTV News</td><td>Alopecia: Why Does It Cause Hair Loss & Everything Else You Must Know</td><td>https://doctor.ndtv.com/living-healthy/alopecia-why-does-it-cause-hair-loss-everything-else-you-must-know-6811750</td><td>https://c.ndtvimg.com/2024-02/ckk6vg2g_how-to-prevent-hair-fall_625x300_22_February_24.jpg?im=FeatureCrop,algorithm=dnn,width=620,height=350</td></tr><tr><td>Christopher Smith</td><td>HipHopWired Featured Video\r\n",
       "Source: Billboard / Getty\r\n",
       "Fat Joe admitted that he uses Ozempic as part of changes in his lifestyle that’s helped him lose weight.\r\n",
       "Veteran rapper Fat Joe has gone on the… [+1920 chars]</td><td>Veteran rapper Fat Joe declared that part of his weight loss has been due to his use of Ozempic in addition to other lifestyle adjustments including reducing his carbohydrate intake.</td><td>2024-10-17T13:14:06Z</td><td>Hip-Hop Wired</td><td>Fat Joe Admits Ozempic Usage In Weight Loss Journey</td><td>https://hiphopwired.com/2429506/fat-joe-admits-ozempic-usage-in-weight-loss-journey/</td><td>https://hiphopwired.com/wp-content/uploads/sites/43/2024/10/17291707984729.jpg</td></tr><tr><td>Dr. Faizah Shareef</td><td>A new study suggests that GLP-1 agonist medications like Ozempic, which are used for diabetes management and weight loss, may help reduce the risk of overdose and alcohol intoxication in people with … [+3628 chars]</td><td>Weight loss drugs and addiction: Study shows GLP-1 may help reduce overdose risksabc13.com</td><td>2024-10-17T13:12:23Z</td><td>KTRK-TV</td><td>Weight loss drugs and addiction: Study shows GLP-1 may help reduce overdose risks</td><td>https://abc13.com/health/weight-loss-drugs-like-ozempic-may-help-reduce-overdose-risks-study/15437514/</td><td>https://cdn.abcotvs.com/dip/images/15437643_101724-wpvi-gma-weight-loss-drugs-overdose-addiction-pkg-video-vid.jpg?w=1600</td></tr></tbody></table></div>"
      ]
     },
     "metadata": {
      "application/vnd.databricks.v1+output": {
       "addedWidgets": {},
       "aggData": [],
       "aggError": "",
       "aggOverflow": false,
       "aggSchema": [],
       "aggSeriesLimitReached": false,
       "aggType": "",
       "arguments": {},
       "columnCustomDisplayInfos": {},
       "data": [
        [
         "Barrett, S., Begg, S., Dunford, A., O'Halloran, P., Rodda, K., Denniss, E., Breckon, J., Kingsley, M.",
         "Background\r\nChronic diseases such as diabetes, heart disease and some cancers are leading causes of ill health and morbidity worldwide.1 2 Modifiable risk factors such as insufficient physical activi… [+6484 chars]",
         "Introduction Behaviour change interventions are advocated as a key approach to manage behavioural risk factors such as insufficient physical activity, poor diet and smoking. Integrated motivational interviewing and cognitive behavioural therapy (MI-CBT) inter…",
         "2024-10-17T22:28:58Z",
         "The BMJ",
         "An expert consensus on the most effective components of integrated motivational interviewing and cognitive behavioural therapy for lifestyle behaviour change: protocol for an online modified Delphi study",
         "https://bmjopen.bmj.com/content/14/10/e088988",
         "https://bmjopen.bmj.com/pages/wp-content/uploads/sites/7/2019/07/bmjopen-default-cover.png"
        ],
        [
         "Wen, S., Zhao, X., Lin, X., Fu, Z., Qin, S., Pan, Q., Liu, F., He, W., Liu, T.",
         "Introduction\r\nIn gastro-oesophageal reflux disease (GERD), gastroduodenal contents reflux into the oesophagus, causing symptoms such as acid reflux, heartburn, regurgitation and post-sternal pain and… [+7898 chars]",
         "Background\r\n\nGastro-oesophageal reflux disease (GERD) is a highly prevalent disorder worldwide and developing effective treatment strategies for GERD is a clinical priority. GERD is associated with anxiety and depression. Several approaches have been develope…",
         "2024-10-17T22:28:58Z",
         "The BMJ",
         "Acupoint catgut embedding advantage in treating gastro-oesophageal reflux disease (ACE-GERD): study protocol for a randomised controlled trial",
         "https://bmjopen.bmj.com/content/14/10/e081059",
         "https://bmjopen.bmj.com/pages/wp-content/uploads/sites/7/2019/07/bmjopen-default-cover.png"
        ],
        [
         "Alam, M. T., Veettil, S. T., Krishnan, J. I., Alsalmi, R. G., Jacob, J., Mousa, A. T., Sakallah, S. A. M., Mahmood, S., Al Nuaimi, A.",
         "STRENGTHS AND LIMITATIONS OF THIS STUDY\r\n<ul><li>The study uses a cross-sectional design to provide a snapshot of the primary healthcare systems response to implementing home delivery services for me… [+16265 chars]",
         "Objectives During the COVID-19 epidemic, due to the high risk associated with travel and group gatherings, the Ministry of Public Health in Qatar introduced home delivery of pharmaceutical services. This study aims to investigate the satisfaction and preferen…",
         "2024-10-17T22:28:58Z",
         "The BMJ",
         "Satisfaction and preference for home delivery pharmaceutical services among patients attending primary care settings in Qatar during COVID-19 pandemic: a cross-sectional study",
         "https://bmjopen.bmj.com/content/14/10/e082842",
         "https://bmjopen.bmj.com/pages/wp-content/uploads/sites/7/2019/07/bmjopen-default-cover.png"
        ],
        [
         "Leandro Costa Criscuolo",
         "Uma nova insulina desenvolvida pela Novo Nordisk, que se adapta automaticamente aos níveis de glicose no sangue, mostrou eficácia em reduzir o risco de hipoglicemia em animais. O estudo desta criação… [+1496 chars]",
         "Abordagem reduz o risco de hipoglicemia, oferecendo mais segurança aos diabéticos ao ajustar automaticamente a absorção de glicose no sangue\nO post Novo ‘interruptor’ que ativa insulina pode ajudar no tratamento da diabetes apareceu primeiro em Olhar Digital.",
         "2024-10-17T22:22:08Z",
         "Olhardigital.com.br",
         "Novo ‘interruptor’ que ativa insulina pode ajudar no tratamento da diabetes",
         "https://olhardigital.com.br/2024/10/17/medicina-e-saude/novo-interruptor-que-ativa-insulina-pode-ajudar-no-tratamento-da-diabetes/",
         "https://olhardigital.com.br/wp-content/uploads/2024/10/insulina.jpg"
        ],
        [
         "El Universal (México)",
         "Los alimentos que elegimos a diario para nuestra dieta deben priorizar lograr una completa nutrición para el organismo. Una dieta adecuada, balanceada y combinada con una actividad física regular, es… [+1725 chars]",
         "Aporta vitaminas del grupo B y es fácil de hallar para sumar a la dieta; todo lo que hay que saber; mirá el video",
         "2024-10-17T21:55:57Z",
         "La Nacion",
         "El cereal que contiene hierro, ayuda a la producción de glóbulos rojos y es considerado como un “tesoro”",
         "https://www.lanacion.com.ar/lifestyle/cuidado-cuerpo-belleza/el-cereal-que-contiene-hierro-ayuda-a-la-produccion-de-globulos-rojos-y-es-considerado-como-un-nid17102024/",
         "https://resizer.glanacion.com/resizer/v2/este-cereal-proporciona-mas-del-10percent-de-la-V7EEBNIJEJCPRAKXH3VJKADK4Y.jpg?auth=71966b106bb7f9e19e1716dd5e9178cd16477f6227fa06d24e8cfdfecf0d4a55&width=1200&quality=70&smart=false&height=800"
        ],
        [
         "Redacción",
         "¡Dile adiós al zumo de betabel, al de zanahoria con naranja y hasta el de jengibre! Lo de hoy es tomar jugo verde, tal como mostró Emma Coronel, la modelo y esposa de Joaquín El Chapo Guzmán, en sus … [+11163 chars]",
         "El jugo verde que toma Emma Coronel se suele recomendar para una buena salud del corazón e incluso para bajar de peso, pero, ¿qué tan reales son sus beneficios?",
         "2024-10-17T21:52:07Z",
         "El Financiero",
         "¿Para qué sirve el jugo verde que toma Emma Coronel?",
         "https://www.elfinanciero.com.mx/food-and-drink/2024/10/17/para-que-sirve-el-jugo-verde-que-toma-emma-coronel/",
         "https://elfinanciero.com.mx/resizer/v2/RPFMRJQQERFL3NLETZTD4LQ6CU.jpg?smart=true&auth=5b8a3e0830a03729bbb1e60074545a3bcf5c414c97dc47a008b03472bb28cf9e&width=1200&height=630"
        ],
        [
         "Ashlee Valentine",
         "Contrary to popular belief, fitness is a key part of healthy aging. But you can't just skate into your golden years looking great while doing minimal amounts of aerobic exercise. You should be focusi… [+7187 chars]",
         "If you want to maintain your health and fitness as you age, these anti-aging exercises will help you achieve that goal.",
         "2024-10-17T21:46:00Z",
         "CNET",
         "Exercise for Older Adults: How to Stay Balanced and Strong as You Age",
         "https://www.cnet.com/health/fitness/exercise-for-older-adults-how-to-stay-balanced-and-strong-as-you-age/",
         "https://www.cnet.com/a/img/resize/1a03e08106bd9cdaabfc0ec16fff4e88b1112d62/hub/2024/08/20/4dba6a01-3c41-4098-84ee-8968b33bbbae/older-adult-lifting-weights.jpg?auto=webp&fit=crop&height=675&width=1200"
        ],
        [
         "Babylon Bee",
         "BATON ROUGE, LA Sources close to Max Calderfield, the Healthiest Man Alive, say that the wonder of nature has maintained a sound mind and body precisely by doing exactly the opposite of whatever the … [+1102 chars]",
         "BATON ROUGE, LA — Sources close to Max Calderfield, the Healthiest Man Alive, say that the wonder of nature has maintained a sound mind and body precisely by doing exactly the opposite of whatever the government recommends.",
         "2024-10-17T21:42:42Z",
         "Babylonbee.com",
         "Healthiest Man Alive Just Does The Opposite Of Whatever The Government Recommends",
         "https://babylonbee.com/news/healthiest-man-alive-just-does-the-opposite-of-whatever-the-government-recommends",
         "https://media.babylonbee.com/articles/67117ef0ecd7167117ef0ecd72.jpg"
        ],
        [
         "onainigo",
         "Yo estoy viendo en mi entorno mucha gente con trombos, pantorrilla, brazo y alguno en pulmón (con el peligro que conlleva), incluso no vacunados y deportista, de los vacunados ninguno con Astra-Zenec… [+63 chars]",
         "Un nuevo estudio muestra que las infecciones por COVID-19 en niños conducen a un riesgo significativamente mayor de diabetes tipo 2 en un plazo de seis meses, lo que genera nuevas preocupaciones sobre los impactos a largo plazo del virus en las poblaciones jó…",
         "2024-10-17T21:39:39Z",
         "Meneame.net",
         "Estudio revela que la COVID-19 aumenta el riesgo de diabetes tipo 2 en niños (eng)",
         "https://www.meneame.net/m/ciencia/estudio-revela-covid-19-aumenta-riesgo-diabetes-tipo-2-ninos-eng",
         "https://meneame.net/img/logo_meneame.png"
        ],
        [
         null,
         "Western Pacific nations are unlikely to meet the United Nations target of reducing premature deaths from lifestyle-related diseases including cancer and diabetes, due to the slow decline in alcohol a… [+1708 chars]",
         "Western Pacific nations are unlikely to meet the United Nations target of reducing premature deaths from lifestyle-related diseases including cancer and diabetes, due to the slow decline in alcohol and tobacco consumption, the World Health Organization said o…",
         "2024-10-17T21:38:53Z",
         "Japan Today",
         "WHO says western Pacific to miss U.N. goal to cut early deaths from lifestyle diseases",
         "https://japantoday.com/category/features/health/who-says-western-pacific-to-miss-un-goal-to-cut-early-deaths-from-lifestyle-diseases",
         null
        ],
        [
         "Jamie Kenney",
         "Between all the appointments, blood work, and ultrasounds to say nothing of the fact that your body feels completely different in its worst moments, pregnancy can make you feel like a test subject. S… [+6849 chars]",
         "Discover Cora Bryant's powerful message on the importance of the glucose test during pregnancy. Don't overlook this vital screening for your and your baby's health.",
         "2024-10-17T21:00:49Z",
         "Scary Mommy",
         "Mom Urges Others Not To Skip Glucose Test In Pregnancy",
         "https://www.scarymommy.com/pregnancy/mom-stillbirth-glucose-test-in-pregnancy",
         "https://imgix.bustle.com/uploads/image/2024/10/17/c3e69198/loss001.jpeg?w=1200&h=630&fit=crop&crop=faces&fm=jpg"
        ],
        [
         "marketbeat.com",
         "Tandem Diabetes Care (NASDAQ:TNDM) Shares Down 8.1% - Here's Why\r\nThis story appeared on marketbeat.com, 2024-10-17 20:54:18.",
         "Tandem Diabetes Care (NASDAQ:TNDM) Shares Down 8.1% - Here's Why",
         "2024-10-17T21:00:20Z",
         "Biztoc.com",
         "Tandem Diabetes Care (NASDAQ:TNDM) Trading Down 8.1% - What's Next?",
         "https://biztoc.com/x/a9a122a0acb915a2",
         "https://biztoc.com/cdn/805/og.png"
        ],
        [
         "SkyQuest Technology Consulting Pvt. Ltd.",
         "Westford, USA, Oct. 17, 2024 (GLOBE NEWSWIRE) -- SkyQuest projects that Wound Care Market\r\n will attain the value of USD 16.32 Billion by 2031, with a CAGR of 3.1% during the forecast period (2024-20… [+8201 chars]",
         "Unlock the potential of the global wound care market, projected to soar from USD 13.18 billion in 2023 to USD 16.32 billion by 2031, with a steady growth rate of 3.1%! Discover key insights on advanced dressings and emerging trends across hospitals and home h…",
         "2024-10-17T21:00:00Z",
         "GlobeNewswire",
         "Wound Care Market to Witness 3.1% CAGR by 2031 | SkyQuest Technology",
         "https://www.globenewswire.com/news-release/2024/10/17/2965272/0/en/Wound-Care-Market-to-Witness-3-1-CAGR-by-2031-SkyQuest-Technology.html",
         "https://ml.globenewswire.com/Resource/Download/c673c6fa-f0e7-47bf-8490-fe528c593820"
        ],
        [
         "Kaili Berg",
         "Details\r\nBy Kaili Berg\r\nOctober 17, 2024\r\nLast month, the Johns Hopkins Center for Indigenous Health opened a new hub in Rapid City, S.D., to bring Native-focused health care to the region. \r\nGreat P… [+3579 chars]",
         "Last month, the Johns Hopkins Center for Indigenous Health opened a new hub in Rapid City, S.D., to bring Native-focused health care to the region.&nbsp; About The AuthorAuthor: Kaili BergEmail: This email address is being protected from spambots. You need Ja…",
         "2024-10-17T20:51:48Z",
         "Nativenewsonline.net",
         "Center for Indigenous Health Opens Hub in Rapid City",
         "https://nativenewsonline.net/health/center-for-indigenous-health-opens-hub-in-rapid-city",
         "https://nativenewsonline.net/images/2022/Screenshot_2024-10-17_at_10.43.17_AM.png"
        ],
        [
         "news@yale.edu (Yale News)",
         "Expanding access to new, highly effective weight-loss medications could prevent more than 40,000 deaths a year in the United States, according to a new study led by researchers at Yale School of Publ… [+5359 chars]",
         "Expanding access to new, highly effective weight-loss medications could prevent more than 40,000 deaths a year in the United States, according to a new study",
         "2024-10-17T20:40:04Z",
         "Yale.edu",
         "Expanding access to weight-loss drugs could save thousands of lives a year",
         "https://medicine.yale.edu/news-article/expanding-access-to-weight-loss-drugs-could-save-thousands-of-lives-annually-study-finds/",
         "https://ysm-res.cloudinary.com/image/upload/c_limit,f_auto,h_630,q_auto,w_1200/v1/yms/prod/a16501a9-8475-41a8-a076-96c8e5e32e4a"
        ],
        [
         "J.D. Tuccille",
         "It's no surprise that campaigning for office is largely a matter of buying votes with unrealistic promises of largesse to be fundedif the promise is ever fulfilledon the backs of those to be named la… [+6793 chars]",
         "It's no surprise that campaigning for office is largely a matter of buying votes with unrealistic promises of largesse to be funded—if the promise is ever",
         "2024-10-17T20:31:37Z",
         "Reason",
         "Medicare-Covered Ozempic and Long-Term Care Would Be Very Pricey",
         "https://reason.com/2024/10/18/medicare-covered-ozempic-and-long-term-care-would-be-very-pricey/",
         "https://d2eehagpk5cl65.cloudfront.net/img/q60/uploads/2024/10/dollars.jpg"
        ],
        [
         "LA NACION",
         "En el extenso universo de las verduras de hoja verde, la lechuga es una de las que más vemos cada vez que vamos a una verdulería. Su disponibilidad hace que no pase desapercibida, pero sí lo hacen la… [+3293 chars]",
         "Este alimento es más que un simple acompañamiento en las comidas, ya que es rico en antioxidantes, fibra y agua, y beneficioso para la salud digestiva; cuál es y cómo integrarlo al día a día",
         "2024-10-17T20:12:28Z",
         "La Nacion",
         "La verdura verde, nutritiva y accesible que debería ser un básico en la dieta",
         "https://www.lanacion.com.ar/lifestyle/cuidado-cuerpo-belleza/la-verdura-verde-nutritiva-y-accesible-que-deberia-ser-un-basico-en-la-dieta-nid17102024/",
         "https://resizer.glanacion.com/resizer/v2/este-vegetal-de-hojas-verdes-es-facilmente-BUDGUH7P3FFN3AJCYACEE4OFJU.jpg?auth=7e56db34ed2dda47be7c39e67c86855388902b5ff606c56be8123e64b1244981&width=1200&quality=70&smart=false&height=800"
        ],
        [
         "Ed Cara",
         "The sky continues to be the limit for semaglutide, the active ingredient in popular drugs Ozempic and Wegovy. Newly published research is the latest to suggest that semaglutide and other GLP-1 drugs … [+3256 chars]",
         "Research from earlier this week is the latest to suggest that semaglutide and other GLP-1 drugs can help treat people's addiction to both opioids and alcohol.",
         "2024-10-17T20:05:25Z",
         "Gizmodo.com",
         "The Case for Ozempic as a Addiction Treatment Keeps Getting Better",
         "https://gizmodo.com/the-case-for-ozempic-as-a-addiction-treatment-keeps-getting-better-2000513096",
         "https://gizmodo.com/app/uploads/2024/10/Ozempic.jpg"
        ],
        [
         "Portal EdiCase",
         "Considerado o mês do idoso, outubro é um período dedicado às discussões e informações pertinentes à saúde e qualidade de vida da população com mais de 60 anos, com campanhas que visam conscientizar e… [+5472 chars]",
         "O fornecimento adequado de nutrientes é essencial para manter a saúde e a qualidade de vida",
         "2024-10-17T20:02:13Z",
         "Terra.com.br",
         "5 perguntas e respostas sobre suplementos para idosos",
         "https://www.terra.com.br/vida-e-estilo/saude/5-perguntas-e-respostas-sobre-suplementos-para-idosos,854c1557f35f7bc370883de2422e7009btr2373o.html",
         "https://p2.trrsf.com/image/fget/cf/1200/630/middle/images.terra.com/2024/10/17/1220305979-suplementos-idosos.jpg"
        ],
        [
         "The Conversation",
         "* Artigo escrito pela endocrinologista Maria Fernanda Barca, integrante do grupo de Tireoide do Hospital das Clínicas da Faculdade de Medicina da Universidade de São Paulo (USP). O texto foi original… [+8245 chars]",
         "No Brasil, dados citados pela Sociedade Brasileira de Hepatologia indicam que 20% da população geral possui gordura no fígado",
         "2024-10-17T19:51:23Z",
         "Metropoles.com",
         "Como o acúmulo de gordura no fígado se tornou uma epidemia global",
         "https://www.metropoles.com/saude/como-o-acumulo-de-gordura-no-figado-se-tornou-uma-epidemia-global",
         "https://uploads.metroimg.com/wp-content/uploads/2023/07/19115548/figado-hepatite.jpg"
        ],
        [
         "Rachel Rasker",
         "If you had a health check-up recently, you might have been told that you're underweight, overweight or obese based on your body mass index or BMI.\r\nBut the BMI was never intended as a diagnostic tool… [+5920 chars]",
         "Despite widespread criticism, BMI continues to be the go-to for measuring some health risks. Now the \"body roundness index\" is gaining traction as a viable alternative. What's stopping it being used?",
         "2024-10-17T19:30:00Z",
         "ABC News (AU)",
         "Why measuring body 'roundness' could be a better indicator of health than BMI",
         "https://www.abc.net.au/news/health/2024-10-18/body-roundness-mass-index-health-risks-weight-obesity/104456116",
         "https://live-production.wcms.abc-cdn.net.au/85c0fffab48e8d45abce12c0511c2568?impolicy=wcms_watermark_news&cropH=2813&cropW=5000&xPos=0&yPos=260&width=862&height=485&imformat=generic"
        ],
        [
         "Iris May",
         "Berlin. Bevor Berlin in den Biden-Ausnahmezustand versinkt, verzauberte am Donnerstag eine Gala im Regierungsviertel. Was die Gala bewegend machte.",
         "Bevor Berlin in den Biden-Ausnahmezustand versinkt, fand am Donnerstag eine glamouröse Gala im Tipi am Kanzleramt statt. Wieviel gespendet wurde, wer da war.",
         "2024-10-17T19:24:59Z",
         "Berliner Morgenpost",
         "Diabetes Charity Gala am Kanzleramt: Jede Minute ein Kranker mehr",
         "https://www.morgenpost.de/bezirke/mitte/article407492334/diabetes-charity-gala-am-kanzleramt-jede-minute-ein-kranker-mehr.html",
         "https://img.sparknews.funkemedien.de/407492541/407492541_1729193098_v16_9_1600.jpeg"
        ],
        [
         "marketwatch.com",
         "Weight-loss drugs such as Ozempic, made by Denmarks Novo Nordisk, can reduce rates of opioid and alcohol abuse by up to 50%, according to a new study that supports expectations the drugs can offer gr… [+117 chars]",
         "Weight-loss drugs such as Ozempic, made by Denmark’s Novo Nordisk, can reduce rates of opioid and alcohol abuse by up to 50%, according to a new study that supports expectations the drugs can offer greater benefits than just weight and diabetes management.",
         "2024-10-17T19:09:33Z",
         "Biztoc.com",
         "Weight-loss drugs may reduce opioid and alcohol abuse by up to 50%, study finds",
         "https://biztoc.com/x/c15c284ec30b23b2",
         "https://biztoc.com/cdn/805/og.png"
        ],
        [
         "Maya Brownstein",
         "October 17, 2024For nearly five decades, the Nurses Health Study (NHS) has investigated the risk factors for the most prevalent chronic diseases in women and thousands of scientific articles have dra… [+5143 chars]",
         "For nearly five decades, the Nurses’ Health Study has investigated the risk factors for the most prevalent chronic diseases in women and thousands of scientific articles have drawn on its data. The study may come to an untimely end if additional funding is no…",
         "2024-10-17T19:06:31Z",
         "Harvard School of Engineering and Applied Sciences",
         "Long-running Nurses’ Health Study at risk of shutting down",
         "https://www.hsph.harvard.edu/news/features/long-running-nurses-health-study-at-risk-of-shutting-down/",
         "https://www.hsph.harvard.edu/news/wp-content/uploads/sites/21/2024/10/24_10_08-Nurses-Health-Study_094-scaled.jpg"
        ],
        [
         "Erica Sweeney",
         "WHEN YOU HAVE dry, itchy\r\n, or inflamed skin, you yearn for something soothing. A classic remedy for these problems is colloidal oatmeal. Its gentle, calming, and provides relief. \r\nColloidal oatmeal… [+5667 chars]",
         "Dermatologists recommend this classic, soothing treatment for a variety of skin ailments.",
         "2024-10-17T18:52:00Z",
         "menshealth.com",
         "How Can Colloidal Oatmeal Help Your Skin? Dermatologists Explain.",
         "https://www.menshealth.com/health/a62637593/colloidal-oatmeal-benefits/",
         "https://hips.hearstapps.com/hmg-prod/images/dry-skin-on-elbows-royalty-free-image-1729174980.jpg?crop=1.00xw:0.918xh;0,0.0733xh&resize=1200:*"
        ],
        [
         null,
         "Google announced it is licensing its AI model focused on detecting diabetic retinopathy to partners in Thailand and India, two countries the tech giant says have a shortage of eye specialists. \r\nGoog… [+2678 chars]",
         "The tech giant and its partners will work to make AI-enabled eyesight-saving care more readily available to clinical systems across both countries.",
         "2024-10-17T18:38:42Z",
         "MobiHealthNews",
         "Google licenses AI diabetic retinopathy model to partners in India, Thailand",
         "https://www.mobihealthnews.com/news/google-licenses-ai-diabetic-retinopathy-model-partners-india-thailand",
         "https://www.mobihealthnews.com/sites/default/files/Eye%20image.jpg"
        ],
        [
         "Agência Lusa",
         "A Direção-Geral da Saúde (DGS) está a avaliar um projeto-piloto para rastrear a diabetes tipo 1 nas crianças, disse esta quinta-feira a especialista Catarina Limbert, adiantando que o objetivo é que … [+3783 chars]",
         "Existem cerca de 38.000 pessoas com diabetes tipo 1 em Portugal, das quais 3.000 a 4.000 têm menos de 15 anos. Objetivo é que rastreio seja feito aos cinco anos no momento da vacinação.",
         "2024-10-17T18:37:58Z",
         "Observador.pt",
         "Direção Geral de Saúde está a avaliar projeto-piloto para rastrear a diabetes tipo 1 nas crianças, segundo especialista",
         "https://observador.pt/2024/10/17/direcao-geral-de-saude-esta-a-avaliar-projeto-piloto-para-rastrear-a-diabetes-tipo-1-nas-criancas-segundo-especialista/",
         "https://wm.observador.pt/wm/obs/l/https%3A%2F%2Fbordalo.observador.pt%2Fv2%2Frs%3Afill%3A770%3A403%2Fc%3A3115%3A1747%3Anowe%3A0%3A69%2Fq%3A70%2Ff%3Awebp%2Fplain%2Fhttps%3A%2F%2Fs3.observador.pt%2Fwp-content%2Fuploads%2F2020%2F11%2F12191723%2Fistock-836372378.jpg"
        ],
        [
         "LA NACION",
         "En la búsqueda constante por mejorar la calidad de vida, la alimentación ocupa un rol preponderante. En este escenario, existen alimentos que, aunque desconocidos para muchos, esconden beneficios exc… [+4086 chars]",
         "Este tipo de nuez es una excelente opción para quienes buscan mejorar su salud a través de la alimentación; de qué manera este fruto tropical beneficia tanto al cuerpo como al bienestar general",
         "2024-10-17T18:32:02Z",
         "La Nacion",
         "El fruto seco que reduce el colesterol y ayuda a perder peso",
         "https://www.lanacion.com.ar/lifestyle/cuidado-cuerpo-belleza/el-fruto-seco-que-reduce-el-colesterol-y-ayuda-a-perder-peso-nid17102024/",
         "https://resizer.glanacion.com/resizer/v2/una-fruta-seca-oriunda-del-tropico-se-presenta-FI6S7MNJYJDIRJEZPHNGVRVKWE.jpg?auth=c6c8d47008d1d9edcaa87d62f29319b5ffff3f1116408384bcf6360e1139fca8&width=1200&quality=70&smart=false&height=800"
        ],
        [
         "GlobeNewswire",
         "Author of the article:\r\nArticle content\r\nData Show Tesamorelin May Reduce CVD Risk by Reducing EVAF\r\nMONTREAL, Oct. 17, 2024 (GLOBE NEWSWIRE) Theratechnologies Inc. (Theratechnologies or the Company)… [+10919 chars]",
         "Data Show Tesamorelin May Reduce CVD Risk by Reducing EVAF MONTREAL, Oct. 17, 2024 (GLOBE NEWSWIRE) — Theratechnologies Inc. (“Theratechnologies” or the “Company”) (TSX: TH) (NASDAQ: THTX), a biopharmaceutical company focused on development and commercializat…",
         "2024-10-17T18:01:51Z",
         "Financial Post",
         "Theratechnologies IDWeek Presentations Highlight the Impact of Excess Visceral Abdominal Fat (EVAF) on Cardiovascular Disease (CVD) Risk in People with HIV",
         "https://financialpost.com/globe-newswire/theratechnologies-idweek-presentations-highlight-the-impact-of-excess-visceral-abdominal-fat-evaf-on-cardiovascular-disease-cvd-risk-in-people-with-hiv",
         null
        ],
        [
         "Theratechnologies",
         "MONTREAL, Oct. 17, 2024 (GLOBE NEWSWIRE) -- Theratechnologies Inc. (Theratechnologies or the Company) (TSX: TH) (NASDAQ: THTX), a biopharmaceutical company focused on development and commercializatio… [+7975 chars]",
         "Data Show Tesamorelin May Reduce CVD Risk by Reducing EVAF Data Show Tesamorelin May Reduce CVD Risk by Reducing EVAF",
         "2024-10-17T18:00:00Z",
         "GlobeNewswire",
         "Theratechnologies IDWeek Presentations Highlight the Impact of Excess Visceral Abdominal Fat (EVAF) on Cardiovascular Disease (CVD) Risk in People with HIV",
         "https://www.globenewswire.com/news-release/2024/10/17/2965162/0/en/Theratechnologies-IDWeek-Presentations-Highlight-the-Impact-of-Excess-Visceral-Abdominal-Fat-EVAF-on-Cardiovascular-Disease-CVD-Risk-in-People-with-HIV.html",
         "https://ml.globenewswire.com/Resource/Download/bc5f0c7c-d146-4ce1-aecb-fd33e467f768"
        ],
        [
         "Noor Al-Sibai",
         "In a new statistical analysis, researchers have found evidence that drugs like Ozempic may help curb alcohol and opioid addiction.\r\nPublished in the journal Addiction, this new study saw researchers … [+2174 chars]",
         "In a huge new statistical analysis, researchers have found more evidence than ever that drugs like Ozempic can help curb alcohol and opioid addiction. Published in the journal Addiction, this new study saw researchers from Loyola University Chicago sift throu…",
         "2024-10-17T17:52:47Z",
         "Futurism",
         "Ozempic Could Be Used to Treat Alcohol and Drug Addiction, Study Finds",
         "https://futurism.com/neoscope/ozempic-alcohol-drug-addiction",
         "https://wordpress-assets.futurism.com/2024/10/ozempic-alcohol-drug-addiction.jpg"
        ],
        [
         "Nicole Simon",
         "Kohlenhydrate sind nicht nur die kleinen weißen Kristalle, die wir in Kaffee oder Kuchenteig mischen. Sie stecken auch in der Stärke in Brot, Reis oder Kartoffeln. Dort kommen sie als komplexe Gefüge… [+4114 chars]",
         "Wer schwer auf Kohlenhydrate verzichten kann, hat eine Ausrede: Schuld ist die DNA unserer urzeitlichen Vorfahren. Was damals passierte, haben Forscher nun herausgefunden.",
         "2024-10-17T17:50:00Z",
         "STERN.de",
         "Menschheitsgeschichte: Das süße Erbe der Neandertaler: Warum wir Brot und Pasta lieben",
         "https://www.stern.de/panorama/wissen/lust-auf-kohlenhydrate--das-suesse-erbe-der-neandertaler-35150006.html",
         "https://image.stern.de/35150008/t/sl/v5/w1440/r1.7778/-/neandertaler-und-kohlenhydrate.jpg"
        ],
        [
         "Catalina Ciampa",
         "Caminar es una de las formas más simples y efectivas de mantener el cuerpo en movimiento. A medida que envejecemos, incorporar caminatas regulares en la rutina diaria puede aportar múltiples benefici… [+3793 chars]",
         "Caminar es una de las formas más simples y efectivas de mantener el cuerpo en movimiento. A medida que envejecemos, incorporar caminatas regulares en la rutina diaria puede aportar múltiples beneficios a la salud física y mental, ayudando a prevenir enfermeda…",
         "2024-10-17T17:36:57Z",
         "Mundodeportivo.com",
         "El horario ideal para salir a caminar si eres un adulto mayor, según los expertos",
         "https://www.mundodeportivo.com/vidae/ejercicio-fisico/20241017/1002331315/cual-mejor-hora-salir-caminar-tienes-mas-60-anos.html",
         "https://www.mundodeportivo.com/files/og_thumbnail/files/fp/uploads/2024/02/07/65c3fb751969b.r_d.824-514-7500.jpeg"
        ],
        [
         "Michael Majanga",
         "Embattled Deputy President Rigathi Gachagua is in a stable condition, this is according to Dr Dan Gikonyo of the Karen Hospital.\r\nSpeaking to journalists on Thursday, October 17, Dr Gikonyo said that… [+1265 chars]",
         "Embattled Deputy President Rigathi Gachagua is in a stable condition, this is according to Dr Dan Gikonyo of the Karen Hospital.",
         "2024-10-17T17:20:56Z",
         "Tv47.digital",
         "Dr Gikonyo updates Kenyans on DP Gachagua's health condition",
         "https://www.tv47.digital/dr-dan-gikonyo-updates-kenyans-on-dp-gachaguas-health-condition-74393/",
         "https://www.tv47.digital/wp-content/uploads/2024/10/New-Project-1-1.png"
        ],
        [
         "John Oyewale",
         "Weight loss drugs such as Ozempic, Wegovy and Mounjaro may lower opioid overdose and alcohol intoxication rates among opioid addicts and alcoholics, respectively, according to a new study by three Lo… [+3424 chars]",
         "Weight loss drugs such as Ozempic, Wegovy, and Mounjaro may lower opioid overdose and alcohol intoxication rates among opioid addicts and alcoholics",
         "2024-10-17T17:20:03Z",
         "The Daily Caller",
         "Researchers Think Popular Weight Loss Drugs Could Help Lower Opioid Overdose, Alcohol Intoxication Rates",
         "https://dailycaller.com/2024/10/17/ozempic-wegovy-mounjaro-lower-opioid-overdose-alcohol-intoxication-rates-study-loyola-university-chicago/",
         "https://cdn01.dailycaller.com/wp-content/uploads/2024/07/Ozempic%c2%ae_3ml-scaled-e1720142992247.jpg"
        ],
        [
         "Ella Scott",
         "There are four common traits that could increase your risk of heart disease, according to a doctor. \r\nAround two million people worldwide undergo open-heart surgery every year, according to the Cleve… [+3751 chars]",
         "A popular TikToker and heart surgeon has revealed the four common traits he sees in his heart surgery patients, including diabetes and smoking.",
         "2024-10-17T17:16:47Z",
         "LADbible",
         "Doctor reveals the four major traits heart surgery patients have in common",
         "https://www.ladbible.com/news/health/major-traits-of-heart-surgery-patients-doctor-351307-20241017",
         "https://images.ladbible.com/resize?type=webp&quality=70&width=1200&fit=contain&gravity=auto&url=https://images.ladbiblegroup.com/v3/assets/bltcd74acc1d0a99f3a/blt261329155e776d41/6711306dce5a896db1654fea/heart-surgeon_.png"
        ],
        [
         "Marilyn Perkins",
         "For the average healthy adult, the flu\r\n can be disruptive — long days of sore throat, fever and coughing cause people to miss school and work, and also just feel miserable. But for very young childr… [+5791 chars]",
         "Many factors affect the infectious period of seasonal influenza, commonly called \"the flu,\" but there are some good rules of thumb for when it's safe to return to work or school.",
         "2024-10-17T17:15:00Z",
         "Live Science",
         "How long is the flu contagious?",
         "https://www.livescience.com/health/flu/how-long-is-the-flu-contagious",
         "https://cdn.mos.cms.futurecdn.net/MuVfaXjqy4f9A4bSjneVQ3-1200-80.jpg"
        ],
        [
         "Timothy Cerullo",
         "A doctor at the Karen hospital in Nairobi where embattled Deputy President Rigathi Gachagua was rushed after falling ill during the Senate proceedings has confirmed that the second in command was in … [+2605 chars]",
         "He is Stable - Karen Hospital Doctor Issues Update on Gachagua's Healthkenyans.co.ke",
         "2024-10-17T17:14:44Z",
         "Kenyans.co.ke",
         "He is Stable - Karen Hospital Doctor Issues Update on Gachagua's Health",
         "https://www.kenyans.co.ke/news/105458-he-stable-condition-doctor-karen-hospital-issues-update-gachaguas-health",
         "https://www.kenyans.co.ke/files/styles/article_style/public/images/media/rigathi%20gachagua%20kicc.jpg?itok=0C36VDk9"
        ],
        [
         "Judit Macarro",
         "Se dice que el perro es el mejor amigo del hombre. Para los invidentes o aquellas personas con problemas de visión estos animales son un guía con el que pueden moverse por la ciudad y avalan por su s… [+4302 chars]",
         "El procedimiento se aplicará en la atención sanitaria a un paciente que precise acompañamiento de un perro, siempre que el estado clínico del mismo lo permita.",
         "2024-10-17T17:07:46Z",
         "Elespanol.com",
         "Los perros guía podrán subir a las ambulancias de Zaragoza: \"Son una prolongación más de nuestro cuerpo\"",
         "https://www.elespanol.com/aragon/actualidad/zaragoza/20241017/perros-guia-podran-subir-ambulancias-zaragoza-prolongacion-cuerpo/894161044_0.html",
         "https://s1.elespanol.com/2024/10/17/aragon/actualidad/zaragoza/894171344_250096207_1706x960.jpg"
        ],
        [
         "Alexandra Ferguson",
         "Sheridan, Wyoming (CNN)  Con su característico traje azul y su corbata roja, Donald Trump se muestra en actitud presidencial mientras se sienta detrás de un escritorio de madera oscura y firma un doc… [+13229 chars]",
         "Una investigación de CNN sobre la fabricación y distribución de los relojes de la marca Trump acabó en un centro comercial aparentemente modesto de una pequeña ciudad del remoto norte de Wyoming, no muy lejos de la frontera con Montana.\nThe post CNN intentó e…",
         "2024-10-17T17:05:42Z",
         "CNN",
         "CNN intentó encontrar a los fabricantes de los nuevos relojes \"de fabricación suiza\" de Trump. Acabamos en un centro comercial en Wyoming",
         "https://cnnespanol.cnn.com/2024/10/17/fabricantes-relojes-trump-wyoming-trax",
         "https://media.cnn.com/api/v1/images/stellar/prod/cnne-1768185-c-screenshot-2024-10-14-at-4-56-24-pm.jpg?c=16x9&q=w_800,c_fill"
        ],
        [
         "Taylor Freitas",
         "For many of us, the hunt for a midnight snack is the only reason for getting out of bed in the middle of the night. Others battle with a late-night urge they can't ignore; a trip (or multiple trips) … [+5228 chars]",
         "Waking up and running to the bathroom can really mess up your sleep. Luckily, there are things you can do to find relief.",
         "2024-10-17T17:00:00Z",
         "CNET",
         "Stop Nightly Trips to the Bathroom With These 5 Sleep-Saving Tips",
         "https://www.cnet.com/health/sleep/stop-nightly-trips-to-the-bathroom-with-these-5-sleep-saving-tips/",
         "https://www.cnet.com/a/img/resize/1f67a352879b77e0872922812e453c28615044d4/hub/2023/12/06/35969413-d848-4c0d-b376-2cba1eb836b5/gettyimages-1211810258.jpg?auto=webp&fit=crop&height=675&width=1200"
        ],
        [
         "Ian Johnston, Michael Peel",
         "Ozempic and similar products cut opioid and alcohol abuse by up to half, according to research that adds to evidence of the hugely popular blockbuster drugs broad potential beyond tackling obesity an… [+3733 chars]",
         "Academic notes while Ozempic might prevent overdoses, weight loss drug may not actually reduce or end substance use",
         "2024-10-17T16:52:52Z",
         "The Irish Times",
         "Weight-loss drugs show promise in tackling opioid and alcohol abuse",
         "https://www.irishtimes.com/business/2024/10/17/weight-loss-drugs-show-promise-in-tackling-opioid-and-alcohol-abuse/",
         "https://www.irishtimes.com/resizer/v2/W54RB7JE77B2EMW7PAM6XO5ISY.jpg?smart=true&auth=0650f796577d9b1a49f374b0a4b270d53beb5a058d9f29317e7e4bc770084377&width=1200&height=630"
        ],
        [
         "Business Wire",
         "Will Enable a Wide-Range of Clinical, Operational and Financial Benefits in the Delivery of Ambulatory Services\r\nDALLAS Palomar Health, a leading healthcare system providing services in North San Die… [+5165 chars]",
         "Will Enable a Wide-Range of Clinical, Operational and Financial Benefits in the Delivery of Ambulatory Services DALLAS — Palomar Health, a leading healthcare system providing services in North San Diego County, CA, and IKS Health, a provider of technology-ena…",
         "2024-10-17T16:30:42Z",
         "Financial Post",
         "Palomar Health and Palomar Health Medical Group Partner With IKS Health to Leverage Cutting-Edge Healthcare Technology and Services to Drive a Holistic Transformation",
         "https://financialpost.com/pmn/business-wire-news-releases-pmn/palomar-health-and-palomar-health-medical-group-partner-with-iks-health-to-leverage-cutting-edge-healthcare-technology-and-services-to-drive-a-holistic-transformation",
         null
        ],
        [
         "businessam.be",
         "Key takeaways\r\n<ul><li>Onderzoekers onderzochten de effecten van afslankmedicijnen op personen met alcohol- en opioïdenverslaving.</li><li>De studie vond een 50 procent lager percentage alcoholvergif… [+1880 chars]",
         "Key takeaways Een recent onderzoek, gepubliceerd in het tijdschrift Addiction, suggereert dat medicijnen voor gewichtsverlies potentiële voordelen hebben voor mensen die worstelen met alcohol- en opioïdenverslaving. Dit meldt Sky News. Onderzoekers onderzocht…",
         "2024-10-17T16:30:00Z",
         "Businessam.be",
         "Ozempic kan alcohol- en opioïdenverslaving helpen bestrijden",
         "https://businessam.be/medicijnen-tegen-gewichtsverlies-verslaving-behandeling/",
         "https://media.businessam.be/verslaving.jpg"
        ],
        [
         "Eddie Fu",
         "A Tribe Called Quest will be joined by several of their closest collaborators during their Rock &amp; Roll Hall of Fame induction on Saturday (October 19th) in Cleveland, Ohio.\r\nThe surviving members… [+1375 chars]",
         "The New York hip-hop pioneers will also be joined by De La Soul, Common, and Spliff Star.\nA Tribe Called Quest to Perform with Busta Rhymes, The Roots, Queen Latifah at Rock Hall Induction\nEddie Fu",
         "2024-10-17T16:29:54Z",
         "Consequence.net",
         "A Tribe Called Quest to Perform with Busta Rhymes, The Roots, Queen Latifah at Rock Hall Induction",
         "https://consequence.net/2024/10/a-tribe-called-quest-rock-roll-hall-of-fame-performance/",
         "https://consequence.net/wp-content/uploads/2024/10/a-tribe-called-quest-rock-and-roll-hall-of-fame-performers.jpg"
        ],
        [
         "Bruce Gil",
         "In This Story\r\nThe case that Ozempic (NVO+0.30%\r\n) and other GLP-1 medications could help people with substance use disorders is getting stronger.\r\nBlockbuster diabetes and weight loss drugs, known a… [+2694 chars]",
         "The case that Ozempic (NVO) and other GLP-1 medications could help people with substance use disorders is getting stronger.Read more...",
         "2024-10-17T16:27:00Z",
         "Quartz India",
         "Ozempic and other weight loss drugs could help treat alcohol and drug addiction, study says",
         "https://qz.com/ozempic-opioid-alcohol-addiction-1851675197",
         "https://i.kinja-img.com/image/upload/c_fill,h_675,pg_1,q_80,w_1200/75b216eafc38bbb845a6741bc1901246.jpg"
        ],
        [
         "Steve Peoples And Lauran Neergaard Associated Press",
         "WASHINGTON — If he wins next month's election, Donald Trump would be the oldest person in U.S. history to be elected president. Yet the 78-year-old Republican nominee refuses to disclose new details … [+6120 chars]",
         "Trump would be the oldest person to become president. He's not sharing health detailswmur.com",
         "2024-10-17T16:20:42Z",
         "WMUR Manchester",
         "Trump would be the oldest person to become president. He's not sharing health details",
         "https://www.wmur.com/article/trump-health-details-2024-campaign/62638596",
         "https://kubrick.htvapps.com/htv-prod-media.s3.amazonaws.com/images/ap267113129aa7f4.jpg?crop=1.00xw:0.844xh;0,0&resize=1200:*"
        ],
        [
         "Steve Peoples And Lauran Neergaard Associated Press",
         "WASHINGTON — If he wins next month's election, Donald Trump would be the oldest person in U.S. history to be elected president. Yet the 78-year-old Republican nominee refuses to disclose new details … [+6120 chars]",
         "Trump would be the oldest person to become president. He's not sharing health detailswmtw.com",
         "2024-10-17T16:18:29Z",
         "WMTW Portland",
         "Trump would be the oldest person to become president. He's not sharing health details",
         "https://www.wmtw.com/article/trump-health-details-2024-campaign/62638596",
         "https://kubrick.htvapps.com/htv-prod-media.s3.amazonaws.com/images/ap267113129aa7f4.jpg?crop=1.00xw:0.844xh;0,0&resize=1200:*"
        ],
        [
         "Steve Peoples And Lauran Neergaard Associated Press",
         "WASHINGTON — If he wins next month's election, Donald Trump would be the oldest person in U.S. history to be elected president. Yet the 78-year-old Republican nominee refuses to disclose new details … [+6120 chars]",
         "Trump would be the oldest person to become president. He's not sharing health detailswyff4.com",
         "2024-10-17T16:15:27Z",
         "WYFF4 Greenville",
         "Trump would be the oldest person to become president. He's not sharing health details",
         "https://www.wyff4.com/article/trump-health-details-2024-campaign/62638596",
         "https://kubrick.htvapps.com/htv-prod-media.s3.amazonaws.com/images/ap267113129aa7f4.jpg?crop=1.00xw:0.844xh;0,0&resize=1200:*"
        ],
        [
         "Steve Peoples And Lauran Neergaard Associated Press",
         "WASHINGTON — If he wins next month's election, Donald Trump would be the oldest person in U.S. history to be elected president. Yet the 78-year-old Republican nominee refuses to disclose new details … [+6120 chars]",
         "Trump would be the oldest person to become president. He's not sharing health detailswbaltv.com",
         "2024-10-17T16:15:08Z",
         "WBAL TV Baltimore",
         "Trump would be the oldest person to become president. He's not sharing health details",
         "https://www.wbaltv.com/article/trump-health-details-2024-campaign/62638596",
         "https://kubrick.htvapps.com/htv-prod-media.s3.amazonaws.com/images/ap267113129aa7f4.jpg?crop=1.00xw:0.844xh;0,0&resize=1200:*"
        ],
        [
         "Steve Peoples And Lauran Neergaard Associated Press",
         "WASHINGTON — If he wins next month's election, Donald Trump would be the oldest person in U.S. history to be elected president. Yet the 78-year-old Republican nominee refuses to disclose new details … [+6120 chars]",
         "Trump would be the oldest person to become president. He's not sharing health detailswisn.com",
         "2024-10-17T16:14:24Z",
         "WISN Milwaukee",
         "Trump would be the oldest person to become president. He's not sharing health details",
         "https://www.wisn.com/article/trump-health-details-2024-campaign/62638596",
         "https://kubrick.htvapps.com/htv-prod-media.s3.amazonaws.com/images/ap267113129aa7f4.jpg?crop=1.00xw:0.844xh;0,0&resize=1200:*"
        ],
        [
         "Steve Peoples And Lauran Neergaard Associated Press",
         "WASHINGTON — If he wins next month's election, Donald Trump would be the oldest person in U.S. history to be elected president. Yet the 78-year-old Republican nominee refuses to disclose new details … [+6120 chars]",
         "Trump would be the oldest person to become president. He's not sharing health detailswesh.com",
         "2024-10-17T16:14:23Z",
         "WESH Orlando",
         "Trump would be the oldest person to become president. He's not sharing health details",
         "https://www.wesh.com/article/trump-health-details-2024-campaign/62638596",
         "https://kubrick.htvapps.com/htv-prod-media.s3.amazonaws.com/images/ap267113129aa7f4.jpg?crop=1.00xw:0.844xh;0,0&resize=1200:*"
        ],
        [
         "Steve Peoples And Lauran Neergaard Associated Press",
         "WASHINGTON — If he wins next month's election, Donald Trump would be the oldest person in U.S. history to be elected president. Yet the 78-year-old Republican nominee refuses to disclose new details … [+6120 chars]",
         "Trump would be the oldest person to become president. He's not sharing health detailswgal.com",
         "2024-10-17T16:14:06Z",
         "WGAL Susquehanna Valley Pa.",
         "Trump would be the oldest person to become president. He's not sharing health details",
         "https://www.wgal.com/article/trump-health-details-2024-campaign/62638596",
         "https://kubrick.htvapps.com/htv-prod-media.s3.amazonaws.com/images/ap267113129aa7f4.jpg?crop=1.00xw:0.844xh;0,0&resize=1200:*"
        ],
        [
         "Steve Peoples And Lauran Neergaard Associated Press",
         "WASHINGTON — If he wins next month's election, Donald Trump would be the oldest person in U.S. history to be elected president. Yet the 78-year-old Republican nominee refuses to disclose new details … [+6120 chars]",
         "Trump would be the oldest person to become president. He's not sharing health detailskcci.com",
         "2024-10-17T16:13:47Z",
         "KCCI Des Moines",
         "Trump would be the oldest person to become president. He's not sharing health details",
         "https://www.kcci.com/article/trump-health-details-2024-campaign/62638596",
         "https://kubrick.htvapps.com/htv-prod-media.s3.amazonaws.com/images/ap267113129aa7f4.jpg?crop=1.00xw:0.844xh;0,0&resize=1200:*"
        ],
        [
         "Steve Peoples And Lauran Neergaard Associated Press",
         "WASHINGTON — If he wins next month's election, Donald Trump would be the oldest person in U.S. history to be elected president. Yet the 78-year-old Republican nominee refuses to disclose new details … [+6120 chars]",
         "Trump would be the oldest person to become president. He's not sharing health detailskcra.com",
         "2024-10-17T16:11:42Z",
         "KCRA Sacramento",
         "Trump would be the oldest person to become president. He's not sharing health details",
         "https://www.kcra.com/article/trump-health-details-2024-campaign/62638596",
         "https://kubrick.htvapps.com/htv-prod-media.s3.amazonaws.com/images/ap267113129aa7f4.jpg?crop=1.00xw:0.844xh;0,0&resize=1200:*"
        ],
        [
         "Steve Peoples And Lauran Neergaard Associated Press",
         "WASHINGTON — If he wins next month's election, Donald Trump would be the oldest person in U.S. history to be elected president. Yet the 78-year-old Republican nominee refuses to disclose new details … [+6120 chars]",
         "Trump would be the oldest person to become president. He's not sharing health detailsketv.com",
         "2024-10-17T16:11:29Z",
         "KETV Omaha",
         "Trump would be the oldest person to become president. He's not sharing health details",
         "https://www.ketv.com/article/trump-health-details-2024-campaign/62638596",
         "https://kubrick.htvapps.com/htv-prod-media.s3.amazonaws.com/images/ap267113129aa7f4.jpg?crop=1.00xw:0.844xh;0,0&resize=1200:*"
        ],
        [
         "Steve Peoples And Lauran Neergaard Associated Press",
         "WASHINGTON — If he wins next month's election, Donald Trump would be the oldest person in U.S. history to be elected president. Yet the 78-year-old Republican nominee refuses to disclose new details … [+6120 chars]",
         "Trump would be the oldest person to become president. He's not sharing health detailswlwt.com",
         "2024-10-17T16:11:15Z",
         "WLWT Cincinnati",
         "Trump would be the oldest person to become president. He's not sharing health details",
         "https://www.wlwt.com/article/trump-health-details-2024-campaign/62638596",
         "https://kubrick.htvapps.com/htv-prod-media.s3.amazonaws.com/images/ap267113129aa7f4.jpg?crop=1.00xw:0.844xh;0,0&resize=1200:*"
        ],
        [
         "Steve Peoples And Lauran Neergaard Associated Press",
         "WASHINGTON — If he wins next month's election, Donald Trump would be the oldest person in U.S. history to be elected president. Yet the 78-year-old Republican nominee refuses to disclose new details … [+6120 chars]",
         "Trump would be the oldest person to become president. He's not sharing health detailskoco.com",
         "2024-10-17T16:09:32Z",
         "KOCO Oklahoma City",
         "Trump would be the oldest person to become president. He's not sharing health details",
         "https://www.koco.com/article/trump-health-details-2024-campaign/62638596",
         "https://kubrick.htvapps.com/htv-prod-media.s3.amazonaws.com/images/ap267113129aa7f4.jpg?crop=1.00xw:0.844xh;0,0&resize=1200:*"
        ],
        [
         "Steve Peoples And Lauran Neergaard Associated Press",
         "WASHINGTON — If he wins next month's election, Donald Trump would be the oldest person in U.S. history to be elected president. Yet the 78-year-old Republican nominee refuses to disclose new details … [+6120 chars]",
         "Trump would be the oldest person to become president. He's not sharing health detailswlky.com",
         "2024-10-17T16:09:31Z",
         "WLKY Louisville",
         "Trump would be the oldest person to become president. He's not sharing health details",
         "https://www.wlky.com/article/trump-health-details-2024-campaign/62638596",
         "https://kubrick.htvapps.com/htv-prod-media.s3.amazonaws.com/images/ap267113129aa7f4.jpg?crop=1.00xw:0.844xh;0,0&resize=1200:*"
        ],
        [
         "Amy Roeder",
         "Carbohydrate quality, glycemic index, metabolic health the focus at the Department of Nutritions annual Stare-Hegsted Lecture.\r\nOctober 17, 2024 In the late 1970s when low-carbohydrate diets were fir… [+2712 chars]",
         "Carbohydrate quality, glycemic index, metabolic health were the focus at the Department of Nutrition’s annual Stare-Hegsted Lecture.",
         "2024-10-17T16:09:21Z",
         "Harvard School of Engineering and Applied Sciences",
         "Measuring the health value of carbohydrates",
         "https://www.hsph.harvard.edu/news/features/jenkins-carbohydrates-health-glycemic-index/",
         "https://www.hsph.harvard.edu/news/wp-content/uploads/sites/21/2024/10/whole-grains-1200x800-1.jpg"
        ],
        [
         "Steve Peoples And Lauran Neergaard Associated Press",
         "WASHINGTON — If he wins next month's election, Donald Trump would be the oldest person in U.S. history to be elected president. Yet the 78-year-old Republican nominee refuses to disclose new details … [+6120 chars]",
         "Trump would be the oldest person to become president. He's not sharing health detailswtae.com",
         "2024-10-17T16:09:15Z",
         "WTAE Pittsburgh",
         "Trump would be the oldest person to become president. He's not sharing health details",
         "https://www.wtae.com/article/trump-health-details-2024-campaign/62638596",
         "https://kubrick.htvapps.com/htv-prod-media.s3.amazonaws.com/images/ap267113129aa7f4.jpg?crop=1.00xw:0.844xh;0,0&resize=1200:*"
        ],
        [
         "Steve Peoples And Lauran Neergaard Associated Press",
         "WASHINGTON — If he wins next month's election, Donald Trump would be the oldest person in U.S. history to be elected president. Yet the 78-year-old Republican nominee refuses to disclose new details … [+6120 chars]",
         "Trump would be the oldest person to become president. He's not sharing health detailsmynbc5.com",
         "2024-10-17T16:08:29Z",
         "WPTZ",
         "Trump would be the oldest person to become president. He's not sharing health details",
         "https://www.mynbc5.com/article/trump-health-details-2024-campaign/62638596",
         "https://kubrick.htvapps.com/htv-prod-media.s3.amazonaws.com/images/ap267113129aa7f4.jpg?crop=1.00xw:0.844xh;0,0&resize=1200:*"
        ],
        [
         "Steve Peoples And Lauran Neergaard Associated Press",
         "WASHINGTON — If he wins next month's election, Donald Trump would be the oldest person in U.S. history to be elected president. Yet the 78-year-old Republican nominee refuses to disclose new details … [+6120 chars]",
         "Trump would be the oldest person to become president. He's not sharing health detailskmbc.com",
         "2024-10-17T16:08:27Z",
         "KMBC Kansas City",
         "Trump would be the oldest person to become president. He's not sharing health details",
         "https://www.kmbc.com/article/trump-health-details-2024-campaign/62638596",
         "https://kubrick.htvapps.com/htv-prod-media.s3.amazonaws.com/images/ap267113129aa7f4.jpg?crop=1.00xw:0.844xh;0,0&resize=1200:*"
        ],
        [
         "Steve Peoples And Lauran Neergaard Associated Press",
         "WASHINGTON — If he wins next month's election, Donald Trump would be the oldest person in U.S. history to be elected president. Yet the 78-year-old Republican nominee refuses to disclose new details … [+6120 chars]",
         "Trump would be the oldest person to become president. He's not sharing health detailswcvb.com",
         "2024-10-17T16:07:56Z",
         "WCVB Boston",
         "Trump would be the oldest person to become president. He's not sharing health details",
         "https://www.wcvb.com/article/trump-health-details-2024-campaign/62638596",
         "https://kubrick.htvapps.com/htv-prod-media.s3.amazonaws.com/images/ap267113129aa7f4.jpg?crop=1.00xw:0.844xh;0,0&resize=1200:*"
        ],
        [
         "Forbes Staff",
         "El uso de suplementos alimenticios puede mitigar algunos factores de riesgo de enfermedades no transmisibles (ENT) como eventos coronarios, diabetes tipo 2, síndrome del intestino irritable, deterior… [+4273 chars]",
         "Forbes México.\n El uso de suplementos alimenticios mitigaría el riesgo de enfermedades no transmisibles\n\nSegún un estudio, el uso de suplementos alimenticios puede mitigar algunos factores de riesgo de enfermedades no transmisibles como eventos coronarios, di…",
         "2024-10-17T16:05:35Z",
         "Forbes.com.mx",
         "El uso de suplementos alimenticios mitigaría el riesgo de enfermedades no transmisibles",
         "https://forbes.com.mx/el-uso-de-suplementos-alimenticios-mitigaria-el-riesgo-de-enfermedades-no-transmisibles/",
         "https://cdn.forbes.com.mx/2020/07/suplementos-alimenticios.jpg"
        ],
        [
         "Nuria Safont",
         "En los últimos años, el término sobrecrecimiento bacteriano del intestino delgado (SIBO, por sus siglas en inglés) se ha vuelto popular y, hasta podríamos decir, que 'de moda' Muchas personas, tras b… [+6324 chars]",
         "La popularidad que ha ganado este trastorno ha hecho que algunas personas se autodiagnostiquen y que, incluso, tomen medicaciones o hagan dietas para un problema de salud que puede confundirse con otro, a veces, más grave.",
         "2024-10-17T16:00:00Z",
         "Hola",
         "9 enfermedades que pueden confundirse con un SIBO (y pueden ser graves)",
         "https://www.hola.com/estar-bien/20241017724522/sibo-enfermedades-que-pueden-confundirse-con-el-sobrecimiento-bacteriano/",
         "https://www.hola.com/horizon/landscape/f94909ca93c8-gettyimages-1270650523.jpg?im=Resize=(1200)"
        ],
        [
         null,
         "This is a \r\nshort\r\n condensed summary of key facts and relevant evidence I have discovered in my extensive research on healthcare.  Conventional wisdom on healthcare is far from the mark, both in gen… [+63692 chars]",
         "Rich countries consume much higher quantities via higher intensity/tech.  It's NOT high and rising: wages, profits, administration, encounters, etc.  Income well explains American behavior here too.",
         "2024-10-17T15:57:54Z",
         "Randomcriticalanalysis.com",
         "Why conventional wisdom on health care is wrong (a primer) (2020)",
         "https://randomcriticalanalysis.com/why-conventional-wisdom-on-health-care-is-wrong-a-primer/",
         "https://i0.wp.com/randomcriticalanalysis.com/wp-content/uploads/2020/01/rcafdm_updated_icp_2011_health_share_plot.png?fit=766%2C614&ssl=1"
        ],
        [
         "Hatty Willmoth",
         "At a time when nutrition and wellness influencers are often on low-carbohydrate diets, starchy foods like bread, pasta and fries are rarely the subject of positive health-related attention.\r\nBut one … [+4556 chars]",
         "Low-carb fans would have us chuck pasta in the trash, but a professor says it can be a healthy addition to a diet.",
         "2024-10-17T15:54:40Z",
         "Newsweek",
         "Pasta Can Be Healthy, Says Nutrition Scientist",
         "https://www.newsweek.com/pasta-can-healthy-nutrition-scientist-1970706",
         "https://d.newsweek.com/en/full/2497836/pasta-penne-roasted-tomato-sauce-cheese.jpg"
        ],
        [
         null,
         "Riksdagen har inkluderat nikotinpåsar i tobakslagen, med hänvisning till folkhälsorisker. Men det är oklart exakt hur farliga de egentligen är för hälsan.<li>Den nya tobakslagen, som riksdagen godkän… [+612 chars]",
         "Kan leda till rytmstörningar och typ 2-diabetes.",
         "2024-10-17T15:52:48Z",
         "Svenska.yle.fi",
         "Så här påverkas din hälsa av nikotinpåsar",
         "https://svenska.yle.fi/a/7-10065657",
         "https://images.cdn.yle.fi/image/upload/f_auto,fl_progressive/q_auto/w_1919,h_1080,c_crop,x_0,y_0/w_1200/w_1200,ar_16:9/w_1320,ar_1320:675,c_pad,b_white,g_east/l_39-yle-logo-some_ywtrrc,g_west,ar_1320:675,w_1.0,fl_relative,c_crop/v1729161871/39-1364678670fb374c2822.jpg"
        ],
        [
         "CBS News",
         "Watch CBS News\r\nCopyright ©2024 CBS Interactive Inc. All rights reserved.\r\nGet browser notifications for breaking news, live events, and exclusive reporting.\r\nNot NowTurn On",
         "New research suggests diabetes drugs like Ozempic, which some people also take to lose weight, may also help patients suffering from substance addiction. CBS News contributor Dr. Celene Gounder has more.",
         "2024-10-17T15:47:00Z",
         "CBS News",
         "Study finds drugs like Ozempic could help with substance addiction",
         "https://www.cbsnews.com/video/research-suggests-drugs-like-ozempic-could-help-with-substance-addiction/",
         "https://assets1.cbsnewsstatic.com/hub/i/r/2024/10/17/4834bc63-db38-44d9-845e-617639c46eff/thumbnail/1200x630/3f414c1aaaca9bed9d335643009edc01/cbsn-fusion-research-suggests-drugs-like-ozempic-could-help-with-substance-addiction-thumbnail.jpg?v=edba3a63b5392b4c81ae19d894992d91"
        ],
        [
         null,
         "Researchers at Rutgers University-New Brunswick, along with international collaborators, have introduced a novel method for identifying the crucial set of gut microbes commonly found in humans and es… [+5804 chars]",
         "Researchers have introduced a novel method for identifying the crucial set of gut microbes commonly found in humans and essential for health. The researchers said the discovery offers innovative opportunities for precision nutrition and personalized therapies…",
         "2024-10-17T15:36:52Z",
         "Science Daily",
         "Researchers help redefine core microbiome, opening new chapter in precision health",
         "https://www.sciencedaily.com/releases/2024/10/241017113652.htm",
         "https://www.sciencedaily.com/images/scidaily-icon.png"
        ],
        [
         null,
         "Biologists at Brown University have discovered how a neuropeptide hormone made in the gut of flies can control their lifespan.The findings, published in PNAS, have implications for humans, too, the r… [+3370 chars]",
         "The discovery of a gut-to-brain regulation pathway in flies calls for additional consideration on how certain medications, especially GLP-1 agonists, can be used to treat obesity and diabetes in humans.",
         "2024-10-17T15:35:38Z",
         "Science Daily",
         "Researchers show how gut hormones control aging in flies and how it relates to human biology",
         "https://www.sciencedaily.com/releases/2024/10/241017113538.htm",
         "https://www.sciencedaily.com/images/scidaily-icon.png"
        ],
        [
         "Angela Haupt",
         "Taking care of your cognitive health ought to bewell, a no-brainer. According to a survey published in March, 87% of Americans are concerned about age-related memory loss and a decline in brain funct… [+10070 chars]",
         "We asked four neurologists what to do every day for better brain health. On the list: exercising for 30 minutes and chatting with a friend.",
         "2024-10-17T15:28:45Z",
         "Time",
         "9 Things You Should Do for Your Brain Health Every Day, According to Neurologists",
         "https://time.com/7081407/brain-health-neurologist-tips/",
         "https://api.time.com/wp-content/uploads/2024/10/BrainHealthEveryday.png?w=1200&h=628&crop=1"
        ],
        [
         "Richard Fowler, Contributor, \n Richard Fowler, Contributor\n https://www.forbes.com/sites/richardfowler/",
         "LAS VEGAS, NEVADA: Democratic Presidential nominee for President Vice President Kamala Harris leaves ... [+] from Harry Reid International Airport to head back east to attend to Hurricane Helene afte… [+6564 chars]",
         "Vice President Harris rolls out agenda for Black men as corporations doubt the power of diversity, inclusion and equity programs.",
         "2024-10-17T15:22:51Z",
         "Forbes",
         "As Companies Abandon DEI Initiatives, Harris Doubles Down On Black Men",
         "https://www.forbes.com/sites/richardfowler/2024/10/17/as-companies-abandon-dei-initiatives-harris-doubles-down-on-black-men/",
         "https://imageio.forbes.com/specials-images/imageserve/6711288783f77cfc4ae94c2f/0x0.jpg?format=jpg&height=900&width=1600&fit=bounds"
        ],
        [
         "Redação",
         "A creatina é um suplemento popular entre atletas e praticantes de atividade física, conhecido por seus potenciais benefícios no desempenho esportivo. No entanto, assim como qualquer substância, nem t… [+10687 chars]",
         "A creatina é um suplemento popular entre atletas e praticantes de atividade física, conhecido por seus potenciais benefícios no desempenho esportivo. No entanto, assim como qualquer substância, nem todos podem fazer uso desse suplemento. Neste artigo, vamos a…",
         "2024-10-17T15:06:14Z",
         "Tableless.com.br",
         "Quem não pode fazer uso de creatina?",
         "https://tableless.com.br/quem-nao-pode-fazer-uso-de-creatina/",
         "https://tableless.com.br/wp-content/uploads/2024/07/XBdKX2Hr8cPKBwUX75ef_whey-junto-com-a-creatina6.jpg"
        ],
        [
         "Catalina Ciampa",
         "La diabetes es una enfermedad crónica que requiere un control constante de los niveles de glucosa. Además de llevar un estilo de vida activo y realizar ejercicio regularmente, la alimentación juega u… [+4292 chars]",
         "La diabetes es una enfermedad crónica que requiere un control constante de los niveles de glucosa. Además de llevar un estilo de vida activo y realizar ejercicio regularmente, la alimentación juega un papel crucial en la gestión de esta condición. En este sen…",
         "2024-10-17T14:43:08Z",
         "Mundodeportivo.com",
         "Lo que todo diabético debe saber: las 5 bebidas para bajar el azúcar en sangre",
         "https://www.mundodeportivo.com/vidae/nutricion/20241017/1002333323/truco-5-bebidas-bajar-azucar-sangre.html",
         "https://www.mundodeportivo.com/files/og_thumbnail/files/fp/uploads/2024/08/15/66be2e1fb4399.r_d.662-507-9375.jpeg"
        ],
        [
         "Sara Moniuszko",
         "Diabetes and weight loss drugs like Mounjaro and Ozempic may also help patients suffering from addiction, according to a new study. \r\nIn the study, published Thursday in the scientific journal Addict… [+1825 chars]",
         "Drugs​ like Mounjaro and Ozempic, which many use for weight loss,​​ may also help patients suffering from addiction, according to a new study.",
         "2024-10-17T14:33:08Z",
         "CBS News",
         "Weight loss drugs could help with alcohol, opioid addiction, study says",
         "https://www.cbsnews.com/news/weight-loss-drugs-alcohol-opioid-addiction-study/",
         "https://assets1.cbsnewsstatic.com/hub/i/r/2024/10/17/a1c1b2a1-135a-428c-a715-09bc5c5b6c73/thumbnail/1200x630/101285600c620a01c617f2ebe7fdbad2/gettyimages-2178012991.jpg?v=edba3a63b5392b4c81ae19d894992d91"
        ],
        [
         "Thatyana Costa",
         "Estudo relaciona açúcar adicionado com maior risco de pedra nos rins - iStock/grinvalds\r\nEstudos recentes apontam que o consumo excessivo de açúcares adicionados pode aumentar consideravelmente o ris… [+1378 chars]",
         "Estudos recentes apontam que o consumo excessivo de açúcares adicionados pode aumentar consideravelmente o risco de pedra nos rins. Enquanto o sal sempre",
         "2024-10-17T14:30:21Z",
         "Catracalivre.com.br",
         "Alimento que aumenta em 88% o risco de pedras nos rins",
         "https://catracalivre.com.br/saude-bem-estar/alimento-que-aumenta-em-88-o-risco-de-pedras-nos-rins/",
         "https://catracalivre.com.br/cdn-cgi/image/f=auto,q=60,w=1280,h=720,fit=cover,format=jpeg/wp-content/uploads/2024/02/acucar-adicionado-causa-pedras-nos-rins.png"
        ],
        [
         "Bethânia Nunes",
         "Pesquisadores da Universidade de Chicago, nos Estados Unidos, descobriram que o uso do Ozempic e medicamentos semelhantes pode reduzir o risco de overdose por opioides e álcool.\r\nEm estudo publicado … [+1700 chars]",
         "Pesquisadores acreditam que o Ozempic e medicamentos semelhantes podem servir como tratamento para o abuso de opioides e álcool",
         "2024-10-17T14:23:12Z",
         "Metropoles.com",
         "Ozempic reduz risco de overdose por opioides e álcool, aponta estudo",
         "https://www.metropoles.com/saude/ozempic-reduz-overdose-opioides-alcool",
         "https://uploads.metroimg.com/wp-content/uploads/2024/03/27154156/Ozempic-7.jpg"
        ],
        [
         "FOCUS online",
         "In den letzten Jahren haben Wissenschaftler begonnen, die Auswirkungen der Ernährung auf das Immunsystem genauer zu untersuchen. Besonders die Rolle der Ernährung bei der Förderung der Gesundheit und… [+7764 chars]",
         "Eine ausgewogene Ernährung stärkt das Immunsystem. Studien zeigen, wie gezielte Nährstoffe die Abwehrkräfte unterstützen.",
         "2024-10-17T14:12:00Z",
         "Focus",
         "Gesund durch die kalte Jahreszeit - Richtige Ernährung: Studie liefert wertvolle Tipps für ein gestärktes Immunsystem",
         "https://www.focus.de/gesundheit/ernaehrung/richtige-ernaehrung-studie-liefert-wertvolle-tipps-fuer-ein-gestaerktes-immunsystem_be530c0c-5726-4212-b539-dc3fd242a133.html",
         "https://quadro.burda-forward.de/ctf/fcf34428-eeb0-4f0a-9ff8-8e4b298a11bf.6626aada-e430-4310-8fea-f0d42ef97212.jpeg?im=RegionOfInterestCrop%3D%281200%2C630%29%2CregionOfInterest%3D%281148%2C532%29&hash=84ee42b8b975658a7b927a2dfc753689cfa5b9c3521c1472b26089d38ea35d20"
        ],
        [
         "FOCUS online",
         "In den letzten Jahren haben Wissenschaftler begonnen, die Auswirkungen der Ernährung auf das Immunsystem genauer zu untersuchen. Besonders die Rolle der Ernährung bei der Förderung der Gesundheit und… [+7748 chars]",
         "Im Winter fit und gesund bleiben? Eine ausgewogene Ernährung stärkt das Immunsystem. Studien zeigen, wie gezielte Nährstoffe die Abwehrkräfte unterstützen.",
         "2024-10-17T14:12:00Z",
         "Focus",
         "Gesund durch den Winter - Volle Power fürs Immunsystem - bei richtiger Ernährung jubeln die Abwehrkräfte",
         "https://www.focus.de/gesundheit/ernaehrung/volle-power-fuers-immunsystem-bei-richtiger-ernaehrung-jubeln-die-abwehrkraefte_be530c0c-5726-4212-b539-dc3fd242a133.html",
         "https://quadro.burda-forward.de/ctf/fcf34428-eeb0-4f0a-9ff8-8e4b298a11bf.6626aada-e430-4310-8fea-f0d42ef97212.jpeg?im=RegionOfInterestCrop%3D%281200%2C630%29%2CregionOfInterest%3D%281148%2C532%29&hash=84ee42b8b975658a7b927a2dfc753689cfa5b9c3521c1472b26089d38ea35d20"
        ],
        [
         "Meng-Han Tsai, Yun-Hsuan Wu, Sih-Jie Lai, Yun-Chieh Yang",
         "Abstract\r\nThe aim of this study was to examine the influence of daily contact features on the prevalence of common mental disorders (CMDs) in Taiwan from 2000 to 2015. Data from the Taiwan Social Cha… [+38243 chars]",
         "The aim of this study was to examine the influence of daily contact features on the prevalence of common mental disorders (CMDs) in Taiwan from 2000 to 2015. Data from the Taiwan Social Change Survey for 2000, 2005, 2010, and 2015 were used to examine the rel…",
         "2024-10-17T14:00:00Z",
         "Plos.org",
         "A cross-sectional study of the relationship between daily social contact features and the prevalence of common mental disorders in Taiwan, 2000–2015",
         "https://journals.plos.org/plosone/article?id=10.1371/journal.pone.0312154",
         "https://journals.plos.org/plosone/article/figure/image?id=10.1371/journal.pone.0312154.t004&size=inline"
        ],
        [
         "Frank Müller, Alexis Hansen, Megan Kube, Judith E. Arnetz, Omayma Alshaarawy, Eric D. Achtyes, Harland T. Holman",
         "Abstract\r\nBackground\r\nDepression and anxiety are significant health burdens that greatly impact the quality of life of refugees and migrants. In this study, we have translated and culturally adapted … [+42461 chars]",
         "Background Depression and anxiety are significant health burdens that greatly impact the quality of life of refugees and migrants. In this study, we have translated and culturally adapted the Patient Health Questionnaire (PHQ-9) and Generalized Anxiety Disord…",
         "2024-10-17T14:00:00Z",
         "Plos.org",
         "Translation, cultural adaptation, and validation of the PHQ-9 and GAD-7 in Kinyarwanda for primary care in the United States",
         "https://journals.plos.org/plosone/article?id=10.1371/journal.pone.0302953",
         "https://journals.plos.org/plosone/article/figure/image?id=10.1371/journal.pone.0302953.g002&size=inline"
        ],
        [
         "Frank A. DeLano, Geert W. Schmid-Schönbein",
         "Abstract\r\nThe mechanism that triggers the progressive dysregulation of cell functions, inflammation, and breakdown of tissues during aging is currently unknown. We propose here a previously unknown m… [+47128 chars]",
         "The mechanism that triggers the progressive dysregulation of cell functions, inflammation, and breakdown of tissues during aging is currently unknown. We propose here a previously unknown mechanism due to tissue autodigestion by the digestive enzymes. After s…",
         "2024-10-17T14:00:00Z",
         "Plos.org",
         "Aging by autodigestion",
         "https://journals.plos.org/plosone/article?id=10.1371/journal.pone.0312149",
         "https://journals.plos.org/plosone/article/figure/image?id=10.1371/journal.pone.0312149.g013&size=inline"
        ],
        [
         "Jaewhan Kim, Kenechukwu C. Ben-Umeh, Rachel Weir, Karen Manotas, Kristi Kleinschmit, Aaron Fischer, Peter Weir, Fernando Wilson",
         "Abstract\r\nPrevious studies have reported a potential occurrence of sleep disorders in patients following a COVID-19 infection. However, these findings were based on surveys or retrospective studies w… [+34787 chars]",
         "Previous studies have reported a potential occurrence of sleep disorders in patients following a COVID-19 infection. However, these findings were based on surveys or retrospective studies with small sample sizes. This study examined if subjects with a previou…",
         "2024-10-17T14:00:00Z",
         "Plos.org",
         "Evaluating the risk of sleep disorders in subjects with a prior COVID-19 infection",
         "https://journals.plos.org/plosone/article?id=10.1371/journal.pone.0311929",
         "https://journals.plos.org/plosone/article/figure/image?id=10.1371/journal.pone.0311929.g001&size=inline"
        ],
        [
         "Masanori Kobayashi, Hiromune Katsuda, Aya Maekawa, Keiichi Akahoshi, Ryosuke Watanabe, Yuko Kinowaki, Hisaaki Nishimura, Takeo Fujiwara, Minoru Tanabe, Ryuichi Okamoto",
         "Abstract\r\nDespite the presence of various guidelines, diagnosing malignant intraductal papillary mucinous neoplasm (IPMN) continues to pose challenges. Furthermore, although endoscopic ultrasonograph… [+37727 chars]",
         "Despite the presence of various guidelines, diagnosing malignant intraductal papillary mucinous neoplasm (IPMN) continues to pose challenges. Furthermore, although endoscopic ultrasonography (EUS) offers high-resolution images, it has not yet recognized as th…",
         "2024-10-17T14:00:00Z",
         "Plos.org",
         "Development of an intraductal papillary mucinous neoplasm malignancy prediction scoring system",
         "https://journals.plos.org/plosone/article?id=10.1371/journal.pone.0312234",
         "https://journals.plos.org/plosone/article/figure/image?id=10.1371/journal.pone.0312234.g001&size=inline"
        ],
        [
         "Zannat Kawser, Saikt Rahman, Emilie Westeel, Mohammad Tanbir Habib, Mohabbat Hossain, Md. Rakibul Hassan Bulbul, Sharmin Aktar Mukta, Md. Zahirul Islam, Md. Zakir Hossain, Mokibul Hassan Afrad, Manjur Hossain Khan, Tahmina Shirin, Md. Shakeel Ahmed, Jean-Luc Berland, Florence Komurian-Pradel, Firdausi Qadri",
         "Abstract\r\nBackground\r\nThe widespread increase in multiple variants of severe acute respiratory syndrome coronavirus-2 (SARS-CoV-2) since 2020 is causing significant health concerns worldwide. While w… [+36575 chars]",
         "Background The widespread increase in multiple variants of severe acute respiratory syndrome coronavirus-2 (SARS-CoV-2) since 2020 is causing significant health concerns worldwide. While whole-genome sequencing (WGS) has played a leading role in surveillance …",
         "2024-10-17T14:00:00Z",
         "Plos.org",
         "SARS-CoV-2 variant survey: Comparison of RT-PCR screening with TGS and variant distribution across two divisions of Bangladesh",
         "https://journals.plos.org/plosone/article?id=10.1371/journal.pone.0311993",
         "https://journals.plos.org/plosone/article/figure/image?id=10.1371/journal.pone.0311993.g002&size=inline"
        ],
        [
         "Frederick H. F. Chan, Pearl Sim, Phoebe X. H. Lim, Xiaoli Zhu, Jimmy Lee, Sabrina Haroon, Titus Wai Leong Lau, Allen Yan Lun Liu, Behram A. Khan, Jason C. J. Choo, Konstadina Griva",
         "Abstract\r\nBackground and objectives\r\nCognitive impairment is common in haemodialysis patients and associated with adverse health outcomes. This may be due to cognitive impairments interfering with da… [+47396 chars]",
         "Background and objectives Cognitive impairment is common in haemodialysis patients and associated with adverse health outcomes. This may be due to cognitive impairments interfering with daily functioning and self-care, but evidence is limited. This cross-sect…",
         "2024-10-17T14:00:00Z",
         "Plos.org",
         "Structural equation modelling of the role of cognition in functional interference and treatment nonadherence among haemodialysis patients",
         "https://journals.plos.org/plosone/article?id=10.1371/journal.pone.0312039",
         "https://journals.plos.org/plosone/article/figure/image?id=10.1371/journal.pone.0312039.g002&size=inline"
        ],
        [
         "Mehran Asadi-Aliabadi, Seyed M. Karimi, Fariba Mirbaha-Hashemi, Arash Tehrani-Banihashemi, Leila Janani, Ebrahim Babaee, Marzieh Nojomi, Maziar Moradi-Lakeh",
         "Abstract\r\nBackground\r\nNon-communicable diseases can be controlled and managed by reducing their associated metabolic risk factors. In this study, a set of intervention packages were designed to reduc… [+51352 chars]",
         "Background Non-communicable diseases can be controlled and managed by reducing their associated metabolic risk factors. In this study, a set of intervention packages were designed to reduce the prevalence of three common metabolic risk factors (hypertension, …",
         "2024-10-17T14:00:00Z",
         "Plos.org",
         "The effect of results-based motivating system on metabolic risk factors of non-communicable diseases: A field trial study",
         "https://journals.plos.org/plosone/article?id=10.1371/journal.pone.0311507",
         "https://journals.plos.org/plosone/article/figure/image?id=10.1371/journal.pone.0311507.g003&size=inline"
        ],
        [
         "Jeannette Cwienk",
         "Früher fand der Sohn der Kollegin die bunten Haarsträhnen seiner Mutter noch cool. Jetzt heißt es: \"Mama, kannst Du nicht einfach normal aussehen?\" Spätestens wenn Eltern plötzlich \"peinlich\" sind, i… [+7058 chars]",
         "Die Elfjährige ist ständig gereizt, der 14-Jährige hat schon Schuhgröße 47 - Kinder kommen immer früher in die Pubertät, besonders Einzelkinder. Liegt es an der Corona-Pandemie, Umweltgiften oder der Ernährung?",
         "2024-10-17T13:56:00Z",
         "DW (English)",
         "Warum beginnt die Pubertät immer früher?",
         "https://www.dw.com/de/warum-beginnt-die-pubert%C3%A4t-immer-fr%C3%BCher/a-70521328",
         "https://static.dw.com/image/70473489_6.jpg"
        ],
        [
         "NDTV Health Desk",
         "If you are into strength training, you are probably already working your legs to some degree. In addition to maintaining the strength of our limbs, we need to ensure that we keep our DALY to a minimu… [+2632 chars]",
         "Nutritionist Rujuta Diwekar shares 3 easy lower limb exercises.",
         "2024-10-17T13:55:30Z",
         "NDTV News",
         "Nutritionist Suggests 3 Easy Exercises To Strengthen Lower Limbs",
         "https://doctor.ndtv.com/living-healthy/rujuta-diwekar-shares-essential-exercises-for-boosting-lower-limb-strength-6767621",
         "https://c.ndtvimg.com/2024-07/o8u40se8_exercises_625x300_02_July_24.jpg?im=FaceCrop,algorithm=dnn,width=620,height=350"
        ],
        [
         "Rafly Gilang",
         "Like it or hate it, the AI use in the field of medicine does not seem to be too far offespecially generative AI that could automate tasks like creating and finding documents.\r\nSure, AI does not immed… [+1830 chars]",
         "AI may not cure illness, but it sure does help hospital workers for administrative tasks like creating or finding documents.\nThe post AI use in medicine: Healthcare workers prefer AI to tackle heavy admin paperwork, says Google appeared first on MSPoweruser.",
         "2024-10-17T13:55:28Z",
         "MSPoweruser",
         "AI use in medicine: Healthcare workers prefer AI to tackle heavy admin paperwork, says Google",
         "https://mspoweruser.com/ai-use-in-medicine-healthcare-workers-prefer-ai-to-tackle-heavy-admin-paperwork-says-google/",
         "https://mspoweruser.com/wp-content/uploads/2024/10/ai-use-in-medicine.png"
        ],
        [
         "STT",
         "Testi on Yhdysvaltain ja EU:n viranomaisten hyväksymä.Uusi suomalainen pikatesti tunnistaa kakkostyypin diabeteksen riskin nopeasti ja tarkasti, tiedotti Helsingin yliopisto torstaina.\r\nSeitsemässä m… [+854 chars]",
         "Testi on Yhdysvaltain ja EU:n viranomaisten hyväksymä.",
         "2024-10-17T13:54:00Z",
         "Www.is.fi",
         "Mullistava suomalaiskeksintö auttaa tunnistamaan taudin, joka jää kymmeniltätuhansilta suomalaisilta huomaamatta",
         "https://www.is.fi/terveys/art-2000010770613.html",
         "https://images.sanoma-sndp.fi/1050fdeccca7dd15808fa612cf815df1.jpg/some/is-default.jpg"
        ],
        [
         "Héctor García Alonso",
         "A la hora de planificar una dieta, es importante tener en cuenta varios factores, como los ingredientes, su origen o los valores nutricionales de los alimentos, con el objetivo de que esta sea lo más… [+3053 chars]",
         "A la hora de preparar una dieta, es recomendable tener en cuenta los valores nutricionales de todos los alimentos para que esta sea lo más balanceada y saludable posible\r\nComer lo que siembras (en poco espacio): plantas con frutos para cultivar en casa\n\r\n\n A …",
         "2024-10-17T13:30:33Z",
         "Eldiario.es",
         "Estos son los alimentos que puedes consumir para mejorar los niveles de vitamina D",
         "https://www.eldiario.es/consumoclaro/son-alimentos-puedes-consumir-mejorar-niveles-vitamina-d_1_11740995.html",
         "https://static.eldiario.es/clip/7ef6c0a7-4f85-4ead-b6bb-3e188f13078a_facebook-watermarked-aspect-ratio_default_0.jpg"
        ],
        [
         "Future Market Insights Global and Consulting Pvt. Ltd.",
         "NEWARK, Del, Oct. 17, 2024 (GLOBE NEWSWIRE) -- The global prenatal nutrition market is projected to grow from USD 917.0 million in 2024 to USD 2,054.7 million by 2034, with a CAGR of 8.4%. This growt… [+10086 chars]",
         "The USA prenatal nutrition industry is projected to grow at a 5.6% CAGR, driven by innovations in nutritional formulations, including probiotics, omega-3s, and plant-based compounds. Rising demand for personalized, organic, and clean-label products is propell…",
         "2024-10-17T13:30:00Z",
         "GlobeNewswire",
         "Prenatal Nutrition Market to Reach USD 2,054.7 Million by 2034, Driven by Rising Maternal Age and Health Awareness | Future Market Insights, Inc.",
         "https://www.globenewswire.com/news-release/2024/10/17/2964971/0/en/Prenatal-Nutrition-Market-to-Reach-USD-2-054-7-Million-by-2034-Driven-by-Rising-Maternal-Age-and-Health-Awareness-Future-Market-Insights-Inc.html",
         "https://ml.globenewswire.com/Resource/Download/915d2f9c-7dc6-40c7-995c-2ba168208baa"
        ],
        [
         "Aayushi Singh Chauhan",
         "In today's digital age, the internet and social media have become an integral part of our daily lives. These platforms provide a way for people to connect, share, and communicate across vast distance… [+6995 chars]",
         "This article explores the benefits and drawbacks of social media and the internet on mental health and provides insights into how individuals can manage their online interactions to foster a healthier mental state.",
         "2024-10-17T13:26:25Z",
         "NDTV News",
         "How Internet And Social Media Is A Boon And Bane For Mental Health",
         "https://doctor.ndtv.com/living-healthy/how-internet-and-social-media-is-a-boon-and-bane-for-mental-health-6811822",
         "https://c.ndtvimg.com/2024-09/ognl4gfo_children-on-social-media-_625x300_13_September_24.jpg?im=FeatureCrop,algorithm=dnn,width=620,height=350"
        ],
        [
         "marketbeat.com",
         "Tandem Diabetes Care, Inc. (NASDAQ:TNDM - Free Report) - Stock analysts at Leerink Partnrs issued their FY2027 earnings per share (EPS) estimates for Tandem Diabetes Care in a note issued to investor… [+148 chars]",
         "Tandem Diabetes Care, Inc. (NASDAQ:TNDM - Free Report) - Stock analysts at Leerink Partnrs issued their FY2027 earnings per share (EPS) estimates for Tandem Diabetes Care in a note issued to investors on Tuesday, October 15th. Leerink Partnrs analyst M. Kratk…",
         "2024-10-17T13:25:14Z",
         "Biztoc.com",
         "Leerink Partnrs Comments on Tandem Diabetes Care, Inc.'s FY2027 Earnings (NASDAQ:TNDM)",
         "https://biztoc.com/x/2927f16e5e5b5406",
         "https://biztoc.com/cdn/805/og.png"
        ],
        [
         "Manya Singh",
         "Alopecia is a medical condition that results in hair loss, either in patches or over the entire scalp and body. It can affect both men and women of any age. There are various types of alopecia, with … [+4320 chars]",
         "Here we share a list of things you might want to know about alopecia.",
         "2024-10-17T13:15:56Z",
         "NDTV News",
         "Alopecia: Why Does It Cause Hair Loss & Everything Else You Must Know",
         "https://doctor.ndtv.com/living-healthy/alopecia-why-does-it-cause-hair-loss-everything-else-you-must-know-6811750",
         "https://c.ndtvimg.com/2024-02/ckk6vg2g_how-to-prevent-hair-fall_625x300_22_February_24.jpg?im=FeatureCrop,algorithm=dnn,width=620,height=350"
        ],
        [
         "Christopher Smith",
         "HipHopWired Featured Video\r\nSource: Billboard / Getty\r\nFat Joe admitted that he uses Ozempic as part of changes in his lifestyle that’s helped him lose weight.\r\nVeteran rapper Fat Joe has gone on the… [+1920 chars]",
         "Veteran rapper Fat Joe declared that part of his weight loss has been due to his use of Ozempic in addition to other lifestyle adjustments including reducing his carbohydrate intake.",
         "2024-10-17T13:14:06Z",
         "Hip-Hop Wired",
         "Fat Joe Admits Ozempic Usage In Weight Loss Journey",
         "https://hiphopwired.com/2429506/fat-joe-admits-ozempic-usage-in-weight-loss-journey/",
         "https://hiphopwired.com/wp-content/uploads/sites/43/2024/10/17291707984729.jpg"
        ],
        [
         "Dr. Faizah Shareef",
         "A new study suggests that GLP-1 agonist medications like Ozempic, which are used for diabetes management and weight loss, may help reduce the risk of overdose and alcohol intoxication in people with … [+3628 chars]",
         "Weight loss drugs and addiction: Study shows GLP-1 may help reduce overdose risksabc13.com",
         "2024-10-17T13:12:23Z",
         "KTRK-TV",
         "Weight loss drugs and addiction: Study shows GLP-1 may help reduce overdose risks",
         "https://abc13.com/health/weight-loss-drugs-like-ozempic-may-help-reduce-overdose-risks-study/15437514/",
         "https://cdn.abcotvs.com/dip/images/15437643_101724-wpvi-gma-weight-loss-drugs-overdose-addiction-pkg-video-vid.jpg?w=1600"
        ]
       ],
       "datasetInfos": [],
       "dbfsResultPath": null,
       "isJsonSchema": true,
       "metadata": {},
       "overflow": false,
       "plotOptions": {
        "customPlotOptions": {},
        "displayType": "table",
        "pivotAggregation": null,
        "pivotColumns": null,
        "xColumns": null,
        "yColumns": null
       },
       "removedWidgets": [],
       "schema": [
        {
         "metadata": "{}",
         "name": "author",
         "type": "\"string\""
        },
        {
         "metadata": "{}",
         "name": "content",
         "type": "\"string\""
        },
        {
         "metadata": "{}",
         "name": "description",
         "type": "\"string\""
        },
        {
         "metadata": "{}",
         "name": "publishedAt",
         "type": "\"string\""
        },
        {
         "metadata": "{}",
         "name": "source",
         "type": "\"string\""
        },
        {
         "metadata": "{}",
         "name": "title",
         "type": "\"string\""
        },
        {
         "metadata": "{}",
         "name": "url",
         "type": "\"string\""
        },
        {
         "metadata": "{}",
         "name": "urlToImage",
         "type": "\"string\""
        }
       ],
       "type": "table"
      }
     },
     "output_type": "display_data"
    }
   ],
   "source": [
    "display(df)"
   ]
  },
  {
   "cell_type": "code",
   "execution_count": 0,
   "metadata": {
    "application/vnd.databricks.v1+cell": {
     "cellMetadata": {
      "byteLimit": 2048000,
      "rowLimit": 10000
     },
     "inputWidgets": {},
     "nuid": "4fb66ee3-6bb1-4953-9212-09600be08660",
     "showTitle": false,
     "title": ""
    }
   },
   "outputs": [
    {
     "output_type": "stream",
     "name": "stdout",
     "output_type": "stream",
     "text": [
      "root\n |-- author: string (nullable = true)\n |-- content: string (nullable = true)\n |-- description: string (nullable = true)\n |-- publishedAt: string (nullable = true)\n |-- source: string (nullable = true)\n |-- title: string (nullable = true)\n |-- url: string (nullable = true)\n |-- urlToImage: string (nullable = true)\n\n"
     ]
    }
   ],
   "source": [
    "df.printSchema()\n"
   ]
  },
  {
   "cell_type": "code",
   "execution_count": 0,
   "metadata": {
    "application/vnd.databricks.v1+cell": {
     "cellMetadata": {},
     "inputWidgets": {},
     "nuid": "68212a3f-4c46-411a-bd7d-61704740bd6a",
     "showTitle": false,
     "title": ""
    }
   },
   "outputs": [],
   "source": [
    "#Realizar os filtros necessários"
   ]
  },
  {
   "cell_type": "code",
   "execution_count": 0,
   "metadata": {
    "application/vnd.databricks.v1+cell": {
     "cellMetadata": {
      "byteLimit": 2048000,
      "rowLimit": 10000
     },
     "inputWidgets": {},
     "nuid": "ad1961a9-0d8e-46ee-975b-2c705d01d144",
     "showTitle": false,
     "title": ""
    }
   },
   "outputs": [],
   "source": [
    "#Salvar em delta\n",
    "df.write.format(\"delta\").save(\"/FileStore/diabetes\")"
   ]
  },
  {
   "cell_type": "code",
   "execution_count": 0,
   "metadata": {
    "application/vnd.databricks.v1+cell": {
     "cellMetadata": {
      "byteLimit": 2048000,
      "rowLimit": 10000
     },
     "inputWidgets": {},
     "nuid": "89537f78-36a0-460f-aa12-0fdb10031301",
     "showTitle": false,
     "title": ""
    }
   },
   "outputs": [
    {
     "output_type": "display_data",
     "data": {
      "text/html": [
       "<style scoped>\n",
       "  .table-result-container {\n",
       "    max-height: 300px;\n",
       "    overflow: auto;\n",
       "  }\n",
       "  table, th, td {\n",
       "    border: 1px solid black;\n",
       "    border-collapse: collapse;\n",
       "  }\n",
       "  th, td {\n",
       "    padding: 5px;\n",
       "  }\n",
       "  th {\n",
       "    text-align: left;\n",
       "  }\n",
       "</style><div class='table-result-container'><table class='table-result'><thead style='background-color: white'><tr><th>author</th><th>content</th><th>description</th><th>publishedAt</th><th>source</th><th>title</th><th>url</th><th>urlToImage</th></tr></thead><tbody><tr><td>Cnn</td><td>Democratic presidential nominee, Vice President Kamala Harris pauses while speaking during a campaign rally at the Rawhide Event Center on October 10, in Chandler, Arizona.\r\n",
       "Brandon Bell/Getty Images… [+3322 chars]</td><td>“She possesses the physical and mental resiliency required to successfully execute the duties of the Presidency,” her doctor, US Army physician Joshua R. Simmons, said in a letter summarizing her</td><td>2024-10-13T03:44:12Z</td><td>WPSD Local 6</td><td>Vice President Harris is in ‘excellent health,’ according to detailed letter from her physician</td><td>https://www.wpsdlocal6.com/news/vice-president-harris-is-in-excellent-health-according-to-detailed-letter-from-her-physician/article_7b20e548-88bc-11ef-83f1-2736a5726ff9.html</td><td>https://bloximages.newyork1.vip.townnews.com/wpsdlocal6.com/content/tncms/assets/v3/editorial/7/b2/7b20e548-88bc-11ef-83f1-2736a5726ff9/670aad7358573.preview.jpg?crop=1763%2C926%2C0%2C124&resize=1200%2C630&order=crop%2Cresize</td></tr><tr><td>Lois Balado</td><td>El 28 % de fármacos con receta que se dispensan en España son medicamentos que actúan sobre el sistema nervioso central, el mayor porcentaje de todos los grupos anatómicos que atiende la sanidad. Sol… [+17559 chars]</td><td>En un escenario socioeconómico de total incertidumbre y ante la falta de alternativas públicas que permitan el acceso a la psicoterapia, el consumo de recetas de antidepresivos inhibidores selectivos de recaptación de la serotonina sigue disparado</td><td>2024-10-13T03:00:00Z</td><td>Lavozdegalicia.es</td><td>Antideprimidos para siempre, cuando la pastilla se eterniza: «Llevo más de 30 años medicada»</td><td>https://www.lavozdegalicia.es/noticia/lavozdelasalud/salud-mental/2024/10/12/antideprimidos-siempre-pastilla-eterniza-llevo-30-anos-medicada/00031728720241859157709.htm</td><td>https://cflvdg.avoz.es/sc/8ZWglxauRBROjf_anyFQPjgGW5A=/1280x/2024/10/11/00121728645024933680295/Foto/ANTIDEPRIMIDOS.png</td></tr><tr><td>Carmen G. Mariñas</td><td>David Baker, Geoffrey E. Hinton y Victor Ambros son tres de los galardonados con un premio Nobel científico este 2024. Son, además, hombres anglosajones. Si le sumamos el provenir de una familia de e… [+8306 chars]</td><td>Una investigación destaca que en 122 años de historia, solo un 4 % de las personas premiadas en categorías científicas fueron mujeres</td><td>2024-10-13T03:00:00Z</td><td>Lavozdegalicia.es</td><td>Hombre, de familia rica y estadounidense o europeo: los premios Nobel tienen un perfil marcado</td><td>https://www.lavozdegalicia.es/noticia/sociedad/2024/10/11/hombre-familia-rica-estadounidense-europeo-premios-nobel-perfil-marcado/00031728654836802451280.htm</td><td>https://img.lavdg.com/sc/-XfgqKRo5g_ucR3SFtoq9iRWeZo=/1280x/2024/10/11/00121728663542694665666/Foto/reu_20241008_192617869.jpg</td></tr><tr><td>R. ROMAR</td><td>Fue algo histórico. Por primer vez un avance científico logrado gracias a la inteligencia artificial ha sido reconocido con un premio Nobel. Y muy probablemente no será la última. La herramienta de I… [+8448 chars]</td><td>El premio muestra el enorme potencial de la IA en el avance científico</td><td>2024-10-13T03:00:00Z</td><td>Lavozdegalicia.es</td><td>Una aplicación de inteligencia artificial gana el Nobel, pero no será la última vez</td><td>https://www.lavozdegalicia.es/noticia/sociedad/2024/10/13/aplicacion-inteligencia-artificial-gana-nobel-sera-ultima-vez/0003_202410G13P34991.htm</td><td>https://img.lavdg.com/sc/O-gPVFHU-Od73e6vZaypzoLTZxU=/1280x/2024/10/11/00121728669961639894152/Foto/reu_20241010_074435592.jpg</td></tr><tr><td>Thatyana Costa</td><td>O que é colesterol alto e quais os riscos? - iStock/HYWARDS\r\n",
       "O colesterol alto é uma condição que afeta muitas pessoas e, muitas vezes, não apresenta sintomas visíveis. Mesmo assim, ele aumenta signi… [+1782 chars]</td><td>O colesterol alto é uma condição que afeta muitas pessoas e, muitas vezes, não apresenta sintomas visíveis. Mesmo assim, ele aumenta significativamente os</td><td>2024-10-13T02:01:02Z</td><td>Catracalivre.com.br</td><td>Dicas essenciais para baixar o colesterol alto e evitar riscos</td><td>https://catracalivre.com.br/saude-bem-estar/dicas-essenciais-para-baixar-o-colesterol-alto-e-evitar-riscos/</td><td>https://catracalivre.com.br/cdn-cgi/image/f=auto,q=60,w=1280,h=720,fit=cover,format=jpeg/wp-content/uploads/2024/07/alimentos-colesterol-alto.jpg</td></tr><tr><td>Moneycontrol Hindi</td><td>, - . (Black Salt) \r\n",
       " , \r\n",
       ", , (black salt benefits for diabetes) - - \r\n",
       " - \r\n",
       ":</td><td>सबसे ज्यादा जिंदगी छीनने वाली बीमारियों में डायबिटीज भी शामिल है। अधिकतर लोगों को इसकी शुरुआत का पता तक नहीं चलता। जब ये बीमारी शरीर को अंदर से बेकार कर देती है, तब जाकर मरीज की आंखें खुलती हैं। शुगर की बीमारी के शरीर सूखने लगता है। कई अंगों पर असर पड़ता है। …</td><td>2024-10-13T01:50:09Z</td><td>Moneycontrol</td><td>Diabetes: काला नामक डायबिटीज की कर देगा छुट्टी, BP के लिए फायदेमंद, वजन रहेगा कंट्रोल</td><td>https://hindi.moneycontrol.com/news/health/diabetes-black-salt-control-high-blood-sugar-weight-good-for-bp-know-all-benefits-1930165.html</td><td>https://images.moneycontrol.com/static-hindinews/2024/10/BlackSalt.jpg</td></tr><tr><td>André Nicolau</td><td>Estudo revela alguns fatores, para além da genética, que podem contribuir para a demência precoce lightsource/DepositPhotos - lightsource/DepositPhotos\r\n",
       "Um estudo recente realizado na Europa identifi… [+1861 chars]</td><td>Um estudo recente realizado na Europa identificou fatores que podem aumentar o risco de desenvolver demência precoce, bem como outros que parecem ajudar a</td><td>2024-10-13T01:30:32Z</td><td>Catracalivre.com.br</td><td>Estes são alguns fatores que podem aumentar a chance de demência precoce</td><td>https://catracalivre.com.br/saude-bem-estar/estes-sao-alguns-fatores-que-podem-aumentar-a-chance-de-demencia-precoce/</td><td>https://catracalivre.com.br/cdn-cgi/image/f=auto,q=60,w=1280,h=720,fit=cover,format=jpeg/wp-content/uploads/2024/04/descoberto-novo-indicativo-precoce-de-demencia.jpg</td></tr><tr><td>Olufunke</td><td>While writing this article, I looked back to the 80s with nostalgia. One day, while in the secondary school, our agric science teacher came into the class and started discussing pawpaw and she told u… [+7463 chars]</td><td>Pregnant women should abstain from eating unripe pawpaw because it is high in papain. Ripe pawpaw is safe for them.</td><td>2024-10-13T01:22:41Z</td><td>The Punch</td><td>Health benefits of fruits: Pawpaw</td><td>https://punchng.com/health-benefits-of-fruits-pawpaw/</td><td>https://cdn.punchng.com/wp-content/uploads/2020/02/22204250/Olufunke.jpg</td></tr><tr><td>André Nicolau</td><td>Horário das refeições está diretamente ligado à redução do risco de obesidade Rostislav_Sedlacek/istock - Rostislav_Sedlacek/istock\r\n",
       "O horário em que comemos influencia diretamente o modo como nosso … [+2416 chars]</td><td>O horário em que comemos influencia diretamente o modo como nosso corpo queima calorias, controla a fome e armazena gordura. Sabendo disso, vale a pena</td><td>2024-10-13T00:31:56Z</td><td>Catracalivre.com.br</td><td>Horário das refeições ajuda a reduzir risco de obesidade</td><td>https://catracalivre.com.br/saude-bem-estar/horario-das-refeicoes-ajuda-a-reduzir-risco-de-obesidade/</td><td>https://catracalivre.com.br/cdn-cgi/image/f=auto,q=60,w=1280,h=720,fit=cover,format=jpeg/wp-content/uploads/2016/01/balanca.jpg</td></tr><tr><td>Our Reporters</td><td>A ceramic sculptor, Adegoke Olubusi, in this interview with OLUFEMI ADEDIRAN speaks about how his journey into the world of creativity was significantly shaped by his royal lineage. He also shares th… [+13319 chars]</td><td>A ceramic sculptor, Adegoke Olubusi, in this interview with OLUFEMI ADEDIRAN speaks about how his journey into the world of creativity was significantly shaped by his royal lineage. He also shares the challenges Nigerian artists face and offers insights into …</td><td>2024-10-13T00:10:24Z</td><td>The Punch</td><td>I import all materials for my artwork– Sculptor</td><td>https://punchng.com/i-import-all-materials-for-my-artwork-sculptor/</td><td>https://cdn.punchng.com/wp-content/uploads/2024/10/12232828/ADEGOKE-OLUBUSI.jpg</td></tr><tr><td>Naomi Chima</td><td>Bridget Tychus, an international director with Lions International, tells NAOMI CHIMA about her membership of the association, and other issues\r\n",
       "What motivated you to join Lions International, and ho… [+12014 chars]</td><td>Bridget Tychus, an international director with Lions International, tells NAOMI CHIMA about her membership of the association, and other issues What motivated you to join Lions International, and how has your journey with the organisation evolved since then? …</td><td>2024-10-13T00:07:18Z</td><td>The Punch</td><td>Effective listening crucial to being a good leader — Bridget Tychus</td><td>https://punchng.com/effective-listening-crucial-to-being-a-good-leader-bridget-tychus/</td><td>https://cdn.punchng.com/wp-content/uploads/2024/10/12215130/BRIDGET-TYCHUS.jpg</td></tr><tr><td>communities@mercola.com (Dr. Joseph Mercola)</td><td>Mercola proudly supports these charities and organizations. View All \r\n",
       "Disclaimer: The entire contents of this website are based upon the opinions of Dr. Mercola, unless otherwise noted. Individual a… [+1007 chars]</td><td>Cheese has been a staple in human diets for millennia. However, the advent of industrial cheese production has dramatically altered its quality, making real, traditional cheese increasingly hard to find in the U.S. Instead, the market is now flooded with chee…</td><td>2024-10-13T00:00:00Z</td><td>Mercola.com</td><td>Bringing Back Traditional Cheese-Making — A Movement to Redefine Cheese as a Superfood</td><td>https://articles.mercola.com/sites/articles/archive/2024/10/13/traditional-cheese-making.aspx</td><td>https://media.mercola.com/ImageServer/Public/2024/August/FB/traditional-cheese-making-fb.jpg</td></tr><tr><td>communities@mercola.com (Dr. Joseph Mercola)</td><td>Mercola proudly supports these charities and organizations. View All \r\n",
       "Disclaimer: The entire contents of this website are based upon the opinions of Dr. Mercola, unless otherwise noted. Individual a… [+1007 chars]</td><td>I recently had the pleasure of interviewing Calley Means, co-author of the book \"Good Energy\" and a policy advisor to Robert F. Kennedy Jr. Our conversation uncovered some shocking truths about the origins of our modern food system and the dire health consequ…</td><td>2024-10-13T00:00:00Z</td><td>Mercola.com</td><td>The Hidden History of Our Modern Food System: How Big Tobacco Shaped What We Eat</td><td>https://articles.mercola.com/sites/articles/archive/2024/10/13/big-tobacco-food-system.aspx</td><td>https://media.mercola.com/ImageServer/Public/2024/October/FB/big-tobacco-food-system-fb.jpg</td></tr><tr><td>Chijioke Iremeka</td><td>Parents not feeding their children with enough vegetables, especially those under the age of five are exposing them to the risk of malnutrition and chronic diseases, child health and nutrition expert… [+7537 chars]</td><td>Parents not feeding their children with enough vegetables, especially those under the age of five are exposing them to the risk of malnutrition and chronic diseases, child health and nutrition experts have said. The experts said with the escalating rate of ma…</td><td>2024-10-12T23:43:42Z</td><td>The Punch</td><td>Feed children with vegetables as malnutrition escalates, experts tell parents</td><td>https://punchng.com/feed-children-with-vegetables-as-malnutrition-escalates-experts-tell-parents/</td><td>https://cdn.punchng.com/wp-content/uploads/2024/10/12193329/OLOYEDE-AND-BABATOPE.jpg</td></tr><tr><td>Durgesh Nandan Jha</td><td>How to make vrat-friendly Coconut Peanut Chutney at home</td><td>Replacing ultra-processed foods with minimally processed or processed alternatives can reduce diabetes risk, according to a Lancet study. The study, involving over three lakh people, found a 17% increased diabetes incidence for every 10% rise in ultra-process…</td><td>2024-10-12T23:40:18Z</td><td>The Times of India</td><td>Replacing ultra-processed foods in diet cuts risk of diabetes, suggests study</td><td>https://timesofindia.indiatimes.com/india/replacing-ultra-processed-foods-in-diet-cuts-risk-of-diabetes-suggests-study/articleshow/114180016.cms</td><td>https://static.toiimg.com/thumb/msid-114180020,width-1070,height-580,imgsize-1189687,resizemode-75,overlay-toi_sw,pt-32,y_pad-40/photo.jpg</td></tr><tr><td>Taylor Fleming</td><td>PEORIA (25News Now) - Blue Cross Blue Shield of Illinois held a Community Health Fair.\r\n",
       "Saturdays event was at Eastview Community Center. \r\n",
       "While there, people could get flu and COVID-19 vaccines, an… [+1251 chars]</td><td>Blue Cross Blue Shield holds community health fair in Bloomington25newsnow.com</td><td>2024-10-12T22:50:23Z</td><td>25newsnow.com</td><td>Blue Cross Blue Shield holds community health fair in Bloomington</td><td>https://www.25newsnow.com/2024/10/12/blue-cross-blue-shield-holds-community-health-fair-bloomington/</td><td>https://gray-week-prod.gtv-cdn.com/resizer/v2/JYKV75KGOBENTF6JM75CVWHEB4.png?auth=675dab12a9f166efe5f793e5496f9437cfc2faa1585e9b1a9044980c751565dd&width=1200&height=600&smart=true</td></tr><tr><td>MarketBeat News</td><td>Cuprina Holdings (Cayman) Ltd (CUPR) plans to raise $16 million in an initial public offering (IPO) on the week of October 21st, IPO Scoop reports. The company will issue 3,800,000 shares at $4.00-$4… [+6211 chars]</td><td>Cuprina Holdings (Cayman) Ltd (CUPR) plans to raise $16 million in an initial public offering (IPO) on the week of October 21st, IPO Scoop reports. The company will issue 3,800,000 shares at $4.00-$4.50 per share. In the last twelve months, Cuprina Holdings (…</td><td>2024-10-13T06:43:00Z</td><td>ETF Daily News</td><td>Cuprina Holdings (Cayman) Ltd Plans $16 Million IPO for Week of October 21st (CUPR)</td><td>https://www.etfdailynews.com/2024/10/13/cuprina-holdings-cayman-ltd-plans-16-million-ipo-for-week-of-october-21st-cupr/</td><td>https://www.americanbankingnews.com/wp-content/timthumb/timthumb.php?src=https://www.marketbeat.com/logos/ipo1.jpg&w=240&h=240&zc=2</td></tr><tr><td>null</td><td>MADRID, 13 Oct. (EDIZIONES) - \r\n",
       "   Todos sabemos que hacer ejercicio de manera regular es beneficioso para nuestra salud, no sólo física, sino también a nivel mental. En los últimos años, eso sí, est… [+5917 chars]</td><td>Todos sabemos que hacer ejercicio de manera regular es beneficioso para nuestra salud, no sólo física, sino también a nivel mental. En los últimos años, eso sí, está cobrando cada vez más fuerza la práctica de los ejercicios de fuerza.</td><td>2024-10-13T05:59:48Z</td><td>Infosalus.com</td><td>Añade estos 20 minutos de rutina 'full body' de fuerza en tu día a día y te sentirás mejor</td><td>https://www.infosalus.com/salud-investigacion/noticia-anade-20-minutos-rutina-full-body-fuerza-dia-dia-te-sentiras-mejor-20241013075948.html</td><td>https://img.europapress.es/fotoweb/fotonoticia_20241013075948_1200.jpg</td></tr><tr><td>MarketBeat News</td><td>Eli Lilly and Company (NYSE:LLY – Get Free Report)’s stock price was up 1.1% during trading on Friday after Truist Financial raised their price target on the stock from $1,000.00 to $1,033.00. Truist… [+4568 chars]</td><td>Eli Lilly and Company (NYSE:LLY – Get Free Report)’s stock price was up 1.1% during trading on Friday after Truist Financial raised their price target on the stock from $1,000.00 to $1,033.00. Truist Financial currently has a buy rating on the stock. Eli Lill…</td><td>2024-10-13T05:58:53Z</td><td>ETF Daily News</td><td>Eli Lilly and Company (NYSE:LLY) Trading Up 1.1% After Analyst Upgrade</td><td>https://www.etfdailynews.com/2024/10/13/eli-lilly-and-company-nyselly-trading-up-1-1-after-analyst-upgrade/</td><td>https://www.americanbankingnews.com/wp-content/timthumb/timthumb.php?src=https://www.marketbeat.com/logos/logo_eli_lilly-1200x675.jpg&w=240&h=240&zc=2</td></tr><tr><td>MarketBeat News</td><td>Ceapro (OTCMKTS:CRPOF – Get Free Report) and Merck KGaA (OTCMKTS:MKGAF – Get Free Report) are both medical companies, but which is the superior stock? We will contrast the two businesses based on the… [+5636 chars]</td><td>Ceapro (OTCMKTS:CRPOF – Get Free Report) and Merck KGaA (OTCMKTS:MKGAF – Get Free Report) are both medical companies, but which is the superior stock? We will contrast the two businesses based on the strength of their profitability, analyst recommendations, i…</td><td>2024-10-13T05:55:12Z</td><td>ETF Daily News</td><td>Ceapro (OTCMKTS:CRPOF) & Merck KGaA (OTCMKTS:MKGAF) Financial Comparison</td><td>https://www.etfdailynews.com/2024/10/13/ceapro-otcmktscrpof-merck-kgaa-otcmktsmkgaf-financial-comparison/</td><td>https://www.americanbankingnews.com/wp-content/timthumb/timthumb.php?src=https://www.marketbeat.com/logos/merck-kommanditgesellschaft-auf-aktien-logo-1200x675.jpg?v=20221103130110&w=240&h=240&zc=2</td></tr><tr><td>MarketBeat News</td><td>Roche (OTCMKTS:RHHBY – Get Free Report) and NovaBay Pharmaceuticals (NYSE:NBY – Get Free Report) are both medical companies, but which is the better investment? We will compare the two companies base… [+4470 chars]</td><td>Roche (OTCMKTS:RHHBY – Get Free Report) and NovaBay Pharmaceuticals (NYSE:NBY – Get Free Report) are both medical companies, but which is the better investment? We will compare the two companies based on the strength of their profitability, valuation, earning…</td><td>2024-10-13T05:53:09Z</td><td>ETF Daily News</td><td>Reviewing NovaBay Pharmaceuticals (NYSE:NBY) and Roche (OTCMKTS:RHHBY)</td><td>https://www.etfdailynews.com/2024/10/13/reviewing-novabay-pharmaceuticals-nysenby-and-roche-otcmktsrhhby/</td><td>https://www.americanbankingnews.com/wp-content/timthumb/timthumb.php?src=https://www.marketbeat.com/logos/novabay-pharmaceuticals-inc-logo-1200x675.png?v=20230928104704&w=240&h=240&zc=2</td></tr><tr><td>ET Online</td><td>Artificial Intelligence(AI)\r\n",
       "AI and Analytics based Business Strategy\r\n",
       "By - Tanusree De, Managing Director- Accenture Technology Lead, Trustworthy AI Center of Excellence: ATCI\r\n",
       "View Program</td><td>Replacing ultra-processed foods with unprocessed or minimally processed food lowers diabetes risk, confirms a Lancet Regional Health study. Research involved over 300,000 people, showing a 17% higher incidence of diabetes with every 10% increase in daily ultr…</td><td>2024-10-13T05:53:00Z</td><td>The Times of India</td><td>Daily food intake of these foods items can increase chances of diabetes by 17%: Study</td><td>https://economictimes.indiatimes.com/news/new-updates/daily-food-intake-of-these-foods-items-can-increase-chances-of-diabetes-by-17-study/articleshow/114183587.cms</td><td>https://img.etimg.com/thumb/msid-114183596,width-1200,height-630,imgsize-23844,overlay-economictimes/photo.jpg</td></tr><tr><td>Enrique Quintana</td><td>El día de ayer tuvimos uno de esos episodios que darán vergüenza cuando se registren en la historia del país.\r\n",
       "En una tómbola se seleccionaron los jueces y magistrados, que serán cesados antes del 1 … [+3850 chars]</td><td>El día de ayer tuvimos uno de esos episodios que darán vergüenza cuando se registren en la historia del país.</td><td>2024-10-13T05:48:47Z</td><td>El Financiero</td><td>La justicia se fue a… la tómbola</td><td>https://www.elfinanciero.com.mx/opinion/enrique-quintana/2024/10/12/la-justicia-se-fue-a-la-tombola/</td><td>https://elfinanciero.com.mx/resizer/v2/JIWYHUPQ65ABVPLGEXKJCAWXFY.jpg?smart=true&auth=f4f287066d2aae1e7dfa8467d48532945f72e2265b8e3d09beb86cd441e88b61&width=1200&height=630</td></tr><tr><td>MarketBeat News</td><td>Johnson &amp; Johnson (NYSE:JNJ – Get Free Report) will be announcing its earnings results before the market opens on Tuesday, October 15th. Analysts expect the company to announce earnings of $2.19 … [+4980 chars]</td><td>Johnson & Johnson (NYSE:JNJ – Get Free Report) will be announcing its earnings results before the market opens on Tuesday, October 15th. Analysts expect the company to announce earnings of $2.19 per share for the quarter. Johnson & Johnson has set its FY24 gu…</td><td>2024-10-13T05:16:00Z</td><td>ETF Daily News</td><td>Johnson & Johnson (JNJ) Scheduled to Post Earnings on Tuesday</td><td>https://www.etfdailynews.com/2024/10/13/johnson-johnson-jnj-scheduled-to-post-earnings-on-tuesday/</td><td>https://www.americanbankingnews.com/wp-content/timthumb/timthumb.php?src=https://www.marketbeat.com/logos/johnson--johnson-logo-1200x675.png?v=20221020135923&w=240&h=240&zc=2</td></tr><tr><td>Bruna Sales</td><td>São Paulo Um estudo publicado na revista científica The Lancet no fim de julho deste ano apresenta novas perspectivas para a prevenção da demência – um problema de saúde pública que atinge cerca de 2… [+4196 chars]</td><td>Estudo global com apoio de pesquisadora da Unifesp aborda novos fatores de risco para a demência. A escolaridade pode ser o principal deles</td><td>2024-10-13T05:12:14Z</td><td>Metropoles.com</td><td>Escolaridade é chave para abordar demência, diz professora da Unifesp</td><td>https://www.metropoles.com/sao-paulo/escolaridade-chave-abordar-demencia-professora-unifesp</td><td>https://uploads.metroimg.com/wp-content/uploads/2024/10/11155414/demencia-3.jpg</td></tr><tr><td>José Ramón Huerta</td><td>Gabi Dávila recibió una primera toma de Ozempic en una clínica estética de San Diego, necesitaba bajar 10 libras (casi 5 kilos). Ella no es diabética, sólo vanidosa. Su médico le advirtió de la enorm… [+3649 chars]</td><td>Gabi Dávila recibió una primera toma de Ozempic en una clínica estética de San Diego, necesitaba bajar 10 libras (casi 5 kilos). Ella no es diabética, sólo vanidosa. Su médico le advirtió de la enorme lista de espera para recibir el fármaco en Estados Unidos,…</td><td>2024-10-13T05:07:01Z</td><td>Milenio</td><td>El 'hada madrina' Ozempic se agota en México: ¡Todos queremos bajar de peso!</td><td>https://www.milenio.com/ciencia-y-salud/ozempic-se-agota-en-mexico-gringos-cruzan-la-frontera-para-comprarlo</td><td>https://cdn.milenio.com/uploads/media/2024/10/11/mexico-ozempic-vendido-receta-medica.jpg</td></tr><tr><td>Medical Xpress / The Ginger Network / Nutrition Journal</td><td>Skip to comments.\r\n",
       "Adding beans and pulses can lead to improved shortfall nutrient intakes and a higher diet quality in American adultsMedical Xpress / The Ginger Network / Nutrition Journal ^\r\n",
       " | Oc… [+3742 chars]</td><td>New research showing the association between greater bean and pulse consumption and improved shortfall nutrient intakes and a higher diet quality in American adults is published. Pulses are the edible seeds of plants in the legume family. Pulses grow in pods …</td><td>2024-10-13T05:00:24Z</td><td>Freerepublic.com</td><td>Adding beans and pulses can lead to improved shortfall nutrient intakes and a higher diet quality in American adults</td><td>https://freerepublic.com/focus/f-chat/4270639/posts</td><td>null</td></tr><tr><td>Rahul Kumar</td><td>Individuals diagnosed with severe Covid-19 infections during the initial wave of the pandemic may face twice the risk of experiencing heart attacks and strokes, according to a new study. The research… [+2033 chars]</td><td>As per the research, unvaccinated individuals infected with the virus in 2019 and 2020 are at a notably higher risk of experiencing a heart attack or stroke, with this risk lasting for up to three years after infection.</td><td>2024-10-13T04:33:07Z</td><td>NDTV News</td><td>First Wave Covid Infections Linked To Higher Heart Attack Risks: Study</td><td>https://www.ndtv.com/world-news/covid-19-infections-from-1st-wave-linked-to-elevated-risks-of-heart-attack-study-finds-6777938</td><td>https://c.ndtvimg.com/2024-01/d31ktkno_covid-19-_625x300_11_January_24.jpeg?im=FeatureCrop,algorithm=dnn,width=1200,height=738</td></tr><tr><td>Natasha Lomas</td><td>When you think of brain stimulating medtech, startups building wearables as therapeutics probably aren’t the first thing that springs to mind. Such tech is still flying fairly under the radar — perha… [+18661 chars]</td><td>When you think of brain stimulating medtech, startups building wearables as therapeutics probably aren't the first thing that springs to mind. Such tech</td><td>2024-10-13T12:01:40Z</td><td>TechCrunch</td><td>How a medtech market opportunity is shaping up for wearable neurotech | TechCrunch</td><td>https://techcrunch.com/2024/10/13/how-a-medtech-market-opportunity-is-shaping-up-for-wearable-neurotech/</td><td>https://techcrunch.com/wp-content/uploads/2024/08/brain-brain.jpg?resize=1200,675</td></tr><tr><td>FOCUS online</td><td>Wenn es um ein gesundes Körpergewicht geht, wird oft der BMI-Wert zur Kontrolle herangezogen. Wie Experten nun aber zeigen, könnte ein anderer Wert noch viel aussagekräftiger sein, um etwa die Herzge… [+4246 chars]</td><td>Wenn es um ein gesundes Körpergewicht geht, wird oft der BMI-Wert zur Kontrolle herangezogen. Wie Experten nun aber zeigen, könnte ein anderer Wert noch viel aussagekräftiger sein, um etwa die Herzgesundheit im Blick zu haben.</td><td>2024-10-13T11:53:02Z</td><td>Focus</td><td>Wichtiger Gesundheits-Wert - Genauer als der BMI: So berechnen Sie Ihren Body-Round-Index</td><td>https://www.focus.de/gesundheit/news/wichtiger-gesundheits-wert-genauer-als-der-bmi-so-berechnen-sie-ihren-body-round-index_id_260389974.html</td><td>https://p6.focus.de/img/fotos/id_260389999/gettyimages-2157402666.jpg?im=Crop%3D%280%2C177%2C2120%2C1060%29%3BResize%3D%281200%2C627%29&impolicy=perceptual&quality=mediumHigh&hash=fecc8bf0e155f65368ef89b570f4b478e6b472760af4bfa025bf4ad043854566</td></tr><tr><td>MarketBeat News</td><td>Atomi Financial Group Inc. acquired a new stake in shares of DexCom, Inc. (NASDAQ:DXCM – Free Report) in the 3rd quarter, according to the company in its most recent 13F filing with the Securities an… [+6583 chars]</td><td>Atomi Financial Group Inc. acquired a new stake in shares of DexCom, Inc. (NASDAQ:DXCM – Free Report) in the 3rd quarter, according to the company in its most recent 13F filing with the Securities and Exchange Commission. The firm acquired 3,936 shares of the…</td><td>2024-10-13T11:33:02Z</td><td>ETF Daily News</td><td>Atomi Financial Group Inc. Makes New $264,000 Investment in DexCom, Inc. (NASDAQ:DXCM)</td><td>https://www.etfdailynews.com/2024/10/13/atomi-financial-group-inc-makes-new-264000-investment-in-dexcom-inc-nasdaqdxcm/</td><td>https://www.americanbankingnews.com/wp-content/timthumb/timthumb.php?src=https://www.marketbeat.com/logos/dexcom-inc-logo-1200x675.png?v=20221024145045&w=240&h=240&zc=2</td></tr><tr><td>Bleichmar Fonti & Auld</td><td>NEW YORK, Oct. 13, 2024 (GLOBE NEWSWIRE) -- Leading securities law firm Bleichmar Fonti &amp; Auld LLP announces that a lawsuit has been filed against DexCom, Inc. (NASDAQ: DXCM) and certain of the C… [+2773 chars]</td><td>DexCom, Inc. investors that lost money on their investment are encouraged to contact BFA Law before October 21, 2024 legal deadline.......</td><td>2024-10-13T11:33:00Z</td><td>GlobeNewswire</td><td>DXCM SHAREHOLDER ALERT: A Securities Fraud Lawsuit was Filed against DexCom, Inc.; Investors are Urged to Contact BFA Law before October 21 Court Deadline (Nasdaq:DXCM)</td><td>https://www.globenewswire.com/news-release/2024/10/13/2962268/0/en/DXCM-SHAREHOLDER-ALERT-A-Securities-Fraud-Lawsuit-was-Filed-against-DexCom-Inc-Investors-are-Urged-to-Contact-BFA-Law-before-October-21-Court-Deadline-Nasdaq-DXCM.html</td><td>https://ml.globenewswire.com/Resource/Download/44a256cf-d470-4d8a-af6b-dbb1b5bbb11e</td></tr><tr><td>STERN.de</td><td>Kathy Bates hat 45 Kilogramm abgenommen. Das führte bei der Schauspielerin zu einem tränenreichen Erlebnis.\r\n",
       "Kathy Bates (76) hat im Interview mit dem \"People\"-Magazin über ihren Gewichtsverlust in d… [+2475 chars]</td><td>Kathy Bates hat 45 Kilogramm abgenommen. Das führte bei der Schauspielerin zu einem tränenreichen Erlebnis.</td><td>2024-10-13T11:21:00Z</td><td>STERN.de</td><td>Kathy Bates: Tränenreicher Moment nach Gewichtsverlust</td><td>https://www.stern.de/lifestyle/leute/kathy-bates--traenenreicher-moment-nach-gewichtsverlust-35139588.html</td><td>https://image.stern.de/35139592/t/Ig/v1/w1440/r1.7778/-/13--traenenreicher-moment-nach-gewichtsverlust---16-9---spoton-article-1077341.jpg</td></tr><tr><td>BRIGITTE.de</td><td>Kathy Bates hat 45 Kilogramm abgenommen. Das führte bei der Schauspielerin zu einem tränenreichen Erlebnis.\r\n",
       "Kathy Bates (76) hat im Interview mit dem \"People\"-Magazin über ihren Gewichtsverlust in d… [+2470 chars]</td><td>Kathy Bates hat 45 Kilogramm abgenommen. Das führte bei der Schauspielerin zu einem tränenreichen Erlebnis.</td><td>2024-10-13T11:17:00Z</td><td>Brigitte.de</td><td>Kathy Bates: Darum brachte Gewichtsverlust sie zum Weinen</td><td>https://www.brigitte.de/aktuell/kathy-bates--darum-brachte-gewichtsverlust-sie-zum-weinen-13889482.html</td><td>https://image.brigitte.de/13889484/t/cZ/v1/w1440/r1.7778/-/13--darum-brachte-gewichtsverlust-sie-zum-weinen---1-1---spoton-article-1077341.jpg</td></tr><tr><td>Kacie Goff</td><td>Vitamin D has been linked to maintaining cardiovascular health, according to a systematic review and meta-analysis published in July 2024. Specifically, vitamin D offers \"overall beneficial effects o… [+8895 chars]</td><td>A new study has linked vitamin D to maintaining cardiovascular health -- especially in certain populations.</td><td>2024-10-13T11:02:54Z</td><td>CNET</td><td>Sunshine in a Capsule: Vitamin D Supplements Explained and Who Should Take Them</td><td>https://www.cnet.com/health/nutrition/vitamin-d-supplements-explained-who-should-take-them/</td><td>https://www.cnet.com/a/img/resize/337c90a05c993652276104925bd948cbdaf1e349/hub/2024/07/02/a320d27c-4cb7-4eb6-b7bb-2861b29168c7/vitamin-d-ampuoles.jpg?auto=webp&fit=crop&height=675&width=1200</td></tr><tr><td>FOCUS online</td><td>Wer häufig Kaffee, Limonaden oder Fruchtgetränke trinkt, hat ein höheres Risiko für einen Schlaganfall. Zu diesem Ergebnis kam nun eine internationale Studie. Ab welcher Menge es gefährlich wird und … [+4768 chars]</td><td>Wer häufig Kaffee, Limonaden oder Fruchtgetränke trinkt, hat ein höheres Risiko für einen Schlaganfall. Zu diesem Ergebnis kam nun eine internationale Studie. Ab welcher Menge es gefährlich wird – und welche Getränke stattdessen davor schützen.</td><td>2024-10-13T11:00:37Z</td><td>Focus</td><td>Internationale Studie zeigt - Kaffee erhöht Schlaganfall-Risiko – welche Getränke davor schützen</td><td>https://www.focus.de/gesundheit/news/internationale-studie-zeigt-kaffee-erhoeht-schlaganfall-risiko-welche-getraenke-davor-schuetzen_id_260389832.html</td><td>https://p6.focus.de/img/fotos/id_260389882/gettyimages-2077628716.jpg?im=Crop%3D%280%2C177%2C2120%2C1060%29%3BResize%3D%281200%2C627%29&impolicy=perceptual&quality=mediumHigh&hash=d5d1f2d43303f1df5dd6e024ff5f4edafc190538e11514b688eda33bc3c40c4d</td></tr><tr><td>Andrea Reyes</td><td>La diabetes es una enfermedad crónica y silenciosa que se caracteriza por presentar niveles altos de azúcar en sangre. Hay dos variantes más comunes: tipo 1 y tipo 2.\r\n",
       "Lee tambiénCatalina Ciampa\r\n",
       "La … [+3145 chars]</td><td>La diabetes es una enfermedad crónica y silenciosa que se caracteriza por presentar niveles altos de azúcar en sangre. Hay dos variantes más comunes: tipo 1 y tipo 2.</td><td>2024-10-13T11:00:00Z</td><td>Mundodeportivo.com</td><td>¿Puedo tener diabetes sin saberlo? El tiempo que tarda en manifestarse</td><td>https://www.mundodeportivo.com/vidae/salud/20241013/1002330235/diabetes-saberlo.html</td><td>https://www.mundodeportivo.com/files/og_thumbnail/uploads/2024/03/21/65fc85b3674c9.jpeg</td></tr><tr><td>Von FOCUS-online-Gastautor Nils Behrens</td><td><ul><li>\r\n",
       "Kommentare</li><li>\r\n",
       "E-Mail</li><li>\r\n",
       "Teilen</li><li>\r\n",
       "Mehr</li><li>\r\n",
       "Twitter</li><li>\r\n",
       "Drucken</li><li>\r\n",
       "Feedback</li><li>\r\n",
       "Fehler meldenSie haben einen Fehler gefunden?\r\n",
       "Bitte markieren S… [+7153 chars]</td><td>Neue Studien zeigen, dass intensives Lauftraining die Lebenserwartung verlängern kann. Doch es gibt auch eine Grenze. Langlebigkeitsspezialist Nils Behrens sagt, was Sie tun können, um lange fit und vital zu bleiben.Von FOCUS-online-Gastautor Nils Behrens</td><td>2024-10-13T11:00:00Z</td><td>Focus</td><td>Die richtige Balance zählt - Kann hartes Lauftraining die Lebenserwartung verlängern - oder das Gegenteil?</td><td>https://www.focus.de/experts/die-richtige-balance-zaehlt-kann-hartes-lauftraining-die-lebenserwartung-verlaengern-oder-das-gegenteil_id_260300381.html</td><td>https://p6.focus.de/img/fotos/id_260300359/gettyimages-1071153764.jpg?im=Crop%3D%280%2C181%2C2121%2C1061%29%3BResize%3D%281200%2C627%29&impolicy=perceptual&quality=mediumHigh&hash=f57c273e3e180707b22fd68fcad6f94d0960ce30eaa293ee66d60f9b9974b332</td></tr><tr><td>MarketBeat News</td><td>Handelsbanken Fonder AB boosted its position in shares of Tandem Diabetes Care, Inc. (NASDAQ:TNDM – Free Report) by 25.0% during the 3rd quarter, according to its most recent 13F filing with the SEC.… [+4639 chars]</td><td>Handelsbanken Fonder AB boosted its position in shares of Tandem Diabetes Care, Inc. (NASDAQ:TNDM – Free Report) by 25.0% during the 3rd quarter, according to its most recent 13F filing with the SEC. The fund owned 22,000 shares of the medical device company’…</td><td>2024-10-13T10:36:16Z</td><td>ETF Daily News</td><td>Handelsbanken Fonder AB Increases Stake in Tandem Diabetes Care, Inc. (NASDAQ:TNDM)</td><td>https://www.etfdailynews.com/2024/10/13/handelsbanken-fonder-ab-increases-stake-in-tandem-diabetes-care-inc-nasdaqtndm/</td><td>https://www.americanbankingnews.com/wp-content/timthumb/timthumb.php?src=https://www.marketbeat.com/logos/tandem-diabetes-care-inc-logo-1200x675.jpg&w=240&h=240&zc=2</td></tr><tr><td>Maíra Campos</td><td>A água de louro tem se destacado como um remédio natural que oferece diversos benefícios para a saúde, incluindo o controle dos níveis de açúcar no sangue, a proteção do fígado e a melhora da digestã… [+2840 chars]</td><td>A água de louro tem se destacado como um remédio natural que oferece diversos benefícios para a saúde, incluindo o controle dos níveis de açúcar no</td><td>2024-10-13T10:01:41Z</td><td>Catracalivre.com.br</td><td>Os benefícios da água de louro para a saúde são tantos que você precisa saber disto</td><td>https://catracalivre.com.br/saude-bem-estar/os-beneficios-da-agua-de-louro-para-a-saude-sao-tantos-que-voce-precisa-saber-disto/</td><td>https://catracalivre.com.br/cdn-cgi/image/f=auto,q=60,w=1280,h=720,fit=cover,format=jpeg/wp-content/uploads/2024/08/colesterol-folha-de-louro-scaled.jpg</td></tr><tr><td>communities@mercola.com (Dr. Joseph Mercola)</td><td>Mercola proudly supports these charities and organizations. View All \r\n",
       "Disclaimer: The entire contents of this website are based upon the opinions of Dr. Mercola, unless otherwise noted. Individual a… [+1007 chars]</td><td>Keeping your teeth clean and gums healthy isn't just a cosmetic concern. Apart from giving you a bright and pleasant smile, proper oral hygiene also influences your overall well-being. Think of your mouth as a window to your physical and mental health — it ca…</td><td>2024-10-14T00:00:00Z</td><td>Mercola.com</td><td>Poor Oral Health Wreaks Havoc on Your Heart and Brain</td><td>https://articles.mercola.com/sites/articles/archive/2024/10/14/poor-oral-health-wreaks-havoc-heart-brain.aspx</td><td>https://media.mercola.com/ImageServer/Public/2024/October/FB/poor-oral-health-wreaks-havoc-heart-brain-fb.jpg</td></tr><tr><td>Bryan Penprase, Contributor, \n",
       " Bryan Penprase, Contributor\n",
       " https://www.forbes.com/sites/bryanpenprase/</td><td>Sunil Gupta, chief executive officer and co-founder of Yotta Data Services Pvt., takes part in a ... [+] Hindu inauguration ceremony to mark the arrival of newly acquired Nvidia H100 chips at their c… [+7126 chars]</td><td>AI is india is guided by the Indian government’s multifaceted approach includes building an AI ecosystem that leverages resources in higher education, and industry.</td><td>2024-10-13T23:51:49Z</td><td>Forbes</td><td>The Future of AI and India</td><td>https://www.forbes.com/sites/bryanpenprase/2024/10/13/the-future-of-ai-and-india/</td><td>https://imageio.forbes.com/specials-images/imageserve/6707f5f72b5aa2e7f88ed23f/0x0.jpg?format=jpg&height=900&width=1600&fit=bounds</td></tr><tr><td>Dr. Liji Thomas</td><td>COVID-19 isn't just a respiratory illness; it's a long-term heart risk. This study reveals that the virus's impact on your heart lingers, putting survivors at an elevated risk of life-threatening car… [+5266 chars]</td><td>Study shows that severe COVID-19 elevates the long-term risk of major adverse cardiac events (MACE), making it comparable to coronary artery disease. It also highlights a genetic interaction with ABO blood type, influencing cardiovascular outcomes.</td><td>2024-10-13T23:07:52Z</td><td>News-Medical.Net</td><td>The long-term cardiac impact of COVID-19</td><td>https://www.news-medical.net/news/20241013/The-long-term-cardiac-impact-of-COVID-19.aspx</td><td>https://d2jx2rerrg6sh3.cloudfront.net/images/news/ImageForNews_792956_17288476654121301.jpg</td></tr><tr><td>The Podcast by KevinMD</td><td>Subscribe to The Podcast by KevinMD. Watch on YouTube. Catch up on old episodes!\r\n",
       "Join Manuel Arango, the director of Health Policy &amp; Advocacy at the Heart and Stroke Foundation of Canada. We div… [+14932 chars]</td><td>Join Manuel Arango, the director of Health Policy & Advocacy at the Heart and Stroke Foundation of Canada. We dive into the pressing issue of food marketing to children, exploring how these strategies impact kids' health and dietary habits. Manuel shares insi…</td><td>2024-10-13T23:00:13Z</td><td>Kevinmd.com</td><td>How food marketing to kids is harming their health and what we can do [PODCAST]</td><td>https://www.kevinmd.com/2024/10/how-food-marketing-to-kids-is-harming-their-health-and-what-we-can-do-podcast.html</td><td>https://www.kevinmd.com/wp-content/uploads/How-food-marketing-to-kids-is-harming-their-health-and-what-we-can-do.jpg</td></tr><tr><td>Mary West</td><td>While being overweight or having poor sleep habits is linked to adverse health effects, the combination of these factors may further compound risks.\r\n",
       "A recent study published in The Journal of Clinic… [+6172 chars]</td><td>Data support the health value of going to bed when tired and not staying up to stream, text, or game.</td><td>2024-10-13T22:38:01Z</td><td>Theepochtimes.com</td><td>Excess Weight and Poor Sleep Habits Result in Health Double Whammy</td><td>https://www.theepochtimes.com/health/excess-weight-and-poor-sleep-habits-result-in-health-double-whammy-5714882</td><td>https://img.theepochtimes.com/assets/uploads/2024/10/10/id5739481-Shutterstock_2325788019-1080x720.jpg</td></tr><tr><td>Blanca Valadez</td><td>El Instituto Nacional de Ciencias Médicas y Nutrición Salvador Zubirán (INCMNSZ) y el Sistema de Salud del Tecnológico de Monterrey (TecSalud), firmaron un convenio con el propósito de mejorar la asi… [+1782 chars]</td><td>El Instituto Nacional de Ciencias Médicas y Nutrición Salvador Zubirán (INCMNSZ) y el Sistema de Salud del Tecnológico de Monterrey (TecSalud), firmaron un convenio con el propósito de mejorar la asistencia e investigación sobre la diabetes tipo 2.Con la crea…</td><td>2024-10-13T22:38:00Z</td><td>Milenio</td><td>Crearán clínica para atención integral de pacientes con diabetes tipo 2</td><td>https://www.milenio.com/ciencia-y-salud/mejoraran-atencion-a-pacientes-con-diabetes-tipo-2</td><td>https://cdn.milenio.com/uploads/media/2024/10/13/firman-convenio-mejorar-atencion-diabetes.jpeg</td></tr><tr><td>Saúde em Dia</td><td>Assim como todo o nosso corpo, os olhos também são atingidos por uma variedade de doenças, que limitam a visão e, com isso, a qualidade de vida. Contudo, nos casos em que a genética não é imbatível, … [+1569 chars]</td><td>Uma alimentação saudável é poderosa na proteção da visão e saúde dos olhos. Oftalmologista aponta o que incluir na dieta</td><td>2024-10-13T22:35:03Z</td><td>Terra.com.br</td><td>Oftalmologista aponta os melhores alimentos para a visão</td><td>https://www.terra.com.br/vida-e-estilo/degusta/alimentacao-com-saude/oftalmologista-aponta-os-melhores-alimentos-para-a-visao,b0d6e96752c9371f0230a5917280369c3mpdng65.html</td><td>https://p2.trrsf.com/image/fget/cf/1200/630/middle/images.terra.com/2024/10/13/241716838-alimentos-pra-visao.jpg</td></tr><tr><td>Maíra Campos</td><td>A demência geralmente é associada a indivíduos mais velhos, mas, em alguns casos, ela pode se manifestar antes dos 65 anos, com sinais sutis e progressivos que muitas vezes são confundidos com estres… [+2382 chars]</td><td>A demência geralmente é associada a indivíduos mais velhos, mas, em alguns casos, ela pode se manifestar antes dos 65 anos, com sinais sutis e</td><td>2024-10-13T22:32:19Z</td><td>Catracalivre.com.br</td><td>Demência precoce: os sintomas em uma homem de 38 anos</td><td>https://catracalivre.com.br/saude-bem-estar/demencia-precoce-os-sintomas-em-uma-homem-de-38-anos/</td><td>https://catracalivre.com.br/cdn-cgi/image/f=auto,q=60,w=1280,h=720,fit=cover,format=jpeg/wp-content/uploads/2024/02/depositphotos-463061550-xl-scaled.jpg</td></tr><tr><td>null</td><td>VIENNA, Oct. 14, 2024 /PRNewswire/ -- Groundbreaking research presented today at UEG Week 2024 reveals a promising new treatment strategy for type 2 diabetes (T2D) that could significantly reduce or … [+2478 chars]</td><td>VIENNA, Oct. 14, 2024 /PRNewswire/ -- Groundbreaking research presented today at UEG Week 2024 reveals a promising new treatment strategy for type 2 diabetes (T2D) that could significantly reduce or even eliminate the need for insulin therapy. This innovative…</td><td>2024-10-13T22:01:00Z</td><td>PR Newswire UK</td><td>UEG Week: Novel procedure combined with semaglutide may eliminate insulin dependency in type 2 diabetes</td><td>https://www.prnewswire.co.uk/news-releases/ueg-week-novel-procedure-combined-with-semaglutide-may-eliminate-insulin-dependency-in-type-2-diabetes-302269065.html</td><td>null</td></tr><tr><td>Jessica Bernardo</td><td>São Paulo Gelo para preservar as comidas, vela para iluminar a casa e amizade com o comerciante do bairro para recarregar o celular nas tomadas abastecidas por gerador. Além de, claro, muita paciênci… [+4947 chars]</td><td>Metrópoles visitou bairros afetados pela falta de luz na zona sul da cidade e conversou com moradores sobre apagão em São Paulo</td><td>2024-10-13T20:54:29Z</td><td>Metropoles.com</td><td>Sem luz, moradores esgotam estoque de velas e carregam celular em loja</td><td>https://www.metropoles.com/sao-paulo/sem-luz-moradores-esgotam-estoque-velas</td><td>https://uploads.metroimg.com/wp-content/uploads/2024/10/13171708/APAGAO-EM-SP-8.jpg</td></tr><tr><td>Maíra Campos</td><td>Os níveis de açúcar no sangue se elevam quando o corpo não consegue produzir insulina suficiente ou não usa a insulina com eficiência. Existem hábitos simples que ajudam a reduzir naturalmente essa t… [+4551 chars]</td><td>Os níveis de açúcar no sangue se elevam quando o corpo não consegue produzir insulina suficiente ou não usa a insulina com eficiência. Existem hábitos</td><td>2024-10-13T19:33:22Z</td><td>Catracalivre.com.br</td><td>7 ajustes na rotina que ajudam a reduzir o açúcar no sangue</td><td>https://catracalivre.com.br/saude-bem-estar/7-ajustes-na-rotina-que-ajudam-a-reduzir-o-acucar-no-sangue/</td><td>https://catracalivre.com.br/cdn-cgi/image/f=auto,q=60,w=1280,h=720,fit=cover,format=jpeg/wp-content/uploads/2024/09/frutas-diabetes.jpg</td></tr><tr><td>Chris Q.</td><td>Kidney disease prevention is crucial for maintaining long-term health, as damage to these organs is typically irreversible.\r\n",
       "The kidneys are vital in filtering blood and eliminating excess waste from… [+4493 chars]</td><td>Here are seven vital steps for kidney disease prevention to reduce the risk of irreversible chronic disease and promote a longer life.</td><td>2024-10-13T19:30:08Z</td><td>Mypositiveoutlooks.com</td><td>7 things that can help prevent kidney disease and ensure long-term health and function</td><td>https://mypositiveoutlooks.com/kidney-disease-prevention-long-term-health/</td><td>https://mypositiveoutlooks.com/wp-content/uploads/2024/10/photo-of-kidney-featured.jpg</td></tr><tr><td>Gabriela Arias</td><td>Las especias tienen la virtud de transformar el más insípido de los platos en un manjar delicioso. Y las posibilidades de sabores y combinaciones son infinitas. Por eso no pueden faltar en ninguna co… [+11700 chars]</td><td>Además de sabor y color cuentan con diversas propiedades beneficiosas para la salud; una guía con 10 especias que no deberían faltar en la cocina</td><td>2024-10-13T10:01:00Z</td><td>La Nacion</td><td>Estas son las 10 mejores especias con poder antiinflamatorio, antioxidante y beneficios digestivos</td><td>https://www.lanacion.com.ar/salud/nutricion/estas-son-las-10-mejores-especias-con-poder-antiinflamatorio-antioxidante-y-beneficios-digestivos-nid13102024/</td><td>https://resizer.glanacion.com/resizer/v2/las-especias-yo-condimentos-son-elementos-muy-STWDYN5HYVANJM5PSLKOMFIL4I.jpg?auth=59a92a8671b30b9a42a214a2ff749c84b79588881c9fd8ae8c552bbba713fb6f&width=1920&height=1280&quality=70&smart=true</td></tr><tr><td>Damon Cronshaw</td><td>Subscribe now for unlimited access.\r\n",
       "Loginor signup to continue reading\r\n",
       "All articles from our website &amp; app\r\n",
       "The digital version ofToday'sPaper\r\n",
       "Breaking news alerts direct to your inbox\r\n",
       "Intera… [+4952 chars]</td><td>Professor Clare Collin's Newcastle study on diet, health and wellbeing will give free health checks. It includes research into chewing and the microbiome.</td><td>2024-10-13T09:52:16Z</td><td>Newcastleherald.com.au</td><td>Clare Collins study explores diet, health and wellbeing links</td><td>https://www.newcastleherald.com.au/story/8790221/clare-collins-study-explores-diet-health-and-wellbeing-links/</td><td>https://www.newcastleherald.com.au/images/transform/v1/crop/frm/3AijacentBN9GedHCvcASxG/ea19d395-2070-4c4c-87ef-e87ea0251c29.JPG/r1187_475_6000_3002_w1200_h630_fmax.jpg</td></tr><tr><td>Charlotte Codina, The Conversation</td><td>If you look up at the sky on a clear day, you might notice little cobweb-like structures drifting across your field of vision. They are known as floaters or, more formally, muscae volitantes Latin fo… [+6025 chars]</td><td>A look at the science.</td><td>2024-10-13T09:48:09Z</td><td>ScienceAlert</td><td>Can a Supplement Really Help Control Your Pesky Eye Floaters?</td><td>https://www.sciencealert.com/can-a-supplement-really-help-control-your-pesky-eye-floaters</td><td>https://www.sciencealert.com/images/2023/07/ExtremeCloseUpOfBlueGreenHumanEye.jpg</td></tr><tr><td>Rhoda Wilson</td><td>Skin cancers are by far the most commonly diagnosed cancer in the United States, so to prevent them, the public is constantly told to avoid the sun. However, while the relatively benign skin cancers … [+39958 chars]</td><td>“Skin cancers are by far the most commonly diagnosed cancer in the United States, so to prevent them, the public is constantly told to avoid the sun. However, while the relatively benign skin cance…</td><td>2024-10-13T09:16:12Z</td><td>Expose-news.com</td><td>Book Summary: The Healing Sun, Sunlight and Health in the 21st Century</td><td>https://expose-news.com/2024/10/13/book-summary-the-healing-sun/</td><td>https://i0.wp.com/expose-news.com/wp-content/uploads/2024/10/FeatOct13a.png?resize=1200%2C720&ssl=1</td></tr><tr><td>TT</td><td>Den 15 oktober inleds vaccinationerna mot säsongsinfluensa och covid-19 flera veckor tidigare än förra året.\r\n",
       " Det är väldigt svårt att veta exakt när ökningen kommer, säger statsepidemiolog Magnus G… [+2351 chars]</td><td>Den 15 oktober inleds vaccinationerna mot säsongsinfluensa och covid-19 – flera veckor tidigare än förra året. – Det är väldigt svårt att veta exakt när ökninge</td><td>2024-10-13T09:11:11Z</td><td>Aftonbladet.se</td><td>Tidig start för årets vaccinrace – det här gäller</td><td>https://www.aftonbladet.se/nyheter/a/zA6xnq/tidig-start-for-arets-vaccinrace-det-har-galler</td><td>https://images.aftonbladet-cdn.se/v2/images/1b92f65f-f780-4006-beaa-557fac518d20?fit=crop&format=auto&h=1267&q=50&w=1900&s=d0a0d37d320977acb224fd7c8aed7d7734dd66aa</td></tr><tr><td>MarketBeat News</td><td>Craig Hallum initiated coverage on shares of SAB Biotherapeutics (NASDAQ:SABS – Free Report) in a research note published on Wednesday morning, Marketbeat reports. The brokerage issued a buy rating a… [+3171 chars]</td><td>Craig Hallum initiated coverage on shares of SAB Biotherapeutics (NASDAQ:SABS – Free Report) in a research note published on Wednesday morning, Marketbeat reports. The brokerage issued a buy rating and a $11.00 price target on the stock. Several other equitie…</td><td>2024-10-13T08:39:39Z</td><td>ETF Daily News</td><td>SAB Biotherapeutics (NASDAQ:SABS) Coverage Initiated by Analysts at Craig Hallum</td><td>https://www.etfdailynews.com/2024/10/13/sab-biotherapeutics-nasdaqsabs-coverage-initiated-by-analysts-at-craig-hallum/</td><td>https://www.americanbankingnews.com/wp-content/timthumb/timthumb.php?src=https://www.marketbeat.com/logos/sab-biotherapeutics-logo.png?v=20211202075708&w=240&h=240&zc=2</td></tr><tr><td>MarketBeat News</td><td>Squarepoint Ops LLC cut its holdings in shares of Oramed Pharmaceuticals Inc. (NASDAQ:ORMP – Free Report) by 8.3% during the second quarter, HoldingsChannel.com reports. The firm owned 81,758 shares … [+3754 chars]</td><td>Squarepoint Ops LLC cut its holdings in shares of Oramed Pharmaceuticals Inc. (NASDAQ:ORMP – Free Report) by 8.3% during the second quarter, HoldingsChannel.com reports. The firm owned 81,758 shares of the biotechnology company’s stock after selling 7,367 sha…</td><td>2024-10-13T07:30:54Z</td><td>ETF Daily News</td><td>Oramed Pharmaceuticals Inc. (NASDAQ:ORMP) Shares Sold by Squarepoint Ops LLC</td><td>https://www.etfdailynews.com/2024/10/13/oramed-pharmaceuticals-inc-nasdaqormp-shares-sold-by-squarepoint-ops-llc/</td><td>https://www.americanbankingnews.com/wp-content/timthumb/timthumb.php?src=https://www.marketbeat.com/logos/oramed-pharmaceuticals-inc-logo-1200x675.jpg?v=20240607141322&w=240&h=240&zc=2</td></tr><tr><td>Redacción AN / MDS</td><td>[Síguenos ahora también en WhatsApp. Da clic aquí]\r\n",
       "Por Julio García G. / Periodista de Ciencia\r\n",
       "Uno de los misterios que todavía prevalece, a pesar de los últimos avances en astronomía, tiene que ve… [+6316 chars]</td><td>Investigadores de la Universidad de Nevada (Estados Unidos) aseguran que Sagitario A*, el agujero negro supermasivo que reside en el centro de la Vía Láctea, es producto de la fusión con otro agujero negro hace unos 9 mil millones de años.</td><td>2024-10-13T07:29:05Z</td><td>Aristeguinoticias.com</td><td>El agujero negro supermasivo de la Vía Láctea surgió a partir de la fusión de dos agujeros negros: estudio</td><td>https://aristeguinoticias.com/1310/kiosko/el-agujero-negro-supermasivo-de-la-via-lactea-surgio-a-partir-de-la-fusion-de-dos-agujeros-negros-estudio/?adsafe_ip=</td><td>https://editorial.aristeguinoticias.com/wp-content/uploads/2024/10/agujeto-negro-istock-julio-garcia-13102024.jpg</td></tr><tr><td>MarketBeat News</td><td>Cuprina Holdings (Cayman) Ltd (CUPR) expects to raise $16 million in an initial public offering (IPO) on the week of October 21st, IPO Scoop reports. The company plans to issue 3,800,000 shares at $4… [+6235 chars]</td><td>Cuprina Holdings (Cayman) Ltd (CUPR) expects to raise $16 million in an initial public offering (IPO) on the week of October 21st, IPO Scoop reports. The company plans to issue 3,800,000 shares at $4.00-$4.50 per share. In the last twelve months, Cuprina Hold…</td><td>2024-10-13T07:25:05Z</td><td>ETF Daily News</td><td>Cuprina Holdings (Cayman) Ltd Plans $16 Million IPO for Week of October 21st (CUPR)</td><td>https://www.etfdailynews.com/2024/10/13/cuprina-holdings-cayman-ltd-plans-16-million-ipo-for-week-of-october-21st-cupr-2/</td><td>https://www.americanbankingnews.com/wp-content/timthumb/timthumb.php?src=https://www.marketbeat.com/logos/ipo1.jpg&w=240&h=240&zc=2</td></tr><tr><td>MarketBeat News</td><td>Renaissance Technologies LLC reduced its holdings in Sana Biotechnology, Inc. (NASDAQ:SANA – Free Report) by 71.1% during the 2nd quarter, Holdings Channel reports. The fund owned 49,900 shares of th… [+4368 chars]</td><td>Renaissance Technologies LLC reduced its holdings in Sana Biotechnology, Inc. (NASDAQ:SANA – Free Report) by 71.1% during the 2nd quarter, Holdings Channel reports. The fund owned 49,900 shares of the company’s stock after selling 123,000 shares during the qu…</td><td>2024-10-13T07:22:55Z</td><td>ETF Daily News</td><td>Sana Biotechnology, Inc. (NASDAQ:SANA) Shares Sold by Renaissance Technologies LLC</td><td>https://www.etfdailynews.com/2024/10/13/sana-biotechnology-inc-nasdaqsana-shares-sold-by-renaissance-technologies-llc/</td><td>https://www.americanbankingnews.com/wp-content/timthumb/timthumb.php?src=https://www.marketbeat.com/logos/sana-biotechnology-inc-logo-1200x675.jpg?v=20210326135341&w=240&h=240&zc=2</td></tr><tr><td>Leigh Weingus</td><td>Hint: All three foods are shown in this photo.\r\n",
       "Heart disease is the leading cause of death in the United States. People of most racial and ethnic groups in the country are more likely to die from a … [+6655 chars]</td><td>Eliminating These 3 Foods From Your Diet Can Be A Game-Changer For Heart Healthhuffpost.com</td><td>2024-10-13T07:16:11Z</td><td>HuffPost</td><td>Eliminating These 3 Foods From Your Diet Can Be A Game-Changer For Heart Health</td><td>https://www.huffpost.com/entry/eliminating-these-3-foods-from-your-diet-can-be-a-game-changer-for-heart-health-ano_l_67081a8ee4b047df57071473</td><td>https://img.huffingtonpost.com/asset/65aad2ed2200005500ad4f33.jpeg?cache=KDEvg72iKH&ops=1200_630</td></tr><tr><td>Bernd Müller</td><td>(Bild: Perfect Wave / Shutterstock.com )\r\n",
       "Krafttraining hält Senioren fit. Es bremst Muskelabbau und stärkt Knochen. Doch wie überwindet man die Angst vor dem ersten Schritt in die Kraftkammer?\r\n",
       "Mit … [+4849 chars]</td><td>Krafttraining hält Senioren fit. Es bremst Muskelabbau und stärkt Knochen. Doch wie überwindet man die Angst vor dem ersten Schritt in die Kraftkammer?</td><td>2024-10-13T07:00:00Z</td><td>Telepolis.de</td><td>Dem Altern trotzen: Wie Krafttraining Senioren fit und beweglich hält</td><td>https://www.telepolis.de/features/Dem-Altern-trotzen-Wie-Krafttraining-Senioren-fit-und-beweglich-haelt-9979228.html</td><td>https://heise.cloudimg.io/bound/1200x1200/q85.png-lossy-85.webp-lossy-85.foil1/_www-heise-de_/imgs/18/4/6/8/8/1/2/8/shutterstock_1523747234-2f9da177e8e709ba.jpeg</td></tr><tr><td>Mercura Wang</td><td>Autism spectrum disorder (ASD), or just autism, is a neurological and developmental condition that affects social interaction, communication, learning, and behavior. It encompasses a range of conditi… [+29768 chars]</td><td>In the United States, one in 36 children and one in 45 adults have autism, with males four times more likely to be affected.</td><td>2024-10-13T14:00:41Z</td><td>Theepochtimes.com</td><td>Autism Spectrum Disorder: Symptoms, Causes, Treatments, and Natural Approaches</td><td>https://www.theepochtimes.com/health/autism-spectrum-disorder-symptoms-causes-treatments-and-natural-approaches-5737061</td><td>https://img.theepochtimes.com/assets/uploads/2024/10/12/id5740380-autism-feature-3-1-1080x720.jpg</td></tr><tr><td>Saúde em Dia</td><td>A queima de gordura corporal é uma etapa importante para quem deseja perder peso e definir o corpo. Mas esse pode ser um grande desafio, principalmente nos casos de adiposidade localizada.\r\n",
       "Pensando … [+4049 chars]</td><td>A queima de gordura é um grande desafio para quem deseja perder os quilinhos extras na balança. Veja como facilitar o processo em 5 passos</td><td>2024-10-13T13:36:21Z</td><td>Metropoles.com</td><td>Personal revela 5 dicas para acelerar a queima de gordura corporal</td><td>https://www.metropoles.com/saude/5-dicas-acelerar-queima-de-gordura</td><td>https://uploads.metroimg.com/wp-content/uploads/2024/02/02095932/mulher-medindo-a-gordura-da-barriga-com-fita-metrica.jpg</td></tr><tr><td>JONATHAN MATTISE Associated Press, TRAVIS LOLLER Associated Press, KRISTIN M. HALL Associated Press</td><td>NASHVILLE, Tenn. -- The leading private prison company in the U.S. has spent more than $4.4 million to settle dozens of complaints alleging mistreatment including at least 22 inmate deaths at its Ten… [+7661 chars]</td><td>The leading private prison company in the U.S. has spent more than $4.4 million to settle dozens of complaints alleging mistreatment at its Tennessee prisons and jails since 2016</td><td>2024-10-13T13:34:27Z</td><td>ABC News</td><td>Prison operator under federal scrutiny spent millions settling Tennessee mistreatment claims</td><td>https://abcnews.go.com/US/wireStory/prison-operator-federal-scrutiny-spent-millions-settling-tennessee-114758885</td><td>https://i.abcnewsfe.com/a/64dbcc6e-8aea-4fe3-bff0-5b7ae9dcd15f/wirestory_1c2b3cd5cd395a7f1453566e366fb415_16x9.jpg?w=1600</td></tr><tr><td>Portal EdiCase</td><td>A obesidade é uma doença comum entre os cachorros e pode trazer sérias consequências para a saúde e qualidade de vida deles. O excesso de peso sobrecarrega o organismo, predispondo os cães a uma séri… [+5062 chars]</td><td>A obesidade é uma doença comum entre os cachorros e pode trazer sérias consequências para a ...</td><td>2024-10-13T13:02:45Z</td><td>Terra.com.br</td><td>Veja o tipo de alimentação adequada para cachorro obeso</td><td>https://www.terra.com.br/vida-e-estilo/pets/veja-o-tipo-de-alimentacao-adequada-para-cachorro-obeso,1a5975570249683c7877650f6cc99140e1unw6sa.html</td><td>https://p2.trrsf.com/image/fget/cf/1200/630/middle/images.terra.com/2024/10/13/358645303-cachorro-comendo.jpg</td></tr><tr><td>null</td><td>[Removed]</td><td>[Removed]</td><td>2024-10-13T13:01:07Z</td><td>[Removed]</td><td>[Removed]</td><td>https://removed.com</td><td>null</td></tr><tr><td>Redacción</td><td>¿Y si nos tomamos un tecito? Si quieres probar una de las infusiones más deliciosas, además de degustar el té de manzanilla con miel o la tisana de jamaica, debes intentar hacer la bebida caliente de… [+9569 chars]</td><td>El té de canela con manzana no solo sabe delicioso, también puede reducir el riesgo de que desarrolles algunas enfermedades, te decimos por qué.</td><td>2024-10-13T13:00:00Z</td><td>El Financiero</td><td>¿Para qué sirve el té de canela con manzana?</td><td>https://www.elfinanciero.com.mx/food-and-drink/2024/10/13/para-que-sirve-el-te-de-canela-con-manzana/</td><td>https://elfinanciero.com.mx/resizer/v2/ZBGO3EMHSRFYBHCHHU5F6VVMFY.jpg?smart=true&auth=397e9eb35b17830ba40e23ca35ffd7ea3a4706f8b3bbbdfdee14f6497ff8297f&width=1200&height=630</td></tr><tr><td>Blake Turck</td><td>This is One Thing, a column with tips on how to live.\r\n",
       "For a decade, my homebody husband and I would typically settle into the couch after dinner, looking at our phones and watching a TV series or mo… [+2743 chars]</td><td>There are even some health benefits.</td><td>2024-10-13T13:00:00Z</td><td>Slate Magazine</td><td>After Dinner, We Used to Watch TV. Now We Have a Better Ritual.</td><td>https://slate.com/life/2024/10/after-dinner-walk-benefits-mental-health.html</td><td>https://compote.slate.com/images/a1766847-fa08-44ba-92a4-76d5c8ed6b71.jpeg?crop=3000%2C2000%2Cx0%2Cy0&width=1560</td></tr><tr><td>MarketBeat News</td><td>LVW Advisors LLC lowered its position in shares of Tandem Diabetes Care, Inc. (NASDAQ:TNDM – Free Report) by 12.9% during the third quarter, according to its most recent Form 13F filing with the SEC.… [+5032 chars]</td><td>LVW Advisors LLC lowered its position in shares of Tandem Diabetes Care, Inc. (NASDAQ:TNDM – Free Report) by 12.9% during the third quarter, according to its most recent Form 13F filing with the SEC. The institutional investor owned 6,854 shares of the medica…</td><td>2024-10-13T12:46:54Z</td><td>ETF Daily News</td><td>LVW Advisors LLC Reduces Holdings in Tandem Diabetes Care, Inc. (NASDAQ:TNDM)</td><td>https://www.etfdailynews.com/2024/10/13/lvw-advisors-llc-reduces-holdings-in-tandem-diabetes-care-inc-nasdaqtndm/</td><td>https://www.americanbankingnews.com/wp-content/timthumb/timthumb.php?src=https://www.marketbeat.com/logos/tandem-diabetes-care-inc-logo-1200x675.jpg&w=240&h=240&zc=2</td></tr><tr><td>MarketBeat News</td><td>Wedmont Private Capital boosted its stake in shares of Insulet Co. (NASDAQ:PODD – Free Report) by 3.5% during the 3rd quarter, HoldingsChannel reports. The institutional investor owned 1,433 shares o… [+4924 chars]</td><td>Wedmont Private Capital boosted its stake in shares of Insulet Co. (NASDAQ:PODD – Free Report) by 3.5% during the 3rd quarter, HoldingsChannel reports. The institutional investor owned 1,433 shares of the medical instruments supplier’s stock after purchasing …</td><td>2024-10-13T12:20:51Z</td><td>ETF Daily News</td><td>Insulet Co. (NASDAQ:PODD) Shares Purchased by Wedmont Private Capital</td><td>https://www.etfdailynews.com/2024/10/13/insulet-co-nasdaqpodd-shares-purchased-by-wedmont-private-capital/</td><td>https://www.americanbankingnews.com/wp-content/timthumb/timthumb.php?src=https://www.marketbeat.com/logos/insulet-corp-logo-1200x675.gif&w=240&h=240&zc=2</td></tr><tr><td>Estadão Conteúdo</td><td>Dos 55 vereadores que ocupam cadeiras na Câmara Municipal de São Paulo, 51 buscaram reeleição no último dia 6, mas somente 35 conseguiram continuar em suas cadeiras. A frustração não é negada por nen… [+6559 chars]</td><td>Apenas 35 dos nomes que buscaram reeleição conseguiram se eleger em São Paulo. Veteranos com mais de 20 décadas de atuação ficaram de fora, mas não pensam em se afastar do serviço público mesmo sem mandato</td><td>2024-10-13T12:12:46Z</td><td>Terra.com.br</td><td>Políticos experientes já pensam em novos caminhos após não conseguirem a reeleição à Câmara de SP</td><td>https://www.terra.com.br/noticias/brasil/politica/politicos-experientes-ja-pensam-em-novos-caminhos-apos-nao-conseguirem-a-reeleicao-a-camara-de-sp,b147c0a0d2324cdc83d2d7ec0233b3e2mkvz05xx.html</td><td>https://p2.trrsf.com/image/fget/cf/1200/630/middle/images.terra.com/2024/10/13/1298153873-2cvucmxzivho7g6mbpu2hfvegq.jpg</td></tr><tr><td>Estadão Conteúdo</td><td>Livre. É assim que a ex-deputada Joice Hasselmann define seu estado de espírito, apesar da derrota na eleição para a Câmara Municipal de São Paulo. Ela diz que a sensação é como se houvesse reconquis… [+6507 chars]</td><td>Depois de ser a mulher mais votada para a Câmara Federal em 2018, jornalista perdeu o mandato nas urnas, fracassou na tentativa de ser vereadora e agora diz ter 'se libertado'; veja entrevista</td><td>2024-10-13T12:10:46Z</td><td>Terra.com.br</td><td>De 1.078.666 a 1.673 votos: Joice Hasselmann se diz aposentada da política: 'Eleitor se radicalizou'</td><td>https://www.terra.com.br/noticias/brasil/politica/de-1078666-a-1673-votos-joice-hasselmann-se-diz-aposentada-da-politica-eleitor-se-radicalizou,406e79737d4b5a3b04f1e1fe415fcfafhs8yj98c.html</td><td>https://s1.trrsf.com/update-1698692222/fe/zaz-mod-t360-icons/svg/logos/terra-16x9-borda.png</td></tr><tr><td>Joaquín Vico Plaza</td><td>Boticaria García es una de las mejores divulgadoras de salud de habla hispana. Cuenta con varios libros escritos, conferencias entretenidas por doquier, incluso con karaoke y cientos de consejos en s… [+4527 chars]</td><td>Boticaria García es una de las mejores divulgadoras de salud de habla hispana. Cuenta con varios libros escritos, conferencias entretenidas por doquier, incluso con karaoke y cientos de consejos en sus redes sociales. La farmacéutica es experta en temas como …</td><td>2024-10-13T12:01:47Z</td><td>Vitonica.com</td><td>Las cinco reglas de oro de Boticaria García para evitar que tu cerebro tenga hambre</td><td>https://www.vitonica.com/wellness/cinco-reglas-oro-boticaria-garcia-para-evitar-que-tu-cerebro-tenga-hambre</td><td>https://i.blogs.es/1351f8/-que-personas-te-hacen-brillar-c/840_560.jpeg</td></tr><tr><td>Maíra Campos</td><td>Estudo mostra as 10 verduras mais saudáveis e os benefícios para saúde - hobo_018_iStock\r\n",
       "Um estudo realizado pela Universidade William Paterson, nos EUA, identificou as verduras mais saudáveis para … [+2171 chars]</td><td>Um estudo realizado pela Universidade William Paterson, nos EUA, identificou as verduras mais saudáveis para serem incluídas em uma alimentação</td><td>2024-10-13T17:31:32Z</td><td>Catracalivre.com.br</td><td>Quais são as verduras mais nutritivas e fáceis de encontrar para incluir agora na rotina</td><td>https://catracalivre.com.br/saude-bem-estar/quais-sao-as-verduras-mais-nutritivas-e-faceis-de-encontrar-para-incluir-agora-na-rotina/</td><td>https://catracalivre.com.br/cdn-cgi/image/f=auto,q=60,w=1280,h=720,fit=cover,format=jpeg/wp-content/uploads/2024/01/istock-1415387379.jpg</td></tr><tr><td>null</td><td>[Removed]</td><td>[Removed]</td><td>2024-10-13T17:08:23Z</td><td>[Removed]</td><td>[Removed]</td><td>https://removed.com</td><td>null</td></tr><tr><td>ERIC KIM</td><td>Grip strength, the ability to exert force with the hands and forearms, is a complex trait influenced by various physiological mechanisms. Understanding these mechanisms provides insight into how grip… [+8519 chars]</td><td>Grip strength, the ability to exert force with the hands and forearms, is a complex trait influenced by various physiological mechanisms. Understanding these mechanisms provides insight into how grip strength is developed, maintained, and how it correlates wi…</td><td>2024-10-13T16:33:30Z</td><td>Erickimphotography.com</td><td>What are the physiological mechanisms of grip strength</td><td>https://erickimphotography.com/blog/2024/10/13/what-are-the-physiological-mechanisms-of-grip-strength/</td><td>null</td></tr><tr><td>ERIC KIM</td><td>Grip strength has increasingly been recognized as a valuable indicator of overall strength, health, and longevity. Research has shown that grip strength correlates not only with muscle mass but also … [+9739 chars]</td><td>Grip strength has increasingly been recognized as a valuable indicator of overall strength, health, and longevity. Research has shown that grip strength correlates not only with muscle mass but also with a range of health outcomes, making it a strong predicto…</td><td>2024-10-13T16:30:55Z</td><td>Erickimphotography.com</td><td>Search connection between grip strength and overall strength and health.</td><td>https://erickimphotography.com/blog/2024/10/13/search-connection-between-grip-strength-and-overall-strength-and-health/</td><td>null</td></tr><tr><td>Estadão Conteúdo</td><td>Todo o estoque de insulina foi parar no lixo, assim como os alimentos da geladeira de duas casas de repouso que atendem a 50 idosos em Santo Amaro, na zona sul de São Paulo. Por lá, com o apagão, o d… [+2468 chars]</td><td>Casa de repouso e filha que mora com pais idosos relatam sensação de insegurança, preocupação e dificuldades desde queda de energia, na sexta, em São Paulo</td><td>2024-10-13T16:17:48Z</td><td>Terra.com.br</td><td>Insulina no lixo, sem banho e menos conforto: os impactos do apagão para os idosos de SP</td><td>https://www.terra.com.br/noticias/brasil/cidades/insulina-no-lixo-sem-banho-e-menos-conforto-os-impactos-do-apagao-para-os-idosos-de-sp,4b564f39b452c3b4b4ac9fd176b7cfbdmgaxnfc2.html</td><td>https://p2.trrsf.com/image/fget/cf/1200/630/middle/images.terra.com/2024/10/13/1406236334-6ceuzx5o5fbt5ctv5ddc4tmsvu.jpg</td></tr><tr><td>Maíra Campos</td><td>A dificuldade de virar-se ao caminhar pode ser um sinal precoce da doença de Alzheimer, alertou uma equipe de pesquisa da University College London.\r\n",
       "Os especialistas usaram a realidade virtual para … [+2892 chars]</td><td>A dificuldade de virar-se ao caminhar pode ser um sinal precoce da doença de Alzheimer, alertou uma equipe de pesquisa da University College London. Os</td><td>2024-10-13T15:31:04Z</td><td>Catracalivre.com.br</td><td>Fique atento! Novo sintoma de Alzheimer é identificado em estudo de Londres</td><td>https://catracalivre.com.br/saude-bem-estar/fique-atento-novo-sintoma-de-alzheimer-e-identificado-em-estudo-de-londres/</td><td>https://catracalivre.com.br/cdn-cgi/image/f=auto,q=60,w=1280,h=720,fit=cover,format=jpeg/wp-content/uploads/2024/04/estudo-aponta-situacoes-que-podem-elevar-risco-de-alzheimer-scaled.jpg</td></tr><tr><td>Estadão Conteúdo</td><td>Muitos já ouviram falar que a hora da refeição deveria ser \"sagrada\". No entanto, na prática, entre notificações de celular e a correria do dia a dia, essa ideia acaba não sendo levada a sério. Nesse… [+4676 chars]</td><td>Transformar o ato de comer em uma verdadeira pausa pode aliviar o estresse e nos tornar mais atentos para perceber os sinais da saciedade</td><td>2024-10-13T15:22:41Z</td><td>Terra.com.br</td><td>'Mindful eating': Entenda os benefícios da atenção plena durante a alimentação</td><td>https://www.terra.com.br/vida-e-estilo/saude/mindful-eating-entenda-os-beneficios-da-atencao-plena-durante-a-alimentacao,8620a9bada92d744911199f98b2358f560x33dmc.html</td><td>https://p2.trrsf.com/image/fget/cf/1200/630/middle/images.terra.com/2024/10/13/1068617230-7qyh3aw5qrgnpossia3z5lqhdy.jpg</td></tr><tr><td>Deutsche Welle</td><td>Medicamentos criados para tratar diabetes e sobrepeso em crianças viraram febre como solução rápida para perda de peso. Especialistas alertam para efeitos colaterais e imitações sem eficácia no merca… [+6101 chars]</td><td>Medicamentos criados para tratar diabetes e sobrepeso em crianças viraram febre como solução ...</td><td>2024-10-13T15:17:11Z</td><td>Terra.com.br</td><td>Emagrecer com Ozempic e Wegowy: ciência ou \"hype\"?</td><td>https://www.terra.com.br/noticias/emagrecer-com-ozempic-e-wegowy-ciencia-ou-hype,07107bb00febdd9e5b719ea9b1aa925ega47j8e0.html</td><td>https://s1.trrsf.com/update-1698692222/fe/zaz-mod-t360-icons/svg/logos/terra-16x9-borda.png</td></tr><tr><td>Nadya Aufia</td><td>Penyakit jantung dan pembuluh darah menyebabkan 17,3 juta kematian setiap tahunnya. Kondisi ini semakin serius dengan meningkatnya kasus serangan jantung pada usia muda. Di Indonesia terdapat peningk… [+1831 chars]</td><td>Meningkatkan kesadaran untuk menjaga kesehatan jantung menjadi sangat penting. World Heart Day yang diperingati setiap tanggal 29 September menjadi penekanan betapa pentingnya meningkatkan kesadaran masyarakat terhadap bahaya penyakit kardiovaskular.</td><td>2024-10-13T15:03:58Z</td><td>Fimela.com</td><td>Langkah Kecil Menjaga Kesehatan Jantung dengan Peringati World Heart Day</td><td>https://www.fimela.com/health/read/5742485/langkah-kecil-menjaga-kesehatan-jantung-dengan-peringati-world-heart-day</td><td>https://cdn1-production-images-kly.akamaized.net/MIdu1RrL8OyvalFJDA57hex0mRc=/1200x675/smart/filters:quality(75):strip_icc():format(jpeg)/kly-media-production/medias/4963328/original/042250300_1728387264-Screenshot_2024-10-08_161654.jpg</td></tr><tr><td>Álvaro García M.</td><td>Según los registros hay al menos siete millones de personas en nuestro país que padecen una enfermedad conocida como apnea del sueño. Precisamente el conocido streamer Ibai Llanos, que se encuentra e… [+5781 chars]</td><td>Según los registros hay al menos siete millones de personas en nuestro país que padecen una enfermedad conocida como apnea del sueño. Precisamente el conocido streamer Ibai Llanos, que se encuentra en pleno cambio físico, habló de ello recientemente al ser un…</td><td>2024-10-13T15:01:49Z</td><td>Applesfera.com</td><td>Cómo se trata la apnea del sueño que sufren Ibai Llanos y siete millones de españoles y cómo la miden los Apple Watch</td><td>https://www.applesfera.com/tutoriales/como-se-trata-apnea-sueno-como-mide-apple-watch</td><td>https://i.blogs.es/a9813c/apnea-1/840_560.jpeg</td></tr><tr><td>null</td><td>Two weeks after Hurricane Helene tore through the southeastern United States, killing hundreds of people across multiple states and knocking out electricity for millions, volunteers are bringing sola… [+6763 chars]</td><td>Two weeks after Hurricane Helene downed power lines across western North Carolina, volunteers are bringing solar power to communities in the region.</td><td>2024-10-13T14:42:22Z</td><td>CBS News</td><td>Volunteers bring solar power to North Carolina communities after Helene</td><td>https://www.cbsnews.com/news/solar-power-volunteers-hurricane-helene-north-carolina-communities-lacking-electricity/</td><td>https://assets1.cbsnewsstatic.com/hub/i/r/2024/10/13/f4273ebe-b499-4d3b-b03d-2bfbdd39c678/thumbnail/1200x630/43ceb6952bd5ac1b998d450777145ce4/ap24285683965200.jpg?v=29b5ccc4d237d9b284ce95a42effd073</td></tr><tr><td>Jonathan Mattise</td><td>NASHVILLE, Tenn. — (AP) The leading private prison company in the U.S. has spent more than $4.4 million to settle dozens of complaints alleging mistreatment including at least 22 inmate deaths at its… [+7821 chars]</td><td>The leading private prison company in the U.S. has spent more than $4.4 million to settle dozens of complaints alleging mistreatment at its Tennessee prisons and jails since 2016</td><td>2024-10-13T14:23:37Z</td><td>WSB Atlanta</td><td>Prison operator under federal scrutiny spent millions settling Tennessee mistreatment claims</td><td>https://www.wsbtv.com/news/national/prison-operator/FFWOXOPCHBH2RGQZDLCMXOK3KQ/</td><td>https://cmg-cmg-tv-10010-prod.cdn.arcpublishing.com/resizer/PFeU4zj5XT6Ihig6wS_I14weAbA=/1440x810/filters:format(jpg):quality(70)/cloudfront-us-east-1.images.arcpublishing.com/cmg/IEGKUW33GLKDKCK2LIVH7NNJWQ.jpg</td></tr><tr><td>webdesk@voanews.com (Associated Press)</td><td>BAKERSVILLE, North Carolina  Nearly two weeks after Hurricane Helene downed power lines and washed out roads all over North Carolina's mountains, the constant din of a gas-powered generator is gettin… [+5645 chars]</td><td>BAKERSVILLE, North Carolina — Nearly two weeks after Hurricane Helene downed power lines and washed out roads all over North Carolina's mountains, the constant din of a gas-powered generator is getting to be too much for Bobby Renfro.\n",
       "\n",
       "\n",
       "It's difficult to hear…</td><td>2024-10-13T04:28:45Z</td><td>VOA News</td><td>Volunteers bring solar power to Hurricane Helene's disaster zone</td><td>https://www.voanews.com/a/volunteers-bring-solar-power-to-hurricane-helene-s-disaster-zone/7820560.html</td><td>https://gdb.voanews.com/1BF12326-4BCC-4171-AA63-3FDAB4EAD631.jpg</td></tr><tr><td>Gabriela Aoun Angueira</td><td>BAKERSVILLE, N.C. Nearly two weeks after Hurricane Helene downed power lines and washed out roads all over North Carolina's mountains, the constant din of a gas-powered generator is getting to be too… [+6067 chars]</td><td>Nearly two weeks after Hurricane Helene downed power lines and washed out roads all over North Carolina’s mountains, the roar of gas-powered generators is both unpleasant and essential.</td><td>2024-10-13T04:23:38Z</td><td>KSAT San Antonio</td><td>Volunteers bring solar power to Hurricane Helene's disaster zone</td><td>https://www.ksat.com/tech/2024/10/13/volunteers-bring-solar-power-to-hurricane-helenes-disaster-zone/</td><td>https://res.cloudinary.com/graham-media-group/image/upload/f_auto/q_auto/c_thumb,w_700/v1/media/gmg/GPSAZGWQCBEBJFOPHIW6HF7B2U.jpg?_a=DATAdtfiZAA0</td></tr><tr><td>null</td><td>Fats get a lot of flak in the nutrition world, but they're actually a big deal for a healthy diet. Your body needs fat every day for energy and to help absorb certain vitamins and minerals. Plus, the… [+3986 chars]</td><td>Understanding the different types of fats and their impact on your health can help you make smarter choices. Read on to learn more.</td><td>2024-10-13T04:22:41Z</td><td>NDTV News</td><td>Not All Fats Are Bad! Here's What You Should Know About The Good, The Bad, And The Ugly</td><td>https://food.ndtv.com/health/good-fats-vs-bad-fats-what-you-need-to-know-for-a-healthy-diet-6775936</td><td>https://c.ndtvimg.com/yvni3daubfn_fats_625x300.jpg?im=FeatureCrop,algorithm=dnn,width=1200,height=675</td></tr><tr><td>GABRIELA AOUN ANGUEIRA Associated Press</td><td>BAKERSVILLE, N.C. -- Nearly two weeks after Hurricane Helene downed power lines and washed out roads all over North Carolina's mountains, the constant din of a gas-powered generator is getting to be … [+5917 chars]</td><td>Nearly two weeks after Hurricane Helene downed power lines and washed out roads all over North Carolina’s mountains, the roar of gas-powered generators is both unpleasant and essential</td><td>2024-10-13T04:22:29Z</td><td>ABC News</td><td>Volunteers bring solar power to Hurricane Helene's disaster zone</td><td>https://abcnews.go.com/US/wireStory/volunteers-bring-solar-power-hurricane-helenes-disaster-zone-114755953</td><td>https://i.abcnewsfe.com/a/83e6cb60-9f2a-4780-bf0f-5e2b5ea53f58/wirestory_095b6ff5f1290ac7439f12b555f9845d_16x9.jpg?w=1600</td></tr><tr><td>Dr Flo</td><td>Dear Doc, I am 22, but my breasts have not developed. I experienced all other changes during puberty, including my monthly period starting at the age of 13, but not even the slightest change happened… [+5905 chars]</td><td>Help! I’m 22 and my breasts have not developednation.africa</td><td>2024-10-13T04:15:43Z</td><td>Nation.africa</td><td>Help! I’m 22 and my breasts have not developed</td><td>https://nation.africa/kenya/health/help-i-m-22-and-my-breasts-have-not-developed-4792136</td><td>https://nation.africa/resource/image/4792150/landscape_ratio3x2/1200/800/c276e2f51cf0c8e82679084a89117ff2/zn/puberty.jpg</td></tr><tr><td>Gabriela Aoun Angueira</td><td>BAKERSVILLE, N.C. Nearly two weeks after Hurricane Helene downed power lines and washed out roads all over North Carolina's mountains, the constant din of a gas-powered generator is getting to be too… [+6067 chars]</td><td>Nearly two weeks after Hurricane Helene downed power lines and washed out roads all over North Carolina’s mountains, the roar of gas-powered generators is both unpleasant and essential.</td><td>2024-10-13T04:15:34Z</td><td>WDIV ClickOnDetroit</td><td>Volunteers bring solar power to Hurricane Helene's disaster zone</td><td>https://www.clickondetroit.com/tech/2024/10/13/volunteers-bring-solar-power-to-hurricane-helenes-disaster-zone/</td><td>https://res.cloudinary.com/graham-media-group/image/upload/f_auto/q_auto/c_thumb,w_700/v1/media/gmg/GPSAZGWQCBEBJFOPHIW6HF7B2U.jpg?_a=DATAdtfiZAA0</td></tr><tr><td>GABRIELA AOUN ANGUEIRA Associated Press</td><td>BAKERSVILLE, N.C. -- Nearly two weeks after Hurricane Helene downed power lines and washed out roads all over North Carolina's mountains, the constant din of a gas-powered generator is getting to be … [+5917 chars]</td><td>Nearly two weeks after Hurricane Helene downed power lines and washed out roads all over North Carolina’s mountains, the roar of gas-powered generators is both unpleasant and essential</td><td>2024-10-13T04:14:35Z</td><td>ABC News</td><td>Volunteers bring solar power to Hurricane Helene's disaster zone</td><td>https://abcnews.go.com/Technology/wireStory/volunteers-bring-solar-power-hurricane-helenes-disaster-zone-114755954</td><td>https://i.abcnewsfe.com/a/83e6cb60-9f2a-4780-bf0f-5e2b5ea53f58/wirestory_095b6ff5f1290ac7439f12b555f9845d_16x9.jpg?w=1600</td></tr><tr><td>By GABRIELA AOUN ANGUEIRA, Associated Press</td><td>Henry Kovacs, left, and Hayden Wilson, right, volunteers with the Footprint Project, load two Tesla Powerwall batteries to deliver to communities impacted by Hurricane Helene in Mars Hill, N.C. on Oc… [+9418 chars]</td><td>Nearly two weeks after Hurricane Helene downed power lines and washed out roads all over North Carolina’s mountains, the roar of gas-powered generators is both unpleasant and essential. More than 43,000 of the 1.5 million customers who lost power in the regio…</td><td>2024-10-13T04:13:22Z</td><td>seattlepi.com</td><td>Volunteers bring solar power to Hurricane Helene's disaster zone</td><td>https://www.seattlepi.com/business/article/volunteers-bring-solar-power-to-hurricane-19834243.php</td><td>https://s.hdnux.com/photos/01/44/26/12/26305169/3/rawImage.jpg</td></tr><tr><td>The West Australian</td><td>In its 57th year, Telethon is in better shape than ever. From humble beginnings, Australias premier charity fundraiser is firmly part of this States social and corporate fabric, and has been part of … [+8210 chars]</td><td>After humble beginnings in the 1960s, the records just keep getting smashed, rocketing from $2.5m in 2000 to a staggering $77.5m last year. So why is Telethon the world’s most successful event of its kind?</td><td>2024-10-13T04:09:07Z</td><td>The West Australian</td><td>Telethon: Why the children’s charity event is the world’s most successful</td><td>https://thewest.com.au/news/telethon/telethon-why-the-childrens-charity-event-is-the-worlds-most-successful-c-16344472</td><td>https://images.thewest.com.au/publication/C-16344472/e821b75ba5d63d0bcf5f3e94e39d88645a069075-16x9-x0y566w3218h1810.jpg?imwidth=1200</td></tr><tr><td>The Associated Press</td><td>Author of the article:\r\n",
       "Article content\r\n",
       "BAKERSVILLE, N.C. (AP) Nearly two weeks after Hurricane Helene downed power lines and washed out roads all over North Carolinas mountains, the constant din of… [+8893 chars]</td><td>BAKERSVILLE, N.C. (AP) — Nearly two weeks after Hurricane Helene downed power lines and washed out roads all over North Carolina’s mountains, the constant din of a gas-powered generator is getting to be too much for Bobby Renfro. It’s difficult to hear the nu…</td><td>2024-10-13T04:06:58Z</td><td>Financial Post</td><td>Volunteers bring solar power to Hurricane Helene’s disaster zone</td><td>https://financialpost.com/pmn/volunteers-bring-solar-power-to-hurricane-helenes-disaster-zone</td><td>null</td></tr><tr><td>null</td><td>[Removed]</td><td>[Removed]</td><td>2024-10-13T04:02:55Z</td><td>[Removed]</td><td>[Removed]</td><td>https://removed.com</td><td>null</td></tr><tr><td>GABRIELA AOUN ANGUEIRA</td><td>BAKERSVILLE, N.C. (AP) Nearly two weeks after Hurricane Helene downed power lines and washed out roads all over North Carolina's mountains, the constant din of a gas-powered generator is getting to b… [+5917 chars]</td><td>Nearly two weeks after Hurricane Helene downed power lines and washed out roads all over North Carolina's mountains, the constant din of a gas-powered...</td><td>2024-10-13T04:02:54Z</td><td>Yahoo Entertainment</td><td>Volunteers bring solar power to Hurricane Helene's disaster zone</td><td>https://finance.yahoo.com/news/volunteers-bring-solar-power-hurricane-040254756.html</td><td>https://s.yimg.com/cv/apiv2/social/images/yahoo_default_logo.png</td></tr></tbody></table></div>"
      ]
     },
     "metadata": {
      "application/vnd.databricks.v1+output": {
       "addedWidgets": {},
       "aggData": [],
       "aggError": "",
       "aggOverflow": false,
       "aggSchema": [],
       "aggSeriesLimitReached": false,
       "aggType": "",
       "arguments": {},
       "columnCustomDisplayInfos": {},
       "data": [
        [
         "Cnn",
         "Democratic presidential nominee, Vice President Kamala Harris pauses while speaking during a campaign rally at the Rawhide Event Center on October 10, in Chandler, Arizona.\r\nBrandon Bell/Getty Images… [+3322 chars]",
         "“She possesses the physical and mental resiliency required to successfully execute the duties of the Presidency,” her doctor, US Army physician Joshua R. Simmons, said in a letter summarizing her",
         "2024-10-13T03:44:12Z",
         "WPSD Local 6",
         "Vice President Harris is in ‘excellent health,’ according to detailed letter from her physician",
         "https://www.wpsdlocal6.com/news/vice-president-harris-is-in-excellent-health-according-to-detailed-letter-from-her-physician/article_7b20e548-88bc-11ef-83f1-2736a5726ff9.html",
         "https://bloximages.newyork1.vip.townnews.com/wpsdlocal6.com/content/tncms/assets/v3/editorial/7/b2/7b20e548-88bc-11ef-83f1-2736a5726ff9/670aad7358573.preview.jpg?crop=1763%2C926%2C0%2C124&resize=1200%2C630&order=crop%2Cresize"
        ],
        [
         "Lois Balado",
         "El 28 % de fármacos con receta que se dispensan en España son medicamentos que actúan sobre el sistema nervioso central, el mayor porcentaje de todos los grupos anatómicos que atiende la sanidad. Sol… [+17559 chars]",
         "En un escenario socioeconómico de total incertidumbre y ante la falta de alternativas públicas que permitan el acceso a la psicoterapia, el consumo de recetas de antidepresivos inhibidores selectivos de recaptación de la serotonina sigue disparado",
         "2024-10-13T03:00:00Z",
         "Lavozdegalicia.es",
         "Antideprimidos para siempre, cuando la pastilla se eterniza: «Llevo más de 30 años medicada»",
         "https://www.lavozdegalicia.es/noticia/lavozdelasalud/salud-mental/2024/10/12/antideprimidos-siempre-pastilla-eterniza-llevo-30-anos-medicada/00031728720241859157709.htm",
         "https://cflvdg.avoz.es/sc/8ZWglxauRBROjf_anyFQPjgGW5A=/1280x/2024/10/11/00121728645024933680295/Foto/ANTIDEPRIMIDOS.png"
        ],
        [
         "Carmen G. Mariñas",
         "David Baker, Geoffrey E. Hinton y Victor Ambros son tres de los galardonados con un premio Nobel científico este 2024. Son, además, hombres anglosajones. Si le sumamos el provenir de una familia de e… [+8306 chars]",
         "Una investigación destaca que en 122 años de historia, solo un 4 % de las personas premiadas en categorías científicas fueron mujeres",
         "2024-10-13T03:00:00Z",
         "Lavozdegalicia.es",
         "Hombre, de familia rica y estadounidense o europeo: los premios Nobel tienen un perfil marcado",
         "https://www.lavozdegalicia.es/noticia/sociedad/2024/10/11/hombre-familia-rica-estadounidense-europeo-premios-nobel-perfil-marcado/00031728654836802451280.htm",
         "https://img.lavdg.com/sc/-XfgqKRo5g_ucR3SFtoq9iRWeZo=/1280x/2024/10/11/00121728663542694665666/Foto/reu_20241008_192617869.jpg"
        ],
        [
         "R. ROMAR",
         "Fue algo histórico. Por primer vez un avance científico logrado gracias a la inteligencia artificial ha sido reconocido con un premio Nobel. Y muy probablemente no será la última. La herramienta de I… [+8448 chars]",
         "El premio muestra el enorme potencial de la IA en el avance científico",
         "2024-10-13T03:00:00Z",
         "Lavozdegalicia.es",
         "Una aplicación de inteligencia artificial gana el Nobel, pero no será la última vez",
         "https://www.lavozdegalicia.es/noticia/sociedad/2024/10/13/aplicacion-inteligencia-artificial-gana-nobel-sera-ultima-vez/0003_202410G13P34991.htm",
         "https://img.lavdg.com/sc/O-gPVFHU-Od73e6vZaypzoLTZxU=/1280x/2024/10/11/00121728669961639894152/Foto/reu_20241010_074435592.jpg"
        ],
        [
         "Thatyana Costa",
         "O que é colesterol alto e quais os riscos? - iStock/HYWARDS\r\nO colesterol alto é uma condição que afeta muitas pessoas e, muitas vezes, não apresenta sintomas visíveis. Mesmo assim, ele aumenta signi… [+1782 chars]",
         "O colesterol alto é uma condição que afeta muitas pessoas e, muitas vezes, não apresenta sintomas visíveis. Mesmo assim, ele aumenta significativamente os",
         "2024-10-13T02:01:02Z",
         "Catracalivre.com.br",
         "Dicas essenciais para baixar o colesterol alto e evitar riscos",
         "https://catracalivre.com.br/saude-bem-estar/dicas-essenciais-para-baixar-o-colesterol-alto-e-evitar-riscos/",
         "https://catracalivre.com.br/cdn-cgi/image/f=auto,q=60,w=1280,h=720,fit=cover,format=jpeg/wp-content/uploads/2024/07/alimentos-colesterol-alto.jpg"
        ],
        [
         "Moneycontrol Hindi",
         ", - . (Black Salt) \r\n , \r\n, , (black salt benefits for diabetes) - - \r\n - \r\n:",
         "सबसे ज्यादा जिंदगी छीनने वाली बीमारियों में डायबिटीज भी शामिल है। अधिकतर लोगों को इसकी शुरुआत का पता तक नहीं चलता। जब ये बीमारी शरीर को अंदर से बेकार कर देती है, तब जाकर मरीज की आंखें खुलती हैं। शुगर की बीमारी के शरीर सूखने लगता है। कई अंगों पर असर पड़ता है। …",
         "2024-10-13T01:50:09Z",
         "Moneycontrol",
         "Diabetes: काला नामक डायबिटीज की कर देगा छुट्टी, BP के लिए फायदेमंद, वजन रहेगा कंट्रोल",
         "https://hindi.moneycontrol.com/news/health/diabetes-black-salt-control-high-blood-sugar-weight-good-for-bp-know-all-benefits-1930165.html",
         "https://images.moneycontrol.com/static-hindinews/2024/10/BlackSalt.jpg"
        ],
        [
         "André Nicolau",
         "Estudo revela alguns fatores, para além da genética, que podem contribuir para a demência precoce lightsource/DepositPhotos - lightsource/DepositPhotos\r\nUm estudo recente realizado na Europa identifi… [+1861 chars]",
         "Um estudo recente realizado na Europa identificou fatores que podem aumentar o risco de desenvolver demência precoce, bem como outros que parecem ajudar a",
         "2024-10-13T01:30:32Z",
         "Catracalivre.com.br",
         "Estes são alguns fatores que podem aumentar a chance de demência precoce",
         "https://catracalivre.com.br/saude-bem-estar/estes-sao-alguns-fatores-que-podem-aumentar-a-chance-de-demencia-precoce/",
         "https://catracalivre.com.br/cdn-cgi/image/f=auto,q=60,w=1280,h=720,fit=cover,format=jpeg/wp-content/uploads/2024/04/descoberto-novo-indicativo-precoce-de-demencia.jpg"
        ],
        [
         "Olufunke",
         "While writing this article, I looked back to the 80s with nostalgia. One day, while in the secondary school, our agric science teacher came into the class and started discussing pawpaw and she told u… [+7463 chars]",
         "Pregnant women should abstain from eating unripe pawpaw because it is high in papain. Ripe pawpaw is safe for them.",
         "2024-10-13T01:22:41Z",
         "The Punch",
         "Health benefits of fruits: Pawpaw",
         "https://punchng.com/health-benefits-of-fruits-pawpaw/",
         "https://cdn.punchng.com/wp-content/uploads/2020/02/22204250/Olufunke.jpg"
        ],
        [
         "André Nicolau",
         "Horário das refeições está diretamente ligado à redução do risco de obesidade Rostislav_Sedlacek/istock - Rostislav_Sedlacek/istock\r\nO horário em que comemos influencia diretamente o modo como nosso … [+2416 chars]",
         "O horário em que comemos influencia diretamente o modo como nosso corpo queima calorias, controla a fome e armazena gordura. Sabendo disso, vale a pena",
         "2024-10-13T00:31:56Z",
         "Catracalivre.com.br",
         "Horário das refeições ajuda a reduzir risco de obesidade",
         "https://catracalivre.com.br/saude-bem-estar/horario-das-refeicoes-ajuda-a-reduzir-risco-de-obesidade/",
         "https://catracalivre.com.br/cdn-cgi/image/f=auto,q=60,w=1280,h=720,fit=cover,format=jpeg/wp-content/uploads/2016/01/balanca.jpg"
        ],
        [
         "Our Reporters",
         "A ceramic sculptor, Adegoke Olubusi, in this interview with OLUFEMI ADEDIRAN speaks about how his journey into the world of creativity was significantly shaped by his royal lineage. He also shares th… [+13319 chars]",
         "A ceramic sculptor, Adegoke Olubusi, in this interview with OLUFEMI ADEDIRAN speaks about how his journey into the world of creativity was significantly shaped by his royal lineage. He also shares the challenges Nigerian artists face and offers insights into …",
         "2024-10-13T00:10:24Z",
         "The Punch",
         "I import all materials for my artwork– Sculptor",
         "https://punchng.com/i-import-all-materials-for-my-artwork-sculptor/",
         "https://cdn.punchng.com/wp-content/uploads/2024/10/12232828/ADEGOKE-OLUBUSI.jpg"
        ],
        [
         "Naomi Chima",
         "Bridget Tychus, an international director with Lions International, tells NAOMI CHIMA about her membership of the association, and other issues\r\nWhat motivated you to join Lions International, and ho… [+12014 chars]",
         "Bridget Tychus, an international director with Lions International, tells NAOMI CHIMA about her membership of the association, and other issues What motivated you to join Lions International, and how has your journey with the organisation evolved since then? …",
         "2024-10-13T00:07:18Z",
         "The Punch",
         "Effective listening crucial to being a good leader — Bridget Tychus",
         "https://punchng.com/effective-listening-crucial-to-being-a-good-leader-bridget-tychus/",
         "https://cdn.punchng.com/wp-content/uploads/2024/10/12215130/BRIDGET-TYCHUS.jpg"
        ],
        [
         "communities@mercola.com (Dr. Joseph Mercola)",
         "Mercola proudly supports these charities and organizations. View All \r\nDisclaimer: The entire contents of this website are based upon the opinions of Dr. Mercola, unless otherwise noted. Individual a… [+1007 chars]",
         "Cheese has been a staple in human diets for millennia. However, the advent of industrial cheese production has dramatically altered its quality, making real, traditional cheese increasingly hard to find in the U.S. Instead, the market is now flooded with chee…",
         "2024-10-13T00:00:00Z",
         "Mercola.com",
         "Bringing Back Traditional Cheese-Making — A Movement to Redefine Cheese as a Superfood",
         "https://articles.mercola.com/sites/articles/archive/2024/10/13/traditional-cheese-making.aspx",
         "https://media.mercola.com/ImageServer/Public/2024/August/FB/traditional-cheese-making-fb.jpg"
        ],
        [
         "communities@mercola.com (Dr. Joseph Mercola)",
         "Mercola proudly supports these charities and organizations. View All \r\nDisclaimer: The entire contents of this website are based upon the opinions of Dr. Mercola, unless otherwise noted. Individual a… [+1007 chars]",
         "I recently had the pleasure of interviewing Calley Means, co-author of the book \"Good Energy\" and a policy advisor to Robert F. Kennedy Jr. Our conversation uncovered some shocking truths about the origins of our modern food system and the dire health consequ…",
         "2024-10-13T00:00:00Z",
         "Mercola.com",
         "The Hidden History of Our Modern Food System: How Big Tobacco Shaped What We Eat",
         "https://articles.mercola.com/sites/articles/archive/2024/10/13/big-tobacco-food-system.aspx",
         "https://media.mercola.com/ImageServer/Public/2024/October/FB/big-tobacco-food-system-fb.jpg"
        ],
        [
         "Chijioke Iremeka",
         "Parents not feeding their children with enough vegetables, especially those under the age of five are exposing them to the risk of malnutrition and chronic diseases, child health and nutrition expert… [+7537 chars]",
         "Parents not feeding their children with enough vegetables, especially those under the age of five are exposing them to the risk of malnutrition and chronic diseases, child health and nutrition experts have said. The experts said with the escalating rate of ma…",
         "2024-10-12T23:43:42Z",
         "The Punch",
         "Feed children with vegetables as malnutrition escalates, experts tell parents",
         "https://punchng.com/feed-children-with-vegetables-as-malnutrition-escalates-experts-tell-parents/",
         "https://cdn.punchng.com/wp-content/uploads/2024/10/12193329/OLOYEDE-AND-BABATOPE.jpg"
        ],
        [
         "Durgesh Nandan Jha",
         "How to make vrat-friendly Coconut Peanut Chutney at home",
         "Replacing ultra-processed foods with minimally processed or processed alternatives can reduce diabetes risk, according to a Lancet study. The study, involving over three lakh people, found a 17% increased diabetes incidence for every 10% rise in ultra-process…",
         "2024-10-12T23:40:18Z",
         "The Times of India",
         "Replacing ultra-processed foods in diet cuts risk of diabetes, suggests study",
         "https://timesofindia.indiatimes.com/india/replacing-ultra-processed-foods-in-diet-cuts-risk-of-diabetes-suggests-study/articleshow/114180016.cms",
         "https://static.toiimg.com/thumb/msid-114180020,width-1070,height-580,imgsize-1189687,resizemode-75,overlay-toi_sw,pt-32,y_pad-40/photo.jpg"
        ],
        [
         "Taylor Fleming",
         "PEORIA (25News Now) - Blue Cross Blue Shield of Illinois held a Community Health Fair.\r\nSaturdays event was at Eastview Community Center. \r\nWhile there, people could get flu and COVID-19 vaccines, an… [+1251 chars]",
         "Blue Cross Blue Shield holds community health fair in Bloomington25newsnow.com",
         "2024-10-12T22:50:23Z",
         "25newsnow.com",
         "Blue Cross Blue Shield holds community health fair in Bloomington",
         "https://www.25newsnow.com/2024/10/12/blue-cross-blue-shield-holds-community-health-fair-bloomington/",
         "https://gray-week-prod.gtv-cdn.com/resizer/v2/JYKV75KGOBENTF6JM75CVWHEB4.png?auth=675dab12a9f166efe5f793e5496f9437cfc2faa1585e9b1a9044980c751565dd&width=1200&height=600&smart=true"
        ],
        [
         "MarketBeat News",
         "Cuprina Holdings (Cayman) Ltd (CUPR) plans to raise $16 million in an initial public offering (IPO) on the week of October 21st, IPO Scoop reports. The company will issue 3,800,000 shares at $4.00-$4… [+6211 chars]",
         "Cuprina Holdings (Cayman) Ltd (CUPR) plans to raise $16 million in an initial public offering (IPO) on the week of October 21st, IPO Scoop reports. The company will issue 3,800,000 shares at $4.00-$4.50 per share. In the last twelve months, Cuprina Holdings (…",
         "2024-10-13T06:43:00Z",
         "ETF Daily News",
         "Cuprina Holdings (Cayman) Ltd Plans $16 Million IPO for Week of October 21st (CUPR)",
         "https://www.etfdailynews.com/2024/10/13/cuprina-holdings-cayman-ltd-plans-16-million-ipo-for-week-of-october-21st-cupr/",
         "https://www.americanbankingnews.com/wp-content/timthumb/timthumb.php?src=https://www.marketbeat.com/logos/ipo1.jpg&w=240&h=240&zc=2"
        ],
        [
         null,
         "MADRID, 13 Oct. (EDIZIONES) - \r\n   Todos sabemos que hacer ejercicio de manera regular es beneficioso para nuestra salud, no sólo física, sino también a nivel mental. En los últimos años, eso sí, est… [+5917 chars]",
         "Todos sabemos que hacer ejercicio de manera regular es beneficioso para nuestra salud, no sólo física, sino también a nivel mental. En los últimos años, eso sí, está cobrando cada vez más fuerza la práctica de los ejercicios de fuerza.",
         "2024-10-13T05:59:48Z",
         "Infosalus.com",
         "Añade estos 20 minutos de rutina 'full body' de fuerza en tu día a día y te sentirás mejor",
         "https://www.infosalus.com/salud-investigacion/noticia-anade-20-minutos-rutina-full-body-fuerza-dia-dia-te-sentiras-mejor-20241013075948.html",
         "https://img.europapress.es/fotoweb/fotonoticia_20241013075948_1200.jpg"
        ],
        [
         "MarketBeat News",
         "Eli Lilly and Company (NYSE:LLY – Get Free Report)’s stock price was up 1.1% during trading on Friday after Truist Financial raised their price target on the stock from $1,000.00 to $1,033.00. Truist… [+4568 chars]",
         "Eli Lilly and Company (NYSE:LLY – Get Free Report)’s stock price was up 1.1% during trading on Friday after Truist Financial raised their price target on the stock from $1,000.00 to $1,033.00. Truist Financial currently has a buy rating on the stock. Eli Lill…",
         "2024-10-13T05:58:53Z",
         "ETF Daily News",
         "Eli Lilly and Company (NYSE:LLY) Trading Up 1.1% After Analyst Upgrade",
         "https://www.etfdailynews.com/2024/10/13/eli-lilly-and-company-nyselly-trading-up-1-1-after-analyst-upgrade/",
         "https://www.americanbankingnews.com/wp-content/timthumb/timthumb.php?src=https://www.marketbeat.com/logos/logo_eli_lilly-1200x675.jpg&w=240&h=240&zc=2"
        ],
        [
         "MarketBeat News",
         "Ceapro (OTCMKTS:CRPOF – Get Free Report) and Merck KGaA (OTCMKTS:MKGAF – Get Free Report) are both medical companies, but which is the superior stock? We will contrast the two businesses based on the… [+5636 chars]",
         "Ceapro (OTCMKTS:CRPOF – Get Free Report) and Merck KGaA (OTCMKTS:MKGAF – Get Free Report) are both medical companies, but which is the superior stock? We will contrast the two businesses based on the strength of their profitability, analyst recommendations, i…",
         "2024-10-13T05:55:12Z",
         "ETF Daily News",
         "Ceapro (OTCMKTS:CRPOF) & Merck KGaA (OTCMKTS:MKGAF) Financial Comparison",
         "https://www.etfdailynews.com/2024/10/13/ceapro-otcmktscrpof-merck-kgaa-otcmktsmkgaf-financial-comparison/",
         "https://www.americanbankingnews.com/wp-content/timthumb/timthumb.php?src=https://www.marketbeat.com/logos/merck-kommanditgesellschaft-auf-aktien-logo-1200x675.jpg?v=20221103130110&w=240&h=240&zc=2"
        ],
        [
         "MarketBeat News",
         "Roche (OTCMKTS:RHHBY – Get Free Report) and NovaBay Pharmaceuticals (NYSE:NBY – Get Free Report) are both medical companies, but which is the better investment? We will compare the two companies base… [+4470 chars]",
         "Roche (OTCMKTS:RHHBY – Get Free Report) and NovaBay Pharmaceuticals (NYSE:NBY – Get Free Report) are both medical companies, but which is the better investment? We will compare the two companies based on the strength of their profitability, valuation, earning…",
         "2024-10-13T05:53:09Z",
         "ETF Daily News",
         "Reviewing NovaBay Pharmaceuticals (NYSE:NBY) and Roche (OTCMKTS:RHHBY)",
         "https://www.etfdailynews.com/2024/10/13/reviewing-novabay-pharmaceuticals-nysenby-and-roche-otcmktsrhhby/",
         "https://www.americanbankingnews.com/wp-content/timthumb/timthumb.php?src=https://www.marketbeat.com/logos/novabay-pharmaceuticals-inc-logo-1200x675.png?v=20230928104704&w=240&h=240&zc=2"
        ],
        [
         "ET Online",
         "Artificial Intelligence(AI)\r\nAI and Analytics based Business Strategy\r\nBy - Tanusree De, Managing Director- Accenture Technology Lead, Trustworthy AI Center of Excellence: ATCI\r\nView Program",
         "Replacing ultra-processed foods with unprocessed or minimally processed food lowers diabetes risk, confirms a Lancet Regional Health study. Research involved over 300,000 people, showing a 17% higher incidence of diabetes with every 10% increase in daily ultr…",
         "2024-10-13T05:53:00Z",
         "The Times of India",
         "Daily food intake of these foods items can increase chances of diabetes by 17%: Study",
         "https://economictimes.indiatimes.com/news/new-updates/daily-food-intake-of-these-foods-items-can-increase-chances-of-diabetes-by-17-study/articleshow/114183587.cms",
         "https://img.etimg.com/thumb/msid-114183596,width-1200,height-630,imgsize-23844,overlay-economictimes/photo.jpg"
        ],
        [
         "Enrique Quintana",
         "El día de ayer tuvimos uno de esos episodios que darán vergüenza cuando se registren en la historia del país.\r\nEn una tómbola se seleccionaron los jueces y magistrados, que serán cesados antes del 1 … [+3850 chars]",
         "El día de ayer tuvimos uno de esos episodios que darán vergüenza cuando se registren en la historia del país.",
         "2024-10-13T05:48:47Z",
         "El Financiero",
         "La justicia se fue a… la tómbola",
         "https://www.elfinanciero.com.mx/opinion/enrique-quintana/2024/10/12/la-justicia-se-fue-a-la-tombola/",
         "https://elfinanciero.com.mx/resizer/v2/JIWYHUPQ65ABVPLGEXKJCAWXFY.jpg?smart=true&auth=f4f287066d2aae1e7dfa8467d48532945f72e2265b8e3d09beb86cd441e88b61&width=1200&height=630"
        ],
        [
         "MarketBeat News",
         "Johnson &amp; Johnson (NYSE:JNJ – Get Free Report) will be announcing its earnings results before the market opens on Tuesday, October 15th. Analysts expect the company to announce earnings of $2.19 … [+4980 chars]",
         "Johnson & Johnson (NYSE:JNJ – Get Free Report) will be announcing its earnings results before the market opens on Tuesday, October 15th. Analysts expect the company to announce earnings of $2.19 per share for the quarter. Johnson & Johnson has set its FY24 gu…",
         "2024-10-13T05:16:00Z",
         "ETF Daily News",
         "Johnson & Johnson (JNJ) Scheduled to Post Earnings on Tuesday",
         "https://www.etfdailynews.com/2024/10/13/johnson-johnson-jnj-scheduled-to-post-earnings-on-tuesday/",
         "https://www.americanbankingnews.com/wp-content/timthumb/timthumb.php?src=https://www.marketbeat.com/logos/johnson--johnson-logo-1200x675.png?v=20221020135923&w=240&h=240&zc=2"
        ],
        [
         "Bruna Sales",
         "São Paulo Um estudo publicado na revista científica The Lancet no fim de julho deste ano apresenta novas perspectivas para a prevenção da demência – um problema de saúde pública que atinge cerca de 2… [+4196 chars]",
         "Estudo global com apoio de pesquisadora da Unifesp aborda novos fatores de risco para a demência. A escolaridade pode ser o principal deles",
         "2024-10-13T05:12:14Z",
         "Metropoles.com",
         "Escolaridade é chave para abordar demência, diz professora da Unifesp",
         "https://www.metropoles.com/sao-paulo/escolaridade-chave-abordar-demencia-professora-unifesp",
         "https://uploads.metroimg.com/wp-content/uploads/2024/10/11155414/demencia-3.jpg"
        ],
        [
         "José Ramón Huerta",
         "Gabi Dávila recibió una primera toma de Ozempic en una clínica estética de San Diego, necesitaba bajar 10 libras (casi 5 kilos). Ella no es diabética, sólo vanidosa. Su médico le advirtió de la enorm… [+3649 chars]",
         "Gabi Dávila recibió una primera toma de Ozempic en una clínica estética de San Diego, necesitaba bajar 10 libras (casi 5 kilos). Ella no es diabética, sólo vanidosa. Su médico le advirtió de la enorme lista de espera para recibir el fármaco en Estados Unidos,…",
         "2024-10-13T05:07:01Z",
         "Milenio",
         "El 'hada madrina' Ozempic se agota en México: ¡Todos queremos bajar de peso!",
         "https://www.milenio.com/ciencia-y-salud/ozempic-se-agota-en-mexico-gringos-cruzan-la-frontera-para-comprarlo",
         "https://cdn.milenio.com/uploads/media/2024/10/11/mexico-ozempic-vendido-receta-medica.jpg"
        ],
        [
         "Medical Xpress / The Ginger Network / Nutrition Journal",
         "Skip to comments.\r\nAdding beans and pulses can lead to improved shortfall nutrient intakes and a higher diet quality in American adultsMedical Xpress / The Ginger Network / Nutrition Journal ^\r\n | Oc… [+3742 chars]",
         "New research showing the association between greater bean and pulse consumption and improved shortfall nutrient intakes and a higher diet quality in American adults is published. Pulses are the edible seeds of plants in the legume family. Pulses grow in pods …",
         "2024-10-13T05:00:24Z",
         "Freerepublic.com",
         "Adding beans and pulses can lead to improved shortfall nutrient intakes and a higher diet quality in American adults",
         "https://freerepublic.com/focus/f-chat/4270639/posts",
         null
        ],
        [
         "Rahul Kumar",
         "Individuals diagnosed with severe Covid-19 infections during the initial wave of the pandemic may face twice the risk of experiencing heart attacks and strokes, according to a new study. The research… [+2033 chars]",
         "As per the research, unvaccinated individuals infected with the virus in 2019 and 2020 are at a notably higher risk of experiencing a heart attack or stroke, with this risk lasting for up to three years after infection.",
         "2024-10-13T04:33:07Z",
         "NDTV News",
         "First Wave Covid Infections Linked To Higher Heart Attack Risks: Study",
         "https://www.ndtv.com/world-news/covid-19-infections-from-1st-wave-linked-to-elevated-risks-of-heart-attack-study-finds-6777938",
         "https://c.ndtvimg.com/2024-01/d31ktkno_covid-19-_625x300_11_January_24.jpeg?im=FeatureCrop,algorithm=dnn,width=1200,height=738"
        ],
        [
         "Natasha Lomas",
         "When you think of brain stimulating medtech, startups building wearables as therapeutics probably aren’t the first thing that springs to mind. Such tech is still flying fairly under the radar — perha… [+18661 chars]",
         "When you think of brain stimulating medtech, startups building wearables as therapeutics probably aren't the first thing that springs to mind. Such tech",
         "2024-10-13T12:01:40Z",
         "TechCrunch",
         "How a medtech market opportunity is shaping up for wearable neurotech | TechCrunch",
         "https://techcrunch.com/2024/10/13/how-a-medtech-market-opportunity-is-shaping-up-for-wearable-neurotech/",
         "https://techcrunch.com/wp-content/uploads/2024/08/brain-brain.jpg?resize=1200,675"
        ],
        [
         "FOCUS online",
         "Wenn es um ein gesundes Körpergewicht geht, wird oft der BMI-Wert zur Kontrolle herangezogen. Wie Experten nun aber zeigen, könnte ein anderer Wert noch viel aussagekräftiger sein, um etwa die Herzge… [+4246 chars]",
         "Wenn es um ein gesundes Körpergewicht geht, wird oft der BMI-Wert zur Kontrolle herangezogen. Wie Experten nun aber zeigen, könnte ein anderer Wert noch viel aussagekräftiger sein, um etwa die Herzgesundheit im Blick zu haben.",
         "2024-10-13T11:53:02Z",
         "Focus",
         "Wichtiger Gesundheits-Wert - Genauer als der BMI: So berechnen Sie Ihren Body-Round-Index",
         "https://www.focus.de/gesundheit/news/wichtiger-gesundheits-wert-genauer-als-der-bmi-so-berechnen-sie-ihren-body-round-index_id_260389974.html",
         "https://p6.focus.de/img/fotos/id_260389999/gettyimages-2157402666.jpg?im=Crop%3D%280%2C177%2C2120%2C1060%29%3BResize%3D%281200%2C627%29&impolicy=perceptual&quality=mediumHigh&hash=fecc8bf0e155f65368ef89b570f4b478e6b472760af4bfa025bf4ad043854566"
        ],
        [
         "MarketBeat News",
         "Atomi Financial Group Inc. acquired a new stake in shares of DexCom, Inc. (NASDAQ:DXCM – Free Report) in the 3rd quarter, according to the company in its most recent 13F filing with the Securities an… [+6583 chars]",
         "Atomi Financial Group Inc. acquired a new stake in shares of DexCom, Inc. (NASDAQ:DXCM – Free Report) in the 3rd quarter, according to the company in its most recent 13F filing with the Securities and Exchange Commission. The firm acquired 3,936 shares of the…",
         "2024-10-13T11:33:02Z",
         "ETF Daily News",
         "Atomi Financial Group Inc. Makes New $264,000 Investment in DexCom, Inc. (NASDAQ:DXCM)",
         "https://www.etfdailynews.com/2024/10/13/atomi-financial-group-inc-makes-new-264000-investment-in-dexcom-inc-nasdaqdxcm/",
         "https://www.americanbankingnews.com/wp-content/timthumb/timthumb.php?src=https://www.marketbeat.com/logos/dexcom-inc-logo-1200x675.png?v=20221024145045&w=240&h=240&zc=2"
        ],
        [
         "Bleichmar Fonti & Auld",
         "NEW YORK, Oct. 13, 2024 (GLOBE NEWSWIRE) -- Leading securities law firm Bleichmar Fonti &amp; Auld LLP announces that a lawsuit has been filed against DexCom, Inc. (NASDAQ: DXCM) and certain of the C… [+2773 chars]",
         "DexCom, Inc. investors that lost money on their investment are encouraged to contact BFA Law before October 21, 2024 legal deadline.......",
         "2024-10-13T11:33:00Z",
         "GlobeNewswire",
         "DXCM SHAREHOLDER ALERT: A Securities Fraud Lawsuit was Filed against DexCom, Inc.; Investors are Urged to Contact BFA Law before October 21 Court Deadline (Nasdaq:DXCM)",
         "https://www.globenewswire.com/news-release/2024/10/13/2962268/0/en/DXCM-SHAREHOLDER-ALERT-A-Securities-Fraud-Lawsuit-was-Filed-against-DexCom-Inc-Investors-are-Urged-to-Contact-BFA-Law-before-October-21-Court-Deadline-Nasdaq-DXCM.html",
         "https://ml.globenewswire.com/Resource/Download/44a256cf-d470-4d8a-af6b-dbb1b5bbb11e"
        ],
        [
         "STERN.de",
         "Kathy Bates hat 45 Kilogramm abgenommen. Das führte bei der Schauspielerin zu einem tränenreichen Erlebnis.\r\nKathy Bates (76) hat im Interview mit dem \"People\"-Magazin über ihren Gewichtsverlust in d… [+2475 chars]",
         "Kathy Bates hat 45 Kilogramm abgenommen. Das führte bei der Schauspielerin zu einem tränenreichen Erlebnis.",
         "2024-10-13T11:21:00Z",
         "STERN.de",
         "Kathy Bates: Tränenreicher Moment nach Gewichtsverlust",
         "https://www.stern.de/lifestyle/leute/kathy-bates--traenenreicher-moment-nach-gewichtsverlust-35139588.html",
         "https://image.stern.de/35139592/t/Ig/v1/w1440/r1.7778/-/13--traenenreicher-moment-nach-gewichtsverlust---16-9---spoton-article-1077341.jpg"
        ],
        [
         "BRIGITTE.de",
         "Kathy Bates hat 45 Kilogramm abgenommen. Das führte bei der Schauspielerin zu einem tränenreichen Erlebnis.\r\nKathy Bates (76) hat im Interview mit dem \"People\"-Magazin über ihren Gewichtsverlust in d… [+2470 chars]",
         "Kathy Bates hat 45 Kilogramm abgenommen. Das führte bei der Schauspielerin zu einem tränenreichen Erlebnis.",
         "2024-10-13T11:17:00Z",
         "Brigitte.de",
         "Kathy Bates: Darum brachte Gewichtsverlust sie zum Weinen",
         "https://www.brigitte.de/aktuell/kathy-bates--darum-brachte-gewichtsverlust-sie-zum-weinen-13889482.html",
         "https://image.brigitte.de/13889484/t/cZ/v1/w1440/r1.7778/-/13--darum-brachte-gewichtsverlust-sie-zum-weinen---1-1---spoton-article-1077341.jpg"
        ],
        [
         "Kacie Goff",
         "Vitamin D has been linked to maintaining cardiovascular health, according to a systematic review and meta-analysis published in July 2024. Specifically, vitamin D offers \"overall beneficial effects o… [+8895 chars]",
         "A new study has linked vitamin D to maintaining cardiovascular health -- especially in certain populations.",
         "2024-10-13T11:02:54Z",
         "CNET",
         "Sunshine in a Capsule: Vitamin D Supplements Explained and Who Should Take Them",
         "https://www.cnet.com/health/nutrition/vitamin-d-supplements-explained-who-should-take-them/",
         "https://www.cnet.com/a/img/resize/337c90a05c993652276104925bd948cbdaf1e349/hub/2024/07/02/a320d27c-4cb7-4eb6-b7bb-2861b29168c7/vitamin-d-ampuoles.jpg?auto=webp&fit=crop&height=675&width=1200"
        ],
        [
         "FOCUS online",
         "Wer häufig Kaffee, Limonaden oder Fruchtgetränke trinkt, hat ein höheres Risiko für einen Schlaganfall. Zu diesem Ergebnis kam nun eine internationale Studie. Ab welcher Menge es gefährlich wird und … [+4768 chars]",
         "Wer häufig Kaffee, Limonaden oder Fruchtgetränke trinkt, hat ein höheres Risiko für einen Schlaganfall. Zu diesem Ergebnis kam nun eine internationale Studie. Ab welcher Menge es gefährlich wird – und welche Getränke stattdessen davor schützen.",
         "2024-10-13T11:00:37Z",
         "Focus",
         "Internationale Studie zeigt - Kaffee erhöht Schlaganfall-Risiko – welche Getränke davor schützen",
         "https://www.focus.de/gesundheit/news/internationale-studie-zeigt-kaffee-erhoeht-schlaganfall-risiko-welche-getraenke-davor-schuetzen_id_260389832.html",
         "https://p6.focus.de/img/fotos/id_260389882/gettyimages-2077628716.jpg?im=Crop%3D%280%2C177%2C2120%2C1060%29%3BResize%3D%281200%2C627%29&impolicy=perceptual&quality=mediumHigh&hash=d5d1f2d43303f1df5dd6e024ff5f4edafc190538e11514b688eda33bc3c40c4d"
        ],
        [
         "Andrea Reyes",
         "La diabetes es una enfermedad crónica y silenciosa que se caracteriza por presentar niveles altos de azúcar en sangre. Hay dos variantes más comunes: tipo 1 y tipo 2.\r\nLee tambiénCatalina Ciampa\r\nLa … [+3145 chars]",
         "La diabetes es una enfermedad crónica y silenciosa que se caracteriza por presentar niveles altos de azúcar en sangre. Hay dos variantes más comunes: tipo 1 y tipo 2.",
         "2024-10-13T11:00:00Z",
         "Mundodeportivo.com",
         "¿Puedo tener diabetes sin saberlo? El tiempo que tarda en manifestarse",
         "https://www.mundodeportivo.com/vidae/salud/20241013/1002330235/diabetes-saberlo.html",
         "https://www.mundodeportivo.com/files/og_thumbnail/uploads/2024/03/21/65fc85b3674c9.jpeg"
        ],
        [
         "Von FOCUS-online-Gastautor Nils Behrens",
         "<ul><li>\r\nKommentare</li><li>\r\nE-Mail</li><li>\r\nTeilen</li><li>\r\nMehr</li><li>\r\nTwitter</li><li>\r\nDrucken</li><li>\r\nFeedback</li><li>\r\nFehler meldenSie haben einen Fehler gefunden?\r\nBitte markieren S… [+7153 chars]",
         "Neue Studien zeigen, dass intensives Lauftraining die Lebenserwartung verlängern kann. Doch es gibt auch eine Grenze. Langlebigkeitsspezialist Nils Behrens sagt, was Sie tun können, um lange fit und vital zu bleiben.Von FOCUS-online-Gastautor Nils Behrens",
         "2024-10-13T11:00:00Z",
         "Focus",
         "Die richtige Balance zählt - Kann hartes Lauftraining die Lebenserwartung verlängern - oder das Gegenteil?",
         "https://www.focus.de/experts/die-richtige-balance-zaehlt-kann-hartes-lauftraining-die-lebenserwartung-verlaengern-oder-das-gegenteil_id_260300381.html",
         "https://p6.focus.de/img/fotos/id_260300359/gettyimages-1071153764.jpg?im=Crop%3D%280%2C181%2C2121%2C1061%29%3BResize%3D%281200%2C627%29&impolicy=perceptual&quality=mediumHigh&hash=f57c273e3e180707b22fd68fcad6f94d0960ce30eaa293ee66d60f9b9974b332"
        ],
        [
         "MarketBeat News",
         "Handelsbanken Fonder AB boosted its position in shares of Tandem Diabetes Care, Inc. (NASDAQ:TNDM – Free Report) by 25.0% during the 3rd quarter, according to its most recent 13F filing with the SEC.… [+4639 chars]",
         "Handelsbanken Fonder AB boosted its position in shares of Tandem Diabetes Care, Inc. (NASDAQ:TNDM – Free Report) by 25.0% during the 3rd quarter, according to its most recent 13F filing with the SEC. The fund owned 22,000 shares of the medical device company’…",
         "2024-10-13T10:36:16Z",
         "ETF Daily News",
         "Handelsbanken Fonder AB Increases Stake in Tandem Diabetes Care, Inc. (NASDAQ:TNDM)",
         "https://www.etfdailynews.com/2024/10/13/handelsbanken-fonder-ab-increases-stake-in-tandem-diabetes-care-inc-nasdaqtndm/",
         "https://www.americanbankingnews.com/wp-content/timthumb/timthumb.php?src=https://www.marketbeat.com/logos/tandem-diabetes-care-inc-logo-1200x675.jpg&w=240&h=240&zc=2"
        ],
        [
         "Maíra Campos",
         "A água de louro tem se destacado como um remédio natural que oferece diversos benefícios para a saúde, incluindo o controle dos níveis de açúcar no sangue, a proteção do fígado e a melhora da digestã… [+2840 chars]",
         "A água de louro tem se destacado como um remédio natural que oferece diversos benefícios para a saúde, incluindo o controle dos níveis de açúcar no",
         "2024-10-13T10:01:41Z",
         "Catracalivre.com.br",
         "Os benefícios da água de louro para a saúde são tantos que você precisa saber disto",
         "https://catracalivre.com.br/saude-bem-estar/os-beneficios-da-agua-de-louro-para-a-saude-sao-tantos-que-voce-precisa-saber-disto/",
         "https://catracalivre.com.br/cdn-cgi/image/f=auto,q=60,w=1280,h=720,fit=cover,format=jpeg/wp-content/uploads/2024/08/colesterol-folha-de-louro-scaled.jpg"
        ],
        [
         "communities@mercola.com (Dr. Joseph Mercola)",
         "Mercola proudly supports these charities and organizations. View All \r\nDisclaimer: The entire contents of this website are based upon the opinions of Dr. Mercola, unless otherwise noted. Individual a… [+1007 chars]",
         "Keeping your teeth clean and gums healthy isn't just a cosmetic concern. Apart from giving you a bright and pleasant smile, proper oral hygiene also influences your overall well-being. Think of your mouth as a window to your physical and mental health — it ca…",
         "2024-10-14T00:00:00Z",
         "Mercola.com",
         "Poor Oral Health Wreaks Havoc on Your Heart and Brain",
         "https://articles.mercola.com/sites/articles/archive/2024/10/14/poor-oral-health-wreaks-havoc-heart-brain.aspx",
         "https://media.mercola.com/ImageServer/Public/2024/October/FB/poor-oral-health-wreaks-havoc-heart-brain-fb.jpg"
        ],
        [
         "Bryan Penprase, Contributor, \n Bryan Penprase, Contributor\n https://www.forbes.com/sites/bryanpenprase/",
         "Sunil Gupta, chief executive officer and co-founder of Yotta Data Services Pvt., takes part in a ... [+] Hindu inauguration ceremony to mark the arrival of newly acquired Nvidia H100 chips at their c… [+7126 chars]",
         "AI is india is guided by the Indian government’s multifaceted approach includes building an AI ecosystem that leverages resources in higher education, and industry.",
         "2024-10-13T23:51:49Z",
         "Forbes",
         "The Future of AI and India",
         "https://www.forbes.com/sites/bryanpenprase/2024/10/13/the-future-of-ai-and-india/",
         "https://imageio.forbes.com/specials-images/imageserve/6707f5f72b5aa2e7f88ed23f/0x0.jpg?format=jpg&height=900&width=1600&fit=bounds"
        ],
        [
         "Dr. Liji Thomas",
         "COVID-19 isn't just a respiratory illness; it's a long-term heart risk. This study reveals that the virus's impact on your heart lingers, putting survivors at an elevated risk of life-threatening car… [+5266 chars]",
         "Study shows that severe COVID-19 elevates the long-term risk of major adverse cardiac events (MACE), making it comparable to coronary artery disease. It also highlights a genetic interaction with ABO blood type, influencing cardiovascular outcomes.",
         "2024-10-13T23:07:52Z",
         "News-Medical.Net",
         "The long-term cardiac impact of COVID-19",
         "https://www.news-medical.net/news/20241013/The-long-term-cardiac-impact-of-COVID-19.aspx",
         "https://d2jx2rerrg6sh3.cloudfront.net/images/news/ImageForNews_792956_17288476654121301.jpg"
        ],
        [
         "The Podcast by KevinMD",
         "Subscribe to The Podcast by KevinMD. Watch on YouTube. Catch up on old episodes!\r\nJoin Manuel Arango, the director of Health Policy &amp; Advocacy at the Heart and Stroke Foundation of Canada. We div… [+14932 chars]",
         "Join Manuel Arango, the director of Health Policy & Advocacy at the Heart and Stroke Foundation of Canada. We dive into the pressing issue of food marketing to children, exploring how these strategies impact kids' health and dietary habits. Manuel shares insi…",
         "2024-10-13T23:00:13Z",
         "Kevinmd.com",
         "How food marketing to kids is harming their health and what we can do [PODCAST]",
         "https://www.kevinmd.com/2024/10/how-food-marketing-to-kids-is-harming-their-health-and-what-we-can-do-podcast.html",
         "https://www.kevinmd.com/wp-content/uploads/How-food-marketing-to-kids-is-harming-their-health-and-what-we-can-do.jpg"
        ],
        [
         "Mary West",
         "While being overweight or having poor sleep habits is linked to adverse health effects, the combination of these factors may further compound risks.\r\nA recent study published in The Journal of Clinic… [+6172 chars]",
         "Data support the health value of going to bed when tired and not staying up to stream, text, or game.",
         "2024-10-13T22:38:01Z",
         "Theepochtimes.com",
         "Excess Weight and Poor Sleep Habits Result in Health Double Whammy",
         "https://www.theepochtimes.com/health/excess-weight-and-poor-sleep-habits-result-in-health-double-whammy-5714882",
         "https://img.theepochtimes.com/assets/uploads/2024/10/10/id5739481-Shutterstock_2325788019-1080x720.jpg"
        ],
        [
         "Blanca Valadez",
         "El Instituto Nacional de Ciencias Médicas y Nutrición Salvador Zubirán (INCMNSZ) y el Sistema de Salud del Tecnológico de Monterrey (TecSalud), firmaron un convenio con el propósito de mejorar la asi… [+1782 chars]",
         "El Instituto Nacional de Ciencias Médicas y Nutrición Salvador Zubirán (INCMNSZ) y el Sistema de Salud del Tecnológico de Monterrey (TecSalud), firmaron un convenio con el propósito de mejorar la asistencia e investigación sobre la diabetes tipo 2.Con la crea…",
         "2024-10-13T22:38:00Z",
         "Milenio",
         "Crearán clínica para atención integral de pacientes con diabetes tipo 2",
         "https://www.milenio.com/ciencia-y-salud/mejoraran-atencion-a-pacientes-con-diabetes-tipo-2",
         "https://cdn.milenio.com/uploads/media/2024/10/13/firman-convenio-mejorar-atencion-diabetes.jpeg"
        ],
        [
         "Saúde em Dia",
         "Assim como todo o nosso corpo, os olhos também são atingidos por uma variedade de doenças, que limitam a visão e, com isso, a qualidade de vida. Contudo, nos casos em que a genética não é imbatível, … [+1569 chars]",
         "Uma alimentação saudável é poderosa na proteção da visão e saúde dos olhos. Oftalmologista aponta o que incluir na dieta",
         "2024-10-13T22:35:03Z",
         "Terra.com.br",
         "Oftalmologista aponta os melhores alimentos para a visão",
         "https://www.terra.com.br/vida-e-estilo/degusta/alimentacao-com-saude/oftalmologista-aponta-os-melhores-alimentos-para-a-visao,b0d6e96752c9371f0230a5917280369c3mpdng65.html",
         "https://p2.trrsf.com/image/fget/cf/1200/630/middle/images.terra.com/2024/10/13/241716838-alimentos-pra-visao.jpg"
        ],
        [
         "Maíra Campos",
         "A demência geralmente é associada a indivíduos mais velhos, mas, em alguns casos, ela pode se manifestar antes dos 65 anos, com sinais sutis e progressivos que muitas vezes são confundidos com estres… [+2382 chars]",
         "A demência geralmente é associada a indivíduos mais velhos, mas, em alguns casos, ela pode se manifestar antes dos 65 anos, com sinais sutis e",
         "2024-10-13T22:32:19Z",
         "Catracalivre.com.br",
         "Demência precoce: os sintomas em uma homem de 38 anos",
         "https://catracalivre.com.br/saude-bem-estar/demencia-precoce-os-sintomas-em-uma-homem-de-38-anos/",
         "https://catracalivre.com.br/cdn-cgi/image/f=auto,q=60,w=1280,h=720,fit=cover,format=jpeg/wp-content/uploads/2024/02/depositphotos-463061550-xl-scaled.jpg"
        ],
        [
         null,
         "VIENNA, Oct. 14, 2024 /PRNewswire/ -- Groundbreaking research presented today at UEG Week 2024 reveals a promising new treatment strategy for type 2 diabetes (T2D) that could significantly reduce or … [+2478 chars]",
         "VIENNA, Oct. 14, 2024 /PRNewswire/ -- Groundbreaking research presented today at UEG Week 2024 reveals a promising new treatment strategy for type 2 diabetes (T2D) that could significantly reduce or even eliminate the need for insulin therapy. This innovative…",
         "2024-10-13T22:01:00Z",
         "PR Newswire UK",
         "UEG Week: Novel procedure combined with semaglutide may eliminate insulin dependency in type 2 diabetes",
         "https://www.prnewswire.co.uk/news-releases/ueg-week-novel-procedure-combined-with-semaglutide-may-eliminate-insulin-dependency-in-type-2-diabetes-302269065.html",
         null
        ],
        [
         "Jessica Bernardo",
         "São Paulo Gelo para preservar as comidas, vela para iluminar a casa e amizade com o comerciante do bairro para recarregar o celular nas tomadas abastecidas por gerador. Além de, claro, muita paciênci… [+4947 chars]",
         "Metrópoles visitou bairros afetados pela falta de luz na zona sul da cidade e conversou com moradores sobre apagão em São Paulo",
         "2024-10-13T20:54:29Z",
         "Metropoles.com",
         "Sem luz, moradores esgotam estoque de velas e carregam celular em loja",
         "https://www.metropoles.com/sao-paulo/sem-luz-moradores-esgotam-estoque-velas",
         "https://uploads.metroimg.com/wp-content/uploads/2024/10/13171708/APAGAO-EM-SP-8.jpg"
        ],
        [
         "Maíra Campos",
         "Os níveis de açúcar no sangue se elevam quando o corpo não consegue produzir insulina suficiente ou não usa a insulina com eficiência. Existem hábitos simples que ajudam a reduzir naturalmente essa t… [+4551 chars]",
         "Os níveis de açúcar no sangue se elevam quando o corpo não consegue produzir insulina suficiente ou não usa a insulina com eficiência. Existem hábitos",
         "2024-10-13T19:33:22Z",
         "Catracalivre.com.br",
         "7 ajustes na rotina que ajudam a reduzir o açúcar no sangue",
         "https://catracalivre.com.br/saude-bem-estar/7-ajustes-na-rotina-que-ajudam-a-reduzir-o-acucar-no-sangue/",
         "https://catracalivre.com.br/cdn-cgi/image/f=auto,q=60,w=1280,h=720,fit=cover,format=jpeg/wp-content/uploads/2024/09/frutas-diabetes.jpg"
        ],
        [
         "Chris Q.",
         "Kidney disease prevention is crucial for maintaining long-term health, as damage to these organs is typically irreversible.\r\nThe kidneys are vital in filtering blood and eliminating excess waste from… [+4493 chars]",
         "Here are seven vital steps for kidney disease prevention to reduce the risk of irreversible chronic disease and promote a longer life.",
         "2024-10-13T19:30:08Z",
         "Mypositiveoutlooks.com",
         "7 things that can help prevent kidney disease and ensure long-term health and function",
         "https://mypositiveoutlooks.com/kidney-disease-prevention-long-term-health/",
         "https://mypositiveoutlooks.com/wp-content/uploads/2024/10/photo-of-kidney-featured.jpg"
        ],
        [
         "Gabriela Arias",
         "Las especias tienen la virtud de transformar el más insípido de los platos en un manjar delicioso. Y las posibilidades de sabores y combinaciones son infinitas. Por eso no pueden faltar en ninguna co… [+11700 chars]",
         "Además de sabor y color cuentan con diversas propiedades beneficiosas para la salud; una guía con 10 especias que no deberían faltar en la cocina",
         "2024-10-13T10:01:00Z",
         "La Nacion",
         "Estas son las 10 mejores especias con poder antiinflamatorio, antioxidante y beneficios digestivos",
         "https://www.lanacion.com.ar/salud/nutricion/estas-son-las-10-mejores-especias-con-poder-antiinflamatorio-antioxidante-y-beneficios-digestivos-nid13102024/",
         "https://resizer.glanacion.com/resizer/v2/las-especias-yo-condimentos-son-elementos-muy-STWDYN5HYVANJM5PSLKOMFIL4I.jpg?auth=59a92a8671b30b9a42a214a2ff749c84b79588881c9fd8ae8c552bbba713fb6f&width=1920&height=1280&quality=70&smart=true"
        ],
        [
         "Damon Cronshaw",
         "Subscribe now for unlimited access.\r\nLoginor signup to continue reading\r\nAll articles from our website &amp; app\r\nThe digital version ofToday'sPaper\r\nBreaking news alerts direct to your inbox\r\nIntera… [+4952 chars]",
         "Professor Clare Collin's Newcastle study on diet, health and wellbeing will give free health checks. It includes research into chewing and the microbiome.",
         "2024-10-13T09:52:16Z",
         "Newcastleherald.com.au",
         "Clare Collins study explores diet, health and wellbeing links",
         "https://www.newcastleherald.com.au/story/8790221/clare-collins-study-explores-diet-health-and-wellbeing-links/",
         "https://www.newcastleherald.com.au/images/transform/v1/crop/frm/3AijacentBN9GedHCvcASxG/ea19d395-2070-4c4c-87ef-e87ea0251c29.JPG/r1187_475_6000_3002_w1200_h630_fmax.jpg"
        ],
        [
         "Charlotte Codina, The Conversation",
         "If you look up at the sky on a clear day, you might notice little cobweb-like structures drifting across your field of vision. They are known as floaters or, more formally, muscae volitantes Latin fo… [+6025 chars]",
         "A look at the science.",
         "2024-10-13T09:48:09Z",
         "ScienceAlert",
         "Can a Supplement Really Help Control Your Pesky Eye Floaters?",
         "https://www.sciencealert.com/can-a-supplement-really-help-control-your-pesky-eye-floaters",
         "https://www.sciencealert.com/images/2023/07/ExtremeCloseUpOfBlueGreenHumanEye.jpg"
        ],
        [
         "Rhoda Wilson",
         "Skin cancers are by far the most commonly diagnosed cancer in the United States, so to prevent them, the public is constantly told to avoid the sun. However, while the relatively benign skin cancers … [+39958 chars]",
         "“Skin cancers are by far the most commonly diagnosed cancer in the United States, so to prevent them, the public is constantly told to avoid the sun. However, while the relatively benign skin cance…",
         "2024-10-13T09:16:12Z",
         "Expose-news.com",
         "Book Summary: The Healing Sun, Sunlight and Health in the 21st Century",
         "https://expose-news.com/2024/10/13/book-summary-the-healing-sun/",
         "https://i0.wp.com/expose-news.com/wp-content/uploads/2024/10/FeatOct13a.png?resize=1200%2C720&ssl=1"
        ],
        [
         "TT",
         "Den 15 oktober inleds vaccinationerna mot säsongsinfluensa och covid-19 flera veckor tidigare än förra året.\r\n Det är väldigt svårt att veta exakt när ökningen kommer, säger statsepidemiolog Magnus G… [+2351 chars]",
         "Den 15 oktober inleds vaccinationerna mot säsongsinfluensa och covid-19 – flera veckor tidigare än förra året. – Det är väldigt svårt att veta exakt när ökninge",
         "2024-10-13T09:11:11Z",
         "Aftonbladet.se",
         "Tidig start för årets vaccinrace – det här gäller",
         "https://www.aftonbladet.se/nyheter/a/zA6xnq/tidig-start-for-arets-vaccinrace-det-har-galler",
         "https://images.aftonbladet-cdn.se/v2/images/1b92f65f-f780-4006-beaa-557fac518d20?fit=crop&format=auto&h=1267&q=50&w=1900&s=d0a0d37d320977acb224fd7c8aed7d7734dd66aa"
        ],
        [
         "MarketBeat News",
         "Craig Hallum initiated coverage on shares of SAB Biotherapeutics (NASDAQ:SABS – Free Report) in a research note published on Wednesday morning, Marketbeat reports. The brokerage issued a buy rating a… [+3171 chars]",
         "Craig Hallum initiated coverage on shares of SAB Biotherapeutics (NASDAQ:SABS – Free Report) in a research note published on Wednesday morning, Marketbeat reports. The brokerage issued a buy rating and a $11.00 price target on the stock. Several other equitie…",
         "2024-10-13T08:39:39Z",
         "ETF Daily News",
         "SAB Biotherapeutics (NASDAQ:SABS) Coverage Initiated by Analysts at Craig Hallum",
         "https://www.etfdailynews.com/2024/10/13/sab-biotherapeutics-nasdaqsabs-coverage-initiated-by-analysts-at-craig-hallum/",
         "https://www.americanbankingnews.com/wp-content/timthumb/timthumb.php?src=https://www.marketbeat.com/logos/sab-biotherapeutics-logo.png?v=20211202075708&w=240&h=240&zc=2"
        ],
        [
         "MarketBeat News",
         "Squarepoint Ops LLC cut its holdings in shares of Oramed Pharmaceuticals Inc. (NASDAQ:ORMP – Free Report) by 8.3% during the second quarter, HoldingsChannel.com reports. The firm owned 81,758 shares … [+3754 chars]",
         "Squarepoint Ops LLC cut its holdings in shares of Oramed Pharmaceuticals Inc. (NASDAQ:ORMP – Free Report) by 8.3% during the second quarter, HoldingsChannel.com reports. The firm owned 81,758 shares of the biotechnology company’s stock after selling 7,367 sha…",
         "2024-10-13T07:30:54Z",
         "ETF Daily News",
         "Oramed Pharmaceuticals Inc. (NASDAQ:ORMP) Shares Sold by Squarepoint Ops LLC",
         "https://www.etfdailynews.com/2024/10/13/oramed-pharmaceuticals-inc-nasdaqormp-shares-sold-by-squarepoint-ops-llc/",
         "https://www.americanbankingnews.com/wp-content/timthumb/timthumb.php?src=https://www.marketbeat.com/logos/oramed-pharmaceuticals-inc-logo-1200x675.jpg?v=20240607141322&w=240&h=240&zc=2"
        ],
        [
         "Redacción AN / MDS",
         "[Síguenos ahora también en WhatsApp. Da clic aquí]\r\nPor Julio García G. / Periodista de Ciencia\r\nUno de los misterios que todavía prevalece, a pesar de los últimos avances en astronomía, tiene que ve… [+6316 chars]",
         "Investigadores de la Universidad de Nevada (Estados Unidos) aseguran que Sagitario A*, el agujero negro supermasivo que reside en el centro de la Vía Láctea, es producto de la fusión con otro agujero negro hace unos 9 mil millones de años.",
         "2024-10-13T07:29:05Z",
         "Aristeguinoticias.com",
         "El agujero negro supermasivo de la Vía Láctea surgió a partir de la fusión de dos agujeros negros: estudio",
         "https://aristeguinoticias.com/1310/kiosko/el-agujero-negro-supermasivo-de-la-via-lactea-surgio-a-partir-de-la-fusion-de-dos-agujeros-negros-estudio/?adsafe_ip=",
         "https://editorial.aristeguinoticias.com/wp-content/uploads/2024/10/agujeto-negro-istock-julio-garcia-13102024.jpg"
        ],
        [
         "MarketBeat News",
         "Cuprina Holdings (Cayman) Ltd (CUPR) expects to raise $16 million in an initial public offering (IPO) on the week of October 21st, IPO Scoop reports. The company plans to issue 3,800,000 shares at $4… [+6235 chars]",
         "Cuprina Holdings (Cayman) Ltd (CUPR) expects to raise $16 million in an initial public offering (IPO) on the week of October 21st, IPO Scoop reports. The company plans to issue 3,800,000 shares at $4.00-$4.50 per share. In the last twelve months, Cuprina Hold…",
         "2024-10-13T07:25:05Z",
         "ETF Daily News",
         "Cuprina Holdings (Cayman) Ltd Plans $16 Million IPO for Week of October 21st (CUPR)",
         "https://www.etfdailynews.com/2024/10/13/cuprina-holdings-cayman-ltd-plans-16-million-ipo-for-week-of-october-21st-cupr-2/",
         "https://www.americanbankingnews.com/wp-content/timthumb/timthumb.php?src=https://www.marketbeat.com/logos/ipo1.jpg&w=240&h=240&zc=2"
        ],
        [
         "MarketBeat News",
         "Renaissance Technologies LLC reduced its holdings in Sana Biotechnology, Inc. (NASDAQ:SANA – Free Report) by 71.1% during the 2nd quarter, Holdings Channel reports. The fund owned 49,900 shares of th… [+4368 chars]",
         "Renaissance Technologies LLC reduced its holdings in Sana Biotechnology, Inc. (NASDAQ:SANA – Free Report) by 71.1% during the 2nd quarter, Holdings Channel reports. The fund owned 49,900 shares of the company’s stock after selling 123,000 shares during the qu…",
         "2024-10-13T07:22:55Z",
         "ETF Daily News",
         "Sana Biotechnology, Inc. (NASDAQ:SANA) Shares Sold by Renaissance Technologies LLC",
         "https://www.etfdailynews.com/2024/10/13/sana-biotechnology-inc-nasdaqsana-shares-sold-by-renaissance-technologies-llc/",
         "https://www.americanbankingnews.com/wp-content/timthumb/timthumb.php?src=https://www.marketbeat.com/logos/sana-biotechnology-inc-logo-1200x675.jpg?v=20210326135341&w=240&h=240&zc=2"
        ],
        [
         "Leigh Weingus",
         "Hint: All three foods are shown in this photo.\r\nHeart disease is the leading cause of death in the United States. People of most racial and ethnic groups in the country are more likely to die from a … [+6655 chars]",
         "Eliminating These 3 Foods From Your Diet Can Be A Game-Changer For Heart Healthhuffpost.com",
         "2024-10-13T07:16:11Z",
         "HuffPost",
         "Eliminating These 3 Foods From Your Diet Can Be A Game-Changer For Heart Health",
         "https://www.huffpost.com/entry/eliminating-these-3-foods-from-your-diet-can-be-a-game-changer-for-heart-health-ano_l_67081a8ee4b047df57071473",
         "https://img.huffingtonpost.com/asset/65aad2ed2200005500ad4f33.jpeg?cache=KDEvg72iKH&ops=1200_630"
        ],
        [
         "Bernd Müller",
         "(Bild: Perfect Wave / Shutterstock.com )\r\nKrafttraining hält Senioren fit. Es bremst Muskelabbau und stärkt Knochen. Doch wie überwindet man die Angst vor dem ersten Schritt in die Kraftkammer?\r\nMit … [+4849 chars]",
         "Krafttraining hält Senioren fit. Es bremst Muskelabbau und stärkt Knochen. Doch wie überwindet man die Angst vor dem ersten Schritt in die Kraftkammer?",
         "2024-10-13T07:00:00Z",
         "Telepolis.de",
         "Dem Altern trotzen: Wie Krafttraining Senioren fit und beweglich hält",
         "https://www.telepolis.de/features/Dem-Altern-trotzen-Wie-Krafttraining-Senioren-fit-und-beweglich-haelt-9979228.html",
         "https://heise.cloudimg.io/bound/1200x1200/q85.png-lossy-85.webp-lossy-85.foil1/_www-heise-de_/imgs/18/4/6/8/8/1/2/8/shutterstock_1523747234-2f9da177e8e709ba.jpeg"
        ],
        [
         "Mercura Wang",
         "Autism spectrum disorder (ASD), or just autism, is a neurological and developmental condition that affects social interaction, communication, learning, and behavior. It encompasses a range of conditi… [+29768 chars]",
         "In the United States, one in 36 children and one in 45 adults have autism, with males four times more likely to be affected.",
         "2024-10-13T14:00:41Z",
         "Theepochtimes.com",
         "Autism Spectrum Disorder: Symptoms, Causes, Treatments, and Natural Approaches",
         "https://www.theepochtimes.com/health/autism-spectrum-disorder-symptoms-causes-treatments-and-natural-approaches-5737061",
         "https://img.theepochtimes.com/assets/uploads/2024/10/12/id5740380-autism-feature-3-1-1080x720.jpg"
        ],
        [
         "Saúde em Dia",
         "A queima de gordura corporal é uma etapa importante para quem deseja perder peso e definir o corpo. Mas esse pode ser um grande desafio, principalmente nos casos de adiposidade localizada.\r\nPensando … [+4049 chars]",
         "A queima de gordura é um grande desafio para quem deseja perder os quilinhos extras na balança. Veja como facilitar o processo em 5 passos",
         "2024-10-13T13:36:21Z",
         "Metropoles.com",
         "Personal revela 5 dicas para acelerar a queima de gordura corporal",
         "https://www.metropoles.com/saude/5-dicas-acelerar-queima-de-gordura",
         "https://uploads.metroimg.com/wp-content/uploads/2024/02/02095932/mulher-medindo-a-gordura-da-barriga-com-fita-metrica.jpg"
        ],
        [
         "JONATHAN MATTISE Associated Press, TRAVIS LOLLER Associated Press, KRISTIN M. HALL Associated Press",
         "NASHVILLE, Tenn. -- The leading private prison company in the U.S. has spent more than $4.4 million to settle dozens of complaints alleging mistreatment including at least 22 inmate deaths at its Ten… [+7661 chars]",
         "The leading private prison company in the U.S. has spent more than $4.4 million to settle dozens of complaints alleging mistreatment at its Tennessee prisons and jails since 2016",
         "2024-10-13T13:34:27Z",
         "ABC News",
         "Prison operator under federal scrutiny spent millions settling Tennessee mistreatment claims",
         "https://abcnews.go.com/US/wireStory/prison-operator-federal-scrutiny-spent-millions-settling-tennessee-114758885",
         "https://i.abcnewsfe.com/a/64dbcc6e-8aea-4fe3-bff0-5b7ae9dcd15f/wirestory_1c2b3cd5cd395a7f1453566e366fb415_16x9.jpg?w=1600"
        ],
        [
         "Portal EdiCase",
         "A obesidade é uma doença comum entre os cachorros e pode trazer sérias consequências para a saúde e qualidade de vida deles. O excesso de peso sobrecarrega o organismo, predispondo os cães a uma séri… [+5062 chars]",
         "A obesidade é uma doença comum entre os cachorros e pode trazer sérias consequências para a ...",
         "2024-10-13T13:02:45Z",
         "Terra.com.br",
         "Veja o tipo de alimentação adequada para cachorro obeso",
         "https://www.terra.com.br/vida-e-estilo/pets/veja-o-tipo-de-alimentacao-adequada-para-cachorro-obeso,1a5975570249683c7877650f6cc99140e1unw6sa.html",
         "https://p2.trrsf.com/image/fget/cf/1200/630/middle/images.terra.com/2024/10/13/358645303-cachorro-comendo.jpg"
        ],
        [
         null,
         "[Removed]",
         "[Removed]",
         "2024-10-13T13:01:07Z",
         "[Removed]",
         "[Removed]",
         "https://removed.com",
         null
        ],
        [
         "Redacción",
         "¿Y si nos tomamos un tecito? Si quieres probar una de las infusiones más deliciosas, además de degustar el té de manzanilla con miel o la tisana de jamaica, debes intentar hacer la bebida caliente de… [+9569 chars]",
         "El té de canela con manzana no solo sabe delicioso, también puede reducir el riesgo de que desarrolles algunas enfermedades, te decimos por qué.",
         "2024-10-13T13:00:00Z",
         "El Financiero",
         "¿Para qué sirve el té de canela con manzana?",
         "https://www.elfinanciero.com.mx/food-and-drink/2024/10/13/para-que-sirve-el-te-de-canela-con-manzana/",
         "https://elfinanciero.com.mx/resizer/v2/ZBGO3EMHSRFYBHCHHU5F6VVMFY.jpg?smart=true&auth=397e9eb35b17830ba40e23ca35ffd7ea3a4706f8b3bbbdfdee14f6497ff8297f&width=1200&height=630"
        ],
        [
         "Blake Turck",
         "This is One Thing, a column with tips on how to live.\r\nFor a decade, my homebody husband and I would typically settle into the couch after dinner, looking at our phones and watching a TV series or mo… [+2743 chars]",
         "There are even some health benefits.",
         "2024-10-13T13:00:00Z",
         "Slate Magazine",
         "After Dinner, We Used to Watch TV. Now We Have a Better Ritual.",
         "https://slate.com/life/2024/10/after-dinner-walk-benefits-mental-health.html",
         "https://compote.slate.com/images/a1766847-fa08-44ba-92a4-76d5c8ed6b71.jpeg?crop=3000%2C2000%2Cx0%2Cy0&width=1560"
        ],
        [
         "MarketBeat News",
         "LVW Advisors LLC lowered its position in shares of Tandem Diabetes Care, Inc. (NASDAQ:TNDM – Free Report) by 12.9% during the third quarter, according to its most recent Form 13F filing with the SEC.… [+5032 chars]",
         "LVW Advisors LLC lowered its position in shares of Tandem Diabetes Care, Inc. (NASDAQ:TNDM – Free Report) by 12.9% during the third quarter, according to its most recent Form 13F filing with the SEC. The institutional investor owned 6,854 shares of the medica…",
         "2024-10-13T12:46:54Z",
         "ETF Daily News",
         "LVW Advisors LLC Reduces Holdings in Tandem Diabetes Care, Inc. (NASDAQ:TNDM)",
         "https://www.etfdailynews.com/2024/10/13/lvw-advisors-llc-reduces-holdings-in-tandem-diabetes-care-inc-nasdaqtndm/",
         "https://www.americanbankingnews.com/wp-content/timthumb/timthumb.php?src=https://www.marketbeat.com/logos/tandem-diabetes-care-inc-logo-1200x675.jpg&w=240&h=240&zc=2"
        ],
        [
         "MarketBeat News",
         "Wedmont Private Capital boosted its stake in shares of Insulet Co. (NASDAQ:PODD – Free Report) by 3.5% during the 3rd quarter, HoldingsChannel reports. The institutional investor owned 1,433 shares o… [+4924 chars]",
         "Wedmont Private Capital boosted its stake in shares of Insulet Co. (NASDAQ:PODD – Free Report) by 3.5% during the 3rd quarter, HoldingsChannel reports. The institutional investor owned 1,433 shares of the medical instruments supplier’s stock after purchasing …",
         "2024-10-13T12:20:51Z",
         "ETF Daily News",
         "Insulet Co. (NASDAQ:PODD) Shares Purchased by Wedmont Private Capital",
         "https://www.etfdailynews.com/2024/10/13/insulet-co-nasdaqpodd-shares-purchased-by-wedmont-private-capital/",
         "https://www.americanbankingnews.com/wp-content/timthumb/timthumb.php?src=https://www.marketbeat.com/logos/insulet-corp-logo-1200x675.gif&w=240&h=240&zc=2"
        ],
        [
         "Estadão Conteúdo",
         "Dos 55 vereadores que ocupam cadeiras na Câmara Municipal de São Paulo, 51 buscaram reeleição no último dia 6, mas somente 35 conseguiram continuar em suas cadeiras. A frustração não é negada por nen… [+6559 chars]",
         "Apenas 35 dos nomes que buscaram reeleição conseguiram se eleger em São Paulo. Veteranos com mais de 20 décadas de atuação ficaram de fora, mas não pensam em se afastar do serviço público mesmo sem mandato",
         "2024-10-13T12:12:46Z",
         "Terra.com.br",
         "Políticos experientes já pensam em novos caminhos após não conseguirem a reeleição à Câmara de SP",
         "https://www.terra.com.br/noticias/brasil/politica/politicos-experientes-ja-pensam-em-novos-caminhos-apos-nao-conseguirem-a-reeleicao-a-camara-de-sp,b147c0a0d2324cdc83d2d7ec0233b3e2mkvz05xx.html",
         "https://p2.trrsf.com/image/fget/cf/1200/630/middle/images.terra.com/2024/10/13/1298153873-2cvucmxzivho7g6mbpu2hfvegq.jpg"
        ],
        [
         "Estadão Conteúdo",
         "Livre. É assim que a ex-deputada Joice Hasselmann define seu estado de espírito, apesar da derrota na eleição para a Câmara Municipal de São Paulo. Ela diz que a sensação é como se houvesse reconquis… [+6507 chars]",
         "Depois de ser a mulher mais votada para a Câmara Federal em 2018, jornalista perdeu o mandato nas urnas, fracassou na tentativa de ser vereadora e agora diz ter 'se libertado'; veja entrevista",
         "2024-10-13T12:10:46Z",
         "Terra.com.br",
         "De 1.078.666 a 1.673 votos: Joice Hasselmann se diz aposentada da política: 'Eleitor se radicalizou'",
         "https://www.terra.com.br/noticias/brasil/politica/de-1078666-a-1673-votos-joice-hasselmann-se-diz-aposentada-da-politica-eleitor-se-radicalizou,406e79737d4b5a3b04f1e1fe415fcfafhs8yj98c.html",
         "https://s1.trrsf.com/update-1698692222/fe/zaz-mod-t360-icons/svg/logos/terra-16x9-borda.png"
        ],
        [
         "Joaquín Vico Plaza",
         "Boticaria García es una de las mejores divulgadoras de salud de habla hispana. Cuenta con varios libros escritos, conferencias entretenidas por doquier, incluso con karaoke y cientos de consejos en s… [+4527 chars]",
         "Boticaria García es una de las mejores divulgadoras de salud de habla hispana. Cuenta con varios libros escritos, conferencias entretenidas por doquier, incluso con karaoke y cientos de consejos en sus redes sociales. La farmacéutica es experta en temas como …",
         "2024-10-13T12:01:47Z",
         "Vitonica.com",
         "Las cinco reglas de oro de Boticaria García para evitar que tu cerebro tenga hambre",
         "https://www.vitonica.com/wellness/cinco-reglas-oro-boticaria-garcia-para-evitar-que-tu-cerebro-tenga-hambre",
         "https://i.blogs.es/1351f8/-que-personas-te-hacen-brillar-c/840_560.jpeg"
        ],
        [
         "Maíra Campos",
         "Estudo mostra as 10 verduras mais saudáveis e os benefícios para saúde - hobo_018_iStock\r\nUm estudo realizado pela Universidade William Paterson, nos EUA, identificou as verduras mais saudáveis para … [+2171 chars]",
         "Um estudo realizado pela Universidade William Paterson, nos EUA, identificou as verduras mais saudáveis para serem incluídas em uma alimentação",
         "2024-10-13T17:31:32Z",
         "Catracalivre.com.br",
         "Quais são as verduras mais nutritivas e fáceis de encontrar para incluir agora na rotina",
         "https://catracalivre.com.br/saude-bem-estar/quais-sao-as-verduras-mais-nutritivas-e-faceis-de-encontrar-para-incluir-agora-na-rotina/",
         "https://catracalivre.com.br/cdn-cgi/image/f=auto,q=60,w=1280,h=720,fit=cover,format=jpeg/wp-content/uploads/2024/01/istock-1415387379.jpg"
        ],
        [
         null,
         "[Removed]",
         "[Removed]",
         "2024-10-13T17:08:23Z",
         "[Removed]",
         "[Removed]",
         "https://removed.com",
         null
        ],
        [
         "ERIC KIM",
         "Grip strength, the ability to exert force with the hands and forearms, is a complex trait influenced by various physiological mechanisms. Understanding these mechanisms provides insight into how grip… [+8519 chars]",
         "Grip strength, the ability to exert force with the hands and forearms, is a complex trait influenced by various physiological mechanisms. Understanding these mechanisms provides insight into how grip strength is developed, maintained, and how it correlates wi…",
         "2024-10-13T16:33:30Z",
         "Erickimphotography.com",
         "What are the physiological mechanisms of grip strength",
         "https://erickimphotography.com/blog/2024/10/13/what-are-the-physiological-mechanisms-of-grip-strength/",
         null
        ],
        [
         "ERIC KIM",
         "Grip strength has increasingly been recognized as a valuable indicator of overall strength, health, and longevity. Research has shown that grip strength correlates not only with muscle mass but also … [+9739 chars]",
         "Grip strength has increasingly been recognized as a valuable indicator of overall strength, health, and longevity. Research has shown that grip strength correlates not only with muscle mass but also with a range of health outcomes, making it a strong predicto…",
         "2024-10-13T16:30:55Z",
         "Erickimphotography.com",
         "Search connection between grip strength and overall strength and health.",
         "https://erickimphotography.com/blog/2024/10/13/search-connection-between-grip-strength-and-overall-strength-and-health/",
         null
        ],
        [
         "Estadão Conteúdo",
         "Todo o estoque de insulina foi parar no lixo, assim como os alimentos da geladeira de duas casas de repouso que atendem a 50 idosos em Santo Amaro, na zona sul de São Paulo. Por lá, com o apagão, o d… [+2468 chars]",
         "Casa de repouso e filha que mora com pais idosos relatam sensação de insegurança, preocupação e dificuldades desde queda de energia, na sexta, em São Paulo",
         "2024-10-13T16:17:48Z",
         "Terra.com.br",
         "Insulina no lixo, sem banho e menos conforto: os impactos do apagão para os idosos de SP",
         "https://www.terra.com.br/noticias/brasil/cidades/insulina-no-lixo-sem-banho-e-menos-conforto-os-impactos-do-apagao-para-os-idosos-de-sp,4b564f39b452c3b4b4ac9fd176b7cfbdmgaxnfc2.html",
         "https://p2.trrsf.com/image/fget/cf/1200/630/middle/images.terra.com/2024/10/13/1406236334-6ceuzx5o5fbt5ctv5ddc4tmsvu.jpg"
        ],
        [
         "Maíra Campos",
         "A dificuldade de virar-se ao caminhar pode ser um sinal precoce da doença de Alzheimer, alertou uma equipe de pesquisa da University College London.\r\nOs especialistas usaram a realidade virtual para … [+2892 chars]",
         "A dificuldade de virar-se ao caminhar pode ser um sinal precoce da doença de Alzheimer, alertou uma equipe de pesquisa da University College London. Os",
         "2024-10-13T15:31:04Z",
         "Catracalivre.com.br",
         "Fique atento! Novo sintoma de Alzheimer é identificado em estudo de Londres",
         "https://catracalivre.com.br/saude-bem-estar/fique-atento-novo-sintoma-de-alzheimer-e-identificado-em-estudo-de-londres/",
         "https://catracalivre.com.br/cdn-cgi/image/f=auto,q=60,w=1280,h=720,fit=cover,format=jpeg/wp-content/uploads/2024/04/estudo-aponta-situacoes-que-podem-elevar-risco-de-alzheimer-scaled.jpg"
        ],
        [
         "Estadão Conteúdo",
         "Muitos já ouviram falar que a hora da refeição deveria ser \"sagrada\". No entanto, na prática, entre notificações de celular e a correria do dia a dia, essa ideia acaba não sendo levada a sério. Nesse… [+4676 chars]",
         "Transformar o ato de comer em uma verdadeira pausa pode aliviar o estresse e nos tornar mais atentos para perceber os sinais da saciedade",
         "2024-10-13T15:22:41Z",
         "Terra.com.br",
         "'Mindful eating': Entenda os benefícios da atenção plena durante a alimentação",
         "https://www.terra.com.br/vida-e-estilo/saude/mindful-eating-entenda-os-beneficios-da-atencao-plena-durante-a-alimentacao,8620a9bada92d744911199f98b2358f560x33dmc.html",
         "https://p2.trrsf.com/image/fget/cf/1200/630/middle/images.terra.com/2024/10/13/1068617230-7qyh3aw5qrgnpossia3z5lqhdy.jpg"
        ],
        [
         "Deutsche Welle",
         "Medicamentos criados para tratar diabetes e sobrepeso em crianças viraram febre como solução rápida para perda de peso. Especialistas alertam para efeitos colaterais e imitações sem eficácia no merca… [+6101 chars]",
         "Medicamentos criados para tratar diabetes e sobrepeso em crianças viraram febre como solução ...",
         "2024-10-13T15:17:11Z",
         "Terra.com.br",
         "Emagrecer com Ozempic e Wegowy: ciência ou \"hype\"?",
         "https://www.terra.com.br/noticias/emagrecer-com-ozempic-e-wegowy-ciencia-ou-hype,07107bb00febdd9e5b719ea9b1aa925ega47j8e0.html",
         "https://s1.trrsf.com/update-1698692222/fe/zaz-mod-t360-icons/svg/logos/terra-16x9-borda.png"
        ],
        [
         "Nadya Aufia",
         "Penyakit jantung dan pembuluh darah menyebabkan 17,3 juta kematian setiap tahunnya. Kondisi ini semakin serius dengan meningkatnya kasus serangan jantung pada usia muda. Di Indonesia terdapat peningk… [+1831 chars]",
         "Meningkatkan kesadaran untuk menjaga kesehatan jantung menjadi sangat penting. World Heart Day yang diperingati setiap tanggal 29 September menjadi penekanan betapa pentingnya meningkatkan kesadaran masyarakat terhadap bahaya penyakit kardiovaskular.",
         "2024-10-13T15:03:58Z",
         "Fimela.com",
         "Langkah Kecil Menjaga Kesehatan Jantung dengan Peringati World Heart Day",
         "https://www.fimela.com/health/read/5742485/langkah-kecil-menjaga-kesehatan-jantung-dengan-peringati-world-heart-day",
         "https://cdn1-production-images-kly.akamaized.net/MIdu1RrL8OyvalFJDA57hex0mRc=/1200x675/smart/filters:quality(75):strip_icc():format(jpeg)/kly-media-production/medias/4963328/original/042250300_1728387264-Screenshot_2024-10-08_161654.jpg"
        ],
        [
         "Álvaro García M.",
         "Según los registros hay al menos siete millones de personas en nuestro país que padecen una enfermedad conocida como apnea del sueño. Precisamente el conocido streamer Ibai Llanos, que se encuentra e… [+5781 chars]",
         "Según los registros hay al menos siete millones de personas en nuestro país que padecen una enfermedad conocida como apnea del sueño. Precisamente el conocido streamer Ibai Llanos, que se encuentra en pleno cambio físico, habló de ello recientemente al ser un…",
         "2024-10-13T15:01:49Z",
         "Applesfera.com",
         "Cómo se trata la apnea del sueño que sufren Ibai Llanos y siete millones de españoles y cómo la miden los Apple Watch",
         "https://www.applesfera.com/tutoriales/como-se-trata-apnea-sueno-como-mide-apple-watch",
         "https://i.blogs.es/a9813c/apnea-1/840_560.jpeg"
        ],
        [
         null,
         "Two weeks after Hurricane Helene tore through the southeastern United States, killing hundreds of people across multiple states and knocking out electricity for millions, volunteers are bringing sola… [+6763 chars]",
         "Two weeks after Hurricane Helene downed power lines across western North Carolina, volunteers are bringing solar power to communities in the region.",
         "2024-10-13T14:42:22Z",
         "CBS News",
         "Volunteers bring solar power to North Carolina communities after Helene",
         "https://www.cbsnews.com/news/solar-power-volunteers-hurricane-helene-north-carolina-communities-lacking-electricity/",
         "https://assets1.cbsnewsstatic.com/hub/i/r/2024/10/13/f4273ebe-b499-4d3b-b03d-2bfbdd39c678/thumbnail/1200x630/43ceb6952bd5ac1b998d450777145ce4/ap24285683965200.jpg?v=29b5ccc4d237d9b284ce95a42effd073"
        ],
        [
         "Jonathan Mattise",
         "NASHVILLE, Tenn. — (AP) The leading private prison company in the U.S. has spent more than $4.4 million to settle dozens of complaints alleging mistreatment including at least 22 inmate deaths at its… [+7821 chars]",
         "The leading private prison company in the U.S. has spent more than $4.4 million to settle dozens of complaints alleging mistreatment at its Tennessee prisons and jails since 2016",
         "2024-10-13T14:23:37Z",
         "WSB Atlanta",
         "Prison operator under federal scrutiny spent millions settling Tennessee mistreatment claims",
         "https://www.wsbtv.com/news/national/prison-operator/FFWOXOPCHBH2RGQZDLCMXOK3KQ/",
         "https://cmg-cmg-tv-10010-prod.cdn.arcpublishing.com/resizer/PFeU4zj5XT6Ihig6wS_I14weAbA=/1440x810/filters:format(jpg):quality(70)/cloudfront-us-east-1.images.arcpublishing.com/cmg/IEGKUW33GLKDKCK2LIVH7NNJWQ.jpg"
        ],
        [
         "webdesk@voanews.com (Associated Press)",
         "BAKERSVILLE, North Carolina  Nearly two weeks after Hurricane Helene downed power lines and washed out roads all over North Carolina's mountains, the constant din of a gas-powered generator is gettin… [+5645 chars]",
         "BAKERSVILLE, North Carolina — Nearly two weeks after Hurricane Helene downed power lines and washed out roads all over North Carolina's mountains, the constant din of a gas-powered generator is getting to be too much for Bobby Renfro.\n\n\nIt's difficult to hear…",
         "2024-10-13T04:28:45Z",
         "VOA News",
         "Volunteers bring solar power to Hurricane Helene's disaster zone",
         "https://www.voanews.com/a/volunteers-bring-solar-power-to-hurricane-helene-s-disaster-zone/7820560.html",
         "https://gdb.voanews.com/1BF12326-4BCC-4171-AA63-3FDAB4EAD631.jpg"
        ],
        [
         "Gabriela Aoun Angueira",
         "BAKERSVILLE, N.C. Nearly two weeks after Hurricane Helene downed power lines and washed out roads all over North Carolina's mountains, the constant din of a gas-powered generator is getting to be too… [+6067 chars]",
         "Nearly two weeks after Hurricane Helene downed power lines and washed out roads all over North Carolina’s mountains, the roar of gas-powered generators is both unpleasant and essential.",
         "2024-10-13T04:23:38Z",
         "KSAT San Antonio",
         "Volunteers bring solar power to Hurricane Helene's disaster zone",
         "https://www.ksat.com/tech/2024/10/13/volunteers-bring-solar-power-to-hurricane-helenes-disaster-zone/",
         "https://res.cloudinary.com/graham-media-group/image/upload/f_auto/q_auto/c_thumb,w_700/v1/media/gmg/GPSAZGWQCBEBJFOPHIW6HF7B2U.jpg?_a=DATAdtfiZAA0"
        ],
        [
         null,
         "Fats get a lot of flak in the nutrition world, but they're actually a big deal for a healthy diet. Your body needs fat every day for energy and to help absorb certain vitamins and minerals. Plus, the… [+3986 chars]",
         "Understanding the different types of fats and their impact on your health can help you make smarter choices. Read on to learn more.",
         "2024-10-13T04:22:41Z",
         "NDTV News",
         "Not All Fats Are Bad! Here's What You Should Know About The Good, The Bad, And The Ugly",
         "https://food.ndtv.com/health/good-fats-vs-bad-fats-what-you-need-to-know-for-a-healthy-diet-6775936",
         "https://c.ndtvimg.com/yvni3daubfn_fats_625x300.jpg?im=FeatureCrop,algorithm=dnn,width=1200,height=675"
        ],
        [
         "GABRIELA AOUN ANGUEIRA Associated Press",
         "BAKERSVILLE, N.C. -- Nearly two weeks after Hurricane Helene downed power lines and washed out roads all over North Carolina's mountains, the constant din of a gas-powered generator is getting to be … [+5917 chars]",
         "Nearly two weeks after Hurricane Helene downed power lines and washed out roads all over North Carolina’s mountains, the roar of gas-powered generators is both unpleasant and essential",
         "2024-10-13T04:22:29Z",
         "ABC News",
         "Volunteers bring solar power to Hurricane Helene's disaster zone",
         "https://abcnews.go.com/US/wireStory/volunteers-bring-solar-power-hurricane-helenes-disaster-zone-114755953",
         "https://i.abcnewsfe.com/a/83e6cb60-9f2a-4780-bf0f-5e2b5ea53f58/wirestory_095b6ff5f1290ac7439f12b555f9845d_16x9.jpg?w=1600"
        ],
        [
         "Dr Flo",
         "Dear Doc, I am 22, but my breasts have not developed. I experienced all other changes during puberty, including my monthly period starting at the age of 13, but not even the slightest change happened… [+5905 chars]",
         "Help! I’m 22 and my breasts have not developednation.africa",
         "2024-10-13T04:15:43Z",
         "Nation.africa",
         "Help! I’m 22 and my breasts have not developed",
         "https://nation.africa/kenya/health/help-i-m-22-and-my-breasts-have-not-developed-4792136",
         "https://nation.africa/resource/image/4792150/landscape_ratio3x2/1200/800/c276e2f51cf0c8e82679084a89117ff2/zn/puberty.jpg"
        ],
        [
         "Gabriela Aoun Angueira",
         "BAKERSVILLE, N.C. Nearly two weeks after Hurricane Helene downed power lines and washed out roads all over North Carolina's mountains, the constant din of a gas-powered generator is getting to be too… [+6067 chars]",
         "Nearly two weeks after Hurricane Helene downed power lines and washed out roads all over North Carolina’s mountains, the roar of gas-powered generators is both unpleasant and essential.",
         "2024-10-13T04:15:34Z",
         "WDIV ClickOnDetroit",
         "Volunteers bring solar power to Hurricane Helene's disaster zone",
         "https://www.clickondetroit.com/tech/2024/10/13/volunteers-bring-solar-power-to-hurricane-helenes-disaster-zone/",
         "https://res.cloudinary.com/graham-media-group/image/upload/f_auto/q_auto/c_thumb,w_700/v1/media/gmg/GPSAZGWQCBEBJFOPHIW6HF7B2U.jpg?_a=DATAdtfiZAA0"
        ],
        [
         "GABRIELA AOUN ANGUEIRA Associated Press",
         "BAKERSVILLE, N.C. -- Nearly two weeks after Hurricane Helene downed power lines and washed out roads all over North Carolina's mountains, the constant din of a gas-powered generator is getting to be … [+5917 chars]",
         "Nearly two weeks after Hurricane Helene downed power lines and washed out roads all over North Carolina’s mountains, the roar of gas-powered generators is both unpleasant and essential",
         "2024-10-13T04:14:35Z",
         "ABC News",
         "Volunteers bring solar power to Hurricane Helene's disaster zone",
         "https://abcnews.go.com/Technology/wireStory/volunteers-bring-solar-power-hurricane-helenes-disaster-zone-114755954",
         "https://i.abcnewsfe.com/a/83e6cb60-9f2a-4780-bf0f-5e2b5ea53f58/wirestory_095b6ff5f1290ac7439f12b555f9845d_16x9.jpg?w=1600"
        ],
        [
         "By GABRIELA AOUN ANGUEIRA, Associated Press",
         "Henry Kovacs, left, and Hayden Wilson, right, volunteers with the Footprint Project, load two Tesla Powerwall batteries to deliver to communities impacted by Hurricane Helene in Mars Hill, N.C. on Oc… [+9418 chars]",
         "Nearly two weeks after Hurricane Helene downed power lines and washed out roads all over North Carolina’s mountains, the roar of gas-powered generators is both unpleasant and essential. More than 43,000 of the 1.5 million customers who lost power in the regio…",
         "2024-10-13T04:13:22Z",
         "seattlepi.com",
         "Volunteers bring solar power to Hurricane Helene's disaster zone",
         "https://www.seattlepi.com/business/article/volunteers-bring-solar-power-to-hurricane-19834243.php",
         "https://s.hdnux.com/photos/01/44/26/12/26305169/3/rawImage.jpg"
        ],
        [
         "The West Australian",
         "In its 57th year, Telethon is in better shape than ever. From humble beginnings, Australias premier charity fundraiser is firmly part of this States social and corporate fabric, and has been part of … [+8210 chars]",
         "After humble beginnings in the 1960s, the records just keep getting smashed, rocketing from $2.5m in 2000 to a staggering $77.5m last year. So why is Telethon the world’s most successful event of its kind?",
         "2024-10-13T04:09:07Z",
         "The West Australian",
         "Telethon: Why the children’s charity event is the world’s most successful",
         "https://thewest.com.au/news/telethon/telethon-why-the-childrens-charity-event-is-the-worlds-most-successful-c-16344472",
         "https://images.thewest.com.au/publication/C-16344472/e821b75ba5d63d0bcf5f3e94e39d88645a069075-16x9-x0y566w3218h1810.jpg?imwidth=1200"
        ],
        [
         "The Associated Press",
         "Author of the article:\r\nArticle content\r\nBAKERSVILLE, N.C. (AP) Nearly two weeks after Hurricane Helene downed power lines and washed out roads all over North Carolinas mountains, the constant din of… [+8893 chars]",
         "BAKERSVILLE, N.C. (AP) — Nearly two weeks after Hurricane Helene downed power lines and washed out roads all over North Carolina’s mountains, the constant din of a gas-powered generator is getting to be too much for Bobby Renfro. It’s difficult to hear the nu…",
         "2024-10-13T04:06:58Z",
         "Financial Post",
         "Volunteers bring solar power to Hurricane Helene’s disaster zone",
         "https://financialpost.com/pmn/volunteers-bring-solar-power-to-hurricane-helenes-disaster-zone",
         null
        ],
        [
         null,
         "[Removed]",
         "[Removed]",
         "2024-10-13T04:02:55Z",
         "[Removed]",
         "[Removed]",
         "https://removed.com",
         null
        ],
        [
         "GABRIELA AOUN ANGUEIRA",
         "BAKERSVILLE, N.C. (AP) Nearly two weeks after Hurricane Helene downed power lines and washed out roads all over North Carolina's mountains, the constant din of a gas-powered generator is getting to b… [+5917 chars]",
         "Nearly two weeks after Hurricane Helene downed power lines and washed out roads all over North Carolina's mountains, the constant din of a gas-powered...",
         "2024-10-13T04:02:54Z",
         "Yahoo Entertainment",
         "Volunteers bring solar power to Hurricane Helene's disaster zone",
         "https://finance.yahoo.com/news/volunteers-bring-solar-power-hurricane-040254756.html",
         "https://s.yimg.com/cv/apiv2/social/images/yahoo_default_logo.png"
        ]
       ],
       "datasetInfos": [],
       "dbfsResultPath": null,
       "isJsonSchema": true,
       "metadata": {},
       "overflow": false,
       "plotOptions": {
        "customPlotOptions": {},
        "displayType": "table",
        "pivotAggregation": null,
        "pivotColumns": null,
        "xColumns": null,
        "yColumns": null
       },
       "removedWidgets": [],
       "schema": [
        {
         "metadata": "{}",
         "name": "author",
         "type": "\"string\""
        },
        {
         "metadata": "{}",
         "name": "content",
         "type": "\"string\""
        },
        {
         "metadata": "{}",
         "name": "description",
         "type": "\"string\""
        },
        {
         "metadata": "{}",
         "name": "publishedAt",
         "type": "\"string\""
        },
        {
         "metadata": "{}",
         "name": "source",
         "type": "\"string\""
        },
        {
         "metadata": "{}",
         "name": "title",
         "type": "\"string\""
        },
        {
         "metadata": "{}",
         "name": "url",
         "type": "\"string\""
        },
        {
         "metadata": "{}",
         "name": "urlToImage",
         "type": "\"string\""
        }
       ],
       "type": "table"
      }
     },
     "output_type": "display_data"
    }
   ],
   "source": [
    "#Ler arquivos delta\n",
    "delta_table = spark.read.format(\"delta\").load(\"/FileStore/diabetes\")\n",
    "display(delta_table)"
   ]
  },
  {
   "cell_type": "code",
   "execution_count": 0,
   "metadata": {
    "application/vnd.databricks.v1+cell": {
     "cellMetadata": {
      "byteLimit": 2048000,
      "rowLimit": 10000
     },
     "inputWidgets": {},
     "nuid": "073509ab-4ddd-42f0-af1d-666bea5c5b0a",
     "showTitle": false,
     "title": ""
    }
   },
   "outputs": [
    {
     "output_type": "stream",
     "name": "stdout",
     "output_type": "stream",
     "text": [
      "<delta.tables.DeltaTable at 0x7f02073e5640>"
     ]
    }
   ],
   "source": [
    "# Carregar a tabela Delta com notícias previamente armazenadas\n",
    "delta_table = DeltaTable.forPath(spark, \"/FileStore/diabetes\")\n",
    "display(delta_table)"
   ]
  },
  {
   "cell_type": "code",
   "execution_count": 0,
   "metadata": {
    "application/vnd.databricks.v1+cell": {
     "cellMetadata": {
      "byteLimit": 2048000,
      "rowLimit": 10000
     },
     "inputWidgets": {},
     "nuid": "59e385d7-6c68-4d6b-8a50-5dfd50da32ff",
     "showTitle": false,
     "title": ""
    }
   },
   "outputs": [
    {
     "output_type": "display_data",
     "data": {
      "text/plain": [
       "\u001B[0;31m---------------------------------------------------------------------------\u001B[0m\n",
       "\u001B[0;31mNameError\u001B[0m                                 Traceback (most recent call last)\n",
       "File \u001B[0;32m<command-2664458781476944>:7\u001B[0m\n",
       "\u001B[1;32m      4\u001B[0m delta_table \u001B[38;5;241m=\u001B[39m DeltaTable\u001B[38;5;241m.\u001B[39mforPath(spark, \u001B[38;5;124m\"\u001B[39m\u001B[38;5;124m/FileStore/diabetes\u001B[39m\u001B[38;5;124m\"\u001B[39m)\n",
       "\u001B[1;32m      6\u001B[0m \u001B[38;5;66;03m# Criar DataFrame com novas notícias\u001B[39;00m\n",
       "\u001B[0;32m----> 7\u001B[0m novas_noticias_df \u001B[38;5;241m=\u001B[39m spark\u001B[38;5;241m.\u001B[39mcreateDataFrame(novas_noticias)\n",
       "\u001B[1;32m      9\u001B[0m \u001B[38;5;66;03m# Usar o MERGE para inserir apenas as notícias que ainda não existem\u001B[39;00m\n",
       "\u001B[1;32m     10\u001B[0m delta_table\u001B[38;5;241m.\u001B[39malias(\u001B[38;5;124m\"\u001B[39m\u001B[38;5;124mold\u001B[39m\u001B[38;5;124m\"\u001B[39m)\u001B[38;5;241m.\u001B[39mmerge(\n",
       "\u001B[1;32m     11\u001B[0m     novas_noticias_df\u001B[38;5;241m.\u001B[39malias(\u001B[38;5;124m\"\u001B[39m\u001B[38;5;124mnew\u001B[39m\u001B[38;5;124m\"\u001B[39m),\n",
       "\u001B[1;32m     12\u001B[0m     \u001B[38;5;124m\"\u001B[39m\u001B[38;5;124mold.titulo = new.titulo AND old.data_publicacao = new.data_publicacao\u001B[39m\u001B[38;5;124m\"\u001B[39m\n",
       "\u001B[1;32m     13\u001B[0m )\u001B[38;5;241m.\u001B[39mwhenNotMatchedInsertAll()\u001B[38;5;241m.\u001B[39mexecute()\n",
       "\n",
       "\u001B[0;31mNameError\u001B[0m: name 'novas_noticias' is not defined"
      ]
     },
     "metadata": {
      "application/vnd.databricks.v1+output": {
       "arguments": {},
       "data": "\u001B[0;31m---------------------------------------------------------------------------\u001B[0m\n\u001B[0;31mNameError\u001B[0m                                 Traceback (most recent call last)\nFile \u001B[0;32m<command-2664458781476944>:7\u001B[0m\n\u001B[1;32m      4\u001B[0m delta_table \u001B[38;5;241m=\u001B[39m DeltaTable\u001B[38;5;241m.\u001B[39mforPath(spark, \u001B[38;5;124m\"\u001B[39m\u001B[38;5;124m/FileStore/diabetes\u001B[39m\u001B[38;5;124m\"\u001B[39m)\n\u001B[1;32m      6\u001B[0m \u001B[38;5;66;03m# Criar DataFrame com novas notícias\u001B[39;00m\n\u001B[0;32m----> 7\u001B[0m novas_noticias_df \u001B[38;5;241m=\u001B[39m spark\u001B[38;5;241m.\u001B[39mcreateDataFrame(novas_noticias)\n\u001B[1;32m      9\u001B[0m \u001B[38;5;66;03m# Usar o MERGE para inserir apenas as notícias que ainda não existem\u001B[39;00m\n\u001B[1;32m     10\u001B[0m delta_table\u001B[38;5;241m.\u001B[39malias(\u001B[38;5;124m\"\u001B[39m\u001B[38;5;124mold\u001B[39m\u001B[38;5;124m\"\u001B[39m)\u001B[38;5;241m.\u001B[39mmerge(\n\u001B[1;32m     11\u001B[0m     novas_noticias_df\u001B[38;5;241m.\u001B[39malias(\u001B[38;5;124m\"\u001B[39m\u001B[38;5;124mnew\u001B[39m\u001B[38;5;124m\"\u001B[39m),\n\u001B[1;32m     12\u001B[0m     \u001B[38;5;124m\"\u001B[39m\u001B[38;5;124mold.titulo = new.titulo AND old.data_publicacao = new.data_publicacao\u001B[39m\u001B[38;5;124m\"\u001B[39m\n\u001B[1;32m     13\u001B[0m )\u001B[38;5;241m.\u001B[39mwhenNotMatchedInsertAll()\u001B[38;5;241m.\u001B[39mexecute()\n\n\u001B[0;31mNameError\u001B[0m: name 'novas_noticias' is not defined",
       "errorSummary": "<span class='ansi-red-fg'>NameError</span>: name 'novas_noticias' is not defined",
       "errorTraceType": "ansi",
       "metadata": {},
       "type": "ipynbError"
      }
     },
     "output_type": "display_data"
    }
   ],
   "source": [
    "#Merge de arquivos não duplicados\n",
    "\n",
    "# Carregar a tabela Delta com notícias previamente armazenadas\n",
    "delta_table = DeltaTable.forPath(spark, \"/FileStore/diabetes\")\n",
    "\n",
    "# Criar DataFrame com novas notícias\n",
    "novas_noticias_df = spark.createDataFrame(novas_noticias)\n",
    "\n",
    "# Usar o MERGE para inserir apenas as notícias que ainda não existem\n",
    "delta_table.alias(\"old\").merge(\n",
    "    novas_noticias_df.alias(\"new\"),\n",
    "    \"old.titulo = new.titulo AND old.data_publicacao = new.data_publicacao\"\n",
    ").whenNotMatchedInsertAll().execute()\n"
   ]
  },
  {
   "cell_type": "code",
   "execution_count": 0,
   "metadata": {
    "application/vnd.databricks.v1+cell": {
     "cellMetadata": {
      "byteLimit": 2048000,
      "rowLimit": 10000
     },
     "inputWidgets": {},
     "nuid": "49d88021-858e-4591-9687-ad2a54f38e82",
     "showTitle": false,
     "title": ""
    }
   },
   "outputs": [],
   "source": [
    "#Salvar em parquet [DESCONSIDERAR]\n",
    "#dbutils.fs.rm(\"genoma.parquet\", True)\n",
    "#df.write.parquet('/FileStore/genoma.parquet')\n",
    "#display(spark.read.parquet('/FileStore/genoma.parquet'))"
   ]
  },
  {
   "cell_type": "markdown",
   "metadata": {
    "application/vnd.databricks.v1+cell": {
     "cellMetadata": {},
     "inputWidgets": {},
     "nuid": "bae660e1-5b28-4be3-b9c9-ac8a16b8f5c9",
     "showTitle": false,
     "title": ""
    }
   },
   "source": [
    "3. Cargas em Batches:\n",
    "Armazenar as notícias relevantes em um formato estruturado e facilmente acessível para consultas e análises posteriores. Essa carga deve acontecer 1 vez por hora. Se as notícias extraídas já tiverem sidos armazenadas na carga anterior, o processo deve ignorar e não armazenar as notícias novamente, os dados carregados não podem ficar duplicados.\n"
   ]
  },
  {
   "cell_type": "markdown",
   "metadata": {
    "application/vnd.databricks.v1+cell": {
     "cellMetadata": {},
     "inputWidgets": {},
     "nuid": "e8ed7c23-b10e-4bf2-9954-71fef3d6d67e",
     "showTitle": false,
     "title": ""
    }
   },
   "source": []
  }
 ],
 "metadata": {
  "application/vnd.databricks.v1+notebook": {
   "dashboards": [],
   "environmentMetadata": null,
   "language": "python",
   "notebookMetadata": {
    "pythonIndentUnit": 4
   },
   "notebookName": "ProjetoExtacaoDadosI",
   "widgets": {}
  }
 },
 "nbformat": 4,
 "nbformat_minor": 0
}
